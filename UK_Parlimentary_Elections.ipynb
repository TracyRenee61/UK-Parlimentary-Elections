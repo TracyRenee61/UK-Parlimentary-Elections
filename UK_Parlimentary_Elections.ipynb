{
  "nbformat": 4,
  "nbformat_minor": 0,
  "metadata": {
    "colab": {
      "name": "UK Parlimentary Elections.ipynb",
      "provenance": []
    },
    "kernelspec": {
      "name": "python3",
      "display_name": "Python 3"
    }
  },
  "cells": [
    {
      "cell_type": "markdown",
      "metadata": {
        "id": "jm7HIJX1gHeE"
      },
      "source": [
        "Dataset taken from:- https://commonslibrary.parliament.uk/research-briefings/cbp-8647/"
      ]
    },
    {
      "cell_type": "markdown",
      "metadata": {
        "id": "va3_YX6Wgvod"
      },
      "source": [
        "Import libraries"
      ]
    },
    {
      "cell_type": "code",
      "metadata": {
        "id": "oky3DyjagT8U"
      },
      "source": [
        "import pandas as pd\r\n",
        "import numpy as np\r\n",
        "import matplotlib.pyplot as plt\r\n",
        "import seaborn as sns"
      ],
      "execution_count": 476,
      "outputs": []
    },
    {
      "cell_type": "markdown",
      "metadata": {
        "id": "YwFDk_AJg9te"
      },
      "source": [
        "Read dataset"
      ]
    },
    {
      "cell_type": "code",
      "metadata": {
        "colab": {
          "base_uri": "https://localhost:8080/",
          "height": 207
        },
        "id": "KvB6mrFDhAR_",
        "outputId": "87016717-b07c-42f0-b8a9-c65eae50e24a"
      },
      "source": [
        "dataset=pd.read_csv(\"https://raw.githubusercontent.com/TracyRenee61/UK-Parlimentary-Elections/main/1918-2019election_results-.csv\", encoding=\"ISO-8859-1\")\r\n",
        "dataset.head(3)"
      ],
      "execution_count": 477,
      "outputs": [
        {
          "output_type": "execute_result",
          "data": {
            "text/html": [
              "<div>\n",
              "<style scoped>\n",
              "    .dataframe tbody tr th:only-of-type {\n",
              "        vertical-align: middle;\n",
              "    }\n",
              "\n",
              "    .dataframe tbody tr th {\n",
              "        vertical-align: top;\n",
              "    }\n",
              "\n",
              "    .dataframe thead th {\n",
              "        text-align: right;\n",
              "    }\n",
              "</style>\n",
              "<table border=\"1\" class=\"dataframe\">\n",
              "  <thead>\n",
              "    <tr style=\"text-align: right;\">\n",
              "      <th></th>\n",
              "      <th>constituency_id</th>\n",
              "      <th>seats</th>\n",
              "      <th>constituency</th>\n",
              "      <th>country/region</th>\n",
              "      <th>electorate</th>\n",
              "      <th>con_votes</th>\n",
              "      <th>con_share</th>\n",
              "      <th>lib_votes</th>\n",
              "      <th>lib_share</th>\n",
              "      <th>lab_votes</th>\n",
              "      <th>lab_share</th>\n",
              "      <th>natSW_votes</th>\n",
              "      <th>natSW_share</th>\n",
              "      <th>oth_votes</th>\n",
              "      <th>oth_share</th>\n",
              "      <th>total_votes</th>\n",
              "      <th>turnout</th>\n",
              "      <th>election</th>\n",
              "      <th>boundary_set</th>\n",
              "    </tr>\n",
              "  </thead>\n",
              "  <tbody>\n",
              "    <tr>\n",
              "      <th>0</th>\n",
              "      <td>1</td>\n",
              "      <td>1</td>\n",
              "      <td>BATTERSEA NORTH</td>\n",
              "      <td>London</td>\n",
              "      <td>38552</td>\n",
              "      <td>NaN</td>\n",
              "      <td>NaN</td>\n",
              "      <td>NaN</td>\n",
              "      <td>NaN</td>\n",
              "      <td>5634</td>\n",
              "      <td>0.334</td>\n",
              "      <td>NaN</td>\n",
              "      <td>NaN</td>\n",
              "      <td>11231.0</td>\n",
              "      <td>0.666</td>\n",
              "      <td>16865</td>\n",
              "      <td>0.437</td>\n",
              "      <td>1918</td>\n",
              "      <td>1918-35</td>\n",
              "    </tr>\n",
              "    <tr>\n",
              "      <th>1</th>\n",
              "      <td>2</td>\n",
              "      <td>1</td>\n",
              "      <td>BATTERSEA SOUTH</td>\n",
              "      <td>London</td>\n",
              "      <td>43036</td>\n",
              "      <td>15670.0</td>\n",
              "      <td>0.682</td>\n",
              "      <td>2273</td>\n",
              "      <td>0.099</td>\n",
              "      <td>3383</td>\n",
              "      <td>0.147</td>\n",
              "      <td>NaN</td>\n",
              "      <td>NaN</td>\n",
              "      <td>1657.0</td>\n",
              "      <td>0.072</td>\n",
              "      <td>22983</td>\n",
              "      <td>0.534</td>\n",
              "      <td>1918</td>\n",
              "      <td>1918-35</td>\n",
              "    </tr>\n",
              "    <tr>\n",
              "      <th>2</th>\n",
              "      <td>3</td>\n",
              "      <td>1</td>\n",
              "      <td>BERMONDSEY ROTHERHITHE</td>\n",
              "      <td>London</td>\n",
              "      <td>25008</td>\n",
              "      <td>5639.0</td>\n",
              "      <td>0.500</td>\n",
              "      <td>3889</td>\n",
              "      <td>0.345</td>\n",
              "      <td>1750</td>\n",
              "      <td>0.155</td>\n",
              "      <td>NaN</td>\n",
              "      <td>NaN</td>\n",
              "      <td>NaN</td>\n",
              "      <td>NaN</td>\n",
              "      <td>11278</td>\n",
              "      <td>0.451</td>\n",
              "      <td>1918</td>\n",
              "      <td>1918-35</td>\n",
              "    </tr>\n",
              "  </tbody>\n",
              "</table>\n",
              "</div>"
            ],
            "text/plain": [
              "  constituency_id  seats  ... election boundary_set\n",
              "0               1      1  ...     1918      1918-35\n",
              "1               2      1  ...     1918      1918-35\n",
              "2               3      1  ...     1918      1918-35\n",
              "\n",
              "[3 rows x 19 columns]"
            ]
          },
          "metadata": {
            "tags": []
          },
          "execution_count": 477
        }
      ]
    },
    {
      "cell_type": "markdown",
      "metadata": {
        "id": "aBVmITZsL3hM"
      },
      "source": [
        "Rename column"
      ]
    },
    {
      "cell_type": "code",
      "metadata": {
        "colab": {
          "base_uri": "https://localhost:8080/"
        },
        "id": "yTHnkHCpMzwy",
        "outputId": "1e437efb-2af1-4693-f34f-c7f6d525df66"
      },
      "source": [
        "dataset.columns"
      ],
      "execution_count": 478,
      "outputs": [
        {
          "output_type": "execute_result",
          "data": {
            "text/plain": [
              "Index(['constituency_id', 'seats', 'constituency', 'country/region',\n",
              "       'electorate', 'con_votes', 'con_share', 'lib_votes ', 'lib_share',\n",
              "       'lab_votes', 'lab_share', 'natSW_votes', 'natSW_share', 'oth_votes',\n",
              "       'oth_share', 'total_votes', 'turnout ', 'election', 'boundary_set'],\n",
              "      dtype='object')"
            ]
          },
          "metadata": {
            "tags": []
          },
          "execution_count": 478
        }
      ]
    },
    {
      "cell_type": "code",
      "metadata": {
        "id": "Vw5SwfxWL28x"
      },
      "source": [
        "dataset.rename(columns={'lib_votes ': 'lib_votes'}, inplace=True)"
      ],
      "execution_count": 479,
      "outputs": []
    },
    {
      "cell_type": "code",
      "metadata": {
        "colab": {
          "base_uri": "https://localhost:8080/"
        },
        "id": "kj3u-PXTM9Ec",
        "outputId": "7e869220-92d4-4031-dabf-f58d5a09c49f"
      },
      "source": [
        "dataset.columns"
      ],
      "execution_count": 480,
      "outputs": [
        {
          "output_type": "execute_result",
          "data": {
            "text/plain": [
              "Index(['constituency_id', 'seats', 'constituency', 'country/region',\n",
              "       'electorate', 'con_votes', 'con_share', 'lib_votes', 'lib_share',\n",
              "       'lab_votes', 'lab_share', 'natSW_votes', 'natSW_share', 'oth_votes',\n",
              "       'oth_share', 'total_votes', 'turnout ', 'election', 'boundary_set'],\n",
              "      dtype='object')"
            ]
          },
          "metadata": {
            "tags": []
          },
          "execution_count": 480
        }
      ]
    },
    {
      "cell_type": "code",
      "metadata": {
        "colab": {
          "base_uri": "https://localhost:8080/"
        },
        "id": "3AMzuINrJGFr",
        "outputId": "aa3eed39-e70a-4182-d5a2-a5191921a94c"
      },
      "source": [
        "dataset.info()"
      ],
      "execution_count": 481,
      "outputs": [
        {
          "output_type": "stream",
          "text": [
            "<class 'pandas.core.frame.DataFrame'>\n",
            "RangeIndex: 17698 entries, 0 to 17697\n",
            "Data columns (total 19 columns):\n",
            " #   Column           Non-Null Count  Dtype  \n",
            "---  ------           --------------  -----  \n",
            " 0   constituency_id  17477 non-null  object \n",
            " 1   seats            17698 non-null  int64  \n",
            " 2   constituency     17698 non-null  object \n",
            " 3   country/region   17698 non-null  object \n",
            " 4   electorate       17623 non-null  object \n",
            " 5   con_votes        16585 non-null  float64\n",
            " 6   con_share        16384 non-null  float64\n",
            " 7   lib_votes        12421 non-null  object \n",
            " 8   lib_share        12381 non-null  float64\n",
            " 9   lab_votes        16422 non-null  object \n",
            " 10  lab_share        16370 non-null  float64\n",
            " 11  natSW_votes      1596 non-null   float64\n",
            " 12  natSW_share      1596 non-null   float64\n",
            " 13  oth_votes        7993 non-null   float64\n",
            " 14  oth_share        7936 non-null   object \n",
            " 15  total_votes      17674 non-null  object \n",
            " 16  turnout          17353 non-null  float64\n",
            " 17  election         17698 non-null  object \n",
            " 18  boundary_set     17698 non-null  object \n",
            "dtypes: float64(8), int64(1), object(10)\n",
            "memory usage: 2.6+ MB\n"
          ],
          "name": "stdout"
        }
      ]
    },
    {
      "cell_type": "code",
      "metadata": {
        "colab": {
          "base_uri": "https://localhost:8080/"
        },
        "id": "ExlwvINcHkOH",
        "outputId": "5422ae0d-0a15-4559-f4a5-242642c02d8b"
      },
      "source": [
        "dataset.convert_dtypes(infer_objects=False).dtypes                          "
      ],
      "execution_count": 482,
      "outputs": [
        {
          "output_type": "execute_result",
          "data": {
            "text/plain": [
              "constituency_id     string\n",
              "seats                Int64\n",
              "constituency        string\n",
              "country/region      string\n",
              "electorate          string\n",
              "con_votes            Int64\n",
              "con_share          float64\n",
              "lib_votes           string\n",
              "lib_share          float64\n",
              "lab_votes           string\n",
              "lab_share          float64\n",
              "natSW_votes          Int64\n",
              "natSW_share        float64\n",
              "oth_votes            Int64\n",
              "oth_share           string\n",
              "total_votes         string\n",
              "turnout            float64\n",
              "election            string\n",
              "boundary_set        string\n",
              "dtype: object"
            ]
          },
          "metadata": {
            "tags": []
          },
          "execution_count": 482
        }
      ]
    },
    {
      "cell_type": "code",
      "metadata": {
        "colab": {
          "base_uri": "https://localhost:8080/"
        },
        "id": "GwPf1w5gKyTm",
        "outputId": "7fe52ff7-961c-4ac5-e73d-e6a8e9774b09"
      },
      "source": [
        "pd.to_numeric(dataset['lib_share'])"
      ],
      "execution_count": 483,
      "outputs": [
        {
          "output_type": "execute_result",
          "data": {
            "text/plain": [
              "0          NaN\n",
              "1        0.099\n",
              "2        0.345\n",
              "3        0.405\n",
              "4          NaN\n",
              "         ...  \n",
              "17693    0.120\n",
              "17694    0.039\n",
              "17695    0.041\n",
              "17696    0.084\n",
              "17697    0.181\n",
              "Name: lib_share, Length: 17698, dtype: float64"
            ]
          },
          "metadata": {
            "tags": []
          },
          "execution_count": 483
        }
      ]
    },
    {
      "cell_type": "code",
      "metadata": {
        "colab": {
          "base_uri": "https://localhost:8080/"
        },
        "id": "lKWX8qdJQVZt",
        "outputId": "5cb833a6-ca38-4aa4-a1d5-78c0f45f9232"
      },
      "source": [
        "dataset['lib_votes'][897] = np.NaN\r\n",
        "dataset['lib_votes'][901] = np.NaN"
      ],
      "execution_count": 484,
      "outputs": [
        {
          "output_type": "stream",
          "text": [
            "/usr/local/lib/python3.6/dist-packages/ipykernel_launcher.py:1: SettingWithCopyWarning: \n",
            "A value is trying to be set on a copy of a slice from a DataFrame\n",
            "\n",
            "See the caveats in the documentation: https://pandas.pydata.org/pandas-docs/stable/user_guide/indexing.html#returning-a-view-versus-a-copy\n",
            "  \"\"\"Entry point for launching an IPython kernel.\n",
            "/usr/local/lib/python3.6/dist-packages/ipykernel_launcher.py:2: SettingWithCopyWarning: \n",
            "A value is trying to be set on a copy of a slice from a DataFrame\n",
            "\n",
            "See the caveats in the documentation: https://pandas.pydata.org/pandas-docs/stable/user_guide/indexing.html#returning-a-view-versus-a-copy\n",
            "  \n"
          ],
          "name": "stderr"
        }
      ]
    },
    {
      "cell_type": "code",
      "metadata": {
        "colab": {
          "base_uri": "https://localhost:8080/"
        },
        "id": "TNfKRVDyNuOG",
        "outputId": "a759f304-2325-43b6-d851-0d379b64bf85"
      },
      "source": [
        "pd.to_numeric(dataset['lib_votes'])"
      ],
      "execution_count": 485,
      "outputs": [
        {
          "output_type": "execute_result",
          "data": {
            "text/plain": [
              "0           NaN\n",
              "1        2273.0\n",
              "2        3889.0\n",
              "3        4260.0\n",
              "4           NaN\n",
              "          ...  \n",
              "17693    6774.0\n",
              "17694    1772.0\n",
              "17695    1705.0\n",
              "17696    4149.0\n",
              "17697    9992.0\n",
              "Name: lib_votes, Length: 17698, dtype: float64"
            ]
          },
          "metadata": {
            "tags": []
          },
          "execution_count": 485
        }
      ]
    },
    {
      "cell_type": "code",
      "metadata": {
        "colab": {
          "base_uri": "https://localhost:8080/"
        },
        "id": "dB3jEQWBMcFA",
        "outputId": "b32ecd58-f460-40ab-d64c-a8e214d79040"
      },
      "source": [
        "pd.to_numeric(dataset['lab_share'])"
      ],
      "execution_count": 486,
      "outputs": [
        {
          "output_type": "execute_result",
          "data": {
            "text/plain": [
              "0        0.334\n",
              "1        0.147\n",
              "2        0.155\n",
              "3        0.186\n",
              "4          NaN\n",
              "         ...  \n",
              "17693    0.190\n",
              "17694    0.400\n",
              "17695    0.400\n",
              "17696    0.550\n",
              "17697    0.310\n",
              "Name: lab_share, Length: 17698, dtype: float64"
            ]
          },
          "metadata": {
            "tags": []
          },
          "execution_count": 486
        }
      ]
    },
    {
      "cell_type": "code",
      "metadata": {
        "colab": {
          "base_uri": "https://localhost:8080/"
        },
        "id": "k9ego2NVPEjr",
        "outputId": "036fbef0-911e-481e-f5c7-521e82ad7197"
      },
      "source": [
        "pd.to_numeric(dataset['lab_votes'], errors='coerce')"
      ],
      "execution_count": 487,
      "outputs": [
        {
          "output_type": "execute_result",
          "data": {
            "text/plain": [
              "0         5634.0\n",
              "1         3383.0\n",
              "2         1750.0\n",
              "3         1956.0\n",
              "4            NaN\n",
              "          ...   \n",
              "17693    10480.0\n",
              "17694    17925.0\n",
              "17695    16742.0\n",
              "17696    27312.0\n",
              "17697    17339.0\n",
              "Name: lab_votes, Length: 17698, dtype: float64"
            ]
          },
          "metadata": {
            "tags": []
          },
          "execution_count": 487
        }
      ]
    },
    {
      "cell_type": "code",
      "metadata": {
        "colab": {
          "base_uri": "https://localhost:8080/"
        },
        "id": "hZlgiIfAMrO5",
        "outputId": "5d570df8-8016-4c6d-e532-3cba4a24c7bd"
      },
      "source": [
        "dataset.oth_share[4455] = np.NaN"
      ],
      "execution_count": 488,
      "outputs": [
        {
          "output_type": "stream",
          "text": [
            "/usr/local/lib/python3.6/dist-packages/ipykernel_launcher.py:1: SettingWithCopyWarning: \n",
            "A value is trying to be set on a copy of a slice from a DataFrame\n",
            "\n",
            "See the caveats in the documentation: https://pandas.pydata.org/pandas-docs/stable/user_guide/indexing.html#returning-a-view-versus-a-copy\n",
            "  \"\"\"Entry point for launching an IPython kernel.\n"
          ],
          "name": "stderr"
        }
      ]
    },
    {
      "cell_type": "code",
      "metadata": {
        "colab": {
          "base_uri": "https://localhost:8080/"
        },
        "id": "LKuqMCnHMfpJ",
        "outputId": "79571d26-d7be-4948-be76-12ce3ecdb428"
      },
      "source": [
        "pd.to_numeric(dataset['oth_share'])"
      ],
      "execution_count": 489,
      "outputs": [
        {
          "output_type": "execute_result",
          "data": {
            "text/plain": [
              "0        0.666\n",
              "1        0.072\n",
              "2          NaN\n",
              "3        0.408\n",
              "4        1.000\n",
              "         ...  \n",
              "17693    0.065\n",
              "17694    0.090\n",
              "17695    0.205\n",
              "17696    0.086\n",
              "17697    0.013\n",
              "Name: oth_share, Length: 17698, dtype: float64"
            ]
          },
          "metadata": {
            "tags": []
          },
          "execution_count": 489
        }
      ]
    },
    {
      "cell_type": "code",
      "metadata": {
        "colab": {
          "base_uri": "https://localhost:8080/"
        },
        "id": "Dz9-Py9ORLYr",
        "outputId": "3e3780e4-ce73-47f5-a645-f872bb14a481"
      },
      "source": [
        "dataset['total_votes'][699] = np.NaN\r\n",
        "dataset['total_votes'][794] = np.NaN\r\n",
        "dataset['total_votes'][1889] = np.NaN\r\n",
        "dataset['total_votes'][2484] = np.NaN\r\n",
        "dataset['total_votes'][3079] = np.NaN\r\n",
        "dataset['total_votes'][4455] = np.NaN\r\n",
        "dataset['total_votes'][4489] = np.NaN"
      ],
      "execution_count": 490,
      "outputs": [
        {
          "output_type": "stream",
          "text": [
            "/usr/local/lib/python3.6/dist-packages/ipykernel_launcher.py:1: SettingWithCopyWarning: \n",
            "A value is trying to be set on a copy of a slice from a DataFrame\n",
            "\n",
            "See the caveats in the documentation: https://pandas.pydata.org/pandas-docs/stable/user_guide/indexing.html#returning-a-view-versus-a-copy\n",
            "  \"\"\"Entry point for launching an IPython kernel.\n",
            "/usr/local/lib/python3.6/dist-packages/ipykernel_launcher.py:2: SettingWithCopyWarning: \n",
            "A value is trying to be set on a copy of a slice from a DataFrame\n",
            "\n",
            "See the caveats in the documentation: https://pandas.pydata.org/pandas-docs/stable/user_guide/indexing.html#returning-a-view-versus-a-copy\n",
            "  \n",
            "/usr/local/lib/python3.6/dist-packages/ipykernel_launcher.py:3: SettingWithCopyWarning: \n",
            "A value is trying to be set on a copy of a slice from a DataFrame\n",
            "\n",
            "See the caveats in the documentation: https://pandas.pydata.org/pandas-docs/stable/user_guide/indexing.html#returning-a-view-versus-a-copy\n",
            "  This is separate from the ipykernel package so we can avoid doing imports until\n",
            "/usr/local/lib/python3.6/dist-packages/ipykernel_launcher.py:4: SettingWithCopyWarning: \n",
            "A value is trying to be set on a copy of a slice from a DataFrame\n",
            "\n",
            "See the caveats in the documentation: https://pandas.pydata.org/pandas-docs/stable/user_guide/indexing.html#returning-a-view-versus-a-copy\n",
            "  after removing the cwd from sys.path.\n",
            "/usr/local/lib/python3.6/dist-packages/ipykernel_launcher.py:5: SettingWithCopyWarning: \n",
            "A value is trying to be set on a copy of a slice from a DataFrame\n",
            "\n",
            "See the caveats in the documentation: https://pandas.pydata.org/pandas-docs/stable/user_guide/indexing.html#returning-a-view-versus-a-copy\n",
            "  \"\"\"\n",
            "/usr/local/lib/python3.6/dist-packages/ipykernel_launcher.py:6: SettingWithCopyWarning: \n",
            "A value is trying to be set on a copy of a slice from a DataFrame\n",
            "\n",
            "See the caveats in the documentation: https://pandas.pydata.org/pandas-docs/stable/user_guide/indexing.html#returning-a-view-versus-a-copy\n",
            "  \n",
            "/usr/local/lib/python3.6/dist-packages/ipykernel_launcher.py:7: SettingWithCopyWarning: \n",
            "A value is trying to be set on a copy of a slice from a DataFrame\n",
            "\n",
            "See the caveats in the documentation: https://pandas.pydata.org/pandas-docs/stable/user_guide/indexing.html#returning-a-view-versus-a-copy\n",
            "  import sys\n"
          ],
          "name": "stderr"
        }
      ]
    },
    {
      "cell_type": "code",
      "metadata": {
        "colab": {
          "base_uri": "https://localhost:8080/"
        },
        "id": "14RRShc3Q81R",
        "outputId": "63c44c77-5af7-4943-8589-290222d001ed"
      },
      "source": [
        "pd.to_numeric(dataset['total_votes'])"
      ],
      "execution_count": 491,
      "outputs": [
        {
          "output_type": "execute_result",
          "data": {
            "text/plain": [
              "0        16865.0\n",
              "1        22983.0\n",
              "2        11278.0\n",
              "3        10508.0\n",
              "4         7887.0\n",
              "          ...   \n",
              "17693    56588.0\n",
              "17694    45027.0\n",
              "17695    41557.0\n",
              "17696    49505.0\n",
              "17697    55347.0\n",
              "Name: total_votes, Length: 17698, dtype: float64"
            ]
          },
          "metadata": {
            "tags": []
          },
          "execution_count": 491
        }
      ]
    },
    {
      "cell_type": "code",
      "metadata": {
        "colab": {
          "base_uri": "https://localhost:8080/"
        },
        "id": "Jr8k7h3HTZqL",
        "outputId": "8f1d0d66-ded2-4fc3-b99b-b9705a008126"
      },
      "source": [
        "dataset.info()"
      ],
      "execution_count": 492,
      "outputs": [
        {
          "output_type": "stream",
          "text": [
            "<class 'pandas.core.frame.DataFrame'>\n",
            "RangeIndex: 17698 entries, 0 to 17697\n",
            "Data columns (total 19 columns):\n",
            " #   Column           Non-Null Count  Dtype  \n",
            "---  ------           --------------  -----  \n",
            " 0   constituency_id  17477 non-null  object \n",
            " 1   seats            17698 non-null  int64  \n",
            " 2   constituency     17698 non-null  object \n",
            " 3   country/region   17698 non-null  object \n",
            " 4   electorate       17623 non-null  object \n",
            " 5   con_votes        16585 non-null  float64\n",
            " 6   con_share        16384 non-null  float64\n",
            " 7   lib_votes        12419 non-null  object \n",
            " 8   lib_share        12381 non-null  float64\n",
            " 9   lab_votes        16422 non-null  object \n",
            " 10  lab_share        16370 non-null  float64\n",
            " 11  natSW_votes      1596 non-null   float64\n",
            " 12  natSW_share      1596 non-null   float64\n",
            " 13  oth_votes        7993 non-null   float64\n",
            " 14  oth_share        7935 non-null   object \n",
            " 15  total_votes      17667 non-null  object \n",
            " 16  turnout          17353 non-null  float64\n",
            " 17  election         17698 non-null  object \n",
            " 18  boundary_set     17698 non-null  object \n",
            "dtypes: float64(8), int64(1), object(10)\n",
            "memory usage: 2.6+ MB\n"
          ],
          "name": "stdout"
        }
      ]
    },
    {
      "cell_type": "code",
      "metadata": {
        "id": "rC223xZmttcs"
      },
      "source": [
        "dataset = dataset.drop(['constituency_id'], axis=1)"
      ],
      "execution_count": 493,
      "outputs": []
    },
    {
      "cell_type": "code",
      "metadata": {
        "colab": {
          "base_uri": "https://localhost:8080/"
        },
        "id": "ynF32Tufin8A",
        "outputId": "f1c24da6-f47d-4a3c-a5ec-a646becbdec0"
      },
      "source": [
        "winner = dataset[['con_share','lib_share', 'lab_share', 'natSW_share']].idxmax(axis=1)\r\n",
        "winner"
      ],
      "execution_count": 494,
      "outputs": [
        {
          "output_type": "execute_result",
          "data": {
            "text/plain": [
              "0        lab_share\n",
              "1        con_share\n",
              "2        con_share\n",
              "3        lib_share\n",
              "4              NaN\n",
              "           ...    \n",
              "17693    con_share\n",
              "17694    con_share\n",
              "17695    lab_share\n",
              "17696    lab_share\n",
              "17697    con_share\n",
              "Length: 17698, dtype: object"
            ]
          },
          "metadata": {
            "tags": []
          },
          "execution_count": 494
        }
      ]
    },
    {
      "cell_type": "markdown",
      "metadata": {
        "id": "ANTJu2Eu1GRH"
      },
      "source": [
        "Check for null values"
      ]
    },
    {
      "cell_type": "code",
      "metadata": {
        "colab": {
          "base_uri": "https://localhost:8080/"
        },
        "id": "vY6tKzWf1LEM",
        "outputId": "9f55fe22-6dc3-462e-fccf-378b0ae81853"
      },
      "source": [
        "winner.isnull().sum()"
      ],
      "execution_count": 495,
      "outputs": [
        {
          "output_type": "execute_result",
          "data": {
            "text/plain": [
              "591"
            ]
          },
          "metadata": {
            "tags": []
          },
          "execution_count": 495
        }
      ]
    },
    {
      "cell_type": "code",
      "metadata": {
        "colab": {
          "base_uri": "https://localhost:8080/"
        },
        "id": "sTJdkOHUtFQI",
        "outputId": "ebf78281-827f-4fea-f00b-4654c286fe93"
      },
      "source": [
        "dataset.isnull().sum()"
      ],
      "execution_count": 496,
      "outputs": [
        {
          "output_type": "execute_result",
          "data": {
            "text/plain": [
              "seats                 0\n",
              "constituency          0\n",
              "country/region        0\n",
              "electorate           75\n",
              "con_votes          1113\n",
              "con_share          1314\n",
              "lib_votes          5279\n",
              "lib_share          5317\n",
              "lab_votes          1276\n",
              "lab_share          1328\n",
              "natSW_votes       16102\n",
              "natSW_share       16102\n",
              "oth_votes          9705\n",
              "oth_share          9763\n",
              "total_votes          31\n",
              "turnout             345\n",
              "election              0\n",
              "boundary_set          0\n",
              "dtype: int64"
            ]
          },
          "metadata": {
            "tags": []
          },
          "execution_count": 496
        }
      ]
    },
    {
      "cell_type": "markdown",
      "metadata": {
        "id": "sc05DCSiuCiM"
      },
      "source": [
        "Impute null values"
      ]
    },
    {
      "cell_type": "code",
      "metadata": {
        "id": "eB1KK8e3zxbW"
      },
      "source": [
        "winner.fillna('Other',inplace=True)"
      ],
      "execution_count": 497,
      "outputs": []
    },
    {
      "cell_type": "code",
      "metadata": {
        "colab": {
          "base_uri": "https://localhost:8080/"
        },
        "id": "o8o2XlRG12tu",
        "outputId": "cb87e201-8078-4e5b-8e2b-707d90f11940"
      },
      "source": [
        "winner.isnull().sum()"
      ],
      "execution_count": 498,
      "outputs": [
        {
          "output_type": "execute_result",
          "data": {
            "text/plain": [
              "0"
            ]
          },
          "metadata": {
            "tags": []
          },
          "execution_count": 498
        }
      ]
    },
    {
      "cell_type": "code",
      "metadata": {
        "id": "6DN4_VZ5y6bd"
      },
      "source": [
        "for column in dataset.columns:\r\n",
        "    dataset[column].fillna(dataset[column].mode()[0], inplace=True)"
      ],
      "execution_count": 499,
      "outputs": []
    },
    {
      "cell_type": "code",
      "metadata": {
        "colab": {
          "base_uri": "https://localhost:8080/"
        },
        "id": "9DJoWWc7xq5i",
        "outputId": "fcd357bf-173f-40c0-cdf2-e31c49c3b3e3"
      },
      "source": [
        "dataset.isnull().sum().sum()"
      ],
      "execution_count": 500,
      "outputs": [
        {
          "output_type": "execute_result",
          "data": {
            "text/plain": [
              "0"
            ]
          },
          "metadata": {
            "tags": []
          },
          "execution_count": 500
        }
      ]
    },
    {
      "cell_type": "markdown",
      "metadata": {
        "id": "tgLUfxsU3KwQ"
      },
      "source": [
        "Map dictionary  -  {'con_share':1, 'lib_share':2, 'lab_share':3, 'natSW_share':4, 'Other':5}"
      ]
    },
    {
      "cell_type": "code",
      "metadata": {
        "colab": {
          "base_uri": "https://localhost:8080/"
        },
        "id": "Cm7EmJYV3Onv",
        "outputId": "6b66812c-479a-46c5-e9d2-33011d684342"
      },
      "source": [
        "party = {'con_share':1, 'lib_share':2, 'lab_share':3, 'natSW_share':4, 'Other':5}\r\n",
        "winner = winner.map(party)\r\n",
        "winner"
      ],
      "execution_count": 501,
      "outputs": [
        {
          "output_type": "execute_result",
          "data": {
            "text/plain": [
              "0        3\n",
              "1        1\n",
              "2        1\n",
              "3        2\n",
              "4        5\n",
              "        ..\n",
              "17693    1\n",
              "17694    1\n",
              "17695    3\n",
              "17696    3\n",
              "17697    1\n",
              "Length: 17698, dtype: int64"
            ]
          },
          "metadata": {
            "tags": []
          },
          "execution_count": 501
        }
      ]
    },
    {
      "cell_type": "markdown",
      "metadata": {
        "id": "pHheS83rS46V"
      },
      "source": [
        "Print off list of object columns"
      ]
    },
    {
      "cell_type": "code",
      "metadata": {
        "colab": {
          "base_uri": "https://localhost:8080/"
        },
        "id": "09c17KMlS8Ru",
        "outputId": "5b0e4de0-1646-4b7a-c086-7010cb8ba269"
      },
      "source": [
        "dataset.dtypes[dataset.dtypes != 'int64'][dataset.dtypes != 'float64']"
      ],
      "execution_count": 502,
      "outputs": [
        {
          "output_type": "execute_result",
          "data": {
            "text/plain": [
              "constituency      object\n",
              "country/region    object\n",
              "electorate        object\n",
              "lib_votes         object\n",
              "lab_votes         object\n",
              "oth_share         object\n",
              "total_votes       object\n",
              "election          object\n",
              "boundary_set      object\n",
              "dtype: object"
            ]
          },
          "metadata": {
            "tags": []
          },
          "execution_count": 502
        }
      ]
    },
    {
      "cell_type": "code",
      "metadata": {
        "colab": {
          "base_uri": "https://localhost:8080/"
        },
        "id": "8adp0Zm9TR1O",
        "outputId": "9588a4e0-8a05-4185-bdb2-0c73fa4b5f22"
      },
      "source": [
        "dataset['lib_votes'].astype(int)"
      ],
      "execution_count": 503,
      "outputs": [
        {
          "output_type": "execute_result",
          "data": {
            "text/plain": [
              "0          -1\n",
              "1        2273\n",
              "2        3889\n",
              "3        4260\n",
              "4          -1\n",
              "         ... \n",
              "17693    6774\n",
              "17694    1772\n",
              "17695    1705\n",
              "17696    4149\n",
              "17697    9992\n",
              "Name: lib_votes, Length: 17698, dtype: int64"
            ]
          },
          "metadata": {
            "tags": []
          },
          "execution_count": 503
        }
      ]
    },
    {
      "cell_type": "code",
      "metadata": {
        "colab": {
          "base_uri": "https://localhost:8080/"
        },
        "id": "2RjBPxKzUoZL",
        "outputId": "2387ca86-b780-4498-8b5a-30ba69c32d05"
      },
      "source": [
        "dataset['lab_votes'][778] = np.NaN"
      ],
      "execution_count": 504,
      "outputs": [
        {
          "output_type": "stream",
          "text": [
            "/usr/local/lib/python3.6/dist-packages/ipykernel_launcher.py:1: SettingWithCopyWarning: \n",
            "A value is trying to be set on a copy of a slice from a DataFrame\n",
            "\n",
            "See the caveats in the documentation: https://pandas.pydata.org/pandas-docs/stable/user_guide/indexing.html#returning-a-view-versus-a-copy\n",
            "  \"\"\"Entry point for launching an IPython kernel.\n"
          ],
          "name": "stderr"
        }
      ]
    },
    {
      "cell_type": "code",
      "metadata": {
        "colab": {
          "base_uri": "https://localhost:8080/"
        },
        "id": "QtDbUeq9TmHb",
        "outputId": "fccdcc87-3fac-453c-a2e5-964f28d5a0a8"
      },
      "source": [
        "dataset['lab_votes'].astype(float)"
      ],
      "execution_count": 505,
      "outputs": [
        {
          "output_type": "execute_result",
          "data": {
            "text/plain": [
              "0         5634.0\n",
              "1         3383.0\n",
              "2         1750.0\n",
              "3         1956.0\n",
              "4           -1.0\n",
              "          ...   \n",
              "17693    10480.0\n",
              "17694    17925.0\n",
              "17695    16742.0\n",
              "17696    27312.0\n",
              "17697    17339.0\n",
              "Name: lab_votes, Length: 17698, dtype: float64"
            ]
          },
          "metadata": {
            "tags": []
          },
          "execution_count": 505
        }
      ]
    },
    {
      "cell_type": "code",
      "metadata": {
        "colab": {
          "base_uri": "https://localhost:8080/"
        },
        "id": "FHj93kFpVGXd",
        "outputId": "161f7ca3-0c2c-4efd-e18d-f5ab6f6b0f3a"
      },
      "source": [
        "dataset['oth_share'].astype(float)"
      ],
      "execution_count": 506,
      "outputs": [
        {
          "output_type": "execute_result",
          "data": {
            "text/plain": [
              "0        0.666\n",
              "1        0.072\n",
              "2        1.000\n",
              "3        0.408\n",
              "4        1.000\n",
              "         ...  \n",
              "17693    0.065\n",
              "17694    0.090\n",
              "17695    0.205\n",
              "17696    0.086\n",
              "17697    0.013\n",
              "Name: oth_share, Length: 17698, dtype: float64"
            ]
          },
          "metadata": {
            "tags": []
          },
          "execution_count": 506
        }
      ]
    },
    {
      "cell_type": "code",
      "metadata": {
        "colab": {
          "base_uri": "https://localhost:8080/"
        },
        "id": "SeFyDEtYVRWc",
        "outputId": "21d69a50-fd6a-43a0-e40e-5ca0c5950382"
      },
      "source": [
        "dataset['total_votes'].astype(int)"
      ],
      "execution_count": 507,
      "outputs": [
        {
          "output_type": "execute_result",
          "data": {
            "text/plain": [
              "0        16865\n",
              "1        22983\n",
              "2        11278\n",
              "3        10508\n",
              "4         7887\n",
              "         ...  \n",
              "17693    56588\n",
              "17694    45027\n",
              "17695    41557\n",
              "17696    49505\n",
              "17697    55347\n",
              "Name: total_votes, Length: 17698, dtype: int64"
            ]
          },
          "metadata": {
            "tags": []
          },
          "execution_count": 507
        }
      ]
    },
    {
      "cell_type": "code",
      "metadata": {
        "id": "9OVz258AWIEW"
      },
      "source": [
        "dataset['election'] = dataset['election'].str[:4]"
      ],
      "execution_count": 508,
      "outputs": []
    },
    {
      "cell_type": "code",
      "metadata": {
        "colab": {
          "base_uri": "https://localhost:8080/"
        },
        "id": "NL2P7YXIVetV",
        "outputId": "173a67dc-01c1-4ec4-cfd9-36d9e02701b3"
      },
      "source": [
        "dataset['election'].astype(int)"
      ],
      "execution_count": 509,
      "outputs": [
        {
          "output_type": "execute_result",
          "data": {
            "text/plain": [
              "0        1918\n",
              "1        1918\n",
              "2        1918\n",
              "3        1918\n",
              "4        1918\n",
              "         ... \n",
              "17693    2019\n",
              "17694    2019\n",
              "17695    2019\n",
              "17696    2019\n",
              "17697    2019\n",
              "Name: election, Length: 17698, dtype: int64"
            ]
          },
          "metadata": {
            "tags": []
          },
          "execution_count": 509
        }
      ]
    },
    {
      "cell_type": "code",
      "metadata": {
        "colab": {
          "base_uri": "https://localhost:8080/"
        },
        "id": "nVtWicf6gr3s",
        "outputId": "c422ebec-435e-49d9-b711-d31dc1b5be62"
      },
      "source": [
        "dataset.dtypes[dataset.dtypes != 'int64'][dataset.dtypes != 'float64']"
      ],
      "execution_count": 510,
      "outputs": [
        {
          "output_type": "execute_result",
          "data": {
            "text/plain": [
              "constituency      object\n",
              "country/region    object\n",
              "electorate        object\n",
              "lib_votes         object\n",
              "lab_votes         object\n",
              "oth_share         object\n",
              "total_votes       object\n",
              "election          object\n",
              "boundary_set      object\n",
              "dtype: object"
            ]
          },
          "metadata": {
            "tags": []
          },
          "execution_count": 510
        }
      ]
    },
    {
      "cell_type": "markdown",
      "metadata": {
        "id": "q7Q2JnUAhqWu"
      },
      "source": [
        "Ordinal encode"
      ]
    },
    {
      "cell_type": "code",
      "metadata": {
        "id": "XAxf_HLahzmN"
      },
      "source": [
        "from sklearn import preprocessing\r\n",
        "from sklearn.preprocessing import OrdinalEncoder\r\n",
        "\r\n",
        "enc = OrdinalEncoder()\r\n",
        "\r\n",
        "dataset.constituency = enc.fit_transform(dataset.constituency.values.reshape(-1,1))\r\n",
        "dataset['country/region'] = enc.fit_transform(dataset['country/region'].values.reshape(-1,1))\r\n",
        "dataset.electorate = enc.fit_transform(dataset.electorate.values.reshape(-1,1))\r\n",
        "dataset.boundary_set = enc.fit_transform(dataset.boundary_set.values.reshape(-1,1))"
      ],
      "execution_count": 511,
      "outputs": []
    },
    {
      "cell_type": "code",
      "metadata": {
        "colab": {
          "base_uri": "https://localhost:8080/",
          "height": 427
        },
        "id": "02VE_FtoSlQE",
        "outputId": "6acf6e66-2f19-4a27-f015-c5b1c899ef8c"
      },
      "source": [
        "dataset"
      ],
      "execution_count": 512,
      "outputs": [
        {
          "output_type": "execute_result",
          "data": {
            "text/html": [
              "<div>\n",
              "<style scoped>\n",
              "    .dataframe tbody tr th:only-of-type {\n",
              "        vertical-align: middle;\n",
              "    }\n",
              "\n",
              "    .dataframe tbody tr th {\n",
              "        vertical-align: top;\n",
              "    }\n",
              "\n",
              "    .dataframe thead th {\n",
              "        text-align: right;\n",
              "    }\n",
              "</style>\n",
              "<table border=\"1\" class=\"dataframe\">\n",
              "  <thead>\n",
              "    <tr style=\"text-align: right;\">\n",
              "      <th></th>\n",
              "      <th>seats</th>\n",
              "      <th>constituency</th>\n",
              "      <th>country/region</th>\n",
              "      <th>electorate</th>\n",
              "      <th>con_votes</th>\n",
              "      <th>con_share</th>\n",
              "      <th>lib_votes</th>\n",
              "      <th>lib_share</th>\n",
              "      <th>lab_votes</th>\n",
              "      <th>lab_share</th>\n",
              "      <th>natSW_votes</th>\n",
              "      <th>natSW_share</th>\n",
              "      <th>oth_votes</th>\n",
              "      <th>oth_share</th>\n",
              "      <th>total_votes</th>\n",
              "      <th>turnout</th>\n",
              "      <th>election</th>\n",
              "      <th>boundary_set</th>\n",
              "    </tr>\n",
              "  </thead>\n",
              "  <tbody>\n",
              "    <tr>\n",
              "      <th>0</th>\n",
              "      <td>1</td>\n",
              "      <td>134.0</td>\n",
              "      <td>4.0</td>\n",
              "      <td>2416.0</td>\n",
              "      <td>-1.0</td>\n",
              "      <td>0.460</td>\n",
              "      <td>-1</td>\n",
              "      <td>0.200</td>\n",
              "      <td>5634</td>\n",
              "      <td>0.334</td>\n",
              "      <td>1308.0</td>\n",
              "      <td>0.14</td>\n",
              "      <td>11231.0</td>\n",
              "      <td>0.666</td>\n",
              "      <td>16865</td>\n",
              "      <td>0.437</td>\n",
              "      <td>1918</td>\n",
              "      <td>0.0</td>\n",
              "    </tr>\n",
              "    <tr>\n",
              "      <th>1</th>\n",
              "      <td>1</td>\n",
              "      <td>135.0</td>\n",
              "      <td>4.0</td>\n",
              "      <td>3225.0</td>\n",
              "      <td>15670.0</td>\n",
              "      <td>0.682</td>\n",
              "      <td>2273</td>\n",
              "      <td>0.099</td>\n",
              "      <td>3383</td>\n",
              "      <td>0.147</td>\n",
              "      <td>1308.0</td>\n",
              "      <td>0.14</td>\n",
              "      <td>1657.0</td>\n",
              "      <td>0.072</td>\n",
              "      <td>22983</td>\n",
              "      <td>0.534</td>\n",
              "      <td>1918</td>\n",
              "      <td>0.0</td>\n",
              "    </tr>\n",
              "    <tr>\n",
              "      <th>2</th>\n",
              "      <td>1</td>\n",
              "      <td>175.0</td>\n",
              "      <td>4.0</td>\n",
              "      <td>356.0</td>\n",
              "      <td>5639.0</td>\n",
              "      <td>0.500</td>\n",
              "      <td>3889</td>\n",
              "      <td>0.345</td>\n",
              "      <td>1750</td>\n",
              "      <td>0.155</td>\n",
              "      <td>1308.0</td>\n",
              "      <td>0.14</td>\n",
              "      <td>-1.0</td>\n",
              "      <td>1</td>\n",
              "      <td>11278</td>\n",
              "      <td>0.451</td>\n",
              "      <td>1918</td>\n",
              "      <td>0.0</td>\n",
              "    </tr>\n",
              "    <tr>\n",
              "      <th>3</th>\n",
              "      <td>1</td>\n",
              "      <td>176.0</td>\n",
              "      <td>4.0</td>\n",
              "      <td>262.0</td>\n",
              "      <td>-1.0</td>\n",
              "      <td>0.460</td>\n",
              "      <td>4260</td>\n",
              "      <td>0.405</td>\n",
              "      <td>1956</td>\n",
              "      <td>0.186</td>\n",
              "      <td>1308.0</td>\n",
              "      <td>0.14</td>\n",
              "      <td>4292.0</td>\n",
              "      <td>0.408</td>\n",
              "      <td>10508</td>\n",
              "      <td>0.455</td>\n",
              "      <td>1918</td>\n",
              "      <td>0.0</td>\n",
              "    </tr>\n",
              "    <tr>\n",
              "      <th>4</th>\n",
              "      <td>1</td>\n",
              "      <td>190.0</td>\n",
              "      <td>4.0</td>\n",
              "      <td>379.0</td>\n",
              "      <td>-1.0</td>\n",
              "      <td>0.460</td>\n",
              "      <td>-1</td>\n",
              "      <td>0.200</td>\n",
              "      <td>-1</td>\n",
              "      <td>0.420</td>\n",
              "      <td>1308.0</td>\n",
              "      <td>0.14</td>\n",
              "      <td>7887.0</td>\n",
              "      <td>1</td>\n",
              "      <td>7887</td>\n",
              "      <td>0.312</td>\n",
              "      <td>1918</td>\n",
              "      <td>0.0</td>\n",
              "    </tr>\n",
              "    <tr>\n",
              "      <th>...</th>\n",
              "      <td>...</td>\n",
              "      <td>...</td>\n",
              "      <td>...</td>\n",
              "      <td>...</td>\n",
              "      <td>...</td>\n",
              "      <td>...</td>\n",
              "      <td>...</td>\n",
              "      <td>...</td>\n",
              "      <td>...</td>\n",
              "      <td>...</td>\n",
              "      <td>...</td>\n",
              "      <td>...</td>\n",
              "      <td>...</td>\n",
              "      <td>...</td>\n",
              "      <td>...</td>\n",
              "      <td>...</td>\n",
              "      <td>...</td>\n",
              "      <td>...</td>\n",
              "    </tr>\n",
              "    <tr>\n",
              "      <th>17693</th>\n",
              "      <td>1</td>\n",
              "      <td>2723.0</td>\n",
              "      <td>15.0</td>\n",
              "      <td>14289.0</td>\n",
              "      <td>35634.0</td>\n",
              "      <td>0.630</td>\n",
              "      <td>6774</td>\n",
              "      <td>0.120</td>\n",
              "      <td>10480</td>\n",
              "      <td>0.190</td>\n",
              "      <td>1308.0</td>\n",
              "      <td>0.14</td>\n",
              "      <td>3700.0</td>\n",
              "      <td>0.065</td>\n",
              "      <td>56588</td>\n",
              "      <td>0.699</td>\n",
              "      <td>2019</td>\n",
              "      <td>10.0</td>\n",
              "    </tr>\n",
              "    <tr>\n",
              "      <th>17694</th>\n",
              "      <td>1</td>\n",
              "      <td>2932.0</td>\n",
              "      <td>15.0</td>\n",
              "      <td>11347.0</td>\n",
              "      <td>21283.0</td>\n",
              "      <td>0.473</td>\n",
              "      <td>1772</td>\n",
              "      <td>0.039</td>\n",
              "      <td>17925</td>\n",
              "      <td>0.400</td>\n",
              "      <td>1308.0</td>\n",
              "      <td>0.14</td>\n",
              "      <td>4047.0</td>\n",
              "      <td>0.090</td>\n",
              "      <td>45027</td>\n",
              "      <td>0.641</td>\n",
              "      <td>2019</td>\n",
              "      <td>10.0</td>\n",
              "    </tr>\n",
              "    <tr>\n",
              "      <th>17695</th>\n",
              "      <td>1</td>\n",
              "      <td>2951.0</td>\n",
              "      <td>15.0</td>\n",
              "      <td>12884.0</td>\n",
              "      <td>14577.0</td>\n",
              "      <td>0.351</td>\n",
              "      <td>1705</td>\n",
              "      <td>0.041</td>\n",
              "      <td>16742</td>\n",
              "      <td>0.400</td>\n",
              "      <td>1308.0</td>\n",
              "      <td>0.14</td>\n",
              "      <td>8533.0</td>\n",
              "      <td>0.205</td>\n",
              "      <td>41557</td>\n",
              "      <td>0.558</td>\n",
              "      <td>2019</td>\n",
              "      <td>10.0</td>\n",
              "    </tr>\n",
              "    <tr>\n",
              "      <th>17696</th>\n",
              "      <td>1</td>\n",
              "      <td>3032.0</td>\n",
              "      <td>15.0</td>\n",
              "      <td>12983.0</td>\n",
              "      <td>13767.0</td>\n",
              "      <td>0.278</td>\n",
              "      <td>4149</td>\n",
              "      <td>0.084</td>\n",
              "      <td>27312</td>\n",
              "      <td>0.550</td>\n",
              "      <td>1308.0</td>\n",
              "      <td>0.14</td>\n",
              "      <td>4277.0</td>\n",
              "      <td>0.086</td>\n",
              "      <td>49505</td>\n",
              "      <td>0.661</td>\n",
              "      <td>2019</td>\n",
              "      <td>10.0</td>\n",
              "    </tr>\n",
              "    <tr>\n",
              "      <th>17697</th>\n",
              "      <td>1</td>\n",
              "      <td>3033.0</td>\n",
              "      <td>15.0</td>\n",
              "      <td>12919.0</td>\n",
              "      <td>27324.0</td>\n",
              "      <td>0.494</td>\n",
              "      <td>9992</td>\n",
              "      <td>0.181</td>\n",
              "      <td>17339</td>\n",
              "      <td>0.310</td>\n",
              "      <td>1308.0</td>\n",
              "      <td>0.14</td>\n",
              "      <td>692.0</td>\n",
              "      <td>0.013</td>\n",
              "      <td>55347</td>\n",
              "      <td>0.741</td>\n",
              "      <td>2019</td>\n",
              "      <td>10.0</td>\n",
              "    </tr>\n",
              "  </tbody>\n",
              "</table>\n",
              "<p>17698 rows × 18 columns</p>\n",
              "</div>"
            ],
            "text/plain": [
              "       seats  constituency  country/region  ...  turnout   election  boundary_set\n",
              "0          1         134.0             4.0  ...     0.437      1918           0.0\n",
              "1          1         135.0             4.0  ...     0.534      1918           0.0\n",
              "2          1         175.0             4.0  ...     0.451      1918           0.0\n",
              "3          1         176.0             4.0  ...     0.455      1918           0.0\n",
              "4          1         190.0             4.0  ...     0.312      1918           0.0\n",
              "...      ...           ...             ...  ...       ...       ...           ...\n",
              "17693      1        2723.0            15.0  ...     0.699      2019          10.0\n",
              "17694      1        2932.0            15.0  ...     0.641      2019          10.0\n",
              "17695      1        2951.0            15.0  ...     0.558      2019          10.0\n",
              "17696      1        3032.0            15.0  ...     0.661      2019          10.0\n",
              "17697      1        3033.0            15.0  ...     0.741      2019          10.0\n",
              "\n",
              "[17698 rows x 18 columns]"
            ]
          },
          "metadata": {
            "tags": []
          },
          "execution_count": 512
        }
      ]
    },
    {
      "cell_type": "markdown",
      "metadata": {
        "id": "esfX6xfF44G2"
      },
      "source": [
        "Graphical analysis"
      ]
    },
    {
      "cell_type": "code",
      "metadata": {
        "colab": {
          "base_uri": "https://localhost:8080/",
          "height": 335
        },
        "id": "v96-tOOA2FDX",
        "outputId": "f9b03241-228b-43a7-9662-7fe133627f72"
      },
      "source": [
        "sns.distplot(winner)"
      ],
      "execution_count": 513,
      "outputs": [
        {
          "output_type": "stream",
          "text": [
            "/usr/local/lib/python3.6/dist-packages/seaborn/distributions.py:2551: FutureWarning: `distplot` is a deprecated function and will be removed in a future version. Please adapt your code to use either `displot` (a figure-level function with similar flexibility) or `histplot` (an axes-level function for histograms).\n",
            "  warnings.warn(msg, FutureWarning)\n"
          ],
          "name": "stderr"
        },
        {
          "output_type": "execute_result",
          "data": {
            "text/plain": [
              "<matplotlib.axes._subplots.AxesSubplot at 0x7f022e52c908>"
            ]
          },
          "metadata": {
            "tags": []
          },
          "execution_count": 513
        },
        {
          "output_type": "display_data",
          "data": {
            "image/png": "[encoded data removed]",
            "text/plain": [
              "<Figure size 432x288 with 1 Axes>"
            ]
          },
          "metadata": {
            "tags": [],
            "needs_background": "light"
          }
        }
      ]
    },
    {
      "cell_type": "code",
      "metadata": {
        "colab": {
          "base_uri": "https://localhost:8080/"
        },
        "id": "nvAmx8eK-wnZ",
        "outputId": "8f84e50a-f4d8-4fed-e5ce-2ac9c81668c9"
      },
      "source": [
        "import collections\r\n",
        "from collections import Counter\r\n",
        "\r\n",
        "counter = Counter(winner)\r\n",
        "for k,v in counter.items():\r\n",
        "\tper = v / len(winner) * 100\r\n",
        "\tprint('Class=%s, Count=%d, Percentage=%.3f%%' % (k, v, per))"
      ],
      "execution_count": 514,
      "outputs": [
        {
          "output_type": "stream",
          "text": [
            "Class=3, Count=7450, Percentage=42.095%\n",
            "Class=1, Count=8619, Percentage=48.700%\n",
            "Class=2, Count=807, Percentage=4.560%\n",
            "Class=5, Count=591, Percentage=3.339%\n",
            "Class=4, Count=231, Percentage=1.305%\n"
          ],
          "name": "stdout"
        }
      ]
    },
    {
      "cell_type": "code",
      "metadata": {
        "colab": {
          "base_uri": "https://localhost:8080/"
        },
        "id": "W4BnKs0u_9dj",
        "outputId": "43eac2b7-e05b-4134-df33-aa46db4fc8cf"
      },
      "source": [
        "print(Counter(winner))"
      ],
      "execution_count": 515,
      "outputs": [
        {
          "output_type": "stream",
          "text": [
            "Counter({1: 8619, 3: 7450, 2: 807, 5: 591, 4: 231})\n"
          ],
          "name": "stdout"
        }
      ]
    },
    {
      "cell_type": "code",
      "metadata": {
        "colab": {
          "base_uri": "https://localhost:8080/",
          "height": 281
        },
        "id": "hcIHYk2U-XHP",
        "outputId": "ff203ee7-0c9e-4cc8-cd61-26e4ef8c9d08"
      },
      "source": [
        "#create histograms of classes\r\n",
        "# create histograms of all variables\r\n",
        "from pandas import read_csv\r\n",
        "from matplotlib import pyplot\r\n",
        "\r\n",
        "# create a histogram plot of each variable\r\n",
        "dataset.hist(bins=25)\r\n",
        "# show the plot\r\n",
        "pyplot.show()"
      ],
      "execution_count": 516,
      "outputs": [
        {
          "output_type": "display_data",
          "data": {
            "image/png": "[encoded data removed]",
            "text/plain": [
              "<Figure size 432x288 with 16 Axes>"
            ]
          },
          "metadata": {
            "tags": [],
            "needs_background": "light"
          }
        }
      ]
    },
    {
      "cell_type": "code",
      "metadata": {
        "colab": {
          "base_uri": "https://localhost:8080/",
          "height": 457
        },
        "id": "u_Yn2UTo-RUb",
        "outputId": "9f07b2dd-7e99-4711-c29c-1c93b4652661"
      },
      "source": [
        "#create a heatmap to correlate promotion\r\n",
        "plt.figure(figsize=(10,6))\r\n",
        "cmap=dataset.corr()\r\n",
        "sns.heatmap(cmap)"
      ],
      "execution_count": 517,
      "outputs": [
        {
          "output_type": "execute_result",
          "data": {
            "text/plain": [
              "<matplotlib.axes._subplots.AxesSubplot at 0x7f022ea53390>"
            ]
          },
          "metadata": {
            "tags": []
          },
          "execution_count": 517
        },
        {
          "output_type": "display_data",
          "data": {
            "image/png": "[encoded data removed]",
            "text/plain": [
              "<Figure size 720x432 with 2 Axes>"
            ]
          },
          "metadata": {
            "tags": [],
            "needs_background": "light"
          }
        }
      ]
    },
    {
      "cell_type": "markdown",
      "metadata": {
        "id": "ub0Hv9lR6NID"
      },
      "source": [
        "Define X and y"
      ]
    },
    {
      "cell_type": "code",
      "metadata": {
        "id": "e5x2dPcI6gwH"
      },
      "source": [
        "y = winner\r\n",
        "X = dataset"
      ],
      "execution_count": 518,
      "outputs": []
    },
    {
      "cell_type": "code",
      "metadata": {
        "colab": {
          "base_uri": "https://localhost:8080/"
        },
        "id": "jiGzgMwqjx53",
        "outputId": "6ad63187-376a-49ff-bed7-9bd7fd8e8bab"
      },
      "source": [
        "X.info()"
      ],
      "execution_count": 519,
      "outputs": [
        {
          "output_type": "stream",
          "text": [
            "<class 'pandas.core.frame.DataFrame'>\n",
            "RangeIndex: 17698 entries, 0 to 17697\n",
            "Data columns (total 18 columns):\n",
            " #   Column          Non-Null Count  Dtype  \n",
            "---  ------          --------------  -----  \n",
            " 0   seats           17698 non-null  int64  \n",
            " 1   constituency    17698 non-null  float64\n",
            " 2   country/region  17698 non-null  float64\n",
            " 3   electorate      17698 non-null  float64\n",
            " 4   con_votes       17698 non-null  float64\n",
            " 5   con_share       17698 non-null  float64\n",
            " 6   lib_votes       17698 non-null  object \n",
            " 7   lib_share       17698 non-null  float64\n",
            " 8   lab_votes       17697 non-null  object \n",
            " 9   lab_share       17698 non-null  float64\n",
            " 10  natSW_votes     17698 non-null  float64\n",
            " 11  natSW_share     17698 non-null  float64\n",
            " 12  oth_votes       17698 non-null  float64\n",
            " 13  oth_share       17698 non-null  object \n",
            " 14  total_votes     17698 non-null  object \n",
            " 15  turnout         17698 non-null  float64\n",
            " 16  election        17698 non-null  object \n",
            " 17  boundary_set    17698 non-null  float64\n",
            "dtypes: float64(12), int64(1), object(5)\n",
            "memory usage: 2.4+ MB\n"
          ],
          "name": "stdout"
        }
      ]
    },
    {
      "cell_type": "markdown",
      "metadata": {
        "id": "yf4Q-yao6NC8"
      },
      "source": [
        "Visualise PCA"
      ]
    },
    {
      "cell_type": "code",
      "metadata": {
        "colab": {
          "base_uri": "https://localhost:8080/"
        },
        "id": "qhvvBgI8lEhd",
        "outputId": "a756d377-8c51-4f0a-a5bf-1999db6added"
      },
      "source": [
        "X.isnull().sum()"
      ],
      "execution_count": 520,
      "outputs": [
        {
          "output_type": "execute_result",
          "data": {
            "text/plain": [
              "seats             0\n",
              "constituency      0\n",
              "country/region    0\n",
              "electorate        0\n",
              "con_votes         0\n",
              "con_share         0\n",
              "lib_votes         0\n",
              "lib_share         0\n",
              "lab_votes         1\n",
              "lab_share         0\n",
              "natSW_votes       0\n",
              "natSW_share       0\n",
              "oth_votes         0\n",
              "oth_share         0\n",
              "total_votes       0\n",
              "turnout           0\n",
              "election          0\n",
              "boundary_set      0\n",
              "dtype: int64"
            ]
          },
          "metadata": {
            "tags": []
          },
          "execution_count": 520
        }
      ]
    },
    {
      "cell_type": "code",
      "metadata": {
        "id": "CKLDkCe7lYqG"
      },
      "source": [
        "for column in dataset.columns:\r\n",
        "    dataset[column].fillna(dataset[column].mode()[0], inplace=True)"
      ],
      "execution_count": 521,
      "outputs": []
    },
    {
      "cell_type": "code",
      "metadata": {
        "colab": {
          "base_uri": "https://localhost:8080/"
        },
        "id": "Pz3z2NN2la2s",
        "outputId": "6d801f3b-4c24-45c3-c329-41853765728d"
      },
      "source": [
        "X.isnull().sum().sum()"
      ],
      "execution_count": 522,
      "outputs": [
        {
          "output_type": "execute_result",
          "data": {
            "text/plain": [
              "0"
            ]
          },
          "metadata": {
            "tags": []
          },
          "execution_count": 522
        }
      ]
    },
    {
      "cell_type": "code",
      "metadata": {
        "colab": {
          "base_uri": "https://localhost:8080/"
        },
        "id": "X-952IfTFxak",
        "outputId": "5537449a-f8e2-445c-a87a-18552126441a"
      },
      "source": [
        "from sklearn.preprocessing import StandardScaler\r\n",
        "\r\n",
        "X = StandardScaler().fit_transform(X) # normalizing the features\r\n",
        "X.shape"
      ],
      "execution_count": 523,
      "outputs": [
        {
          "output_type": "execute_result",
          "data": {
            "text/plain": [
              "(17698, 18)"
            ]
          },
          "metadata": {
            "tags": []
          },
          "execution_count": 523
        }
      ]
    },
    {
      "cell_type": "code",
      "metadata": {
        "colab": {
          "base_uri": "https://localhost:8080/"
        },
        "id": "xZ5C9xCUkPHs",
        "outputId": "d64e999c-e1f6-4be5-babe-0e6d210f7714"
      },
      "source": [
        "np.mean(X),np.std(X)"
      ],
      "execution_count": 524,
      "outputs": [
        {
          "output_type": "execute_result",
          "data": {
            "text/plain": [
              "(2.85498267780706e-18, 1.0)"
            ]
          },
          "metadata": {
            "tags": []
          },
          "execution_count": 524
        }
      ]
    },
    {
      "cell_type": "code",
      "metadata": {
        "colab": {
          "base_uri": "https://localhost:8080/"
        },
        "id": "6GTjHQdvkWZn",
        "outputId": "6bed1bd4-8346-4c0e-9301-fd61bbc37247"
      },
      "source": [
        "feat_cols = ['feature'+str(i) for i in range(X.shape[1])]\r\n",
        "feat_cols"
      ],
      "execution_count": 525,
      "outputs": [
        {
          "output_type": "execute_result",
          "data": {
            "text/plain": [
              "['feature0',\n",
              " 'feature1',\n",
              " 'feature2',\n",
              " 'feature3',\n",
              " 'feature4',\n",
              " 'feature5',\n",
              " 'feature6',\n",
              " 'feature7',\n",
              " 'feature8',\n",
              " 'feature9',\n",
              " 'feature10',\n",
              " 'feature11',\n",
              " 'feature12',\n",
              " 'feature13',\n",
              " 'feature14',\n",
              " 'feature15',\n",
              " 'feature16',\n",
              " 'feature17']"
            ]
          },
          "metadata": {
            "tags": []
          },
          "execution_count": 525
        }
      ]
    },
    {
      "cell_type": "code",
      "metadata": {
        "colab": {
          "base_uri": "https://localhost:8080/",
          "height": 427
        },
        "id": "3yrw8qhTkdrt",
        "outputId": "531e2f90-1906-4442-8a48-6938fcc5d1c0"
      },
      "source": [
        "normalised = pd.DataFrame(X,columns=feat_cols)\r\n",
        "normalised"
      ],
      "execution_count": 526,
      "outputs": [
        {
          "output_type": "execute_result",
          "data": {
            "text/html": [
              "<div>\n",
              "<style scoped>\n",
              "    .dataframe tbody tr th:only-of-type {\n",
              "        vertical-align: middle;\n",
              "    }\n",
              "\n",
              "    .dataframe tbody tr th {\n",
              "        vertical-align: top;\n",
              "    }\n",
              "\n",
              "    .dataframe thead th {\n",
              "        text-align: right;\n",
              "    }\n",
              "</style>\n",
              "<table border=\"1\" class=\"dataframe\">\n",
              "  <thead>\n",
              "    <tr style=\"text-align: right;\">\n",
              "      <th></th>\n",
              "      <th>feature0</th>\n",
              "      <th>feature1</th>\n",
              "      <th>feature2</th>\n",
              "      <th>feature3</th>\n",
              "      <th>feature4</th>\n",
              "      <th>feature5</th>\n",
              "      <th>feature6</th>\n",
              "      <th>feature7</th>\n",
              "      <th>feature8</th>\n",
              "      <th>feature9</th>\n",
              "      <th>feature10</th>\n",
              "      <th>feature11</th>\n",
              "      <th>feature12</th>\n",
              "      <th>feature13</th>\n",
              "      <th>feature14</th>\n",
              "      <th>feature15</th>\n",
              "      <th>feature16</th>\n",
              "      <th>feature17</th>\n",
              "    </tr>\n",
              "  </thead>\n",
              "  <tbody>\n",
              "    <tr>\n",
              "      <th>0</th>\n",
              "      <td>-0.090718</td>\n",
              "      <td>-1.548895</td>\n",
              "      <td>-0.878295</td>\n",
              "      <td>-1.223158</td>\n",
              "      <td>-1.764983</td>\n",
              "      <td>0.216676</td>\n",
              "      <td>-0.985204</td>\n",
              "      <td>0.024471</td>\n",
              "      <td>-1.135973</td>\n",
              "      <td>-0.433853</td>\n",
              "      <td>-0.212743</td>\n",
              "      <td>-0.093408</td>\n",
              "      <td>1.411395</td>\n",
              "      <td>0.111554</td>\n",
              "      <td>-1.801890</td>\n",
              "      <td>-3.240701</td>\n",
              "      <td>-1.606358</td>\n",
              "      <td>-1.388887</td>\n",
              "    </tr>\n",
              "    <tr>\n",
              "      <th>1</th>\n",
              "      <td>-0.090718</td>\n",
              "      <td>-1.547754</td>\n",
              "      <td>-0.878295</td>\n",
              "      <td>-1.033647</td>\n",
              "      <td>-0.141107</td>\n",
              "      <td>1.733183</td>\n",
              "      <td>-0.598814</td>\n",
              "      <td>-0.941188</td>\n",
              "      <td>-1.389369</td>\n",
              "      <td>-1.593735</td>\n",
              "      <td>-0.212743</td>\n",
              "      <td>-0.093408</td>\n",
              "      <td>-0.096865</td>\n",
              "      <td>-1.194635</td>\n",
              "      <td>-1.354565</td>\n",
              "      <td>-2.151689</td>\n",
              "      <td>-1.606358</td>\n",
              "      <td>-1.388887</td>\n",
              "    </tr>\n",
              "    <tr>\n",
              "      <th>2</th>\n",
              "      <td>-0.090718</td>\n",
              "      <td>-1.502133</td>\n",
              "      <td>-0.878295</td>\n",
              "      <td>-1.705720</td>\n",
              "      <td>-1.180549</td>\n",
              "      <td>0.489921</td>\n",
              "      <td>-0.324229</td>\n",
              "      <td>1.410813</td>\n",
              "      <td>-1.573196</td>\n",
              "      <td>-1.544114</td>\n",
              "      <td>-0.212743</td>\n",
              "      <td>-0.093408</td>\n",
              "      <td>-0.358061</td>\n",
              "      <td>0.846010</td>\n",
              "      <td>-2.210391</td>\n",
              "      <td>-3.083524</td>\n",
              "      <td>-1.606358</td>\n",
              "      <td>-1.388887</td>\n",
              "    </tr>\n",
              "    <tr>\n",
              "      <th>3</th>\n",
              "      <td>-0.090718</td>\n",
              "      <td>-1.500992</td>\n",
              "      <td>-0.878295</td>\n",
              "      <td>-1.727739</td>\n",
              "      <td>-1.764983</td>\n",
              "      <td>0.216676</td>\n",
              "      <td>-0.261189</td>\n",
              "      <td>1.984472</td>\n",
              "      <td>-1.550006</td>\n",
              "      <td>-1.351834</td>\n",
              "      <td>-0.212743</td>\n",
              "      <td>-0.093408</td>\n",
              "      <td>0.318245</td>\n",
              "      <td>-0.455780</td>\n",
              "      <td>-2.266690</td>\n",
              "      <td>-3.038617</td>\n",
              "      <td>-1.606358</td>\n",
              "      <td>-1.388887</td>\n",
              "    </tr>\n",
              "    <tr>\n",
              "      <th>4</th>\n",
              "      <td>-0.090718</td>\n",
              "      <td>-1.485024</td>\n",
              "      <td>-0.878295</td>\n",
              "      <td>-1.700332</td>\n",
              "      <td>-1.764983</td>\n",
              "      <td>0.216676</td>\n",
              "      <td>-0.985204</td>\n",
              "      <td>0.024471</td>\n",
              "      <td>-1.770307</td>\n",
              "      <td>0.099568</td>\n",
              "      <td>-0.212743</td>\n",
              "      <td>-0.093408</td>\n",
              "      <td>0.884591</td>\n",
              "      <td>0.846010</td>\n",
              "      <td>-2.458328</td>\n",
              "      <td>-4.644068</td>\n",
              "      <td>-1.606358</td>\n",
              "      <td>-1.388887</td>\n",
              "    </tr>\n",
              "    <tr>\n",
              "      <th>...</th>\n",
              "      <td>...</td>\n",
              "      <td>...</td>\n",
              "      <td>...</td>\n",
              "      <td>...</td>\n",
              "      <td>...</td>\n",
              "      <td>...</td>\n",
              "      <td>...</td>\n",
              "      <td>...</td>\n",
              "      <td>...</td>\n",
              "      <td>...</td>\n",
              "      <td>...</td>\n",
              "      <td>...</td>\n",
              "      <td>...</td>\n",
              "      <td>...</td>\n",
              "      <td>...</td>\n",
              "      <td>...</td>\n",
              "      <td>...</td>\n",
              "      <td>...</td>\n",
              "    </tr>\n",
              "    <tr>\n",
              "      <th>17693</th>\n",
              "      <td>-0.090718</td>\n",
              "      <td>1.403983</td>\n",
              "      <td>1.736710</td>\n",
              "      <td>1.558130</td>\n",
              "      <td>1.927624</td>\n",
              "      <td>1.377965</td>\n",
              "      <td>0.165981</td>\n",
              "      <td>-0.740408</td>\n",
              "      <td>-0.590457</td>\n",
              "      <td>-1.327024</td>\n",
              "      <td>-0.212743</td>\n",
              "      <td>-0.093408</td>\n",
              "      <td>0.224983</td>\n",
              "      <td>-1.210027</td>\n",
              "      <td>1.102506</td>\n",
              "      <td>-0.299245</td>\n",
              "      <td>1.609975</td>\n",
              "      <td>1.646645</td>\n",
              "    </tr>\n",
              "    <tr>\n",
              "      <th>17694</th>\n",
              "      <td>-0.090718</td>\n",
              "      <td>1.642358</td>\n",
              "      <td>1.736710</td>\n",
              "      <td>0.868957</td>\n",
              "      <td>0.440529</td>\n",
              "      <td>0.305481</td>\n",
              "      <td>-0.683942</td>\n",
              "      <td>-1.514847</td>\n",
              "      <td>0.247630</td>\n",
              "      <td>-0.024483</td>\n",
              "      <td>-0.212743</td>\n",
              "      <td>-0.093408</td>\n",
              "      <td>0.279649</td>\n",
              "      <td>-1.155053</td>\n",
              "      <td>0.257209</td>\n",
              "      <td>-0.950407</td>\n",
              "      <td>1.609975</td>\n",
              "      <td>1.646645</td>\n",
              "    </tr>\n",
              "    <tr>\n",
              "      <th>17695</th>\n",
              "      <td>-0.090718</td>\n",
              "      <td>1.664028</td>\n",
              "      <td>1.736710</td>\n",
              "      <td>1.229005</td>\n",
              "      <td>-0.254367</td>\n",
              "      <td>-0.527915</td>\n",
              "      <td>-0.695326</td>\n",
              "      <td>-1.495725</td>\n",
              "      <td>0.114459</td>\n",
              "      <td>-0.024483</td>\n",
              "      <td>-0.212743</td>\n",
              "      <td>-0.093408</td>\n",
              "      <td>0.986360</td>\n",
              "      <td>-0.902171</td>\n",
              "      <td>0.003496</td>\n",
              "      <td>-1.882243</td>\n",
              "      <td>1.609975</td>\n",
              "      <td>1.646645</td>\n",
              "    </tr>\n",
              "    <tr>\n",
              "      <th>17696</th>\n",
              "      <td>-0.090718</td>\n",
              "      <td>1.756412</td>\n",
              "      <td>1.736710</td>\n",
              "      <td>1.252196</td>\n",
              "      <td>-0.338301</td>\n",
              "      <td>-1.026587</td>\n",
              "      <td>-0.280050</td>\n",
              "      <td>-1.084603</td>\n",
              "      <td>1.304328</td>\n",
              "      <td>0.905903</td>\n",
              "      <td>-0.212743</td>\n",
              "      <td>-0.093408</td>\n",
              "      <td>0.315882</td>\n",
              "      <td>-1.163849</td>\n",
              "      <td>0.584623</td>\n",
              "      <td>-0.725869</td>\n",
              "      <td>1.609975</td>\n",
              "      <td>1.646645</td>\n",
              "    </tr>\n",
              "    <tr>\n",
              "      <th>17697</th>\n",
              "      <td>-0.090718</td>\n",
              "      <td>1.757553</td>\n",
              "      <td>1.736710</td>\n",
              "      <td>1.237204</td>\n",
              "      <td>1.066516</td>\n",
              "      <td>0.448934</td>\n",
              "      <td>0.712772</td>\n",
              "      <td>-0.157188</td>\n",
              "      <td>0.181664</td>\n",
              "      <td>-0.582715</td>\n",
              "      <td>-0.212743</td>\n",
              "      <td>-0.093408</td>\n",
              "      <td>-0.248888</td>\n",
              "      <td>-1.324374</td>\n",
              "      <td>1.011768</td>\n",
              "      <td>0.172286</td>\n",
              "      <td>1.609975</td>\n",
              "      <td>1.646645</td>\n",
              "    </tr>\n",
              "  </tbody>\n",
              "</table>\n",
              "<p>17698 rows × 18 columns</p>\n",
              "</div>"
            ],
            "text/plain": [
              "       feature0  feature1  feature2  ...  feature15  feature16  feature17\n",
              "0     -0.090718 -1.548895 -0.878295  ...  -3.240701  -1.606358  -1.388887\n",
              "1     -0.090718 -1.547754 -0.878295  ...  -2.151689  -1.606358  -1.388887\n",
              "2     -0.090718 -1.502133 -0.878295  ...  -3.083524  -1.606358  -1.388887\n",
              "3     -0.090718 -1.500992 -0.878295  ...  -3.038617  -1.606358  -1.388887\n",
              "4     -0.090718 -1.485024 -0.878295  ...  -4.644068  -1.606358  -1.388887\n",
              "...         ...       ...       ...  ...        ...        ...        ...\n",
              "17693 -0.090718  1.403983  1.736710  ...  -0.299245   1.609975   1.646645\n",
              "17694 -0.090718  1.642358  1.736710  ...  -0.950407   1.609975   1.646645\n",
              "17695 -0.090718  1.664028  1.736710  ...  -1.882243   1.609975   1.646645\n",
              "17696 -0.090718  1.756412  1.736710  ...  -0.725869   1.609975   1.646645\n",
              "17697 -0.090718  1.757553  1.736710  ...   0.172286   1.609975   1.646645\n",
              "\n",
              "[17698 rows x 18 columns]"
            ]
          },
          "metadata": {
            "tags": []
          },
          "execution_count": 526
        }
      ]
    },
    {
      "cell_type": "code",
      "metadata": {
        "id": "Pt0nemRrkq2Z"
      },
      "source": [
        "from sklearn.decomposition import PCA\r\n",
        "\r\n",
        "pca_uk = PCA(n_components=2)\r\n",
        "principalComponents_uk = pca_uk.fit_transform(X)"
      ],
      "execution_count": 527,
      "outputs": []
    },
    {
      "cell_type": "code",
      "metadata": {
        "colab": {
          "base_uri": "https://localhost:8080/",
          "height": 407
        },
        "id": "XTcSzu8Nlqu5",
        "outputId": "a036ef48-306b-468c-8e10-9ba05407ea95"
      },
      "source": [
        "principal_uk_Df = pd.DataFrame(data = principalComponents_uk, columns = ['principal component 1', 'principal component 2'])\r\n",
        "principal_uk_Df"
      ],
      "execution_count": 528,
      "outputs": [
        {
          "output_type": "execute_result",
          "data": {
            "text/html": [
              "<div>\n",
              "<style scoped>\n",
              "    .dataframe tbody tr th:only-of-type {\n",
              "        vertical-align: middle;\n",
              "    }\n",
              "\n",
              "    .dataframe tbody tr th {\n",
              "        vertical-align: top;\n",
              "    }\n",
              "\n",
              "    .dataframe thead th {\n",
              "        text-align: right;\n",
              "    }\n",
              "</style>\n",
              "<table border=\"1\" class=\"dataframe\">\n",
              "  <thead>\n",
              "    <tr style=\"text-align: right;\">\n",
              "      <th></th>\n",
              "      <th>principal component 1</th>\n",
              "      <th>principal component 2</th>\n",
              "    </tr>\n",
              "  </thead>\n",
              "  <tbody>\n",
              "    <tr>\n",
              "      <th>0</th>\n",
              "      <td>-3.046945</td>\n",
              "      <td>-1.649678</td>\n",
              "    </tr>\n",
              "    <tr>\n",
              "      <th>1</th>\n",
              "      <td>-2.162810</td>\n",
              "      <td>0.475742</td>\n",
              "    </tr>\n",
              "    <tr>\n",
              "      <th>2</th>\n",
              "      <td>-3.852255</td>\n",
              "      <td>0.043828</td>\n",
              "    </tr>\n",
              "    <tr>\n",
              "      <th>3</th>\n",
              "      <td>-3.641701</td>\n",
              "      <td>-0.389414</td>\n",
              "    </tr>\n",
              "    <tr>\n",
              "      <th>4</th>\n",
              "      <td>-3.807415</td>\n",
              "      <td>-2.120618</td>\n",
              "    </tr>\n",
              "    <tr>\n",
              "      <th>...</th>\n",
              "      <td>...</td>\n",
              "      <td>...</td>\n",
              "    </tr>\n",
              "    <tr>\n",
              "      <th>17693</th>\n",
              "      <td>3.221182</td>\n",
              "      <td>2.096571</td>\n",
              "    </tr>\n",
              "    <tr>\n",
              "      <th>17694</th>\n",
              "      <td>2.620210</td>\n",
              "      <td>-0.675867</td>\n",
              "    </tr>\n",
              "    <tr>\n",
              "      <th>17695</th>\n",
              "      <td>2.627693</td>\n",
              "      <td>-1.516827</td>\n",
              "    </tr>\n",
              "    <tr>\n",
              "      <th>17696</th>\n",
              "      <td>3.055578</td>\n",
              "      <td>-1.810579</td>\n",
              "    </tr>\n",
              "    <tr>\n",
              "      <th>17697</th>\n",
              "      <td>3.063174</td>\n",
              "      <td>1.266027</td>\n",
              "    </tr>\n",
              "  </tbody>\n",
              "</table>\n",
              "<p>17698 rows × 2 columns</p>\n",
              "</div>"
            ],
            "text/plain": [
              "       principal component 1  principal component 2\n",
              "0                  -3.046945              -1.649678\n",
              "1                  -2.162810               0.475742\n",
              "2                  -3.852255               0.043828\n",
              "3                  -3.641701              -0.389414\n",
              "4                  -3.807415              -2.120618\n",
              "...                      ...                    ...\n",
              "17693               3.221182               2.096571\n",
              "17694               2.620210              -0.675867\n",
              "17695               2.627693              -1.516827\n",
              "17696               3.055578              -1.810579\n",
              "17697               3.063174               1.266027\n",
              "\n",
              "[17698 rows x 2 columns]"
            ]
          },
          "metadata": {
            "tags": []
          },
          "execution_count": 528
        }
      ]
    },
    {
      "cell_type": "code",
      "metadata": {
        "colab": {
          "base_uri": "https://localhost:8080/"
        },
        "id": "baTOA5dvl4sK",
        "outputId": "d2efb1b6-b7e8-43fc-c783-aa74b2d8e4f0"
      },
      "source": [
        "print('Explained variation per principal component: {}'.format(pca_uk.explained_variance_ratio_))"
      ],
      "execution_count": 529,
      "outputs": [
        {
          "output_type": "stream",
          "text": [
            "Explained variation per principal component: [0.2269058  0.16444437]\n"
          ],
          "name": "stdout"
        }
      ]
    },
    {
      "cell_type": "code",
      "metadata": {
        "colab": {
          "base_uri": "https://localhost:8080/"
        },
        "id": "cPwP7oYcnvNn",
        "outputId": "cded6f70-929b-4396-c82c-543cdb1a2ad5"
      },
      "source": [
        "party = {1:'con_share', 2:'lib_share', 3:'lab_share', 4:'natSW_share', 5:'Other'}\r\n",
        "winner = winner.map(party)\r\n",
        "y = winner\r\n",
        "y"
      ],
      "execution_count": 530,
      "outputs": [
        {
          "output_type": "execute_result",
          "data": {
            "text/plain": [
              "0        lab_share\n",
              "1        con_share\n",
              "2        con_share\n",
              "3        lib_share\n",
              "4            Other\n",
              "           ...    \n",
              "17693    con_share\n",
              "17694    con_share\n",
              "17695    lab_share\n",
              "17696    lab_share\n",
              "17697    con_share\n",
              "Length: 17698, dtype: object"
            ]
          },
          "metadata": {
            "tags": []
          },
          "execution_count": 530
        }
      ]
    },
    {
      "cell_type": "code",
      "metadata": {
        "colab": {
          "base_uri": "https://localhost:8080/",
          "height": 672
        },
        "id": "vVlTmXoAmCMk",
        "outputId": "3c3ebe6a-7000-4139-e58b-475e443fadf0"
      },
      "source": [
        "import matplotlib.pyplot as plt\r\n",
        "\r\n",
        "plt.figure()\r\n",
        "plt.figure(figsize=(10,10))\r\n",
        "plt.xticks(fontsize=12)\r\n",
        "plt.yticks(fontsize=14)\r\n",
        "plt.xlabel('Principal Component - 1',fontsize=20)\r\n",
        "plt.ylabel('Principal Component - 2',fontsize=20)\r\n",
        "plt.title(\"Principal Component Analysis of UK Elections Dataset\",fontsize=20)\r\n",
        "targets = ['con_share', 'lib_share', 'lab_share', 'natSW_share', 'Other']\r\n",
        "colors = ['r', 'g', 'blue', 'grey', 'yellow']\r\n",
        "for target, color in zip(targets,colors):\r\n",
        "    indicesToKeep = y == target\r\n",
        "    plt.scatter(principal_uk_Df.loc[indicesToKeep, 'principal component 1'], \r\n",
        "                principal_uk_Df.loc[indicesToKeep, 'principal component 2'], c = color, s = 50)\r\n",
        "\r\n",
        "plt.legend(targets,prop={'size': 15})"
      ],
      "execution_count": 531,
      "outputs": [
        {
          "output_type": "execute_result",
          "data": {
            "text/plain": [
              "<matplotlib.legend.Legend at 0x7f022dc121d0>"
            ]
          },
          "metadata": {
            "tags": []
          },
          "execution_count": 531
        },
        {
          "output_type": "display_data",
          "data": {
            "text/plain": [
              "<Figure size 432x288 with 0 Axes>"
            ]
          },
          "metadata": {
            "tags": []
          }
        },
        {
          "output_type": "display_data",
          "data": {
            "image/png": "[encoded data removed]",
            "text/plain": [
              "<Figure size 720x720 with 1 Axes>"
            ]
          },
          "metadata": {
            "tags": [],
            "needs_background": "light"
          }
        }
      ]
    },
    {
      "cell_type": "code",
      "metadata": {
        "id": "bVmPCjGOpOIS"
      },
      "source": [
        "pca_uk = PCA(n_components=18)\r\n",
        "principalComponents_uk = pca_uk.fit_transform(X)"
      ],
      "execution_count": 532,
      "outputs": []
    },
    {
      "cell_type": "markdown",
      "metadata": {
        "id": "pW0nvTi8q1Ov"
      },
      "source": [
        "Split X up for training and testing"
      ]
    },
    {
      "cell_type": "code",
      "metadata": {
        "colab": {
          "base_uri": "https://localhost:8080/"
        },
        "id": "I0hetcpkq48v",
        "outputId": "5c6b8372-80c9-4cbe-c64e-9095b01ae1a9"
      },
      "source": [
        "#split train set for testing\r\n",
        "from sklearn.model_selection import train_test_split\r\n",
        "\r\n",
        "X_train, X_val, y_train, y_val = train_test_split(X, y, test_size=0.10, random_state=1, stratify=y, shuffle=True)\r\n",
        "X_train.shape, X_val.shape, y_train.shape, y_val.shape"
      ],
      "execution_count": 533,
      "outputs": [
        {
          "output_type": "execute_result",
          "data": {
            "text/plain": [
              "((15928, 18), (1770, 18), (15928,), (1770,))"
            ]
          },
          "metadata": {
            "tags": []
          },
          "execution_count": 533
        }
      ]
    },
    {
      "cell_type": "markdown",
      "metadata": {
        "id": "DGizwU24A2sF"
      },
      "source": [
        "Select model"
      ]
    },
    {
      "cell_type": "code",
      "metadata": {
        "colab": {
          "base_uri": "https://localhost:8080/"
        },
        "id": "lfa1QntcA56V",
        "outputId": "89a21176-1fa4-416e-f484-9cf55c74c737"
      },
      "source": [
        "!pip install catboost"
      ],
      "execution_count": 534,
      "outputs": [
        {
          "output_type": "stream",
          "text": [
            "Requirement already satisfied: catboost in /usr/local/lib/python3.6/dist-packages (0.24.3)\n",
            "Requirement already satisfied: plotly in /usr/local/lib/python3.6/dist-packages (from catboost) (4.4.1)\n",
            "Requirement already satisfied: six in /usr/local/lib/python3.6/dist-packages (from catboost) (1.15.0)\n",
            "Requirement already satisfied: graphviz in /usr/local/lib/python3.6/dist-packages (from catboost) (0.10.1)\n",
            "Requirement already satisfied: numpy>=1.16.0 in /usr/local/lib/python3.6/dist-packages (from catboost) (1.18.5)\n",
            "Requirement already satisfied: pandas>=0.24.0 in /usr/local/lib/python3.6/dist-packages (from catboost) (1.1.5)\n",
            "Requirement already satisfied: scipy in /usr/local/lib/python3.6/dist-packages (from catboost) (1.4.1)\n",
            "Requirement already satisfied: matplotlib in /usr/local/lib/python3.6/dist-packages (from catboost) (3.2.2)\n",
            "Requirement already satisfied: retrying>=1.3.3 in /usr/local/lib/python3.6/dist-packages (from plotly->catboost) (1.3.3)\n",
            "Requirement already satisfied: python-dateutil>=2.7.3 in /usr/local/lib/python3.6/dist-packages (from pandas>=0.24.0->catboost) (2.8.1)\n",
            "Requirement already satisfied: pytz>=2017.2 in /usr/local/lib/python3.6/dist-packages (from pandas>=0.24.0->catboost) (2018.9)\n",
            "Requirement already satisfied: kiwisolver>=1.0.1 in /usr/local/lib/python3.6/dist-packages (from matplotlib->catboost) (1.3.1)\n",
            "Requirement already satisfied: pyparsing!=2.0.4,!=2.1.2,!=2.1.6,>=2.0.1 in /usr/local/lib/python3.6/dist-packages (from matplotlib->catboost) (2.4.7)\n",
            "Requirement already satisfied: cycler>=0.10 in /usr/local/lib/python3.6/dist-packages (from matplotlib->catboost) (0.10.0)\n"
          ],
          "name": "stdout"
        }
      ]
    },
    {
      "cell_type": "code",
      "metadata": {
        "colab": {
          "base_uri": "https://localhost:8080/"
        },
        "id": "QE_hXqC7BPiP",
        "outputId": "842c667f-d405-46eb-a3d6-a4c9e34c17db"
      },
      "source": [
        "from catboost import Pool, CatBoostClassifier, cv\r\n",
        "\r\n",
        "model = CatBoostClassifier(eval_metric='Accuracy',random_seed=1).fit(X_train,y_train)\r\n",
        "print(model.score(X_train, y_train))"
      ],
      "execution_count": 535,
      "outputs": [
        {
          "output_type": "stream",
          "text": [
            "Learning rate set to 0.091124\n",
            "0:\tlearn: 0.9035660\ttotal: 40.2ms\tremaining: 40.1s\n",
            "1:\tlearn: 0.9298719\ttotal: 70.4ms\tremaining: 35.1s\n",
            "2:\tlearn: 0.9443119\ttotal: 99.3ms\tremaining: 33s\n",
            "3:\tlearn: 0.9483300\ttotal: 129ms\tremaining: 32s\n",
            "4:\tlearn: 0.9593797\ttotal: 158ms\tremaining: 31.4s\n",
            "5:\tlearn: 0.9632722\ttotal: 188ms\tremaining: 31.2s\n",
            "6:\tlearn: 0.9649046\ttotal: 222ms\tremaining: 31.5s\n",
            "7:\tlearn: 0.9671647\ttotal: 253ms\tremaining: 31.3s\n",
            "8:\tlearn: 0.9692993\ttotal: 282ms\tremaining: 31s\n",
            "9:\tlearn: 0.9711828\ttotal: 312ms\tremaining: 30.9s\n",
            "10:\tlearn: 0.9733802\ttotal: 343ms\tremaining: 30.8s\n",
            "11:\tlearn: 0.9724385\ttotal: 373ms\tremaining: 30.7s\n",
            "12:\tlearn: 0.9722501\ttotal: 403ms\tremaining: 30.6s\n",
            "13:\tlearn: 0.9737569\ttotal: 434ms\tremaining: 30.6s\n",
            "14:\tlearn: 0.9743847\ttotal: 464ms\tremaining: 30.4s\n",
            "15:\tlearn: 0.9789051\ttotal: 498ms\tremaining: 30.6s\n",
            "16:\tlearn: 0.9801607\ttotal: 528ms\tremaining: 30.6s\n",
            "17:\tlearn: 0.9809141\ttotal: 558ms\tremaining: 30.4s\n",
            "18:\tlearn: 0.9807258\ttotal: 587ms\tremaining: 30.3s\n",
            "19:\tlearn: 0.9809769\ttotal: 616ms\tremaining: 30.2s\n",
            "20:\tlearn: 0.9818559\ttotal: 648ms\tremaining: 30.2s\n",
            "21:\tlearn: 0.9820442\ttotal: 678ms\tremaining: 30.1s\n",
            "22:\tlearn: 0.9824209\ttotal: 707ms\tremaining: 30s\n",
            "23:\tlearn: 0.9835510\ttotal: 736ms\tremaining: 29.9s\n",
            "24:\tlearn: 0.9847438\ttotal: 765ms\tremaining: 29.8s\n",
            "25:\tlearn: 0.9850578\ttotal: 794ms\tremaining: 29.7s\n",
            "26:\tlearn: 0.9848694\ttotal: 823ms\tremaining: 29.6s\n",
            "27:\tlearn: 0.9856228\ttotal: 856ms\tremaining: 29.7s\n",
            "28:\tlearn: 0.9861878\ttotal: 885ms\tremaining: 29.6s\n",
            "29:\tlearn: 0.9875691\ttotal: 914ms\tremaining: 29.6s\n",
            "30:\tlearn: 0.9880085\ttotal: 943ms\tremaining: 29.5s\n",
            "31:\tlearn: 0.9881341\ttotal: 972ms\tremaining: 29.4s\n",
            "32:\tlearn: 0.9880713\ttotal: 1s\tremaining: 29.3s\n",
            "33:\tlearn: 0.9883225\ttotal: 1.03s\tremaining: 29.3s\n",
            "34:\tlearn: 0.9881969\ttotal: 1.06s\tremaining: 29.3s\n",
            "35:\tlearn: 0.9888247\ttotal: 1.09s\tremaining: 29.2s\n",
            "36:\tlearn: 0.9884480\ttotal: 1.12s\tremaining: 29.2s\n",
            "37:\tlearn: 0.9886364\ttotal: 1.15s\tremaining: 29.1s\n",
            "38:\tlearn: 0.9889503\ttotal: 1.18s\tremaining: 29.1s\n",
            "39:\tlearn: 0.9888247\ttotal: 1.21s\tremaining: 29.1s\n",
            "40:\tlearn: 0.9898292\ttotal: 1.24s\tremaining: 29.1s\n",
            "41:\tlearn: 0.9910849\ttotal: 1.28s\tremaining: 29.2s\n",
            "42:\tlearn: 0.9905826\ttotal: 1.31s\tremaining: 29.1s\n",
            "43:\tlearn: 0.9911477\ttotal: 1.34s\tremaining: 29.1s\n",
            "44:\tlearn: 0.9913988\ttotal: 1.37s\tremaining: 29s\n",
            "45:\tlearn: 0.9914616\ttotal: 1.4s\tremaining: 28.9s\n",
            "46:\tlearn: 0.9915871\ttotal: 1.42s\tremaining: 28.9s\n",
            "47:\tlearn: 0.9914616\ttotal: 1.45s\tremaining: 28.8s\n",
            "48:\tlearn: 0.9917127\ttotal: 1.48s\tremaining: 28.8s\n",
            "49:\tlearn: 0.9917755\ttotal: 1.52s\tremaining: 28.9s\n",
            "50:\tlearn: 0.9921522\ttotal: 1.55s\tremaining: 28.8s\n",
            "51:\tlearn: 0.9923405\ttotal: 1.58s\tremaining: 28.8s\n",
            "52:\tlearn: 0.9924661\ttotal: 1.61s\tremaining: 28.7s\n",
            "53:\tlearn: 0.9923405\ttotal: 1.64s\tremaining: 28.7s\n",
            "54:\tlearn: 0.9925289\ttotal: 1.67s\tremaining: 28.7s\n",
            "55:\tlearn: 0.9922777\ttotal: 1.7s\tremaining: 28.6s\n",
            "56:\tlearn: 0.9923405\ttotal: 1.73s\tremaining: 28.5s\n",
            "57:\tlearn: 0.9927800\ttotal: 1.75s\tremaining: 28.5s\n",
            "58:\tlearn: 0.9926544\ttotal: 1.78s\tremaining: 28.4s\n",
            "59:\tlearn: 0.9930311\ttotal: 1.81s\tremaining: 28.4s\n",
            "60:\tlearn: 0.9929684\ttotal: 1.84s\tremaining: 28.3s\n",
            "61:\tlearn: 0.9932195\ttotal: 1.87s\tremaining: 28.3s\n",
            "62:\tlearn: 0.9931567\ttotal: 1.91s\tremaining: 28.4s\n",
            "63:\tlearn: 0.9933451\ttotal: 1.94s\tremaining: 28.3s\n",
            "64:\tlearn: 0.9933451\ttotal: 1.97s\tremaining: 28.3s\n",
            "65:\tlearn: 0.9935334\ttotal: 1.99s\tremaining: 28.2s\n",
            "66:\tlearn: 0.9935962\ttotal: 2.02s\tremaining: 28.2s\n",
            "67:\tlearn: 0.9935962\ttotal: 2.05s\tremaining: 28.1s\n",
            "68:\tlearn: 0.9936590\ttotal: 2.08s\tremaining: 28.1s\n",
            "69:\tlearn: 0.9935962\ttotal: 2.11s\tremaining: 28.1s\n",
            "70:\tlearn: 0.9936590\ttotal: 2.14s\tremaining: 28s\n",
            "71:\tlearn: 0.9937217\ttotal: 2.17s\tremaining: 27.9s\n",
            "72:\tlearn: 0.9938473\ttotal: 2.19s\tremaining: 27.9s\n",
            "73:\tlearn: 0.9940984\ttotal: 2.23s\tremaining: 27.8s\n",
            "74:\tlearn: 0.9940357\ttotal: 2.25s\tremaining: 27.8s\n",
            "75:\tlearn: 0.9939729\ttotal: 2.28s\tremaining: 27.7s\n",
            "76:\tlearn: 0.9942240\ttotal: 2.31s\tremaining: 27.7s\n",
            "77:\tlearn: 0.9944124\ttotal: 2.34s\tremaining: 27.6s\n",
            "78:\tlearn: 0.9944124\ttotal: 2.37s\tremaining: 27.6s\n",
            "79:\tlearn: 0.9942868\ttotal: 2.4s\tremaining: 27.6s\n",
            "80:\tlearn: 0.9944751\ttotal: 2.42s\tremaining: 27.5s\n",
            "81:\tlearn: 0.9946007\ttotal: 2.45s\tremaining: 27.4s\n",
            "82:\tlearn: 0.9946635\ttotal: 2.48s\tremaining: 27.4s\n",
            "83:\tlearn: 0.9946007\ttotal: 2.51s\tremaining: 27.4s\n",
            "84:\tlearn: 0.9946635\ttotal: 2.54s\tremaining: 27.4s\n",
            "85:\tlearn: 0.9945379\ttotal: 2.57s\tremaining: 27.3s\n",
            "86:\tlearn: 0.9946007\ttotal: 2.6s\tremaining: 27.3s\n",
            "87:\tlearn: 0.9946007\ttotal: 2.63s\tremaining: 27.2s\n",
            "88:\tlearn: 0.9946635\ttotal: 2.66s\tremaining: 27.2s\n",
            "89:\tlearn: 0.9949146\ttotal: 2.69s\tremaining: 27.2s\n",
            "90:\tlearn: 0.9948518\ttotal: 2.72s\tremaining: 27.2s\n",
            "91:\tlearn: 0.9949774\ttotal: 2.75s\tremaining: 27.2s\n",
            "92:\tlearn: 0.9947891\ttotal: 2.78s\tremaining: 27.1s\n",
            "93:\tlearn: 0.9948518\ttotal: 2.81s\tremaining: 27.1s\n",
            "94:\tlearn: 0.9947891\ttotal: 2.84s\tremaining: 27s\n",
            "95:\tlearn: 0.9948518\ttotal: 2.86s\tremaining: 27s\n",
            "96:\tlearn: 0.9949774\ttotal: 2.89s\tremaining: 26.9s\n",
            "97:\tlearn: 0.9949774\ttotal: 2.92s\tremaining: 26.9s\n",
            "98:\tlearn: 0.9949774\ttotal: 2.95s\tremaining: 26.8s\n",
            "99:\tlearn: 0.9951030\ttotal: 2.98s\tremaining: 26.8s\n",
            "100:\tlearn: 0.9951030\ttotal: 3.01s\tremaining: 26.8s\n",
            "101:\tlearn: 0.9951030\ttotal: 3.04s\tremaining: 26.7s\n",
            "102:\tlearn: 0.9952285\ttotal: 3.07s\tremaining: 26.7s\n",
            "103:\tlearn: 0.9951657\ttotal: 3.1s\tremaining: 26.7s\n",
            "104:\tlearn: 0.9951657\ttotal: 3.12s\tremaining: 26.6s\n",
            "105:\tlearn: 0.9951657\ttotal: 3.15s\tremaining: 26.6s\n",
            "106:\tlearn: 0.9952285\ttotal: 3.18s\tremaining: 26.5s\n",
            "107:\tlearn: 0.9951657\ttotal: 3.21s\tremaining: 26.5s\n",
            "108:\tlearn: 0.9952913\ttotal: 3.24s\tremaining: 26.5s\n",
            "109:\tlearn: 0.9954797\ttotal: 3.27s\tremaining: 26.4s\n",
            "110:\tlearn: 0.9956052\ttotal: 3.29s\tremaining: 26.4s\n",
            "111:\tlearn: 0.9956680\ttotal: 3.32s\tremaining: 26.3s\n",
            "112:\tlearn: 0.9957308\ttotal: 3.35s\tremaining: 26.3s\n",
            "113:\tlearn: 0.9957308\ttotal: 3.38s\tremaining: 26.2s\n",
            "114:\tlearn: 0.9956680\ttotal: 3.41s\tremaining: 26.2s\n",
            "115:\tlearn: 0.9959191\ttotal: 3.44s\tremaining: 26.2s\n",
            "116:\tlearn: 0.9959191\ttotal: 3.47s\tremaining: 26.2s\n",
            "117:\tlearn: 0.9958564\ttotal: 3.5s\tremaining: 26.1s\n",
            "118:\tlearn: 0.9958564\ttotal: 3.53s\tremaining: 26.2s\n",
            "119:\tlearn: 0.9958564\ttotal: 3.56s\tremaining: 26.1s\n",
            "120:\tlearn: 0.9958564\ttotal: 3.59s\tremaining: 26.1s\n",
            "121:\tlearn: 0.9957308\ttotal: 3.62s\tremaining: 26.1s\n",
            "122:\tlearn: 0.9956052\ttotal: 3.65s\tremaining: 26s\n",
            "123:\tlearn: 0.9958564\ttotal: 3.67s\tremaining: 26s\n",
            "124:\tlearn: 0.9957936\ttotal: 3.7s\tremaining: 25.9s\n",
            "125:\tlearn: 0.9959819\ttotal: 3.73s\tremaining: 25.9s\n",
            "126:\tlearn: 0.9960447\ttotal: 3.76s\tremaining: 25.8s\n",
            "127:\tlearn: 0.9959819\ttotal: 3.78s\tremaining: 25.8s\n",
            "128:\tlearn: 0.9959819\ttotal: 3.81s\tremaining: 25.7s\n",
            "129:\tlearn: 0.9961075\ttotal: 3.84s\tremaining: 25.7s\n",
            "130:\tlearn: 0.9962330\ttotal: 3.87s\tremaining: 25.7s\n",
            "131:\tlearn: 0.9962330\ttotal: 3.9s\tremaining: 25.6s\n",
            "132:\tlearn: 0.9962330\ttotal: 3.92s\tremaining: 25.6s\n",
            "133:\tlearn: 0.9962330\ttotal: 3.95s\tremaining: 25.6s\n",
            "134:\tlearn: 0.9961075\ttotal: 3.98s\tremaining: 25.5s\n",
            "135:\tlearn: 0.9962330\ttotal: 4.01s\tremaining: 25.5s\n",
            "136:\tlearn: 0.9962958\ttotal: 4.04s\tremaining: 25.4s\n",
            "137:\tlearn: 0.9964842\ttotal: 4.07s\tremaining: 25.4s\n",
            "138:\tlearn: 0.9965470\ttotal: 4.09s\tremaining: 25.4s\n",
            "139:\tlearn: 0.9965470\ttotal: 4.12s\tremaining: 25.3s\n",
            "140:\tlearn: 0.9965470\ttotal: 4.15s\tremaining: 25.3s\n",
            "141:\tlearn: 0.9967353\ttotal: 4.18s\tremaining: 25.2s\n",
            "142:\tlearn: 0.9966725\ttotal: 4.21s\tremaining: 25.2s\n",
            "143:\tlearn: 0.9967981\ttotal: 4.23s\tremaining: 25.2s\n",
            "144:\tlearn: 0.9967981\ttotal: 4.26s\tremaining: 25.1s\n",
            "145:\tlearn: 0.9967353\ttotal: 4.29s\tremaining: 25.1s\n",
            "146:\tlearn: 0.9967353\ttotal: 4.32s\tremaining: 25.1s\n",
            "147:\tlearn: 0.9967353\ttotal: 4.35s\tremaining: 25s\n",
            "148:\tlearn: 0.9967981\ttotal: 4.38s\tremaining: 25s\n",
            "149:\tlearn: 0.9968609\ttotal: 4.41s\tremaining: 25s\n",
            "150:\tlearn: 0.9970492\ttotal: 4.44s\tremaining: 24.9s\n",
            "151:\tlearn: 0.9969237\ttotal: 4.46s\tremaining: 24.9s\n",
            "152:\tlearn: 0.9969864\ttotal: 4.49s\tremaining: 24.9s\n",
            "153:\tlearn: 0.9971120\ttotal: 4.53s\tremaining: 24.9s\n",
            "154:\tlearn: 0.9971120\ttotal: 4.56s\tremaining: 24.9s\n",
            "155:\tlearn: 0.9973004\ttotal: 4.59s\tremaining: 24.8s\n",
            "156:\tlearn: 0.9973004\ttotal: 4.61s\tremaining: 24.8s\n",
            "157:\tlearn: 0.9973004\ttotal: 4.64s\tremaining: 24.7s\n",
            "158:\tlearn: 0.9973004\ttotal: 4.67s\tremaining: 24.7s\n",
            "159:\tlearn: 0.9973004\ttotal: 4.7s\tremaining: 24.7s\n",
            "160:\tlearn: 0.9972376\ttotal: 4.73s\tremaining: 24.6s\n",
            "161:\tlearn: 0.9973004\ttotal: 4.76s\tremaining: 24.6s\n",
            "162:\tlearn: 0.9973004\ttotal: 4.78s\tremaining: 24.6s\n",
            "163:\tlearn: 0.9971748\ttotal: 4.81s\tremaining: 24.5s\n",
            "164:\tlearn: 0.9973004\ttotal: 4.84s\tremaining: 24.5s\n",
            "165:\tlearn: 0.9973631\ttotal: 4.87s\tremaining: 24.5s\n",
            "166:\tlearn: 0.9972376\ttotal: 4.91s\tremaining: 24.5s\n",
            "167:\tlearn: 0.9972376\ttotal: 4.94s\tremaining: 24.5s\n",
            "168:\tlearn: 0.9973004\ttotal: 4.96s\tremaining: 24.4s\n",
            "169:\tlearn: 0.9973631\ttotal: 5s\tremaining: 24.4s\n",
            "170:\tlearn: 0.9974887\ttotal: 5.02s\tremaining: 24.4s\n",
            "171:\tlearn: 0.9974887\ttotal: 5.05s\tremaining: 24.3s\n",
            "172:\tlearn: 0.9975515\ttotal: 5.08s\tremaining: 24.3s\n",
            "173:\tlearn: 0.9976143\ttotal: 5.11s\tremaining: 24.2s\n",
            "174:\tlearn: 0.9975515\ttotal: 5.13s\tremaining: 24.2s\n",
            "175:\tlearn: 0.9975515\ttotal: 5.16s\tremaining: 24.2s\n",
            "176:\tlearn: 0.9975515\ttotal: 5.19s\tremaining: 24.1s\n",
            "177:\tlearn: 0.9976143\ttotal: 5.22s\tremaining: 24.1s\n",
            "178:\tlearn: 0.9976143\ttotal: 5.24s\tremaining: 24.1s\n",
            "179:\tlearn: 0.9976143\ttotal: 5.27s\tremaining: 24s\n",
            "180:\tlearn: 0.9976143\ttotal: 5.3s\tremaining: 24s\n",
            "181:\tlearn: 0.9976770\ttotal: 5.34s\tremaining: 24s\n",
            "182:\tlearn: 0.9977398\ttotal: 5.37s\tremaining: 24s\n",
            "183:\tlearn: 0.9978026\ttotal: 5.39s\tremaining: 23.9s\n",
            "184:\tlearn: 0.9978026\ttotal: 5.42s\tremaining: 23.9s\n",
            "185:\tlearn: 0.9978026\ttotal: 5.45s\tremaining: 23.8s\n",
            "186:\tlearn: 0.9977398\ttotal: 5.48s\tremaining: 23.8s\n",
            "187:\tlearn: 0.9977398\ttotal: 5.5s\tremaining: 23.8s\n",
            "188:\tlearn: 0.9977398\ttotal: 5.54s\tremaining: 23.8s\n",
            "189:\tlearn: 0.9977398\ttotal: 5.57s\tremaining: 23.8s\n",
            "190:\tlearn: 0.9978026\ttotal: 5.6s\tremaining: 23.7s\n",
            "191:\tlearn: 0.9978026\ttotal: 5.63s\tremaining: 23.7s\n",
            "192:\tlearn: 0.9977398\ttotal: 5.65s\tremaining: 23.6s\n",
            "193:\tlearn: 0.9977398\ttotal: 5.68s\tremaining: 23.6s\n",
            "194:\tlearn: 0.9977398\ttotal: 5.7s\tremaining: 23.5s\n",
            "195:\tlearn: 0.9978654\ttotal: 5.73s\tremaining: 23.5s\n",
            "196:\tlearn: 0.9978654\ttotal: 5.76s\tremaining: 23.5s\n",
            "197:\tlearn: 0.9978654\ttotal: 5.79s\tremaining: 23.5s\n",
            "198:\tlearn: 0.9978654\ttotal: 5.82s\tremaining: 23.4s\n",
            "199:\tlearn: 0.9978654\ttotal: 5.85s\tremaining: 23.4s\n",
            "200:\tlearn: 0.9978654\ttotal: 5.88s\tremaining: 23.4s\n",
            "201:\tlearn: 0.9978654\ttotal: 5.9s\tremaining: 23.3s\n",
            "202:\tlearn: 0.9978026\ttotal: 5.93s\tremaining: 23.3s\n",
            "203:\tlearn: 0.9978026\ttotal: 5.96s\tremaining: 23.3s\n",
            "204:\tlearn: 0.9979910\ttotal: 5.99s\tremaining: 23.2s\n",
            "205:\tlearn: 0.9979910\ttotal: 6.02s\tremaining: 23.2s\n",
            "206:\tlearn: 0.9979910\ttotal: 6.05s\tremaining: 23.2s\n",
            "207:\tlearn: 0.9979910\ttotal: 6.07s\tremaining: 23.1s\n",
            "208:\tlearn: 0.9979910\ttotal: 6.1s\tremaining: 23.1s\n",
            "209:\tlearn: 0.9979282\ttotal: 6.13s\tremaining: 23.1s\n",
            "210:\tlearn: 0.9979282\ttotal: 6.16s\tremaining: 23s\n",
            "211:\tlearn: 0.9979910\ttotal: 6.19s\tremaining: 23s\n",
            "212:\tlearn: 0.9979910\ttotal: 6.22s\tremaining: 23s\n",
            "213:\tlearn: 0.9979282\ttotal: 6.25s\tremaining: 23s\n",
            "214:\tlearn: 0.9979282\ttotal: 6.28s\tremaining: 22.9s\n",
            "215:\tlearn: 0.9981165\ttotal: 6.31s\tremaining: 22.9s\n",
            "216:\tlearn: 0.9981165\ttotal: 6.33s\tremaining: 22.9s\n",
            "217:\tlearn: 0.9980537\ttotal: 6.36s\tremaining: 22.8s\n",
            "218:\tlearn: 0.9980537\ttotal: 6.39s\tremaining: 22.8s\n",
            "219:\tlearn: 0.9981165\ttotal: 6.42s\tremaining: 22.8s\n",
            "220:\tlearn: 0.9981793\ttotal: 6.45s\tremaining: 22.7s\n",
            "221:\tlearn: 0.9980537\ttotal: 6.48s\tremaining: 22.7s\n",
            "222:\tlearn: 0.9981165\ttotal: 6.51s\tremaining: 22.7s\n",
            "223:\tlearn: 0.9981793\ttotal: 6.54s\tremaining: 22.7s\n",
            "224:\tlearn: 0.9982421\ttotal: 6.57s\tremaining: 22.6s\n",
            "225:\tlearn: 0.9981793\ttotal: 6.6s\tremaining: 22.6s\n",
            "226:\tlearn: 0.9982421\ttotal: 6.63s\tremaining: 22.6s\n",
            "227:\tlearn: 0.9981793\ttotal: 6.65s\tremaining: 22.5s\n",
            "228:\tlearn: 0.9981793\ttotal: 6.68s\tremaining: 22.5s\n",
            "229:\tlearn: 0.9983049\ttotal: 6.71s\tremaining: 22.5s\n",
            "230:\tlearn: 0.9983677\ttotal: 6.74s\tremaining: 22.4s\n",
            "231:\tlearn: 0.9983049\ttotal: 6.76s\tremaining: 22.4s\n",
            "232:\tlearn: 0.9982421\ttotal: 6.79s\tremaining: 22.4s\n",
            "233:\tlearn: 0.9982421\ttotal: 6.82s\tremaining: 22.3s\n",
            "234:\tlearn: 0.9984304\ttotal: 6.84s\tremaining: 22.3s\n",
            "235:\tlearn: 0.9984304\ttotal: 6.87s\tremaining: 22.2s\n",
            "236:\tlearn: 0.9983677\ttotal: 6.9s\tremaining: 22.2s\n",
            "237:\tlearn: 0.9983677\ttotal: 6.93s\tremaining: 22.2s\n",
            "238:\tlearn: 0.9983677\ttotal: 6.96s\tremaining: 22.2s\n",
            "239:\tlearn: 0.9983677\ttotal: 7s\tremaining: 22.2s\n",
            "240:\tlearn: 0.9983677\ttotal: 7.03s\tremaining: 22.1s\n",
            "241:\tlearn: 0.9983677\ttotal: 7.05s\tremaining: 22.1s\n",
            "242:\tlearn: 0.9983049\ttotal: 7.08s\tremaining: 22.1s\n",
            "243:\tlearn: 0.9983049\ttotal: 7.11s\tremaining: 22s\n",
            "244:\tlearn: 0.9983677\ttotal: 7.14s\tremaining: 22s\n",
            "245:\tlearn: 0.9983677\ttotal: 7.17s\tremaining: 22s\n",
            "246:\tlearn: 0.9983677\ttotal: 7.2s\tremaining: 21.9s\n",
            "247:\tlearn: 0.9983677\ttotal: 7.22s\tremaining: 21.9s\n",
            "248:\tlearn: 0.9984304\ttotal: 7.25s\tremaining: 21.9s\n",
            "249:\tlearn: 0.9984304\ttotal: 7.28s\tremaining: 21.8s\n",
            "250:\tlearn: 0.9984932\ttotal: 7.3s\tremaining: 21.8s\n",
            "251:\tlearn: 0.9984932\ttotal: 7.34s\tremaining: 21.8s\n",
            "252:\tlearn: 0.9986816\ttotal: 7.37s\tremaining: 21.8s\n",
            "253:\tlearn: 0.9986816\ttotal: 7.39s\tremaining: 21.7s\n",
            "254:\tlearn: 0.9986816\ttotal: 7.42s\tremaining: 21.7s\n",
            "255:\tlearn: 0.9985560\ttotal: 7.45s\tremaining: 21.7s\n",
            "256:\tlearn: 0.9987443\ttotal: 7.48s\tremaining: 21.6s\n",
            "257:\tlearn: 0.9986816\ttotal: 7.51s\tremaining: 21.6s\n",
            "258:\tlearn: 0.9986816\ttotal: 7.55s\tremaining: 21.6s\n",
            "259:\tlearn: 0.9986188\ttotal: 7.58s\tremaining: 21.6s\n",
            "260:\tlearn: 0.9986188\ttotal: 7.61s\tremaining: 21.5s\n",
            "261:\tlearn: 0.9986816\ttotal: 7.64s\tremaining: 21.5s\n",
            "262:\tlearn: 0.9987443\ttotal: 7.67s\tremaining: 21.5s\n",
            "263:\tlearn: 0.9986816\ttotal: 7.7s\tremaining: 21.5s\n",
            "264:\tlearn: 0.9986816\ttotal: 7.73s\tremaining: 21.4s\n",
            "265:\tlearn: 0.9986188\ttotal: 7.76s\tremaining: 21.4s\n",
            "266:\tlearn: 0.9986816\ttotal: 7.79s\tremaining: 21.4s\n",
            "267:\tlearn: 0.9986816\ttotal: 7.82s\tremaining: 21.4s\n",
            "268:\tlearn: 0.9986816\ttotal: 7.84s\tremaining: 21.3s\n",
            "269:\tlearn: 0.9986816\ttotal: 7.87s\tremaining: 21.3s\n",
            "270:\tlearn: 0.9986816\ttotal: 7.9s\tremaining: 21.2s\n",
            "271:\tlearn: 0.9987443\ttotal: 7.92s\tremaining: 21.2s\n",
            "272:\tlearn: 0.9987443\ttotal: 7.95s\tremaining: 21.2s\n",
            "273:\tlearn: 0.9987443\ttotal: 7.98s\tremaining: 21.2s\n",
            "274:\tlearn: 0.9987443\ttotal: 8.01s\tremaining: 21.1s\n",
            "275:\tlearn: 0.9987443\ttotal: 8.04s\tremaining: 21.1s\n",
            "276:\tlearn: 0.9987443\ttotal: 8.07s\tremaining: 21.1s\n",
            "277:\tlearn: 0.9988071\ttotal: 8.1s\tremaining: 21s\n",
            "278:\tlearn: 0.9988071\ttotal: 8.12s\tremaining: 21s\n",
            "279:\tlearn: 0.9988071\ttotal: 8.15s\tremaining: 21s\n",
            "280:\tlearn: 0.9987443\ttotal: 8.18s\tremaining: 20.9s\n",
            "281:\tlearn: 0.9989955\ttotal: 8.21s\tremaining: 20.9s\n",
            "282:\tlearn: 0.9988699\ttotal: 8.24s\tremaining: 20.9s\n",
            "283:\tlearn: 0.9989327\ttotal: 8.27s\tremaining: 20.8s\n",
            "284:\tlearn: 0.9989327\ttotal: 8.29s\tremaining: 20.8s\n",
            "285:\tlearn: 0.9989955\ttotal: 8.32s\tremaining: 20.8s\n",
            "286:\tlearn: 0.9990583\ttotal: 8.35s\tremaining: 20.7s\n",
            "287:\tlearn: 0.9989955\ttotal: 8.38s\tremaining: 20.7s\n",
            "288:\tlearn: 0.9989955\ttotal: 8.42s\tremaining: 20.7s\n",
            "289:\tlearn: 0.9989955\ttotal: 8.45s\tremaining: 20.7s\n",
            "290:\tlearn: 0.9991210\ttotal: 8.47s\tremaining: 20.6s\n",
            "291:\tlearn: 0.9991210\ttotal: 8.5s\tremaining: 20.6s\n",
            "292:\tlearn: 0.9990583\ttotal: 8.53s\tremaining: 20.6s\n",
            "293:\tlearn: 0.9990583\ttotal: 8.56s\tremaining: 20.6s\n",
            "294:\tlearn: 0.9991210\ttotal: 8.59s\tremaining: 20.5s\n",
            "295:\tlearn: 0.9991210\ttotal: 8.61s\tremaining: 20.5s\n",
            "296:\tlearn: 0.9992466\ttotal: 8.64s\tremaining: 20.5s\n",
            "297:\tlearn: 0.9992466\ttotal: 8.67s\tremaining: 20.4s\n",
            "298:\tlearn: 0.9992466\ttotal: 8.7s\tremaining: 20.4s\n",
            "299:\tlearn: 0.9992466\ttotal: 8.73s\tremaining: 20.4s\n",
            "300:\tlearn: 0.9993094\ttotal: 8.76s\tremaining: 20.3s\n",
            "301:\tlearn: 0.9993094\ttotal: 8.79s\tremaining: 20.3s\n",
            "302:\tlearn: 0.9993094\ttotal: 8.82s\tremaining: 20.3s\n",
            "303:\tlearn: 0.9993722\ttotal: 8.86s\tremaining: 20.3s\n",
            "304:\tlearn: 0.9993722\ttotal: 8.89s\tremaining: 20.3s\n",
            "305:\tlearn: 0.9993722\ttotal: 8.92s\tremaining: 20.2s\n",
            "306:\tlearn: 0.9993722\ttotal: 8.94s\tremaining: 20.2s\n",
            "307:\tlearn: 0.9994350\ttotal: 8.97s\tremaining: 20.2s\n",
            "308:\tlearn: 0.9994350\ttotal: 9s\tremaining: 20.1s\n",
            "309:\tlearn: 0.9994350\ttotal: 9.03s\tremaining: 20.1s\n",
            "310:\tlearn: 0.9994350\ttotal: 9.06s\tremaining: 20.1s\n",
            "311:\tlearn: 0.9994350\ttotal: 9.09s\tremaining: 20s\n",
            "312:\tlearn: 0.9994350\ttotal: 9.11s\tremaining: 20s\n",
            "313:\tlearn: 0.9994977\ttotal: 9.14s\tremaining: 20s\n",
            "314:\tlearn: 0.9994977\ttotal: 9.16s\tremaining: 19.9s\n",
            "315:\tlearn: 0.9994977\ttotal: 9.19s\tremaining: 19.9s\n",
            "316:\tlearn: 0.9994977\ttotal: 9.22s\tremaining: 19.9s\n",
            "317:\tlearn: 0.9994977\ttotal: 9.25s\tremaining: 19.8s\n",
            "318:\tlearn: 0.9994350\ttotal: 9.28s\tremaining: 19.8s\n",
            "319:\tlearn: 0.9994977\ttotal: 9.31s\tremaining: 19.8s\n",
            "320:\tlearn: 0.9994350\ttotal: 9.34s\tremaining: 19.7s\n",
            "321:\tlearn: 0.9994350\ttotal: 9.37s\tremaining: 19.7s\n",
            "322:\tlearn: 0.9994977\ttotal: 9.4s\tremaining: 19.7s\n",
            "323:\tlearn: 0.9994977\ttotal: 9.42s\tremaining: 19.7s\n",
            "324:\tlearn: 0.9994977\ttotal: 9.45s\tremaining: 19.6s\n",
            "325:\tlearn: 0.9994977\ttotal: 9.48s\tremaining: 19.6s\n",
            "326:\tlearn: 0.9994977\ttotal: 9.51s\tremaining: 19.6s\n",
            "327:\tlearn: 0.9994977\ttotal: 9.55s\tremaining: 19.6s\n",
            "328:\tlearn: 0.9994977\ttotal: 9.57s\tremaining: 19.5s\n",
            "329:\tlearn: 0.9994977\ttotal: 9.6s\tremaining: 19.5s\n",
            "330:\tlearn: 0.9994977\ttotal: 9.62s\tremaining: 19.5s\n",
            "331:\tlearn: 0.9994350\ttotal: 9.65s\tremaining: 19.4s\n",
            "332:\tlearn: 0.9994350\ttotal: 9.68s\tremaining: 19.4s\n",
            "333:\tlearn: 0.9993722\ttotal: 9.71s\tremaining: 19.4s\n",
            "334:\tlearn: 0.9994350\ttotal: 9.74s\tremaining: 19.3s\n",
            "335:\tlearn: 0.9994350\ttotal: 9.78s\tremaining: 19.3s\n",
            "336:\tlearn: 0.9994350\ttotal: 9.8s\tremaining: 19.3s\n",
            "337:\tlearn: 0.9993722\ttotal: 9.83s\tremaining: 19.3s\n",
            "338:\tlearn: 0.9993722\ttotal: 9.86s\tremaining: 19.2s\n",
            "339:\tlearn: 0.9993722\ttotal: 9.89s\tremaining: 19.2s\n",
            "340:\tlearn: 0.9993722\ttotal: 9.92s\tremaining: 19.2s\n",
            "341:\tlearn: 0.9993722\ttotal: 9.95s\tremaining: 19.1s\n",
            "342:\tlearn: 0.9993722\ttotal: 9.97s\tremaining: 19.1s\n",
            "343:\tlearn: 0.9993722\ttotal: 10s\tremaining: 19.1s\n",
            "344:\tlearn: 0.9993722\ttotal: 10s\tremaining: 19s\n",
            "345:\tlearn: 0.9994350\ttotal: 10.1s\tremaining: 19s\n",
            "346:\tlearn: 0.9994350\ttotal: 10.1s\tremaining: 19s\n",
            "347:\tlearn: 0.9994350\ttotal: 10.1s\tremaining: 19s\n",
            "348:\tlearn: 0.9994350\ttotal: 10.1s\tremaining: 18.9s\n",
            "349:\tlearn: 0.9994350\ttotal: 10.2s\tremaining: 18.9s\n",
            "350:\tlearn: 0.9995605\ttotal: 10.2s\tremaining: 18.9s\n",
            "351:\tlearn: 0.9996233\ttotal: 10.2s\tremaining: 18.8s\n",
            "352:\tlearn: 0.9996233\ttotal: 10.3s\tremaining: 18.8s\n",
            "353:\tlearn: 0.9996233\ttotal: 10.3s\tremaining: 18.8s\n",
            "354:\tlearn: 0.9996233\ttotal: 10.3s\tremaining: 18.7s\n",
            "355:\tlearn: 0.9996233\ttotal: 10.3s\tremaining: 18.7s\n",
            "356:\tlearn: 0.9995605\ttotal: 10.4s\tremaining: 18.7s\n",
            "357:\tlearn: 0.9995605\ttotal: 10.4s\tremaining: 18.6s\n",
            "358:\tlearn: 0.9995605\ttotal: 10.4s\tremaining: 18.6s\n",
            "359:\tlearn: 0.9996233\ttotal: 10.5s\tremaining: 18.6s\n",
            "360:\tlearn: 0.9996233\ttotal: 10.5s\tremaining: 18.6s\n",
            "361:\tlearn: 0.9996233\ttotal: 10.5s\tremaining: 18.5s\n",
            "362:\tlearn: 0.9996233\ttotal: 10.5s\tremaining: 18.5s\n",
            "363:\tlearn: 0.9996233\ttotal: 10.6s\tremaining: 18.5s\n",
            "364:\tlearn: 0.9996233\ttotal: 10.6s\tremaining: 18.5s\n",
            "365:\tlearn: 0.9996233\ttotal: 10.6s\tremaining: 18.4s\n",
            "366:\tlearn: 0.9996233\ttotal: 10.7s\tremaining: 18.4s\n",
            "367:\tlearn: 0.9996233\ttotal: 10.7s\tremaining: 18.4s\n",
            "368:\tlearn: 0.9996233\ttotal: 10.7s\tremaining: 18.3s\n",
            "369:\tlearn: 0.9995605\ttotal: 10.8s\tremaining: 18.3s\n",
            "370:\tlearn: 0.9995605\ttotal: 10.8s\tremaining: 18.3s\n",
            "371:\tlearn: 0.9995605\ttotal: 10.8s\tremaining: 18.3s\n",
            "372:\tlearn: 0.9995605\ttotal: 10.8s\tremaining: 18.2s\n",
            "373:\tlearn: 0.9995605\ttotal: 10.9s\tremaining: 18.2s\n",
            "374:\tlearn: 0.9996233\ttotal: 10.9s\tremaining: 18.2s\n",
            "375:\tlearn: 0.9996233\ttotal: 10.9s\tremaining: 18.1s\n",
            "376:\tlearn: 0.9995605\ttotal: 11s\tremaining: 18.1s\n",
            "377:\tlearn: 0.9995605\ttotal: 11s\tremaining: 18.1s\n",
            "378:\tlearn: 0.9995605\ttotal: 11s\tremaining: 18.1s\n",
            "379:\tlearn: 0.9995605\ttotal: 11.1s\tremaining: 18s\n",
            "380:\tlearn: 0.9995605\ttotal: 11.1s\tremaining: 18s\n",
            "381:\tlearn: 0.9995605\ttotal: 11.1s\tremaining: 18s\n",
            "382:\tlearn: 0.9995605\ttotal: 11.1s\tremaining: 17.9s\n",
            "383:\tlearn: 0.9995605\ttotal: 11.2s\tremaining: 17.9s\n",
            "384:\tlearn: 0.9995605\ttotal: 11.2s\tremaining: 17.9s\n",
            "385:\tlearn: 0.9995605\ttotal: 11.2s\tremaining: 17.9s\n",
            "386:\tlearn: 0.9995605\ttotal: 11.3s\tremaining: 17.8s\n",
            "387:\tlearn: 0.9995605\ttotal: 11.3s\tremaining: 17.8s\n",
            "388:\tlearn: 0.9995605\ttotal: 11.3s\tremaining: 17.8s\n",
            "389:\tlearn: 0.9995605\ttotal: 11.3s\tremaining: 17.7s\n",
            "390:\tlearn: 0.9995605\ttotal: 11.4s\tremaining: 17.7s\n",
            "391:\tlearn: 0.9995605\ttotal: 11.4s\tremaining: 17.7s\n",
            "392:\tlearn: 0.9995605\ttotal: 11.4s\tremaining: 17.6s\n",
            "393:\tlearn: 0.9995605\ttotal: 11.5s\tremaining: 17.6s\n",
            "394:\tlearn: 0.9995605\ttotal: 11.5s\tremaining: 17.6s\n",
            "395:\tlearn: 0.9995605\ttotal: 11.5s\tremaining: 17.5s\n",
            "396:\tlearn: 0.9995605\ttotal: 11.5s\tremaining: 17.5s\n",
            "397:\tlearn: 0.9995605\ttotal: 11.6s\tremaining: 17.5s\n",
            "398:\tlearn: 0.9995605\ttotal: 11.6s\tremaining: 17.5s\n",
            "399:\tlearn: 0.9995605\ttotal: 11.6s\tremaining: 17.4s\n",
            "400:\tlearn: 0.9995605\ttotal: 11.7s\tremaining: 17.4s\n",
            "401:\tlearn: 0.9995605\ttotal: 11.7s\tremaining: 17.4s\n",
            "402:\tlearn: 0.9995605\ttotal: 11.7s\tremaining: 17.4s\n",
            "403:\tlearn: 0.9995605\ttotal: 11.8s\tremaining: 17.3s\n",
            "404:\tlearn: 0.9995605\ttotal: 11.8s\tremaining: 17.3s\n",
            "405:\tlearn: 0.9995605\ttotal: 11.8s\tremaining: 17.3s\n",
            "406:\tlearn: 0.9995605\ttotal: 11.8s\tremaining: 17.2s\n",
            "407:\tlearn: 0.9995605\ttotal: 11.9s\tremaining: 17.2s\n",
            "408:\tlearn: 0.9995605\ttotal: 11.9s\tremaining: 17.2s\n",
            "409:\tlearn: 0.9995605\ttotal: 11.9s\tremaining: 17.2s\n",
            "410:\tlearn: 0.9995605\ttotal: 11.9s\tremaining: 17.1s\n",
            "411:\tlearn: 0.9995605\ttotal: 12s\tremaining: 17.1s\n",
            "412:\tlearn: 0.9995605\ttotal: 12s\tremaining: 17.1s\n",
            "413:\tlearn: 0.9995605\ttotal: 12s\tremaining: 17s\n",
            "414:\tlearn: 0.9995605\ttotal: 12.1s\tremaining: 17s\n",
            "415:\tlearn: 0.9995605\ttotal: 12.1s\tremaining: 17s\n",
            "416:\tlearn: 0.9995605\ttotal: 12.1s\tremaining: 16.9s\n",
            "417:\tlearn: 0.9995605\ttotal: 12.2s\tremaining: 16.9s\n",
            "418:\tlearn: 0.9995605\ttotal: 12.2s\tremaining: 16.9s\n",
            "419:\tlearn: 0.9995605\ttotal: 12.2s\tremaining: 16.9s\n",
            "420:\tlearn: 0.9995605\ttotal: 12.2s\tremaining: 16.8s\n",
            "421:\tlearn: 0.9995605\ttotal: 12.3s\tremaining: 16.8s\n",
            "422:\tlearn: 0.9995605\ttotal: 12.3s\tremaining: 16.8s\n",
            "423:\tlearn: 0.9995605\ttotal: 12.3s\tremaining: 16.7s\n",
            "424:\tlearn: 0.9995605\ttotal: 12.3s\tremaining: 16.7s\n",
            "425:\tlearn: 0.9995605\ttotal: 12.4s\tremaining: 16.7s\n",
            "426:\tlearn: 0.9995605\ttotal: 12.4s\tremaining: 16.7s\n",
            "427:\tlearn: 0.9995605\ttotal: 12.4s\tremaining: 16.6s\n",
            "428:\tlearn: 0.9995605\ttotal: 12.5s\tremaining: 16.6s\n",
            "429:\tlearn: 0.9995605\ttotal: 12.5s\tremaining: 16.6s\n",
            "430:\tlearn: 0.9995605\ttotal: 12.5s\tremaining: 16.5s\n",
            "431:\tlearn: 0.9995605\ttotal: 12.6s\tremaining: 16.5s\n",
            "432:\tlearn: 0.9995605\ttotal: 12.6s\tremaining: 16.5s\n",
            "433:\tlearn: 0.9995605\ttotal: 12.6s\tremaining: 16.5s\n",
            "434:\tlearn: 0.9995605\ttotal: 12.6s\tremaining: 16.4s\n",
            "435:\tlearn: 0.9995605\ttotal: 12.7s\tremaining: 16.4s\n",
            "436:\tlearn: 0.9995605\ttotal: 12.7s\tremaining: 16.4s\n",
            "437:\tlearn: 0.9995605\ttotal: 12.7s\tremaining: 16.3s\n",
            "438:\tlearn: 0.9995605\ttotal: 12.8s\tremaining: 16.3s\n",
            "439:\tlearn: 0.9995605\ttotal: 12.8s\tremaining: 16.3s\n",
            "440:\tlearn: 0.9995605\ttotal: 12.8s\tremaining: 16.2s\n",
            "441:\tlearn: 0.9995605\ttotal: 12.8s\tremaining: 16.2s\n",
            "442:\tlearn: 0.9995605\ttotal: 12.9s\tremaining: 16.2s\n",
            "443:\tlearn: 0.9995605\ttotal: 12.9s\tremaining: 16.2s\n",
            "444:\tlearn: 0.9995605\ttotal: 12.9s\tremaining: 16.1s\n",
            "445:\tlearn: 0.9995605\ttotal: 13s\tremaining: 16.1s\n",
            "446:\tlearn: 0.9995605\ttotal: 13s\tremaining: 16.1s\n",
            "447:\tlearn: 0.9995605\ttotal: 13s\tremaining: 16s\n",
            "448:\tlearn: 0.9995605\ttotal: 13s\tremaining: 16s\n",
            "449:\tlearn: 0.9995605\ttotal: 13.1s\tremaining: 16s\n",
            "450:\tlearn: 0.9995605\ttotal: 13.1s\tremaining: 15.9s\n",
            "451:\tlearn: 0.9995605\ttotal: 13.1s\tremaining: 15.9s\n",
            "452:\tlearn: 0.9995605\ttotal: 13.2s\tremaining: 15.9s\n",
            "453:\tlearn: 0.9995605\ttotal: 13.2s\tremaining: 15.9s\n",
            "454:\tlearn: 0.9995605\ttotal: 13.2s\tremaining: 15.8s\n",
            "455:\tlearn: 0.9995605\ttotal: 13.2s\tremaining: 15.8s\n",
            "456:\tlearn: 0.9995605\ttotal: 13.3s\tremaining: 15.8s\n",
            "457:\tlearn: 0.9995605\ttotal: 13.3s\tremaining: 15.7s\n",
            "458:\tlearn: 0.9995605\ttotal: 13.3s\tremaining: 15.7s\n",
            "459:\tlearn: 0.9995605\ttotal: 13.3s\tremaining: 15.7s\n",
            "460:\tlearn: 0.9995605\ttotal: 13.4s\tremaining: 15.6s\n",
            "461:\tlearn: 0.9996233\ttotal: 13.4s\tremaining: 15.6s\n",
            "462:\tlearn: 0.9996233\ttotal: 13.4s\tremaining: 15.6s\n",
            "463:\tlearn: 0.9996233\ttotal: 13.5s\tremaining: 15.6s\n",
            "464:\tlearn: 0.9996233\ttotal: 13.5s\tremaining: 15.5s\n",
            "465:\tlearn: 0.9996233\ttotal: 13.5s\tremaining: 15.5s\n",
            "466:\tlearn: 0.9996233\ttotal: 13.6s\tremaining: 15.5s\n",
            "467:\tlearn: 0.9996861\ttotal: 13.6s\tremaining: 15.4s\n",
            "468:\tlearn: 0.9996861\ttotal: 13.6s\tremaining: 15.4s\n",
            "469:\tlearn: 0.9996861\ttotal: 13.6s\tremaining: 15.4s\n",
            "470:\tlearn: 0.9996861\ttotal: 13.7s\tremaining: 15.4s\n",
            "471:\tlearn: 0.9996233\ttotal: 13.7s\tremaining: 15.3s\n",
            "472:\tlearn: 0.9996233\ttotal: 13.7s\tremaining: 15.3s\n",
            "473:\tlearn: 0.9996233\ttotal: 13.8s\tremaining: 15.3s\n",
            "474:\tlearn: 0.9996861\ttotal: 13.8s\tremaining: 15.2s\n",
            "475:\tlearn: 0.9996233\ttotal: 13.8s\tremaining: 15.2s\n",
            "476:\tlearn: 0.9996233\ttotal: 13.8s\tremaining: 15.2s\n",
            "477:\tlearn: 0.9996233\ttotal: 13.9s\tremaining: 15.1s\n",
            "478:\tlearn: 0.9996861\ttotal: 13.9s\tremaining: 15.1s\n",
            "479:\tlearn: 0.9996861\ttotal: 13.9s\tremaining: 15.1s\n",
            "480:\tlearn: 0.9996861\ttotal: 14s\tremaining: 15.1s\n",
            "481:\tlearn: 0.9996861\ttotal: 14s\tremaining: 15s\n",
            "482:\tlearn: 0.9996861\ttotal: 14s\tremaining: 15s\n",
            "483:\tlearn: 0.9996233\ttotal: 14.1s\tremaining: 15s\n",
            "484:\tlearn: 0.9996233\ttotal: 14.1s\tremaining: 15s\n",
            "485:\tlearn: 0.9996233\ttotal: 14.1s\tremaining: 14.9s\n",
            "486:\tlearn: 0.9996233\ttotal: 14.1s\tremaining: 14.9s\n",
            "487:\tlearn: 0.9996861\ttotal: 14.2s\tremaining: 14.9s\n",
            "488:\tlearn: 0.9996861\ttotal: 14.2s\tremaining: 14.8s\n",
            "489:\tlearn: 0.9996861\ttotal: 14.2s\tremaining: 14.8s\n",
            "490:\tlearn: 0.9996861\ttotal: 14.3s\tremaining: 14.8s\n",
            "491:\tlearn: 0.9996861\ttotal: 14.3s\tremaining: 14.7s\n",
            "492:\tlearn: 0.9996861\ttotal: 14.3s\tremaining: 14.7s\n",
            "493:\tlearn: 0.9996861\ttotal: 14.3s\tremaining: 14.7s\n",
            "494:\tlearn: 0.9996861\ttotal: 14.4s\tremaining: 14.7s\n",
            "495:\tlearn: 0.9997489\ttotal: 14.4s\tremaining: 14.6s\n",
            "496:\tlearn: 0.9997489\ttotal: 14.4s\tremaining: 14.6s\n",
            "497:\tlearn: 0.9996861\ttotal: 14.4s\tremaining: 14.6s\n",
            "498:\tlearn: 0.9997489\ttotal: 14.5s\tremaining: 14.5s\n",
            "499:\tlearn: 0.9997489\ttotal: 14.5s\tremaining: 14.5s\n",
            "500:\tlearn: 0.9997489\ttotal: 14.5s\tremaining: 14.5s\n",
            "501:\tlearn: 0.9996861\ttotal: 14.6s\tremaining: 14.5s\n",
            "502:\tlearn: 0.9996861\ttotal: 14.6s\tremaining: 14.4s\n",
            "503:\tlearn: 0.9997489\ttotal: 14.6s\tremaining: 14.4s\n",
            "504:\tlearn: 0.9997489\ttotal: 14.7s\tremaining: 14.4s\n",
            "505:\tlearn: 0.9997489\ttotal: 14.7s\tremaining: 14.3s\n",
            "506:\tlearn: 0.9997489\ttotal: 14.7s\tremaining: 14.3s\n",
            "507:\tlearn: 0.9997489\ttotal: 14.7s\tremaining: 14.3s\n",
            "508:\tlearn: 0.9997489\ttotal: 14.8s\tremaining: 14.2s\n",
            "509:\tlearn: 0.9998117\ttotal: 14.8s\tremaining: 14.2s\n",
            "510:\tlearn: 0.9998117\ttotal: 14.8s\tremaining: 14.2s\n",
            "511:\tlearn: 0.9998117\ttotal: 14.9s\tremaining: 14.2s\n",
            "512:\tlearn: 0.9998117\ttotal: 14.9s\tremaining: 14.1s\n",
            "513:\tlearn: 0.9998117\ttotal: 14.9s\tremaining: 14.1s\n",
            "514:\tlearn: 0.9998117\ttotal: 14.9s\tremaining: 14.1s\n",
            "515:\tlearn: 0.9998117\ttotal: 15s\tremaining: 14s\n",
            "516:\tlearn: 0.9998117\ttotal: 15s\tremaining: 14s\n",
            "517:\tlearn: 0.9998117\ttotal: 15s\tremaining: 14s\n",
            "518:\tlearn: 0.9998744\ttotal: 15.1s\tremaining: 14s\n",
            "519:\tlearn: 0.9998117\ttotal: 15.1s\tremaining: 13.9s\n",
            "520:\tlearn: 0.9998117\ttotal: 15.1s\tremaining: 13.9s\n",
            "521:\tlearn: 0.9998744\ttotal: 15.1s\tremaining: 13.9s\n",
            "522:\tlearn: 0.9998744\ttotal: 15.2s\tremaining: 13.8s\n",
            "523:\tlearn: 0.9998744\ttotal: 15.2s\tremaining: 13.8s\n",
            "524:\tlearn: 0.9998744\ttotal: 15.2s\tremaining: 13.8s\n",
            "525:\tlearn: 0.9998744\ttotal: 15.3s\tremaining: 13.7s\n",
            "526:\tlearn: 0.9998744\ttotal: 15.3s\tremaining: 13.7s\n",
            "527:\tlearn: 0.9998744\ttotal: 15.3s\tremaining: 13.7s\n",
            "528:\tlearn: 0.9998744\ttotal: 15.3s\tremaining: 13.7s\n",
            "529:\tlearn: 0.9998744\ttotal: 15.4s\tremaining: 13.6s\n",
            "530:\tlearn: 0.9998744\ttotal: 15.4s\tremaining: 13.6s\n",
            "531:\tlearn: 0.9998744\ttotal: 15.4s\tremaining: 13.6s\n",
            "532:\tlearn: 0.9999372\ttotal: 15.5s\tremaining: 13.5s\n",
            "533:\tlearn: 0.9999372\ttotal: 15.5s\tremaining: 13.5s\n",
            "534:\tlearn: 0.9999372\ttotal: 15.5s\tremaining: 13.5s\n",
            "535:\tlearn: 0.9998744\ttotal: 15.5s\tremaining: 13.5s\n",
            "536:\tlearn: 0.9998117\ttotal: 15.6s\tremaining: 13.4s\n",
            "537:\tlearn: 0.9998117\ttotal: 15.6s\tremaining: 13.4s\n",
            "538:\tlearn: 0.9998117\ttotal: 15.6s\tremaining: 13.4s\n",
            "539:\tlearn: 0.9998744\ttotal: 15.7s\tremaining: 13.3s\n",
            "540:\tlearn: 0.9998117\ttotal: 15.7s\tremaining: 13.3s\n",
            "541:\tlearn: 0.9998117\ttotal: 15.7s\tremaining: 13.3s\n",
            "542:\tlearn: 0.9998117\ttotal: 15.8s\tremaining: 13.3s\n",
            "543:\tlearn: 0.9998744\ttotal: 15.8s\tremaining: 13.2s\n",
            "544:\tlearn: 0.9998744\ttotal: 15.8s\tremaining: 13.2s\n",
            "545:\tlearn: 0.9998744\ttotal: 15.8s\tremaining: 13.2s\n",
            "546:\tlearn: 0.9998744\ttotal: 15.9s\tremaining: 13.1s\n",
            "547:\tlearn: 0.9998744\ttotal: 15.9s\tremaining: 13.1s\n",
            "548:\tlearn: 0.9998744\ttotal: 15.9s\tremaining: 13.1s\n",
            "549:\tlearn: 0.9998744\ttotal: 16s\tremaining: 13.1s\n",
            "550:\tlearn: 0.9998744\ttotal: 16s\tremaining: 13s\n",
            "551:\tlearn: 0.9998117\ttotal: 16s\tremaining: 13s\n",
            "552:\tlearn: 0.9998117\ttotal: 16s\tremaining: 13s\n",
            "553:\tlearn: 0.9998117\ttotal: 16.1s\tremaining: 12.9s\n",
            "554:\tlearn: 0.9998117\ttotal: 16.1s\tremaining: 12.9s\n",
            "555:\tlearn: 0.9998117\ttotal: 16.1s\tremaining: 12.9s\n",
            "556:\tlearn: 0.9998117\ttotal: 16.2s\tremaining: 12.9s\n",
            "557:\tlearn: 0.9998117\ttotal: 16.2s\tremaining: 12.8s\n",
            "558:\tlearn: 0.9998117\ttotal: 16.2s\tremaining: 12.8s\n",
            "559:\tlearn: 0.9998117\ttotal: 16.2s\tremaining: 12.8s\n",
            "560:\tlearn: 0.9998117\ttotal: 16.3s\tremaining: 12.7s\n",
            "561:\tlearn: 0.9998744\ttotal: 16.3s\tremaining: 12.7s\n",
            "562:\tlearn: 0.9998744\ttotal: 16.3s\tremaining: 12.7s\n",
            "563:\tlearn: 0.9999372\ttotal: 16.4s\tremaining: 12.7s\n",
            "564:\tlearn: 0.9999372\ttotal: 16.4s\tremaining: 12.6s\n",
            "565:\tlearn: 0.9999372\ttotal: 16.4s\tremaining: 12.6s\n",
            "566:\tlearn: 0.9999372\ttotal: 16.5s\tremaining: 12.6s\n",
            "567:\tlearn: 0.9999372\ttotal: 16.5s\tremaining: 12.5s\n",
            "568:\tlearn: 0.9999372\ttotal: 16.5s\tremaining: 12.5s\n",
            "569:\tlearn: 0.9999372\ttotal: 16.5s\tremaining: 12.5s\n",
            "570:\tlearn: 0.9999372\ttotal: 16.6s\tremaining: 12.5s\n",
            "571:\tlearn: 0.9999372\ttotal: 16.6s\tremaining: 12.4s\n",
            "572:\tlearn: 0.9999372\ttotal: 16.6s\tremaining: 12.4s\n",
            "573:\tlearn: 0.9999372\ttotal: 16.7s\tremaining: 12.4s\n",
            "574:\tlearn: 0.9999372\ttotal: 16.7s\tremaining: 12.3s\n",
            "575:\tlearn: 0.9999372\ttotal: 16.7s\tremaining: 12.3s\n",
            "576:\tlearn: 0.9999372\ttotal: 16.7s\tremaining: 12.3s\n",
            "577:\tlearn: 0.9999372\ttotal: 16.8s\tremaining: 12.2s\n",
            "578:\tlearn: 0.9999372\ttotal: 16.8s\tremaining: 12.2s\n",
            "579:\tlearn: 0.9998744\ttotal: 16.8s\tremaining: 12.2s\n",
            "580:\tlearn: 0.9998744\ttotal: 16.9s\tremaining: 12.2s\n",
            "581:\tlearn: 0.9998744\ttotal: 16.9s\tremaining: 12.1s\n",
            "582:\tlearn: 0.9998744\ttotal: 16.9s\tremaining: 12.1s\n",
            "583:\tlearn: 0.9998744\ttotal: 16.9s\tremaining: 12.1s\n",
            "584:\tlearn: 0.9998744\ttotal: 17s\tremaining: 12s\n",
            "585:\tlearn: 0.9998744\ttotal: 17s\tremaining: 12s\n",
            "586:\tlearn: 0.9999372\ttotal: 17s\tremaining: 12s\n",
            "587:\tlearn: 0.9999372\ttotal: 17.1s\tremaining: 12s\n",
            "588:\tlearn: 0.9999372\ttotal: 17.1s\tremaining: 11.9s\n",
            "589:\tlearn: 0.9999372\ttotal: 17.1s\tremaining: 11.9s\n",
            "590:\tlearn: 0.9999372\ttotal: 17.1s\tremaining: 11.9s\n",
            "591:\tlearn: 0.9999372\ttotal: 17.2s\tremaining: 11.8s\n",
            "592:\tlearn: 0.9999372\ttotal: 17.2s\tremaining: 11.8s\n",
            "593:\tlearn: 0.9999372\ttotal: 17.2s\tremaining: 11.8s\n",
            "594:\tlearn: 0.9999372\ttotal: 17.3s\tremaining: 11.8s\n",
            "595:\tlearn: 0.9999372\ttotal: 17.3s\tremaining: 11.7s\n",
            "596:\tlearn: 0.9999372\ttotal: 17.3s\tremaining: 11.7s\n",
            "597:\tlearn: 0.9999372\ttotal: 17.3s\tremaining: 11.7s\n",
            "598:\tlearn: 0.9999372\ttotal: 17.4s\tremaining: 11.6s\n",
            "599:\tlearn: 0.9999372\ttotal: 17.4s\tremaining: 11.6s\n",
            "600:\tlearn: 0.9999372\ttotal: 17.4s\tremaining: 11.6s\n",
            "601:\tlearn: 0.9999372\ttotal: 17.5s\tremaining: 11.5s\n",
            "602:\tlearn: 0.9999372\ttotal: 17.5s\tremaining: 11.5s\n",
            "603:\tlearn: 0.9999372\ttotal: 17.5s\tremaining: 11.5s\n",
            "604:\tlearn: 0.9999372\ttotal: 17.6s\tremaining: 11.5s\n",
            "605:\tlearn: 0.9999372\ttotal: 17.6s\tremaining: 11.4s\n",
            "606:\tlearn: 0.9999372\ttotal: 17.6s\tremaining: 11.4s\n",
            "607:\tlearn: 0.9999372\ttotal: 17.7s\tremaining: 11.4s\n",
            "608:\tlearn: 0.9999372\ttotal: 17.7s\tremaining: 11.4s\n",
            "609:\tlearn: 0.9999372\ttotal: 17.7s\tremaining: 11.3s\n",
            "610:\tlearn: 0.9999372\ttotal: 17.7s\tremaining: 11.3s\n",
            "611:\tlearn: 0.9999372\ttotal: 17.8s\tremaining: 11.3s\n",
            "612:\tlearn: 0.9999372\ttotal: 17.8s\tremaining: 11.2s\n",
            "613:\tlearn: 0.9999372\ttotal: 17.8s\tremaining: 11.2s\n",
            "614:\tlearn: 0.9999372\ttotal: 17.9s\tremaining: 11.2s\n",
            "615:\tlearn: 0.9999372\ttotal: 17.9s\tremaining: 11.1s\n",
            "616:\tlearn: 0.9999372\ttotal: 17.9s\tremaining: 11.1s\n",
            "617:\tlearn: 0.9999372\ttotal: 17.9s\tremaining: 11.1s\n",
            "618:\tlearn: 0.9999372\ttotal: 18s\tremaining: 11.1s\n",
            "619:\tlearn: 0.9999372\ttotal: 18s\tremaining: 11s\n",
            "620:\tlearn: 0.9999372\ttotal: 18s\tremaining: 11s\n",
            "621:\tlearn: 0.9999372\ttotal: 18.1s\tremaining: 11s\n",
            "622:\tlearn: 0.9999372\ttotal: 18.1s\tremaining: 11s\n",
            "623:\tlearn: 0.9999372\ttotal: 18.1s\tremaining: 10.9s\n",
            "624:\tlearn: 0.9999372\ttotal: 18.2s\tremaining: 10.9s\n",
            "625:\tlearn: 0.9998744\ttotal: 18.2s\tremaining: 10.9s\n",
            "626:\tlearn: 0.9998744\ttotal: 18.2s\tremaining: 10.8s\n",
            "627:\tlearn: 0.9998744\ttotal: 18.2s\tremaining: 10.8s\n",
            "628:\tlearn: 0.9998744\ttotal: 18.3s\tremaining: 10.8s\n",
            "629:\tlearn: 0.9998744\ttotal: 18.3s\tremaining: 10.7s\n",
            "630:\tlearn: 0.9998744\ttotal: 18.3s\tremaining: 10.7s\n",
            "631:\tlearn: 0.9998744\ttotal: 18.4s\tremaining: 10.7s\n",
            "632:\tlearn: 0.9998744\ttotal: 18.4s\tremaining: 10.7s\n",
            "633:\tlearn: 0.9998744\ttotal: 18.4s\tremaining: 10.6s\n",
            "634:\tlearn: 0.9998744\ttotal: 18.4s\tremaining: 10.6s\n",
            "635:\tlearn: 0.9999372\ttotal: 18.5s\tremaining: 10.6s\n",
            "636:\tlearn: 0.9999372\ttotal: 18.5s\tremaining: 10.5s\n",
            "637:\tlearn: 0.9999372\ttotal: 18.5s\tremaining: 10.5s\n",
            "638:\tlearn: 0.9999372\ttotal: 18.6s\tremaining: 10.5s\n",
            "639:\tlearn: 0.9999372\ttotal: 18.6s\tremaining: 10.5s\n",
            "640:\tlearn: 0.9999372\ttotal: 18.6s\tremaining: 10.4s\n",
            "641:\tlearn: 0.9999372\ttotal: 18.6s\tremaining: 10.4s\n",
            "642:\tlearn: 0.9999372\ttotal: 18.7s\tremaining: 10.4s\n",
            "643:\tlearn: 0.9999372\ttotal: 18.7s\tremaining: 10.3s\n",
            "644:\tlearn: 0.9999372\ttotal: 18.7s\tremaining: 10.3s\n",
            "645:\tlearn: 0.9999372\ttotal: 18.8s\tremaining: 10.3s\n",
            "646:\tlearn: 0.9999372\ttotal: 18.8s\tremaining: 10.3s\n",
            "647:\tlearn: 0.9999372\ttotal: 18.8s\tremaining: 10.2s\n",
            "648:\tlearn: 0.9999372\ttotal: 18.8s\tremaining: 10.2s\n",
            "649:\tlearn: 0.9999372\ttotal: 18.9s\tremaining: 10.2s\n",
            "650:\tlearn: 0.9999372\ttotal: 18.9s\tremaining: 10.1s\n",
            "651:\tlearn: 0.9999372\ttotal: 18.9s\tremaining: 10.1s\n",
            "652:\tlearn: 0.9999372\ttotal: 19s\tremaining: 10.1s\n",
            "653:\tlearn: 0.9999372\ttotal: 19s\tremaining: 10s\n",
            "654:\tlearn: 0.9999372\ttotal: 19s\tremaining: 10s\n",
            "655:\tlearn: 0.9998744\ttotal: 19s\tremaining: 9.99s\n",
            "656:\tlearn: 0.9998744\ttotal: 19.1s\tremaining: 9.96s\n",
            "657:\tlearn: 0.9998744\ttotal: 19.1s\tremaining: 9.93s\n",
            "658:\tlearn: 0.9998744\ttotal: 19.1s\tremaining: 9.9s\n",
            "659:\tlearn: 0.9998744\ttotal: 19.2s\tremaining: 9.87s\n",
            "660:\tlearn: 0.9998744\ttotal: 19.2s\tremaining: 9.85s\n",
            "661:\tlearn: 0.9998744\ttotal: 19.2s\tremaining: 9.81s\n",
            "662:\tlearn: 0.9998744\ttotal: 19.2s\tremaining: 9.78s\n",
            "663:\tlearn: 0.9998744\ttotal: 19.3s\tremaining: 9.76s\n",
            "664:\tlearn: 0.9998744\ttotal: 19.3s\tremaining: 9.73s\n",
            "665:\tlearn: 0.9998744\ttotal: 19.3s\tremaining: 9.7s\n",
            "666:\tlearn: 0.9998744\ttotal: 19.4s\tremaining: 9.67s\n",
            "667:\tlearn: 0.9998744\ttotal: 19.4s\tremaining: 9.64s\n",
            "668:\tlearn: 0.9998744\ttotal: 19.4s\tremaining: 9.61s\n",
            "669:\tlearn: 0.9998744\ttotal: 19.5s\tremaining: 9.58s\n",
            "670:\tlearn: 0.9998744\ttotal: 19.5s\tremaining: 9.55s\n",
            "671:\tlearn: 0.9998744\ttotal: 19.5s\tremaining: 9.53s\n",
            "672:\tlearn: 0.9998744\ttotal: 19.5s\tremaining: 9.49s\n",
            "673:\tlearn: 0.9998744\ttotal: 19.6s\tremaining: 9.47s\n",
            "674:\tlearn: 0.9998744\ttotal: 19.6s\tremaining: 9.44s\n",
            "675:\tlearn: 0.9998744\ttotal: 19.6s\tremaining: 9.41s\n",
            "676:\tlearn: 0.9998744\ttotal: 19.7s\tremaining: 9.38s\n",
            "677:\tlearn: 0.9998744\ttotal: 19.7s\tremaining: 9.35s\n",
            "678:\tlearn: 0.9998744\ttotal: 19.7s\tremaining: 9.32s\n",
            "679:\tlearn: 0.9998744\ttotal: 19.7s\tremaining: 9.29s\n",
            "680:\tlearn: 0.9998744\ttotal: 19.8s\tremaining: 9.27s\n",
            "681:\tlearn: 0.9998744\ttotal: 19.8s\tremaining: 9.24s\n",
            "682:\tlearn: 0.9998744\ttotal: 19.8s\tremaining: 9.21s\n",
            "683:\tlearn: 0.9998744\ttotal: 19.9s\tremaining: 9.18s\n",
            "684:\tlearn: 0.9998744\ttotal: 19.9s\tremaining: 9.15s\n",
            "685:\tlearn: 0.9998744\ttotal: 19.9s\tremaining: 9.12s\n",
            "686:\tlearn: 0.9998744\ttotal: 20s\tremaining: 9.09s\n",
            "687:\tlearn: 0.9998744\ttotal: 20s\tremaining: 9.06s\n",
            "688:\tlearn: 0.9998744\ttotal: 20s\tremaining: 9.03s\n",
            "689:\tlearn: 0.9999372\ttotal: 20s\tremaining: 9s\n",
            "690:\tlearn: 0.9999372\ttotal: 20.1s\tremaining: 8.97s\n",
            "691:\tlearn: 0.9999372\ttotal: 20.1s\tremaining: 8.94s\n",
            "692:\tlearn: 0.9999372\ttotal: 20.1s\tremaining: 8.91s\n",
            "693:\tlearn: 0.9999372\ttotal: 20.1s\tremaining: 8.88s\n",
            "694:\tlearn: 0.9998744\ttotal: 20.2s\tremaining: 8.86s\n",
            "695:\tlearn: 0.9998744\ttotal: 20.2s\tremaining: 8.83s\n",
            "696:\tlearn: 0.9998744\ttotal: 20.2s\tremaining: 8.8s\n",
            "697:\tlearn: 0.9998744\ttotal: 20.3s\tremaining: 8.77s\n",
            "698:\tlearn: 0.9999372\ttotal: 20.3s\tremaining: 8.74s\n",
            "699:\tlearn: 0.9999372\ttotal: 20.3s\tremaining: 8.71s\n",
            "700:\tlearn: 0.9999372\ttotal: 20.4s\tremaining: 8.68s\n",
            "701:\tlearn: 0.9999372\ttotal: 20.4s\tremaining: 8.65s\n",
            "702:\tlearn: 0.9999372\ttotal: 20.4s\tremaining: 8.63s\n",
            "703:\tlearn: 0.9999372\ttotal: 20.4s\tremaining: 8.6s\n",
            "704:\tlearn: 0.9999372\ttotal: 20.5s\tremaining: 8.57s\n",
            "705:\tlearn: 0.9999372\ttotal: 20.5s\tremaining: 8.54s\n",
            "706:\tlearn: 0.9999372\ttotal: 20.5s\tremaining: 8.51s\n",
            "707:\tlearn: 0.9999372\ttotal: 20.6s\tremaining: 8.48s\n",
            "708:\tlearn: 0.9999372\ttotal: 20.6s\tremaining: 8.45s\n",
            "709:\tlearn: 0.9999372\ttotal: 20.6s\tremaining: 8.42s\n",
            "710:\tlearn: 0.9999372\ttotal: 20.7s\tremaining: 8.39s\n",
            "711:\tlearn: 0.9999372\ttotal: 20.7s\tremaining: 8.37s\n",
            "712:\tlearn: 0.9999372\ttotal: 20.7s\tremaining: 8.34s\n",
            "713:\tlearn: 0.9999372\ttotal: 20.7s\tremaining: 8.31s\n",
            "714:\tlearn: 0.9999372\ttotal: 20.8s\tremaining: 8.28s\n",
            "715:\tlearn: 0.9999372\ttotal: 20.8s\tremaining: 8.25s\n",
            "716:\tlearn: 0.9999372\ttotal: 20.8s\tremaining: 8.22s\n",
            "717:\tlearn: 0.9999372\ttotal: 20.9s\tremaining: 8.19s\n",
            "718:\tlearn: 0.9999372\ttotal: 20.9s\tremaining: 8.16s\n",
            "719:\tlearn: 0.9999372\ttotal: 20.9s\tremaining: 8.13s\n",
            "720:\tlearn: 0.9999372\ttotal: 20.9s\tremaining: 8.1s\n",
            "721:\tlearn: 0.9999372\ttotal: 21s\tremaining: 8.07s\n",
            "722:\tlearn: 0.9999372\ttotal: 21s\tremaining: 8.04s\n",
            "723:\tlearn: 0.9999372\ttotal: 21s\tremaining: 8.01s\n",
            "724:\tlearn: 0.9999372\ttotal: 21s\tremaining: 7.98s\n",
            "725:\tlearn: 0.9999372\ttotal: 21.1s\tremaining: 7.95s\n",
            "726:\tlearn: 0.9999372\ttotal: 21.1s\tremaining: 7.92s\n",
            "727:\tlearn: 0.9999372\ttotal: 21.1s\tremaining: 7.89s\n",
            "728:\tlearn: 0.9999372\ttotal: 21.2s\tremaining: 7.87s\n",
            "729:\tlearn: 0.9999372\ttotal: 21.2s\tremaining: 7.84s\n",
            "730:\tlearn: 0.9999372\ttotal: 21.2s\tremaining: 7.81s\n",
            "731:\tlearn: 0.9999372\ttotal: 21.2s\tremaining: 7.78s\n",
            "732:\tlearn: 0.9999372\ttotal: 21.3s\tremaining: 7.75s\n",
            "733:\tlearn: 0.9999372\ttotal: 21.3s\tremaining: 7.72s\n",
            "734:\tlearn: 0.9999372\ttotal: 21.3s\tremaining: 7.69s\n",
            "735:\tlearn: 0.9999372\ttotal: 21.4s\tremaining: 7.66s\n",
            "736:\tlearn: 0.9999372\ttotal: 21.4s\tremaining: 7.63s\n",
            "737:\tlearn: 0.9999372\ttotal: 21.4s\tremaining: 7.6s\n",
            "738:\tlearn: 0.9999372\ttotal: 21.4s\tremaining: 7.57s\n",
            "739:\tlearn: 0.9999372\ttotal: 21.5s\tremaining: 7.54s\n",
            "740:\tlearn: 0.9999372\ttotal: 21.5s\tremaining: 7.51s\n",
            "741:\tlearn: 0.9999372\ttotal: 21.5s\tremaining: 7.49s\n",
            "742:\tlearn: 0.9999372\ttotal: 21.6s\tremaining: 7.46s\n",
            "743:\tlearn: 0.9999372\ttotal: 21.6s\tremaining: 7.43s\n",
            "744:\tlearn: 0.9999372\ttotal: 21.6s\tremaining: 7.4s\n",
            "745:\tlearn: 0.9999372\ttotal: 21.7s\tremaining: 7.38s\n",
            "746:\tlearn: 0.9999372\ttotal: 21.7s\tremaining: 7.34s\n",
            "747:\tlearn: 0.9999372\ttotal: 21.7s\tremaining: 7.32s\n",
            "748:\tlearn: 0.9999372\ttotal: 21.7s\tremaining: 7.29s\n",
            "749:\tlearn: 0.9999372\ttotal: 21.8s\tremaining: 7.26s\n",
            "750:\tlearn: 0.9999372\ttotal: 21.8s\tremaining: 7.23s\n",
            "751:\tlearn: 0.9999372\ttotal: 21.8s\tremaining: 7.2s\n",
            "752:\tlearn: 0.9999372\ttotal: 21.9s\tremaining: 7.17s\n",
            "753:\tlearn: 0.9999372\ttotal: 21.9s\tremaining: 7.14s\n",
            "754:\tlearn: 0.9999372\ttotal: 21.9s\tremaining: 7.11s\n",
            "755:\tlearn: 0.9999372\ttotal: 21.9s\tremaining: 7.08s\n",
            "756:\tlearn: 0.9999372\ttotal: 22s\tremaining: 7.05s\n",
            "757:\tlearn: 0.9999372\ttotal: 22s\tremaining: 7.03s\n",
            "758:\tlearn: 0.9999372\ttotal: 22s\tremaining: 7s\n",
            "759:\tlearn: 0.9999372\ttotal: 22.1s\tremaining: 6.97s\n",
            "760:\tlearn: 0.9999372\ttotal: 22.1s\tremaining: 6.94s\n",
            "761:\tlearn: 0.9999372\ttotal: 22.1s\tremaining: 6.91s\n",
            "762:\tlearn: 0.9999372\ttotal: 22.2s\tremaining: 6.88s\n",
            "763:\tlearn: 0.9999372\ttotal: 22.2s\tremaining: 6.85s\n",
            "764:\tlearn: 0.9999372\ttotal: 22.2s\tremaining: 6.82s\n",
            "765:\tlearn: 0.9999372\ttotal: 22.2s\tremaining: 6.79s\n",
            "766:\tlearn: 0.9999372\ttotal: 22.3s\tremaining: 6.76s\n",
            "767:\tlearn: 0.9999372\ttotal: 22.3s\tremaining: 6.73s\n",
            "768:\tlearn: 0.9999372\ttotal: 22.3s\tremaining: 6.7s\n",
            "769:\tlearn: 0.9999372\ttotal: 22.3s\tremaining: 6.67s\n",
            "770:\tlearn: 0.9999372\ttotal: 22.4s\tremaining: 6.65s\n",
            "771:\tlearn: 0.9999372\ttotal: 22.4s\tremaining: 6.62s\n",
            "772:\tlearn: 0.9999372\ttotal: 22.4s\tremaining: 6.59s\n",
            "773:\tlearn: 0.9999372\ttotal: 22.5s\tremaining: 6.56s\n",
            "774:\tlearn: 0.9999372\ttotal: 22.5s\tremaining: 6.53s\n",
            "775:\tlearn: 0.9999372\ttotal: 22.5s\tremaining: 6.5s\n",
            "776:\tlearn: 0.9999372\ttotal: 22.5s\tremaining: 6.47s\n",
            "777:\tlearn: 0.9999372\ttotal: 22.6s\tremaining: 6.44s\n",
            "778:\tlearn: 0.9999372\ttotal: 22.6s\tremaining: 6.42s\n",
            "779:\tlearn: 0.9999372\ttotal: 22.6s\tremaining: 6.39s\n",
            "780:\tlearn: 0.9999372\ttotal: 22.7s\tremaining: 6.36s\n",
            "781:\tlearn: 0.9999372\ttotal: 22.7s\tremaining: 6.33s\n",
            "782:\tlearn: 0.9999372\ttotal: 22.7s\tremaining: 6.3s\n",
            "783:\tlearn: 0.9999372\ttotal: 22.8s\tremaining: 6.27s\n",
            "784:\tlearn: 0.9999372\ttotal: 22.8s\tremaining: 6.24s\n",
            "785:\tlearn: 0.9999372\ttotal: 22.8s\tremaining: 6.21s\n",
            "786:\tlearn: 0.9999372\ttotal: 22.8s\tremaining: 6.18s\n",
            "787:\tlearn: 0.9999372\ttotal: 22.9s\tremaining: 6.15s\n",
            "788:\tlearn: 0.9999372\ttotal: 22.9s\tremaining: 6.12s\n",
            "789:\tlearn: 0.9999372\ttotal: 22.9s\tremaining: 6.09s\n",
            "790:\tlearn: 0.9999372\ttotal: 22.9s\tremaining: 6.06s\n",
            "791:\tlearn: 0.9999372\ttotal: 23s\tremaining: 6.03s\n",
            "792:\tlearn: 0.9999372\ttotal: 23s\tremaining: 6s\n",
            "793:\tlearn: 0.9999372\ttotal: 23s\tremaining: 5.98s\n",
            "794:\tlearn: 0.9999372\ttotal: 23.1s\tremaining: 5.95s\n",
            "795:\tlearn: 0.9999372\ttotal: 23.1s\tremaining: 5.92s\n",
            "796:\tlearn: 0.9999372\ttotal: 23.1s\tremaining: 5.89s\n",
            "797:\tlearn: 0.9999372\ttotal: 23.1s\tremaining: 5.86s\n",
            "798:\tlearn: 0.9999372\ttotal: 23.2s\tremaining: 5.83s\n",
            "799:\tlearn: 0.9999372\ttotal: 23.2s\tremaining: 5.8s\n",
            "800:\tlearn: 0.9999372\ttotal: 23.2s\tremaining: 5.77s\n",
            "801:\tlearn: 0.9999372\ttotal: 23.3s\tremaining: 5.74s\n",
            "802:\tlearn: 0.9999372\ttotal: 23.3s\tremaining: 5.71s\n",
            "803:\tlearn: 0.9999372\ttotal: 23.3s\tremaining: 5.68s\n",
            "804:\tlearn: 0.9999372\ttotal: 23.3s\tremaining: 5.66s\n",
            "805:\tlearn: 0.9999372\ttotal: 23.4s\tremaining: 5.63s\n",
            "806:\tlearn: 0.9999372\ttotal: 23.4s\tremaining: 5.6s\n",
            "807:\tlearn: 0.9999372\ttotal: 23.4s\tremaining: 5.57s\n",
            "808:\tlearn: 0.9999372\ttotal: 23.5s\tremaining: 5.54s\n",
            "809:\tlearn: 0.9999372\ttotal: 23.5s\tremaining: 5.51s\n",
            "810:\tlearn: 0.9999372\ttotal: 23.5s\tremaining: 5.48s\n",
            "811:\tlearn: 0.9999372\ttotal: 23.6s\tremaining: 5.45s\n",
            "812:\tlearn: 0.9999372\ttotal: 23.6s\tremaining: 5.42s\n",
            "813:\tlearn: 0.9999372\ttotal: 23.6s\tremaining: 5.4s\n",
            "814:\tlearn: 0.9999372\ttotal: 23.6s\tremaining: 5.37s\n",
            "815:\tlearn: 0.9999372\ttotal: 23.7s\tremaining: 5.34s\n",
            "816:\tlearn: 0.9999372\ttotal: 23.7s\tremaining: 5.31s\n",
            "817:\tlearn: 0.9999372\ttotal: 23.7s\tremaining: 5.28s\n",
            "818:\tlearn: 0.9999372\ttotal: 23.8s\tremaining: 5.25s\n",
            "819:\tlearn: 0.9999372\ttotal: 23.8s\tremaining: 5.22s\n",
            "820:\tlearn: 0.9999372\ttotal: 23.8s\tremaining: 5.19s\n",
            "821:\tlearn: 0.9999372\ttotal: 23.9s\tremaining: 5.17s\n",
            "822:\tlearn: 0.9999372\ttotal: 23.9s\tremaining: 5.14s\n",
            "823:\tlearn: 0.9999372\ttotal: 23.9s\tremaining: 5.11s\n",
            "824:\tlearn: 0.9999372\ttotal: 23.9s\tremaining: 5.08s\n",
            "825:\tlearn: 0.9999372\ttotal: 24s\tremaining: 5.05s\n",
            "826:\tlearn: 0.9999372\ttotal: 24s\tremaining: 5.02s\n",
            "827:\tlearn: 0.9999372\ttotal: 24s\tremaining: 4.99s\n",
            "828:\tlearn: 0.9999372\ttotal: 24.1s\tremaining: 4.96s\n",
            "829:\tlearn: 0.9999372\ttotal: 24.1s\tremaining: 4.93s\n",
            "830:\tlearn: 0.9999372\ttotal: 24.1s\tremaining: 4.9s\n",
            "831:\tlearn: 0.9999372\ttotal: 24.1s\tremaining: 4.87s\n",
            "832:\tlearn: 0.9999372\ttotal: 24.2s\tremaining: 4.84s\n",
            "833:\tlearn: 0.9999372\ttotal: 24.2s\tremaining: 4.82s\n",
            "834:\tlearn: 0.9999372\ttotal: 24.2s\tremaining: 4.79s\n",
            "835:\tlearn: 1.0000000\ttotal: 24.2s\tremaining: 4.76s\n",
            "836:\tlearn: 1.0000000\ttotal: 24.3s\tremaining: 4.73s\n",
            "837:\tlearn: 1.0000000\ttotal: 24.3s\tremaining: 4.7s\n",
            "838:\tlearn: 1.0000000\ttotal: 24.3s\tremaining: 4.67s\n",
            "839:\tlearn: 1.0000000\ttotal: 24.4s\tremaining: 4.64s\n",
            "840:\tlearn: 1.0000000\ttotal: 24.4s\tremaining: 4.61s\n",
            "841:\tlearn: 1.0000000\ttotal: 24.4s\tremaining: 4.58s\n",
            "842:\tlearn: 1.0000000\ttotal: 24.4s\tremaining: 4.55s\n",
            "843:\tlearn: 1.0000000\ttotal: 24.5s\tremaining: 4.52s\n",
            "844:\tlearn: 1.0000000\ttotal: 24.5s\tremaining: 4.49s\n",
            "845:\tlearn: 1.0000000\ttotal: 24.5s\tremaining: 4.46s\n",
            "846:\tlearn: 1.0000000\ttotal: 24.6s\tremaining: 4.44s\n",
            "847:\tlearn: 1.0000000\ttotal: 24.6s\tremaining: 4.41s\n",
            "848:\tlearn: 1.0000000\ttotal: 24.6s\tremaining: 4.38s\n",
            "849:\tlearn: 1.0000000\ttotal: 24.6s\tremaining: 4.35s\n",
            "850:\tlearn: 1.0000000\ttotal: 24.7s\tremaining: 4.32s\n",
            "851:\tlearn: 1.0000000\ttotal: 24.7s\tremaining: 4.29s\n",
            "852:\tlearn: 1.0000000\ttotal: 24.7s\tremaining: 4.26s\n",
            "853:\tlearn: 1.0000000\ttotal: 24.8s\tremaining: 4.23s\n",
            "854:\tlearn: 1.0000000\ttotal: 24.8s\tremaining: 4.2s\n",
            "855:\tlearn: 1.0000000\ttotal: 24.8s\tremaining: 4.18s\n",
            "856:\tlearn: 1.0000000\ttotal: 24.9s\tremaining: 4.15s\n",
            "857:\tlearn: 1.0000000\ttotal: 24.9s\tremaining: 4.12s\n",
            "858:\tlearn: 1.0000000\ttotal: 24.9s\tremaining: 4.09s\n",
            "859:\tlearn: 1.0000000\ttotal: 24.9s\tremaining: 4.06s\n",
            "860:\tlearn: 1.0000000\ttotal: 25s\tremaining: 4.03s\n",
            "861:\tlearn: 1.0000000\ttotal: 25s\tremaining: 4s\n",
            "862:\tlearn: 1.0000000\ttotal: 25s\tremaining: 3.97s\n",
            "863:\tlearn: 1.0000000\ttotal: 25.1s\tremaining: 3.94s\n",
            "864:\tlearn: 1.0000000\ttotal: 25.1s\tremaining: 3.92s\n",
            "865:\tlearn: 1.0000000\ttotal: 25.1s\tremaining: 3.89s\n",
            "866:\tlearn: 1.0000000\ttotal: 25.1s\tremaining: 3.86s\n",
            "867:\tlearn: 1.0000000\ttotal: 25.2s\tremaining: 3.83s\n",
            "868:\tlearn: 1.0000000\ttotal: 25.2s\tremaining: 3.8s\n",
            "869:\tlearn: 1.0000000\ttotal: 25.2s\tremaining: 3.77s\n",
            "870:\tlearn: 1.0000000\ttotal: 25.3s\tremaining: 3.74s\n",
            "871:\tlearn: 1.0000000\ttotal: 25.3s\tremaining: 3.71s\n",
            "872:\tlearn: 1.0000000\ttotal: 25.3s\tremaining: 3.68s\n",
            "873:\tlearn: 1.0000000\ttotal: 25.4s\tremaining: 3.65s\n",
            "874:\tlearn: 1.0000000\ttotal: 25.4s\tremaining: 3.63s\n",
            "875:\tlearn: 1.0000000\ttotal: 25.4s\tremaining: 3.6s\n",
            "876:\tlearn: 1.0000000\ttotal: 25.4s\tremaining: 3.57s\n",
            "877:\tlearn: 1.0000000\ttotal: 25.5s\tremaining: 3.54s\n",
            "878:\tlearn: 1.0000000\ttotal: 25.5s\tremaining: 3.51s\n",
            "879:\tlearn: 1.0000000\ttotal: 25.5s\tremaining: 3.48s\n",
            "880:\tlearn: 1.0000000\ttotal: 25.6s\tremaining: 3.45s\n",
            "881:\tlearn: 1.0000000\ttotal: 25.6s\tremaining: 3.42s\n",
            "882:\tlearn: 1.0000000\ttotal: 25.6s\tremaining: 3.39s\n",
            "883:\tlearn: 1.0000000\ttotal: 25.7s\tremaining: 3.37s\n",
            "884:\tlearn: 1.0000000\ttotal: 25.7s\tremaining: 3.34s\n",
            "885:\tlearn: 1.0000000\ttotal: 25.7s\tremaining: 3.31s\n",
            "886:\tlearn: 1.0000000\ttotal: 25.7s\tremaining: 3.28s\n",
            "887:\tlearn: 1.0000000\ttotal: 25.8s\tremaining: 3.25s\n",
            "888:\tlearn: 1.0000000\ttotal: 25.8s\tremaining: 3.22s\n",
            "889:\tlearn: 1.0000000\ttotal: 25.8s\tremaining: 3.19s\n",
            "890:\tlearn: 1.0000000\ttotal: 25.9s\tremaining: 3.16s\n",
            "891:\tlearn: 1.0000000\ttotal: 25.9s\tremaining: 3.13s\n",
            "892:\tlearn: 1.0000000\ttotal: 25.9s\tremaining: 3.11s\n",
            "893:\tlearn: 1.0000000\ttotal: 26s\tremaining: 3.08s\n",
            "894:\tlearn: 1.0000000\ttotal: 26s\tremaining: 3.05s\n",
            "895:\tlearn: 1.0000000\ttotal: 26s\tremaining: 3.02s\n",
            "896:\tlearn: 1.0000000\ttotal: 26s\tremaining: 2.99s\n",
            "897:\tlearn: 1.0000000\ttotal: 26.1s\tremaining: 2.96s\n",
            "898:\tlearn: 1.0000000\ttotal: 26.1s\tremaining: 2.93s\n",
            "899:\tlearn: 1.0000000\ttotal: 26.1s\tremaining: 2.9s\n",
            "900:\tlearn: 1.0000000\ttotal: 26.2s\tremaining: 2.87s\n",
            "901:\tlearn: 1.0000000\ttotal: 26.2s\tremaining: 2.84s\n",
            "902:\tlearn: 1.0000000\ttotal: 26.2s\tremaining: 2.81s\n",
            "903:\tlearn: 1.0000000\ttotal: 26.2s\tremaining: 2.79s\n",
            "904:\tlearn: 1.0000000\ttotal: 26.3s\tremaining: 2.76s\n",
            "905:\tlearn: 1.0000000\ttotal: 26.3s\tremaining: 2.73s\n",
            "906:\tlearn: 1.0000000\ttotal: 26.3s\tremaining: 2.7s\n",
            "907:\tlearn: 1.0000000\ttotal: 26.4s\tremaining: 2.67s\n",
            "908:\tlearn: 1.0000000\ttotal: 26.4s\tremaining: 2.64s\n",
            "909:\tlearn: 1.0000000\ttotal: 26.4s\tremaining: 2.61s\n",
            "910:\tlearn: 1.0000000\ttotal: 26.4s\tremaining: 2.58s\n",
            "911:\tlearn: 1.0000000\ttotal: 26.5s\tremaining: 2.55s\n",
            "912:\tlearn: 1.0000000\ttotal: 26.5s\tremaining: 2.52s\n",
            "913:\tlearn: 1.0000000\ttotal: 26.5s\tremaining: 2.5s\n",
            "914:\tlearn: 1.0000000\ttotal: 26.6s\tremaining: 2.47s\n",
            "915:\tlearn: 1.0000000\ttotal: 26.6s\tremaining: 2.44s\n",
            "916:\tlearn: 1.0000000\ttotal: 26.6s\tremaining: 2.41s\n",
            "917:\tlearn: 1.0000000\ttotal: 26.6s\tremaining: 2.38s\n",
            "918:\tlearn: 1.0000000\ttotal: 26.7s\tremaining: 2.35s\n",
            "919:\tlearn: 1.0000000\ttotal: 26.7s\tremaining: 2.32s\n",
            "920:\tlearn: 1.0000000\ttotal: 26.7s\tremaining: 2.29s\n",
            "921:\tlearn: 1.0000000\ttotal: 26.8s\tremaining: 2.26s\n",
            "922:\tlearn: 1.0000000\ttotal: 26.8s\tremaining: 2.23s\n",
            "923:\tlearn: 1.0000000\ttotal: 26.8s\tremaining: 2.21s\n",
            "924:\tlearn: 1.0000000\ttotal: 26.8s\tremaining: 2.18s\n",
            "925:\tlearn: 1.0000000\ttotal: 26.9s\tremaining: 2.15s\n",
            "926:\tlearn: 1.0000000\ttotal: 26.9s\tremaining: 2.12s\n",
            "927:\tlearn: 1.0000000\ttotal: 26.9s\tremaining: 2.09s\n",
            "928:\tlearn: 1.0000000\ttotal: 27s\tremaining: 2.06s\n",
            "929:\tlearn: 1.0000000\ttotal: 27s\tremaining: 2.03s\n",
            "930:\tlearn: 1.0000000\ttotal: 27s\tremaining: 2s\n",
            "931:\tlearn: 1.0000000\ttotal: 27.1s\tremaining: 1.97s\n",
            "932:\tlearn: 1.0000000\ttotal: 27.1s\tremaining: 1.94s\n",
            "933:\tlearn: 1.0000000\ttotal: 27.1s\tremaining: 1.92s\n",
            "934:\tlearn: 1.0000000\ttotal: 27.1s\tremaining: 1.89s\n",
            "935:\tlearn: 1.0000000\ttotal: 27.2s\tremaining: 1.86s\n",
            "936:\tlearn: 1.0000000\ttotal: 27.2s\tremaining: 1.83s\n",
            "937:\tlearn: 1.0000000\ttotal: 27.2s\tremaining: 1.8s\n",
            "938:\tlearn: 1.0000000\ttotal: 27.2s\tremaining: 1.77s\n",
            "939:\tlearn: 1.0000000\ttotal: 27.3s\tremaining: 1.74s\n",
            "940:\tlearn: 1.0000000\ttotal: 27.3s\tremaining: 1.71s\n",
            "941:\tlearn: 1.0000000\ttotal: 27.3s\tremaining: 1.68s\n",
            "942:\tlearn: 1.0000000\ttotal: 27.4s\tremaining: 1.65s\n",
            "943:\tlearn: 1.0000000\ttotal: 27.4s\tremaining: 1.62s\n",
            "944:\tlearn: 1.0000000\ttotal: 27.4s\tremaining: 1.59s\n",
            "945:\tlearn: 1.0000000\ttotal: 27.4s\tremaining: 1.57s\n",
            "946:\tlearn: 1.0000000\ttotal: 27.5s\tremaining: 1.54s\n",
            "947:\tlearn: 1.0000000\ttotal: 27.5s\tremaining: 1.51s\n",
            "948:\tlearn: 1.0000000\ttotal: 27.5s\tremaining: 1.48s\n",
            "949:\tlearn: 1.0000000\ttotal: 27.6s\tremaining: 1.45s\n",
            "950:\tlearn: 1.0000000\ttotal: 27.6s\tremaining: 1.42s\n",
            "951:\tlearn: 1.0000000\ttotal: 27.6s\tremaining: 1.39s\n",
            "952:\tlearn: 1.0000000\ttotal: 27.6s\tremaining: 1.36s\n",
            "953:\tlearn: 1.0000000\ttotal: 27.7s\tremaining: 1.33s\n",
            "954:\tlearn: 1.0000000\ttotal: 27.7s\tremaining: 1.3s\n",
            "955:\tlearn: 1.0000000\ttotal: 27.7s\tremaining: 1.28s\n",
            "956:\tlearn: 1.0000000\ttotal: 27.8s\tremaining: 1.25s\n",
            "957:\tlearn: 1.0000000\ttotal: 27.8s\tremaining: 1.22s\n",
            "958:\tlearn: 0.9999372\ttotal: 27.8s\tremaining: 1.19s\n",
            "959:\tlearn: 0.9999372\ttotal: 27.8s\tremaining: 1.16s\n",
            "960:\tlearn: 0.9999372\ttotal: 27.9s\tremaining: 1.13s\n",
            "961:\tlearn: 0.9999372\ttotal: 27.9s\tremaining: 1.1s\n",
            "962:\tlearn: 0.9999372\ttotal: 27.9s\tremaining: 1.07s\n",
            "963:\tlearn: 0.9999372\ttotal: 28s\tremaining: 1.04s\n",
            "964:\tlearn: 0.9999372\ttotal: 28s\tremaining: 1.01s\n",
            "965:\tlearn: 0.9999372\ttotal: 28s\tremaining: 986ms\n",
            "966:\tlearn: 0.9999372\ttotal: 28.1s\tremaining: 957ms\n",
            "967:\tlearn: 0.9999372\ttotal: 28.1s\tremaining: 928ms\n",
            "968:\tlearn: 0.9999372\ttotal: 28.1s\tremaining: 899ms\n",
            "969:\tlearn: 0.9999372\ttotal: 28.1s\tremaining: 870ms\n",
            "970:\tlearn: 0.9999372\ttotal: 28.2s\tremaining: 841ms\n",
            "971:\tlearn: 1.0000000\ttotal: 28.2s\tremaining: 812ms\n",
            "972:\tlearn: 1.0000000\ttotal: 28.2s\tremaining: 783ms\n",
            "973:\tlearn: 1.0000000\ttotal: 28.2s\tremaining: 754ms\n",
            "974:\tlearn: 1.0000000\ttotal: 28.3s\tremaining: 725ms\n",
            "975:\tlearn: 1.0000000\ttotal: 28.3s\tremaining: 696ms\n",
            "976:\tlearn: 1.0000000\ttotal: 28.3s\tremaining: 667ms\n",
            "977:\tlearn: 1.0000000\ttotal: 28.4s\tremaining: 638ms\n",
            "978:\tlearn: 1.0000000\ttotal: 28.4s\tremaining: 609ms\n",
            "979:\tlearn: 1.0000000\ttotal: 28.4s\tremaining: 580ms\n",
            "980:\tlearn: 1.0000000\ttotal: 28.4s\tremaining: 551ms\n",
            "981:\tlearn: 1.0000000\ttotal: 28.5s\tremaining: 522ms\n",
            "982:\tlearn: 1.0000000\ttotal: 28.5s\tremaining: 493ms\n",
            "983:\tlearn: 1.0000000\ttotal: 28.6s\tremaining: 464ms\n",
            "984:\tlearn: 1.0000000\ttotal: 28.6s\tremaining: 435ms\n",
            "985:\tlearn: 1.0000000\ttotal: 28.6s\tremaining: 406ms\n",
            "986:\tlearn: 1.0000000\ttotal: 28.6s\tremaining: 377ms\n",
            "987:\tlearn: 1.0000000\ttotal: 28.7s\tremaining: 348ms\n",
            "988:\tlearn: 1.0000000\ttotal: 28.7s\tremaining: 319ms\n",
            "989:\tlearn: 1.0000000\ttotal: 28.7s\tremaining: 290ms\n",
            "990:\tlearn: 1.0000000\ttotal: 28.8s\tremaining: 261ms\n",
            "991:\tlearn: 1.0000000\ttotal: 28.8s\tremaining: 232ms\n",
            "992:\tlearn: 1.0000000\ttotal: 28.8s\tremaining: 203ms\n",
            "993:\tlearn: 1.0000000\ttotal: 28.8s\tremaining: 174ms\n",
            "994:\tlearn: 0.9999372\ttotal: 28.9s\tremaining: 145ms\n",
            "995:\tlearn: 0.9999372\ttotal: 28.9s\tremaining: 116ms\n",
            "996:\tlearn: 0.9999372\ttotal: 28.9s\tremaining: 87.1ms\n",
            "997:\tlearn: 0.9999372\ttotal: 29s\tremaining: 58.1ms\n",
            "998:\tlearn: 0.9999372\ttotal: 29s\tremaining: 29ms\n",
            "999:\tlearn: 0.9999372\ttotal: 29s\tremaining: 0us\n",
            "0.9999372174786539\n"
          ],
          "name": "stdout"
        }
      ]
    },
    {
      "cell_type": "markdown",
      "metadata": {
        "id": "Lwk4BcDjCOxJ"
      },
      "source": [
        "Predict on validation set"
      ]
    },
    {
      "cell_type": "code",
      "metadata": {
        "colab": {
          "base_uri": "https://localhost:8080/"
        },
        "id": "v21Gnk3cCSqD",
        "outputId": "79dcba29-442d-4ad6-8d9b-1ecd383440e9"
      },
      "source": [
        "y_pred=model.predict(X_val)\r\n",
        "print(model.score(X_val, y_val))"
      ],
      "execution_count": 536,
      "outputs": [
        {
          "output_type": "stream",
          "text": [
            "0.9943502824858758\n"
          ],
          "name": "stdout"
        }
      ]
    },
    {
      "cell_type": "code",
      "metadata": {
        "colab": {
          "base_uri": "https://localhost:8080/",
          "height": 407
        },
        "id": "k2JaHWLNCZEC",
        "outputId": "65910225-0e26-4cc7-948a-bdd5f6391197"
      },
      "source": [
        "df=pd.DataFrame({'Actual': y_val, 'Predicted':y_pred.ravel()})\r\n",
        "df"
      ],
      "execution_count": 537,
      "outputs": [
        {
          "output_type": "execute_result",
          "data": {
            "text/html": [
              "<div>\n",
              "<style scoped>\n",
              "    .dataframe tbody tr th:only-of-type {\n",
              "        vertical-align: middle;\n",
              "    }\n",
              "\n",
              "    .dataframe tbody tr th {\n",
              "        vertical-align: top;\n",
              "    }\n",
              "\n",
              "    .dataframe thead th {\n",
              "        text-align: right;\n",
              "    }\n",
              "</style>\n",
              "<table border=\"1\" class=\"dataframe\">\n",
              "  <thead>\n",
              "    <tr style=\"text-align: right;\">\n",
              "      <th></th>\n",
              "      <th>Actual</th>\n",
              "      <th>Predicted</th>\n",
              "    </tr>\n",
              "  </thead>\n",
              "  <tbody>\n",
              "    <tr>\n",
              "      <th>6744</th>\n",
              "      <td>con_share</td>\n",
              "      <td>con_share</td>\n",
              "    </tr>\n",
              "    <tr>\n",
              "      <th>12295</th>\n",
              "      <td>con_share</td>\n",
              "      <td>con_share</td>\n",
              "    </tr>\n",
              "    <tr>\n",
              "      <th>1668</th>\n",
              "      <td>con_share</td>\n",
              "      <td>con_share</td>\n",
              "    </tr>\n",
              "    <tr>\n",
              "      <th>9830</th>\n",
              "      <td>con_share</td>\n",
              "      <td>con_share</td>\n",
              "    </tr>\n",
              "    <tr>\n",
              "      <th>16817</th>\n",
              "      <td>con_share</td>\n",
              "      <td>con_share</td>\n",
              "    </tr>\n",
              "    <tr>\n",
              "      <th>...</th>\n",
              "      <td>...</td>\n",
              "      <td>...</td>\n",
              "    </tr>\n",
              "    <tr>\n",
              "      <th>6721</th>\n",
              "      <td>lab_share</td>\n",
              "      <td>lab_share</td>\n",
              "    </tr>\n",
              "    <tr>\n",
              "      <th>6799</th>\n",
              "      <td>con_share</td>\n",
              "      <td>con_share</td>\n",
              "    </tr>\n",
              "    <tr>\n",
              "      <th>15793</th>\n",
              "      <td>lab_share</td>\n",
              "      <td>lab_share</td>\n",
              "    </tr>\n",
              "    <tr>\n",
              "      <th>11898</th>\n",
              "      <td>con_share</td>\n",
              "      <td>con_share</td>\n",
              "    </tr>\n",
              "    <tr>\n",
              "      <th>17541</th>\n",
              "      <td>con_share</td>\n",
              "      <td>con_share</td>\n",
              "    </tr>\n",
              "  </tbody>\n",
              "</table>\n",
              "<p>1770 rows × 2 columns</p>\n",
              "</div>"
            ],
            "text/plain": [
              "          Actual  Predicted\n",
              "6744   con_share  con_share\n",
              "12295  con_share  con_share\n",
              "1668   con_share  con_share\n",
              "9830   con_share  con_share\n",
              "16817  con_share  con_share\n",
              "...          ...        ...\n",
              "6721   lab_share  lab_share\n",
              "6799   con_share  con_share\n",
              "15793  lab_share  lab_share\n",
              "11898  con_share  con_share\n",
              "17541  con_share  con_share\n",
              "\n",
              "[1770 rows x 2 columns]"
            ]
          },
          "metadata": {
            "tags": []
          },
          "execution_count": 537
        }
      ]
    },
    {
      "cell_type": "markdown",
      "metadata": {
        "id": "3_RzY6ofFT0a"
      },
      "source": [
        "Analyse years"
      ]
    },
    {
      "cell_type": "code",
      "metadata": {
        "colab": {
          "base_uri": "https://localhost:8080/",
          "height": 427
        },
        "id": "XI_5-p13GsN3",
        "outputId": "54c130d7-7d48-4b32-b414-7ce429272127"
      },
      "source": [
        "dataset['winner'] = winner\r\n",
        "dataset"
      ],
      "execution_count": 538,
      "outputs": [
        {
          "output_type": "execute_result",
          "data": {
            "text/html": [
              "<div>\n",
              "<style scoped>\n",
              "    .dataframe tbody tr th:only-of-type {\n",
              "        vertical-align: middle;\n",
              "    }\n",
              "\n",
              "    .dataframe tbody tr th {\n",
              "        vertical-align: top;\n",
              "    }\n",
              "\n",
              "    .dataframe thead th {\n",
              "        text-align: right;\n",
              "    }\n",
              "</style>\n",
              "<table border=\"1\" class=\"dataframe\">\n",
              "  <thead>\n",
              "    <tr style=\"text-align: right;\">\n",
              "      <th></th>\n",
              "      <th>seats</th>\n",
              "      <th>constituency</th>\n",
              "      <th>country/region</th>\n",
              "      <th>electorate</th>\n",
              "      <th>con_votes</th>\n",
              "      <th>con_share</th>\n",
              "      <th>lib_votes</th>\n",
              "      <th>lib_share</th>\n",
              "      <th>lab_votes</th>\n",
              "      <th>lab_share</th>\n",
              "      <th>natSW_votes</th>\n",
              "      <th>natSW_share</th>\n",
              "      <th>oth_votes</th>\n",
              "      <th>oth_share</th>\n",
              "      <th>total_votes</th>\n",
              "      <th>turnout</th>\n",
              "      <th>election</th>\n",
              "      <th>boundary_set</th>\n",
              "      <th>winner</th>\n",
              "    </tr>\n",
              "  </thead>\n",
              "  <tbody>\n",
              "    <tr>\n",
              "      <th>0</th>\n",
              "      <td>1</td>\n",
              "      <td>134.0</td>\n",
              "      <td>4.0</td>\n",
              "      <td>2416.0</td>\n",
              "      <td>-1.0</td>\n",
              "      <td>0.460</td>\n",
              "      <td>-1</td>\n",
              "      <td>0.200</td>\n",
              "      <td>5634</td>\n",
              "      <td>0.334</td>\n",
              "      <td>1308.0</td>\n",
              "      <td>0.14</td>\n",
              "      <td>11231.0</td>\n",
              "      <td>0.666</td>\n",
              "      <td>16865</td>\n",
              "      <td>0.437</td>\n",
              "      <td>1918</td>\n",
              "      <td>0.0</td>\n",
              "      <td>lab_share</td>\n",
              "    </tr>\n",
              "    <tr>\n",
              "      <th>1</th>\n",
              "      <td>1</td>\n",
              "      <td>135.0</td>\n",
              "      <td>4.0</td>\n",
              "      <td>3225.0</td>\n",
              "      <td>15670.0</td>\n",
              "      <td>0.682</td>\n",
              "      <td>2273</td>\n",
              "      <td>0.099</td>\n",
              "      <td>3383</td>\n",
              "      <td>0.147</td>\n",
              "      <td>1308.0</td>\n",
              "      <td>0.14</td>\n",
              "      <td>1657.0</td>\n",
              "      <td>0.072</td>\n",
              "      <td>22983</td>\n",
              "      <td>0.534</td>\n",
              "      <td>1918</td>\n",
              "      <td>0.0</td>\n",
              "      <td>con_share</td>\n",
              "    </tr>\n",
              "    <tr>\n",
              "      <th>2</th>\n",
              "      <td>1</td>\n",
              "      <td>175.0</td>\n",
              "      <td>4.0</td>\n",
              "      <td>356.0</td>\n",
              "      <td>5639.0</td>\n",
              "      <td>0.500</td>\n",
              "      <td>3889</td>\n",
              "      <td>0.345</td>\n",
              "      <td>1750</td>\n",
              "      <td>0.155</td>\n",
              "      <td>1308.0</td>\n",
              "      <td>0.14</td>\n",
              "      <td>-1.0</td>\n",
              "      <td>1</td>\n",
              "      <td>11278</td>\n",
              "      <td>0.451</td>\n",
              "      <td>1918</td>\n",
              "      <td>0.0</td>\n",
              "      <td>con_share</td>\n",
              "    </tr>\n",
              "    <tr>\n",
              "      <th>3</th>\n",
              "      <td>1</td>\n",
              "      <td>176.0</td>\n",
              "      <td>4.0</td>\n",
              "      <td>262.0</td>\n",
              "      <td>-1.0</td>\n",
              "      <td>0.460</td>\n",
              "      <td>4260</td>\n",
              "      <td>0.405</td>\n",
              "      <td>1956</td>\n",
              "      <td>0.186</td>\n",
              "      <td>1308.0</td>\n",
              "      <td>0.14</td>\n",
              "      <td>4292.0</td>\n",
              "      <td>0.408</td>\n",
              "      <td>10508</td>\n",
              "      <td>0.455</td>\n",
              "      <td>1918</td>\n",
              "      <td>0.0</td>\n",
              "      <td>lib_share</td>\n",
              "    </tr>\n",
              "    <tr>\n",
              "      <th>4</th>\n",
              "      <td>1</td>\n",
              "      <td>190.0</td>\n",
              "      <td>4.0</td>\n",
              "      <td>379.0</td>\n",
              "      <td>-1.0</td>\n",
              "      <td>0.460</td>\n",
              "      <td>-1</td>\n",
              "      <td>0.200</td>\n",
              "      <td>-1</td>\n",
              "      <td>0.420</td>\n",
              "      <td>1308.0</td>\n",
              "      <td>0.14</td>\n",
              "      <td>7887.0</td>\n",
              "      <td>1</td>\n",
              "      <td>7887</td>\n",
              "      <td>0.312</td>\n",
              "      <td>1918</td>\n",
              "      <td>0.0</td>\n",
              "      <td>Other</td>\n",
              "    </tr>\n",
              "    <tr>\n",
              "      <th>...</th>\n",
              "      <td>...</td>\n",
              "      <td>...</td>\n",
              "      <td>...</td>\n",
              "      <td>...</td>\n",
              "      <td>...</td>\n",
              "      <td>...</td>\n",
              "      <td>...</td>\n",
              "      <td>...</td>\n",
              "      <td>...</td>\n",
              "      <td>...</td>\n",
              "      <td>...</td>\n",
              "      <td>...</td>\n",
              "      <td>...</td>\n",
              "      <td>...</td>\n",
              "      <td>...</td>\n",
              "      <td>...</td>\n",
              "      <td>...</td>\n",
              "      <td>...</td>\n",
              "      <td>...</td>\n",
              "    </tr>\n",
              "    <tr>\n",
              "      <th>17693</th>\n",
              "      <td>1</td>\n",
              "      <td>2723.0</td>\n",
              "      <td>15.0</td>\n",
              "      <td>14289.0</td>\n",
              "      <td>35634.0</td>\n",
              "      <td>0.630</td>\n",
              "      <td>6774</td>\n",
              "      <td>0.120</td>\n",
              "      <td>10480</td>\n",
              "      <td>0.190</td>\n",
              "      <td>1308.0</td>\n",
              "      <td>0.14</td>\n",
              "      <td>3700.0</td>\n",
              "      <td>0.065</td>\n",
              "      <td>56588</td>\n",
              "      <td>0.699</td>\n",
              "      <td>2019</td>\n",
              "      <td>10.0</td>\n",
              "      <td>con_share</td>\n",
              "    </tr>\n",
              "    <tr>\n",
              "      <th>17694</th>\n",
              "      <td>1</td>\n",
              "      <td>2932.0</td>\n",
              "      <td>15.0</td>\n",
              "      <td>11347.0</td>\n",
              "      <td>21283.0</td>\n",
              "      <td>0.473</td>\n",
              "      <td>1772</td>\n",
              "      <td>0.039</td>\n",
              "      <td>17925</td>\n",
              "      <td>0.400</td>\n",
              "      <td>1308.0</td>\n",
              "      <td>0.14</td>\n",
              "      <td>4047.0</td>\n",
              "      <td>0.090</td>\n",
              "      <td>45027</td>\n",
              "      <td>0.641</td>\n",
              "      <td>2019</td>\n",
              "      <td>10.0</td>\n",
              "      <td>con_share</td>\n",
              "    </tr>\n",
              "    <tr>\n",
              "      <th>17695</th>\n",
              "      <td>1</td>\n",
              "      <td>2951.0</td>\n",
              "      <td>15.0</td>\n",
              "      <td>12884.0</td>\n",
              "      <td>14577.0</td>\n",
              "      <td>0.351</td>\n",
              "      <td>1705</td>\n",
              "      <td>0.041</td>\n",
              "      <td>16742</td>\n",
              "      <td>0.400</td>\n",
              "      <td>1308.0</td>\n",
              "      <td>0.14</td>\n",
              "      <td>8533.0</td>\n",
              "      <td>0.205</td>\n",
              "      <td>41557</td>\n",
              "      <td>0.558</td>\n",
              "      <td>2019</td>\n",
              "      <td>10.0</td>\n",
              "      <td>lab_share</td>\n",
              "    </tr>\n",
              "    <tr>\n",
              "      <th>17696</th>\n",
              "      <td>1</td>\n",
              "      <td>3032.0</td>\n",
              "      <td>15.0</td>\n",
              "      <td>12983.0</td>\n",
              "      <td>13767.0</td>\n",
              "      <td>0.278</td>\n",
              "      <td>4149</td>\n",
              "      <td>0.084</td>\n",
              "      <td>27312</td>\n",
              "      <td>0.550</td>\n",
              "      <td>1308.0</td>\n",
              "      <td>0.14</td>\n",
              "      <td>4277.0</td>\n",
              "      <td>0.086</td>\n",
              "      <td>49505</td>\n",
              "      <td>0.661</td>\n",
              "      <td>2019</td>\n",
              "      <td>10.0</td>\n",
              "      <td>lab_share</td>\n",
              "    </tr>\n",
              "    <tr>\n",
              "      <th>17697</th>\n",
              "      <td>1</td>\n",
              "      <td>3033.0</td>\n",
              "      <td>15.0</td>\n",
              "      <td>12919.0</td>\n",
              "      <td>27324.0</td>\n",
              "      <td>0.494</td>\n",
              "      <td>9992</td>\n",
              "      <td>0.181</td>\n",
              "      <td>17339</td>\n",
              "      <td>0.310</td>\n",
              "      <td>1308.0</td>\n",
              "      <td>0.14</td>\n",
              "      <td>692.0</td>\n",
              "      <td>0.013</td>\n",
              "      <td>55347</td>\n",
              "      <td>0.741</td>\n",
              "      <td>2019</td>\n",
              "      <td>10.0</td>\n",
              "      <td>con_share</td>\n",
              "    </tr>\n",
              "  </tbody>\n",
              "</table>\n",
              "<p>17698 rows × 19 columns</p>\n",
              "</div>"
            ],
            "text/plain": [
              "       seats  constituency  country/region  ...  election  boundary_set     winner\n",
              "0          1         134.0             4.0  ...      1918           0.0  lab_share\n",
              "1          1         135.0             4.0  ...      1918           0.0  con_share\n",
              "2          1         175.0             4.0  ...      1918           0.0  con_share\n",
              "3          1         176.0             4.0  ...      1918           0.0  lib_share\n",
              "4          1         190.0             4.0  ...      1918           0.0      Other\n",
              "...      ...           ...             ...  ...       ...           ...        ...\n",
              "17693      1        2723.0            15.0  ...      2019          10.0  con_share\n",
              "17694      1        2932.0            15.0  ...      2019          10.0  con_share\n",
              "17695      1        2951.0            15.0  ...      2019          10.0  lab_share\n",
              "17696      1        3032.0            15.0  ...      2019          10.0  lab_share\n",
              "17697      1        3033.0            15.0  ...      2019          10.0  con_share\n",
              "\n",
              "[17698 rows x 19 columns]"
            ]
          },
          "metadata": {
            "tags": []
          },
          "execution_count": 538
        }
      ]
    },
    {
      "cell_type": "code",
      "metadata": {
        "id": "Flwx6mZZHaw6"
      },
      "source": [
        "dataset.election = dataset.election.astype(int)"
      ],
      "execution_count": 539,
      "outputs": []
    },
    {
      "cell_type": "code",
      "metadata": {
        "colab": {
          "base_uri": "https://localhost:8080/",
          "height": 427
        },
        "id": "rDwV3R8SFZWe",
        "outputId": "81cda404-3fef-4a78-993f-261c7025b667"
      },
      "source": [
        "year = 2019\r\n",
        "\r\n",
        "include = dataset[dataset['election'].values == year]\r\n",
        "exclude = dataset[dataset['election'].values != year]\r\n",
        "include"
      ],
      "execution_count": 540,
      "outputs": [
        {
          "output_type": "execute_result",
          "data": {
            "text/html": [
              "<div>\n",
              "<style scoped>\n",
              "    .dataframe tbody tr th:only-of-type {\n",
              "        vertical-align: middle;\n",
              "    }\n",
              "\n",
              "    .dataframe tbody tr th {\n",
              "        vertical-align: top;\n",
              "    }\n",
              "\n",
              "    .dataframe thead th {\n",
              "        text-align: right;\n",
              "    }\n",
              "</style>\n",
              "<table border=\"1\" class=\"dataframe\">\n",
              "  <thead>\n",
              "    <tr style=\"text-align: right;\">\n",
              "      <th></th>\n",
              "      <th>seats</th>\n",
              "      <th>constituency</th>\n",
              "      <th>country/region</th>\n",
              "      <th>electorate</th>\n",
              "      <th>con_votes</th>\n",
              "      <th>con_share</th>\n",
              "      <th>lib_votes</th>\n",
              "      <th>lib_share</th>\n",
              "      <th>lab_votes</th>\n",
              "      <th>lab_share</th>\n",
              "      <th>natSW_votes</th>\n",
              "      <th>natSW_share</th>\n",
              "      <th>oth_votes</th>\n",
              "      <th>oth_share</th>\n",
              "      <th>total_votes</th>\n",
              "      <th>turnout</th>\n",
              "      <th>election</th>\n",
              "      <th>boundary_set</th>\n",
              "      <th>winner</th>\n",
              "    </tr>\n",
              "  </thead>\n",
              "  <tbody>\n",
              "    <tr>\n",
              "      <th>17048</th>\n",
              "      <td>1</td>\n",
              "      <td>380.0</td>\n",
              "      <td>0.0</td>\n",
              "      <td>11247.0</td>\n",
              "      <td>29590.0</td>\n",
              "      <td>0.671</td>\n",
              "      <td>3741</td>\n",
              "      <td>0.085</td>\n",
              "      <td>9178</td>\n",
              "      <td>0.21</td>\n",
              "      <td>1308.0</td>\n",
              "      <td>0.14</td>\n",
              "      <td>1619.0</td>\n",
              "      <td>0.037</td>\n",
              "      <td>44128</td>\n",
              "      <td>0.631</td>\n",
              "      <td>2019</td>\n",
              "      <td>10.0</td>\n",
              "      <td>con_share</td>\n",
              "    </tr>\n",
              "    <tr>\n",
              "      <th>17049</th>\n",
              "      <td>1</td>\n",
              "      <td>388.0</td>\n",
              "      <td>0.0</td>\n",
              "      <td>11837.0</td>\n",
              "      <td>20346.0</td>\n",
              "      <td>0.430</td>\n",
              "      <td>4608</td>\n",
              "      <td>0.097</td>\n",
              "      <td>20491</td>\n",
              "      <td>0.43</td>\n",
              "      <td>1308.0</td>\n",
              "      <td>0.14</td>\n",
              "      <td>1856.0</td>\n",
              "      <td>0.039</td>\n",
              "      <td>47301</td>\n",
              "      <td>0.661</td>\n",
              "      <td>2019</td>\n",
              "      <td>10.0</td>\n",
              "      <td>con_share</td>\n",
              "    </tr>\n",
              "    <tr>\n",
              "      <th>17050</th>\n",
              "      <td>1</td>\n",
              "      <td>432.0</td>\n",
              "      <td>0.0</td>\n",
              "      <td>13070.0</td>\n",
              "      <td>34112.0</td>\n",
              "      <td>0.675</td>\n",
              "      <td>4779</td>\n",
              "      <td>0.095</td>\n",
              "      <td>9439</td>\n",
              "      <td>0.19</td>\n",
              "      <td>1308.0</td>\n",
              "      <td>0.14</td>\n",
              "      <td>2169.0</td>\n",
              "      <td>0.043</td>\n",
              "      <td>50499</td>\n",
              "      <td>0.671</td>\n",
              "      <td>2019</td>\n",
              "      <td>10.0</td>\n",
              "      <td>con_share</td>\n",
              "    </tr>\n",
              "    <tr>\n",
              "      <th>17051</th>\n",
              "      <td>1</td>\n",
              "      <td>437.0</td>\n",
              "      <td>0.0</td>\n",
              "      <td>13090.0</td>\n",
              "      <td>36308.0</td>\n",
              "      <td>0.686</td>\n",
              "      <td>7187</td>\n",
              "      <td>0.136</td>\n",
              "      <td>7243</td>\n",
              "      <td>0.14</td>\n",
              "      <td>1308.0</td>\n",
              "      <td>0.14</td>\n",
              "      <td>2211.0</td>\n",
              "      <td>0.042</td>\n",
              "      <td>52949</td>\n",
              "      <td>0.704</td>\n",
              "      <td>2019</td>\n",
              "      <td>10.0</td>\n",
              "      <td>con_share</td>\n",
              "    </tr>\n",
              "    <tr>\n",
              "      <th>17052</th>\n",
              "      <td>1</td>\n",
              "      <td>447.0</td>\n",
              "      <td>0.0</td>\n",
              "      <td>13778.0</td>\n",
              "      <td>33934.0</td>\n",
              "      <td>0.596</td>\n",
              "      <td>9195</td>\n",
              "      <td>0.161</td>\n",
              "      <td>12073</td>\n",
              "      <td>0.21</td>\n",
              "      <td>1308.0</td>\n",
              "      <td>0.14</td>\n",
              "      <td>1775.0</td>\n",
              "      <td>0.031</td>\n",
              "      <td>56977</td>\n",
              "      <td>0.729</td>\n",
              "      <td>2019</td>\n",
              "      <td>10.0</td>\n",
              "      <td>con_share</td>\n",
              "    </tr>\n",
              "    <tr>\n",
              "      <th>...</th>\n",
              "      <td>...</td>\n",
              "      <td>...</td>\n",
              "      <td>...</td>\n",
              "      <td>...</td>\n",
              "      <td>...</td>\n",
              "      <td>...</td>\n",
              "      <td>...</td>\n",
              "      <td>...</td>\n",
              "      <td>...</td>\n",
              "      <td>...</td>\n",
              "      <td>...</td>\n",
              "      <td>...</td>\n",
              "      <td>...</td>\n",
              "      <td>...</td>\n",
              "      <td>...</td>\n",
              "      <td>...</td>\n",
              "      <td>...</td>\n",
              "      <td>...</td>\n",
              "      <td>...</td>\n",
              "    </tr>\n",
              "    <tr>\n",
              "      <th>17693</th>\n",
              "      <td>1</td>\n",
              "      <td>2723.0</td>\n",
              "      <td>15.0</td>\n",
              "      <td>14289.0</td>\n",
              "      <td>35634.0</td>\n",
              "      <td>0.630</td>\n",
              "      <td>6774</td>\n",
              "      <td>0.120</td>\n",
              "      <td>10480</td>\n",
              "      <td>0.19</td>\n",
              "      <td>1308.0</td>\n",
              "      <td>0.14</td>\n",
              "      <td>3700.0</td>\n",
              "      <td>0.065</td>\n",
              "      <td>56588</td>\n",
              "      <td>0.699</td>\n",
              "      <td>2019</td>\n",
              "      <td>10.0</td>\n",
              "      <td>con_share</td>\n",
              "    </tr>\n",
              "    <tr>\n",
              "      <th>17694</th>\n",
              "      <td>1</td>\n",
              "      <td>2932.0</td>\n",
              "      <td>15.0</td>\n",
              "      <td>11347.0</td>\n",
              "      <td>21283.0</td>\n",
              "      <td>0.473</td>\n",
              "      <td>1772</td>\n",
              "      <td>0.039</td>\n",
              "      <td>17925</td>\n",
              "      <td>0.40</td>\n",
              "      <td>1308.0</td>\n",
              "      <td>0.14</td>\n",
              "      <td>4047.0</td>\n",
              "      <td>0.090</td>\n",
              "      <td>45027</td>\n",
              "      <td>0.641</td>\n",
              "      <td>2019</td>\n",
              "      <td>10.0</td>\n",
              "      <td>con_share</td>\n",
              "    </tr>\n",
              "    <tr>\n",
              "      <th>17695</th>\n",
              "      <td>1</td>\n",
              "      <td>2951.0</td>\n",
              "      <td>15.0</td>\n",
              "      <td>12884.0</td>\n",
              "      <td>14577.0</td>\n",
              "      <td>0.351</td>\n",
              "      <td>1705</td>\n",
              "      <td>0.041</td>\n",
              "      <td>16742</td>\n",
              "      <td>0.40</td>\n",
              "      <td>1308.0</td>\n",
              "      <td>0.14</td>\n",
              "      <td>8533.0</td>\n",
              "      <td>0.205</td>\n",
              "      <td>41557</td>\n",
              "      <td>0.558</td>\n",
              "      <td>2019</td>\n",
              "      <td>10.0</td>\n",
              "      <td>lab_share</td>\n",
              "    </tr>\n",
              "    <tr>\n",
              "      <th>17696</th>\n",
              "      <td>1</td>\n",
              "      <td>3032.0</td>\n",
              "      <td>15.0</td>\n",
              "      <td>12983.0</td>\n",
              "      <td>13767.0</td>\n",
              "      <td>0.278</td>\n",
              "      <td>4149</td>\n",
              "      <td>0.084</td>\n",
              "      <td>27312</td>\n",
              "      <td>0.55</td>\n",
              "      <td>1308.0</td>\n",
              "      <td>0.14</td>\n",
              "      <td>4277.0</td>\n",
              "      <td>0.086</td>\n",
              "      <td>49505</td>\n",
              "      <td>0.661</td>\n",
              "      <td>2019</td>\n",
              "      <td>10.0</td>\n",
              "      <td>lab_share</td>\n",
              "    </tr>\n",
              "    <tr>\n",
              "      <th>17697</th>\n",
              "      <td>1</td>\n",
              "      <td>3033.0</td>\n",
              "      <td>15.0</td>\n",
              "      <td>12919.0</td>\n",
              "      <td>27324.0</td>\n",
              "      <td>0.494</td>\n",
              "      <td>9992</td>\n",
              "      <td>0.181</td>\n",
              "      <td>17339</td>\n",
              "      <td>0.31</td>\n",
              "      <td>1308.0</td>\n",
              "      <td>0.14</td>\n",
              "      <td>692.0</td>\n",
              "      <td>0.013</td>\n",
              "      <td>55347</td>\n",
              "      <td>0.741</td>\n",
              "      <td>2019</td>\n",
              "      <td>10.0</td>\n",
              "      <td>con_share</td>\n",
              "    </tr>\n",
              "  </tbody>\n",
              "</table>\n",
              "<p>650 rows × 19 columns</p>\n",
              "</div>"
            ],
            "text/plain": [
              "       seats  constituency  country/region  ...  election  boundary_set     winner\n",
              "17048      1         380.0             0.0  ...      2019          10.0  con_share\n",
              "17049      1         388.0             0.0  ...      2019          10.0  con_share\n",
              "17050      1         432.0             0.0  ...      2019          10.0  con_share\n",
              "17051      1         437.0             0.0  ...      2019          10.0  con_share\n",
              "17052      1         447.0             0.0  ...      2019          10.0  con_share\n",
              "...      ...           ...             ...  ...       ...           ...        ...\n",
              "17693      1        2723.0            15.0  ...      2019          10.0  con_share\n",
              "17694      1        2932.0            15.0  ...      2019          10.0  con_share\n",
              "17695      1        2951.0            15.0  ...      2019          10.0  lab_share\n",
              "17696      1        3032.0            15.0  ...      2019          10.0  lab_share\n",
              "17697      1        3033.0            15.0  ...      2019          10.0  con_share\n",
              "\n",
              "[650 rows x 19 columns]"
            ]
          },
          "metadata": {
            "tags": []
          },
          "execution_count": 540
        }
      ]
    },
    {
      "cell_type": "code",
      "metadata": {
        "colab": {
          "base_uri": "https://localhost:8080/"
        },
        "id": "vFL_NOSJQnAY",
        "outputId": "4e5ae156-680c-4df1-dacf-531c7ab413c9"
      },
      "source": [
        "total_con = include['con_votes'].sum()\r\n",
        "total_con"
      ],
      "execution_count": 541,
      "outputs": [
        {
          "output_type": "execute_result",
          "data": {
            "text/plain": [
              "13966439.0"
            ]
          },
          "metadata": {
            "tags": []
          },
          "execution_count": 541
        }
      ]
    },
    {
      "cell_type": "code",
      "metadata": {
        "colab": {
          "base_uri": "https://localhost:8080/",
          "height": 118
        },
        "id": "47XjbWyfRNdl",
        "outputId": "93afcb4e-2429-43c2-9aa8-64cc176d4186"
      },
      "source": [
        "pd.to_numeric(include.lib_votes)\r\n",
        "\r\n",
        "total_lib = include['lib_votes'].sum()\r\n",
        "total_lib"
      ],
      "execution_count": 542,
      "outputs": [
        {
          "output_type": "execute_result",
          "data": {
            "application/vnd.google.colaboratory.intrinsic+json": {
              "type": "string"
            },
            "text/plain": [
              "'374146084779718791953970-116137296964851431325417432538716612397586663178596656120824943224392063-159908171773979994298856315397688136252663477623344171282212120195728111206975312874467025435625141662886741328719151093232603660246854584287311053332175919639096-1485639853923703234506627262124875157227961539103275033672800275418082422415341141626475653082031248230213614195415823935960079702883535539243225545278914078148291508194155975892281948447314406566215087201931210427445932130963532447675031182-1944443703933215821452941295043441984312717600725342834853694713121379143101947462873143862158842680179584159569931231103577450396260466637173822755288328548345592708798613286168848305316836166302612003287441615593197457656213337032151793520971526279216964672231923608161953270945354357287932412831201819551514163123383025379125392071603613952025162011301590149410081847141127041822350115842315282923358-13734602618882618164295822406374833241800171692073122611172018225226967564055129656842108342024487997232824231484154853641737477633122011309933866499372018272668288650432969771218433071573233002560257952428291727061525251044633111-1-1-1-1-1-1-1-1-1-1-1-1-1-1-1-1-1-128465018141924826832215822804287117052283156429663133354035732468426219523376040714174328966353819497121766399019521626239410932716278614352639591325605846244429033037439334573393226916756372107197633204103813661291837809820279128676253189069201304560481008188316841-17280564577492964-1166243408286614627139122728373628952262013750170831158441271394628389800661705755250354732584229803960570818136147733731-123811137748482117161525849914688196151838473907710150693439102836884313403419541850354460103203717169909236101143213335725033449272723374749916009884315474214321138827445114221867916629233516024654328419541849317805352749404227-1350487702750519706927781571771-14992-14338342114650116891591916666114041242211051440814747230125457819105441701754328650429962078015586121085-122464133181527017833880712114109121502771502334519483693518407107218212548-11285148272368-16298358029852731-118606975149622379492346-122361313-11116490978821485212125651460-119436121409299318311471-11447-123713349130136737602228196119013169375467792681-120612717339812101608173861819998563285375614647423617302564320691862290542075906997732803175246911161268161144122523133716358242626744067123616021588499513139151041096010192041366640811176133024624671331615051349218028842535381524061748147619074219515510702276521520287173423672573170720841756234317965665939717872285314750543088698920902553303887548421517323718997291621253188870167741772170541499992'"
            ]
          },
          "metadata": {
            "tags": []
          },
          "execution_count": 542
        }
      ]
    },
    {
      "cell_type": "code",
      "metadata": {
        "colab": {
          "base_uri": "https://localhost:8080/",
          "height": 118
        },
        "id": "hOgygzDzRnNe",
        "outputId": "a5f36e0a-8136-4cca-e244-94c094514783"
      },
      "source": [
        "pd.to_numeric(include.lab_votes)\r\n",
        "\r\n",
        "total_lab = include['lab_votes'].sum()\r\n",
        "total_lab"
      ],
      "execution_count": 543,
      "outputs": [
        {
          "output_type": "execute_result",
          "data": {
            "application/vnd.google.colaboratory.intrinsic+json": {
              "type": "string"
            },
            "text/plain": [
              "'917820491943972431207310824127822577673371186210295673617494101911093013447116481440514092113389959130031947323496217876263140281245714160843013104389514324107051865927766197548864147778305100517803104921309614983103731362972289312500016766124251631321988137761643910648879412210119711406516492634297782127112724181712314210975187191197521690169541092622039107911442024254130222509033606172912075320785915315178136421284415524162171602113411257351733726586211229583158631211814167650012787139941373727219272901302431723440521275331779292662691113067402586081108722221924533116242712436495186461946836521281322803625678417032621720550233402292319882248761334730185399723988430074280801876525132245452264836641121873512625323350853460326897166186528392162666131860288362796410834850438660227803407126011299730976720030811356215476181413161536784421812324012543911216105197941672820531176071572320450154641460316210183631720716509215682604921354186392505118846152841509617273177282250418336269281712415941201721854418087249902904023887137681255719381215161840039066143682155521632153406851-12708215186170142019619317116522600111821385782933355081979017614443742118419301411703453831310341171758119954368233458335902175712008824579178901035620870149072447518048287552925418767188291902524870294572169530195108902990120611261772277227458229321042222842069516312204461480823855-1-1-1-1-1-1-1-1-1-1-1-1-1-1-1-1-1-1493938341272820513248621917342513193665831705611182474541726045100961302848391279117270685512748131172374574784460624313276127911138113363113191382412743947730521178341239009153251073610517119151432824321435440936702170749611550114511095824712448185454275243112843112829722132411536417335153955756115311001812065250331321176382901810316716690691868014846165523848628775598247196331022628381037398881414613054894813999451522853825956989424328761807832067882944856441121824683250672965440475186595576012877932728135425812392230682710220276103551407958981099269461026329421194542225616497477510748540782868098101819377272381478770882764501565220552663916120144001138827717273302789547028180641437429216399656878382870298822064714811188821649234029329451650976737136311526516413569913934254611048396758354128711083619911118561140814747355327742471593107110420811654656210290886022676430457291486237611700812653182711035314862394417036180182560526064273822390886221443863171498313656155331589139982020815356161251691316178558515920161251897717602173811631916115174051849315546154432374313068109918014212171772035889353973335518317265942771423379113021506411757234122091819544116019270135331070494401120675911152294081603968041249512293142461187115808198041103682701561511764138871468813361117421396362221233210908146051230311369208722190123718152111362094961364215522182031909811547148041432922594128022782518390337369000242071055124379246181663815740159791120116373108192149610716548016460205092308012713170331338430413194642902423971221861815718297164782293694831473615652173231385513858223693396819709214751935921195112251048017925167422731217339'"
            ]
          },
          "metadata": {
            "tags": []
          },
          "execution_count": 543
        }
      ]
    },
    {
      "cell_type": "code",
      "metadata": {
        "colab": {
          "base_uri": "https://localhost:8080/"
        },
        "id": "PlmFXPhJRy6O",
        "outputId": "b13e86bd-ac11-4004-cf5b-4ae55ec8782c"
      },
      "source": [
        "pd.to_numeric(include.natSW_votes)\r\n",
        "\r\n",
        "total_nat = include['natSW_votes'].sum()\r\n",
        "total_nat"
      ],
      "execution_count": 544,
      "outputs": [
        {
          "output_type": "execute_result",
          "data": {
            "text/plain": [
              "2121585.0"
            ]
          },
          "metadata": {
            "tags": []
          },
          "execution_count": 544
        }
      ]
    },
    {
      "cell_type": "code",
      "metadata": {
        "colab": {
          "base_uri": "https://localhost:8080/"
        },
        "id": "IAZ-QNIqSJcl",
        "outputId": "e97f3c17-bedb-4135-c787-64bd14d7529f"
      },
      "source": [
        "pd.to_numeric(include.oth_votes)\r\n",
        "\r\n",
        "total_oth = include['oth_votes'].sum()\r\n",
        "total_oth"
      ],
      "execution_count": 545,
      "outputs": [
        {
          "output_type": "execute_result",
          "data": {
            "text/plain": [
              "2686497.0"
            ]
          },
          "metadata": {
            "tags": []
          },
          "execution_count": 545
        }
      ]
    }
  ]
}