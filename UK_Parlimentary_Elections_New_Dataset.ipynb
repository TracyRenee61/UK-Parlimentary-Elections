{
  "nbformat": 4,
  "nbformat_minor": 0,
  "metadata": {
    "colab": {
      "name": "UK Parlimentary Elections - New Dataset.ipynb",
      "provenance": []
    },
    "kernelspec": {
      "name": "python3",
      "display_name": "Python 3"
    }
  },
  "cells": [
    {
      "cell_type": "markdown",
      "metadata": {
        "id": "jm7HIJX1gHeE"
      },
      "source": [
        "Dataset taken from:- https://commonslibrary.parliament.uk/research-briefings/cbp-8647/"
      ]
    },
    {
      "cell_type": "markdown",
      "metadata": {
        "id": "va3_YX6Wgvod"
      },
      "source": [
        "Import libraries"
      ]
    },
    {
      "cell_type": "code",
      "metadata": {
        "id": "oky3DyjagT8U"
      },
      "source": [
        "import pandas as pd\r\n",
        "import numpy as np\r\n",
        "import matplotlib.pyplot as plt\r\n",
        "import seaborn as sns"
      ],
      "execution_count": 935,
      "outputs": []
    },
    {
      "cell_type": "markdown",
      "metadata": {
        "id": "YwFDk_AJg9te"
      },
      "source": [
        "Read dataset"
      ]
    },
    {
      "cell_type": "code",
      "metadata": {
        "colab": {
          "base_uri": "https://localhost:8080/",
          "height": 207
        },
        "id": "KvB6mrFDhAR_",
        "outputId": "cf25c48c-a49e-4105-f51b-9d34d84427db"
      },
      "source": [
        "dataset=pd.read_csv(\"https://raw.githubusercontent.com/TracyRenee61/UK-Parlimentary-Elections/main/1918-2019election_results-.csv\", encoding=\"ISO-8859-1\")\r\n",
        "dataset.head(3)"
      ],
      "execution_count": 936,
      "outputs": [
        {
          "output_type": "execute_result",
          "data": {
            "text/html": [
              "<div>\n",
              "<style scoped>\n",
              "    .dataframe tbody tr th:only-of-type {\n",
              "        vertical-align: middle;\n",
              "    }\n",
              "\n",
              "    .dataframe tbody tr th {\n",
              "        vertical-align: top;\n",
              "    }\n",
              "\n",
              "    .dataframe thead th {\n",
              "        text-align: right;\n",
              "    }\n",
              "</style>\n",
              "<table border=\"1\" class=\"dataframe\">\n",
              "  <thead>\n",
              "    <tr style=\"text-align: right;\">\n",
              "      <th></th>\n",
              "      <th>constituency_id</th>\n",
              "      <th>seats</th>\n",
              "      <th>constituency</th>\n",
              "      <th>country/region</th>\n",
              "      <th>electorate</th>\n",
              "      <th>con_votes</th>\n",
              "      <th>con_share</th>\n",
              "      <th>lib_votes</th>\n",
              "      <th>lib_share</th>\n",
              "      <th>lab_votes</th>\n",
              "      <th>lab_share</th>\n",
              "      <th>natSW_votes</th>\n",
              "      <th>natSW_share</th>\n",
              "      <th>oth_votes</th>\n",
              "      <th>oth_share</th>\n",
              "      <th>total_votes</th>\n",
              "      <th>turnout</th>\n",
              "      <th>election</th>\n",
              "      <th>boundary_set</th>\n",
              "    </tr>\n",
              "  </thead>\n",
              "  <tbody>\n",
              "    <tr>\n",
              "      <th>0</th>\n",
              "      <td>1</td>\n",
              "      <td>1</td>\n",
              "      <td>BATTERSEA NORTH</td>\n",
              "      <td>London</td>\n",
              "      <td>38552</td>\n",
              "      <td>NaN</td>\n",
              "      <td>NaN</td>\n",
              "      <td>NaN</td>\n",
              "      <td>NaN</td>\n",
              "      <td>5634</td>\n",
              "      <td>0.334</td>\n",
              "      <td>NaN</td>\n",
              "      <td>NaN</td>\n",
              "      <td>11231.0</td>\n",
              "      <td>0.666</td>\n",
              "      <td>16865</td>\n",
              "      <td>0.437</td>\n",
              "      <td>1918</td>\n",
              "      <td>1918-35</td>\n",
              "    </tr>\n",
              "    <tr>\n",
              "      <th>1</th>\n",
              "      <td>2</td>\n",
              "      <td>1</td>\n",
              "      <td>BATTERSEA SOUTH</td>\n",
              "      <td>London</td>\n",
              "      <td>43036</td>\n",
              "      <td>15670.0</td>\n",
              "      <td>0.682</td>\n",
              "      <td>2273</td>\n",
              "      <td>0.099</td>\n",
              "      <td>3383</td>\n",
              "      <td>0.147</td>\n",
              "      <td>NaN</td>\n",
              "      <td>NaN</td>\n",
              "      <td>1657.0</td>\n",
              "      <td>0.072</td>\n",
              "      <td>22983</td>\n",
              "      <td>0.534</td>\n",
              "      <td>1918</td>\n",
              "      <td>1918-35</td>\n",
              "    </tr>\n",
              "    <tr>\n",
              "      <th>2</th>\n",
              "      <td>3</td>\n",
              "      <td>1</td>\n",
              "      <td>BERMONDSEY ROTHERHITHE</td>\n",
              "      <td>London</td>\n",
              "      <td>25008</td>\n",
              "      <td>5639.0</td>\n",
              "      <td>0.500</td>\n",
              "      <td>3889</td>\n",
              "      <td>0.345</td>\n",
              "      <td>1750</td>\n",
              "      <td>0.155</td>\n",
              "      <td>NaN</td>\n",
              "      <td>NaN</td>\n",
              "      <td>NaN</td>\n",
              "      <td>NaN</td>\n",
              "      <td>11278</td>\n",
              "      <td>0.451</td>\n",
              "      <td>1918</td>\n",
              "      <td>1918-35</td>\n",
              "    </tr>\n",
              "  </tbody>\n",
              "</table>\n",
              "</div>"
            ],
            "text/plain": [
              "  constituency_id  seats  ... election boundary_set\n",
              "0               1      1  ...     1918      1918-35\n",
              "1               2      1  ...     1918      1918-35\n",
              "2               3      1  ...     1918      1918-35\n",
              "\n",
              "[3 rows x 19 columns]"
            ]
          },
          "metadata": {
            "tags": []
          },
          "execution_count": 936
        }
      ]
    },
    {
      "cell_type": "code",
      "metadata": {
        "id": "i7zTtQ0bGmIu"
      },
      "source": [
        ""
      ],
      "execution_count": 936,
      "outputs": []
    },
    {
      "cell_type": "markdown",
      "metadata": {
        "id": "aBVmITZsL3hM"
      },
      "source": [
        "Rename column"
      ]
    },
    {
      "cell_type": "code",
      "metadata": {
        "id": "Vw5SwfxWL28x"
      },
      "source": [
        "dataset.rename(columns={'lib_votes ': 'lib_votes'}, inplace=True)"
      ],
      "execution_count": 937,
      "outputs": []
    },
    {
      "cell_type": "code",
      "metadata": {
        "colab": {
          "base_uri": "https://localhost:8080/"
        },
        "id": "kj3u-PXTM9Ec",
        "outputId": "5bcb347a-b959-4ba1-9992-d92e2b87a42f"
      },
      "source": [
        "dataset.columns"
      ],
      "execution_count": 938,
      "outputs": [
        {
          "output_type": "execute_result",
          "data": {
            "text/plain": [
              "Index(['constituency_id', 'seats', 'constituency', 'country/region',\n",
              "       'electorate', 'con_votes', 'con_share', 'lib_votes', 'lib_share',\n",
              "       'lab_votes', 'lab_share', 'natSW_votes', 'natSW_share', 'oth_votes',\n",
              "       'oth_share', 'total_votes', 'turnout ', 'election', 'boundary_set'],\n",
              "      dtype='object')"
            ]
          },
          "metadata": {
            "tags": []
          },
          "execution_count": 938
        }
      ]
    },
    {
      "cell_type": "code",
      "metadata": {
        "colab": {
          "base_uri": "https://localhost:8080/"
        },
        "id": "3AMzuINrJGFr",
        "outputId": "c879c9f1-eb40-4812-9e96-9c9782475828"
      },
      "source": [
        "dataset.info()"
      ],
      "execution_count": 939,
      "outputs": [
        {
          "output_type": "stream",
          "text": [
            "<class 'pandas.core.frame.DataFrame'>\n",
            "RangeIndex: 17698 entries, 0 to 17697\n",
            "Data columns (total 19 columns):\n",
            " #   Column           Non-Null Count  Dtype  \n",
            "---  ------           --------------  -----  \n",
            " 0   constituency_id  17477 non-null  object \n",
            " 1   seats            17698 non-null  int64  \n",
            " 2   constituency     17698 non-null  object \n",
            " 3   country/region   17698 non-null  object \n",
            " 4   electorate       17623 non-null  object \n",
            " 5   con_votes        16585 non-null  float64\n",
            " 6   con_share        16384 non-null  float64\n",
            " 7   lib_votes        12421 non-null  object \n",
            " 8   lib_share        12381 non-null  float64\n",
            " 9   lab_votes        16422 non-null  object \n",
            " 10  lab_share        16370 non-null  float64\n",
            " 11  natSW_votes      1596 non-null   float64\n",
            " 12  natSW_share      1596 non-null   float64\n",
            " 13  oth_votes        7993 non-null   float64\n",
            " 14  oth_share        7936 non-null   object \n",
            " 15  total_votes      17674 non-null  object \n",
            " 16  turnout          17353 non-null  float64\n",
            " 17  election         17698 non-null  object \n",
            " 18  boundary_set     17698 non-null  object \n",
            "dtypes: float64(8), int64(1), object(10)\n",
            "memory usage: 2.6+ MB\n"
          ],
          "name": "stdout"
        }
      ]
    },
    {
      "cell_type": "markdown",
      "metadata": {
        "id": "JT_4HObLG8xZ"
      },
      "source": [
        "Create new dataset"
      ]
    },
    {
      "cell_type": "code",
      "metadata": {
        "colab": {
          "base_uri": "https://localhost:8080/"
        },
        "id": "UNWN-PdyG_oL",
        "outputId": "063b24e0-b689-46d7-c344-c5a7d8113837"
      },
      "source": [
        "constituency = dataset.constituency\r\n",
        "constituency"
      ],
      "execution_count": 940,
      "outputs": [
        {
          "output_type": "execute_result",
          "data": {
            "text/plain": [
              "0                   BATTERSEA NORTH\n",
              "1                   BATTERSEA SOUTH\n",
              "2            BERMONDSEY ROTHERHITHE\n",
              "3        BERMONDSEY WEST BERMONDSEY\n",
              "4          BETHNAL GREEN NORTH EAST\n",
              "                    ...            \n",
              "17693             Thirsk and Malton\n",
              "17694                     Wakefield\n",
              "17695          Wentworth and Dearne\n",
              "17696                  York Central\n",
              "17697                    York Outer\n",
              "Name: constituency, Length: 17698, dtype: object"
            ]
          },
          "metadata": {
            "tags": []
          },
          "execution_count": 940
        }
      ]
    },
    {
      "cell_type": "code",
      "metadata": {
        "colab": {
          "base_uri": "https://localhost:8080/"
        },
        "id": "_SIFbYI2HgiO",
        "outputId": "1bd43aab-fdee-441e-e2b3-bbb3e4b3d070"
      },
      "source": [
        "region = dataset['country/region']\r\n",
        "region"
      ],
      "execution_count": 941,
      "outputs": [
        {
          "output_type": "execute_result",
          "data": {
            "text/plain": [
              "0                          London\n",
              "1                          London\n",
              "2                          London\n",
              "3                          London\n",
              "4                          London\n",
              "                   ...           \n",
              "17693    Yorkshire and The Humber\n",
              "17694    Yorkshire and The Humber\n",
              "17695    Yorkshire and The Humber\n",
              "17696    Yorkshire and The Humber\n",
              "17697    Yorkshire and The Humber\n",
              "Name: country/region, Length: 17698, dtype: object"
            ]
          },
          "metadata": {
            "tags": []
          },
          "execution_count": 941
        }
      ]
    },
    {
      "cell_type": "code",
      "metadata": {
        "colab": {
          "base_uri": "https://localhost:8080/"
        },
        "id": "k6p9Ap8HbClf",
        "outputId": "451f2676-39fb-4933-c29d-af60aeb72edc"
      },
      "source": [
        "dataset['electorate'][699] = np.NaN\r\n",
        "dataset['electorate'][3079] = np.NaN\r\n",
        "dataset['electorate'][3674] = np.NaN"
      ],
      "execution_count": 942,
      "outputs": [
        {
          "output_type": "stream",
          "text": [
            "/usr/local/lib/python3.6/dist-packages/ipykernel_launcher.py:1: SettingWithCopyWarning: \n",
            "A value is trying to be set on a copy of a slice from a DataFrame\n",
            "\n",
            "See the caveats in the documentation: https://pandas.pydata.org/pandas-docs/stable/user_guide/indexing.html#returning-a-view-versus-a-copy\n",
            "  \"\"\"Entry point for launching an IPython kernel.\n",
            "/usr/local/lib/python3.6/dist-packages/ipykernel_launcher.py:2: SettingWithCopyWarning: \n",
            "A value is trying to be set on a copy of a slice from a DataFrame\n",
            "\n",
            "See the caveats in the documentation: https://pandas.pydata.org/pandas-docs/stable/user_guide/indexing.html#returning-a-view-versus-a-copy\n",
            "  \n",
            "/usr/local/lib/python3.6/dist-packages/ipykernel_launcher.py:3: SettingWithCopyWarning: \n",
            "A value is trying to be set on a copy of a slice from a DataFrame\n",
            "\n",
            "See the caveats in the documentation: https://pandas.pydata.org/pandas-docs/stable/user_guide/indexing.html#returning-a-view-versus-a-copy\n",
            "  This is separate from the ipykernel package so we can avoid doing imports until\n"
          ],
          "name": "stderr"
        }
      ]
    },
    {
      "cell_type": "code",
      "metadata": {
        "colab": {
          "base_uri": "https://localhost:8080/"
        },
        "id": "Z4JxAPbsH_C9",
        "outputId": "d43e19b7-da71-4f9c-d464-2304fb03f84e"
      },
      "source": [
        "electorate = dataset['electorate'].str[:5]\r\n",
        "electorate = electorate\r\n",
        "electorate = electorate.astype(float)\r\n",
        "electorate"
      ],
      "execution_count": 943,
      "outputs": [
        {
          "output_type": "execute_result",
          "data": {
            "text/plain": [
              "0        38552.0\n",
              "1        43036.0\n",
              "2        25008.0\n",
              "3        23100.0\n",
              "4        25253.0\n",
              "          ...   \n",
              "17693    80991.0\n",
              "17694    70192.0\n",
              "17695    74536.0\n",
              "17696    74899.0\n",
              "17697    74673.0\n",
              "Name: electorate, Length: 17698, dtype: float64"
            ]
          },
          "metadata": {
            "tags": []
          },
          "execution_count": 943
        }
      ]
    },
    {
      "cell_type": "code",
      "metadata": {
        "colab": {
          "base_uri": "https://localhost:8080/"
        },
        "id": "jO860bOtILZK",
        "outputId": "7a7b3ada-7d41-42a9-e97f-0269d1aa7d9e"
      },
      "source": [
        "con_votes = dataset.con_votes\r\n",
        "con_votes"
      ],
      "execution_count": 944,
      "outputs": [
        {
          "output_type": "execute_result",
          "data": {
            "text/plain": [
              "0            NaN\n",
              "1        15670.0\n",
              "2         5639.0\n",
              "3            NaN\n",
              "4            NaN\n",
              "          ...   \n",
              "17693    35634.0\n",
              "17694    21283.0\n",
              "17695    14577.0\n",
              "17696    13767.0\n",
              "17697    27324.0\n",
              "Name: con_votes, Length: 17698, dtype: float64"
            ]
          },
          "metadata": {
            "tags": []
          },
          "execution_count": 944
        }
      ]
    },
    {
      "cell_type": "code",
      "metadata": {
        "colab": {
          "base_uri": "https://localhost:8080/"
        },
        "id": "Rvc1HAQ_LoSF",
        "outputId": "04c946e4-b406-4f6f-9287-646442584c05"
      },
      "source": [
        "dataset['lib_votes'][897] = np.NaN\r\n",
        "dataset['lib_votes'][901] = np.NaN"
      ],
      "execution_count": 945,
      "outputs": [
        {
          "output_type": "stream",
          "text": [
            "/usr/local/lib/python3.6/dist-packages/ipykernel_launcher.py:1: SettingWithCopyWarning: \n",
            "A value is trying to be set on a copy of a slice from a DataFrame\n",
            "\n",
            "See the caveats in the documentation: https://pandas.pydata.org/pandas-docs/stable/user_guide/indexing.html#returning-a-view-versus-a-copy\n",
            "  \"\"\"Entry point for launching an IPython kernel.\n",
            "/usr/local/lib/python3.6/dist-packages/ipykernel_launcher.py:2: SettingWithCopyWarning: \n",
            "A value is trying to be set on a copy of a slice from a DataFrame\n",
            "\n",
            "See the caveats in the documentation: https://pandas.pydata.org/pandas-docs/stable/user_guide/indexing.html#returning-a-view-versus-a-copy\n",
            "  \n"
          ],
          "name": "stderr"
        }
      ]
    },
    {
      "cell_type": "code",
      "metadata": {
        "colab": {
          "base_uri": "https://localhost:8080/"
        },
        "id": "vvjuO418IYe9",
        "outputId": "92bab5d8-478a-4b4f-8528-966b59de1e94"
      },
      "source": [
        "lib_votes = dataset.lib_votes\r\n",
        "lib_votes = lib_votes.astype(float)\r\n",
        "lib_votes"
      ],
      "execution_count": 946,
      "outputs": [
        {
          "output_type": "execute_result",
          "data": {
            "text/plain": [
              "0           NaN\n",
              "1        2273.0\n",
              "2        3889.0\n",
              "3        4260.0\n",
              "4           NaN\n",
              "          ...  \n",
              "17693    6774.0\n",
              "17694    1772.0\n",
              "17695    1705.0\n",
              "17696    4149.0\n",
              "17697    9992.0\n",
              "Name: lib_votes, Length: 17698, dtype: float64"
            ]
          },
          "metadata": {
            "tags": []
          },
          "execution_count": 946
        }
      ]
    },
    {
      "cell_type": "code",
      "metadata": {
        "colab": {
          "base_uri": "https://localhost:8080/"
        },
        "id": "lQgN6TxfNA24",
        "outputId": "b3e818a8-00bf-4c75-bdec-a5ba7c9ef702"
      },
      "source": [
        "dataset['lab_votes'][778] = np.NaN"
      ],
      "execution_count": 947,
      "outputs": [
        {
          "output_type": "stream",
          "text": [
            "/usr/local/lib/python3.6/dist-packages/ipykernel_launcher.py:1: SettingWithCopyWarning: \n",
            "A value is trying to be set on a copy of a slice from a DataFrame\n",
            "\n",
            "See the caveats in the documentation: https://pandas.pydata.org/pandas-docs/stable/user_guide/indexing.html#returning-a-view-versus-a-copy\n",
            "  \"\"\"Entry point for launching an IPython kernel.\n"
          ],
          "name": "stderr"
        }
      ]
    },
    {
      "cell_type": "code",
      "metadata": {
        "colab": {
          "base_uri": "https://localhost:8080/"
        },
        "id": "P3GqwCm7IsJ7",
        "outputId": "bb8ac0db-270e-460f-b2b9-521ad362698a"
      },
      "source": [
        "lab_votes = dataset.lab_votes\r\n",
        "lab_votes = lab_votes.astype(float)\r\n",
        "lab_votes"
      ],
      "execution_count": 948,
      "outputs": [
        {
          "output_type": "execute_result",
          "data": {
            "text/plain": [
              "0         5634.0\n",
              "1         3383.0\n",
              "2         1750.0\n",
              "3         1956.0\n",
              "4            NaN\n",
              "          ...   \n",
              "17693    10480.0\n",
              "17694    17925.0\n",
              "17695    16742.0\n",
              "17696    27312.0\n",
              "17697    17339.0\n",
              "Name: lab_votes, Length: 17698, dtype: float64"
            ]
          },
          "metadata": {
            "tags": []
          },
          "execution_count": 948
        }
      ]
    },
    {
      "cell_type": "code",
      "metadata": {
        "colab": {
          "base_uri": "https://localhost:8080/"
        },
        "id": "cuyPxiAYJArB",
        "outputId": "5c4892cc-2430-4199-f193-b14d77ebc89b"
      },
      "source": [
        "natSW_votes = dataset.natSW_votes\r\n",
        "natSW_votes"
      ],
      "execution_count": 949,
      "outputs": [
        {
          "output_type": "execute_result",
          "data": {
            "text/plain": [
              "0       NaN\n",
              "1       NaN\n",
              "2       NaN\n",
              "3       NaN\n",
              "4       NaN\n",
              "         ..\n",
              "17693   NaN\n",
              "17694   NaN\n",
              "17695   NaN\n",
              "17696   NaN\n",
              "17697   NaN\n",
              "Name: natSW_votes, Length: 17698, dtype: float64"
            ]
          },
          "metadata": {
            "tags": []
          },
          "execution_count": 949
        }
      ]
    },
    {
      "cell_type": "code",
      "metadata": {
        "colab": {
          "base_uri": "https://localhost:8080/"
        },
        "id": "Mrtt-XHmMPHv",
        "outputId": "938948b0-d6dc-449b-fe63-6ec18ed565f1"
      },
      "source": [
        "dataset.oth_share[4455] = np.NaN"
      ],
      "execution_count": 950,
      "outputs": [
        {
          "output_type": "stream",
          "text": [
            "/usr/local/lib/python3.6/dist-packages/ipykernel_launcher.py:1: SettingWithCopyWarning: \n",
            "A value is trying to be set on a copy of a slice from a DataFrame\n",
            "\n",
            "See the caveats in the documentation: https://pandas.pydata.org/pandas-docs/stable/user_guide/indexing.html#returning-a-view-versus-a-copy\n",
            "  \"\"\"Entry point for launching an IPython kernel.\n"
          ],
          "name": "stderr"
        }
      ]
    },
    {
      "cell_type": "code",
      "metadata": {
        "colab": {
          "base_uri": "https://localhost:8080/"
        },
        "id": "D297VYwIJQRa",
        "outputId": "f0e205ad-191b-4728-cbe2-7f8ff6712cf3"
      },
      "source": [
        "oth_votes = dataset.oth_votes\r\n",
        "oth_votes"
      ],
      "execution_count": 951,
      "outputs": [
        {
          "output_type": "execute_result",
          "data": {
            "text/plain": [
              "0        11231.0\n",
              "1         1657.0\n",
              "2            NaN\n",
              "3         4292.0\n",
              "4         7887.0\n",
              "          ...   \n",
              "17693     3700.0\n",
              "17694     4047.0\n",
              "17695     8533.0\n",
              "17696     4277.0\n",
              "17697      692.0\n",
              "Name: oth_votes, Length: 17698, dtype: float64"
            ]
          },
          "metadata": {
            "tags": []
          },
          "execution_count": 951
        }
      ]
    },
    {
      "cell_type": "code",
      "metadata": {
        "colab": {
          "base_uri": "https://localhost:8080/"
        },
        "id": "0QebTS3aMeTb",
        "outputId": "00c53456-0c89-42c0-801e-1d818809a603"
      },
      "source": [
        "dataset['total_votes'][699] = np.NaN\r\n",
        "dataset['total_votes'][794] = np.NaN\r\n",
        "dataset['total_votes'][1889] = np.NaN\r\n",
        "dataset['total_votes'][2484] = np.NaN\r\n",
        "dataset['total_votes'][3079] = np.NaN\r\n",
        "dataset['total_votes'][4455] = np.NaN\r\n",
        "dataset['total_votes'][4489] = np.NaN"
      ],
      "execution_count": 952,
      "outputs": [
        {
          "output_type": "stream",
          "text": [
            "/usr/local/lib/python3.6/dist-packages/ipykernel_launcher.py:1: SettingWithCopyWarning: \n",
            "A value is trying to be set on a copy of a slice from a DataFrame\n",
            "\n",
            "See the caveats in the documentation: https://pandas.pydata.org/pandas-docs/stable/user_guide/indexing.html#returning-a-view-versus-a-copy\n",
            "  \"\"\"Entry point for launching an IPython kernel.\n",
            "/usr/local/lib/python3.6/dist-packages/ipykernel_launcher.py:2: SettingWithCopyWarning: \n",
            "A value is trying to be set on a copy of a slice from a DataFrame\n",
            "\n",
            "See the caveats in the documentation: https://pandas.pydata.org/pandas-docs/stable/user_guide/indexing.html#returning-a-view-versus-a-copy\n",
            "  \n",
            "/usr/local/lib/python3.6/dist-packages/ipykernel_launcher.py:3: SettingWithCopyWarning: \n",
            "A value is trying to be set on a copy of a slice from a DataFrame\n",
            "\n",
            "See the caveats in the documentation: https://pandas.pydata.org/pandas-docs/stable/user_guide/indexing.html#returning-a-view-versus-a-copy\n",
            "  This is separate from the ipykernel package so we can avoid doing imports until\n",
            "/usr/local/lib/python3.6/dist-packages/ipykernel_launcher.py:4: SettingWithCopyWarning: \n",
            "A value is trying to be set on a copy of a slice from a DataFrame\n",
            "\n",
            "See the caveats in the documentation: https://pandas.pydata.org/pandas-docs/stable/user_guide/indexing.html#returning-a-view-versus-a-copy\n",
            "  after removing the cwd from sys.path.\n",
            "/usr/local/lib/python3.6/dist-packages/ipykernel_launcher.py:5: SettingWithCopyWarning: \n",
            "A value is trying to be set on a copy of a slice from a DataFrame\n",
            "\n",
            "See the caveats in the documentation: https://pandas.pydata.org/pandas-docs/stable/user_guide/indexing.html#returning-a-view-versus-a-copy\n",
            "  \"\"\"\n",
            "/usr/local/lib/python3.6/dist-packages/ipykernel_launcher.py:6: SettingWithCopyWarning: \n",
            "A value is trying to be set on a copy of a slice from a DataFrame\n",
            "\n",
            "See the caveats in the documentation: https://pandas.pydata.org/pandas-docs/stable/user_guide/indexing.html#returning-a-view-versus-a-copy\n",
            "  \n",
            "/usr/local/lib/python3.6/dist-packages/ipykernel_launcher.py:7: SettingWithCopyWarning: \n",
            "A value is trying to be set on a copy of a slice from a DataFrame\n",
            "\n",
            "See the caveats in the documentation: https://pandas.pydata.org/pandas-docs/stable/user_guide/indexing.html#returning-a-view-versus-a-copy\n",
            "  import sys\n"
          ],
          "name": "stderr"
        }
      ]
    },
    {
      "cell_type": "code",
      "metadata": {
        "colab": {
          "base_uri": "https://localhost:8080/"
        },
        "id": "_6XmsXq8JjBX",
        "outputId": "f5d403ef-a7f4-499c-8253-af5f192511c2"
      },
      "source": [
        "tot_votes = dataset.total_votes\r\n",
        "tot_votes = tot_votes.astype(float)\r\n",
        "tot_votes"
      ],
      "execution_count": 953,
      "outputs": [
        {
          "output_type": "execute_result",
          "data": {
            "text/plain": [
              "0        16865.0\n",
              "1        22983.0\n",
              "2        11278.0\n",
              "3        10508.0\n",
              "4         7887.0\n",
              "          ...   \n",
              "17693    56588.0\n",
              "17694    45027.0\n",
              "17695    41557.0\n",
              "17696    49505.0\n",
              "17697    55347.0\n",
              "Name: total_votes, Length: 17698, dtype: float64"
            ]
          },
          "metadata": {
            "tags": []
          },
          "execution_count": 953
        }
      ]
    },
    {
      "cell_type": "code",
      "metadata": {
        "colab": {
          "base_uri": "https://localhost:8080/"
        },
        "id": "TqBBug5wJyMs",
        "outputId": "89beb401-147f-4445-86e9-81d144558a8f"
      },
      "source": [
        "year = dataset['election'].str[:4]\r\n",
        "year = year.astype(float)\r\n",
        "year"
      ],
      "execution_count": 954,
      "outputs": [
        {
          "output_type": "execute_result",
          "data": {
            "text/plain": [
              "0        1918.0\n",
              "1        1918.0\n",
              "2        1918.0\n",
              "3        1918.0\n",
              "4        1918.0\n",
              "          ...  \n",
              "17693    2019.0\n",
              "17694    2019.0\n",
              "17695    2019.0\n",
              "17696    2019.0\n",
              "17697    2019.0\n",
              "Name: election, Length: 17698, dtype: float64"
            ]
          },
          "metadata": {
            "tags": []
          },
          "execution_count": 954
        }
      ]
    },
    {
      "cell_type": "code",
      "metadata": {
        "colab": {
          "base_uri": "https://localhost:8080/",
          "height": 407
        },
        "id": "SgpD6mOOQM1m",
        "outputId": "aec2bc55-0922-4b10-f3de-7b548143792c"
      },
      "source": [
        "ds=pd.DataFrame({'constituency': constituency, 'region':region, 'electorate': electorate, 'con_votes':con_votes, 'lib_votes': lib_votes, \r\n",
        "                 'lab_votes': lab_votes, 'natSW_votes': natSW_votes, 'oth_votes': oth_votes, 'tot_votes': tot_votes, 'year': year})\r\n",
        "ds"
      ],
      "execution_count": 955,
      "outputs": [
        {
          "output_type": "execute_result",
          "data": {
            "text/html": [
              "<div>\n",
              "<style scoped>\n",
              "    .dataframe tbody tr th:only-of-type {\n",
              "        vertical-align: middle;\n",
              "    }\n",
              "\n",
              "    .dataframe tbody tr th {\n",
              "        vertical-align: top;\n",
              "    }\n",
              "\n",
              "    .dataframe thead th {\n",
              "        text-align: right;\n",
              "    }\n",
              "</style>\n",
              "<table border=\"1\" class=\"dataframe\">\n",
              "  <thead>\n",
              "    <tr style=\"text-align: right;\">\n",
              "      <th></th>\n",
              "      <th>constituency</th>\n",
              "      <th>region</th>\n",
              "      <th>electorate</th>\n",
              "      <th>con_votes</th>\n",
              "      <th>lib_votes</th>\n",
              "      <th>lab_votes</th>\n",
              "      <th>natSW_votes</th>\n",
              "      <th>oth_votes</th>\n",
              "      <th>tot_votes</th>\n",
              "      <th>year</th>\n",
              "    </tr>\n",
              "  </thead>\n",
              "  <tbody>\n",
              "    <tr>\n",
              "      <th>0</th>\n",
              "      <td>BATTERSEA NORTH</td>\n",
              "      <td>London</td>\n",
              "      <td>38552.0</td>\n",
              "      <td>NaN</td>\n",
              "      <td>NaN</td>\n",
              "      <td>5634.0</td>\n",
              "      <td>NaN</td>\n",
              "      <td>11231.0</td>\n",
              "      <td>16865.0</td>\n",
              "      <td>1918.0</td>\n",
              "    </tr>\n",
              "    <tr>\n",
              "      <th>1</th>\n",
              "      <td>BATTERSEA SOUTH</td>\n",
              "      <td>London</td>\n",
              "      <td>43036.0</td>\n",
              "      <td>15670.0</td>\n",
              "      <td>2273.0</td>\n",
              "      <td>3383.0</td>\n",
              "      <td>NaN</td>\n",
              "      <td>1657.0</td>\n",
              "      <td>22983.0</td>\n",
              "      <td>1918.0</td>\n",
              "    </tr>\n",
              "    <tr>\n",
              "      <th>2</th>\n",
              "      <td>BERMONDSEY ROTHERHITHE</td>\n",
              "      <td>London</td>\n",
              "      <td>25008.0</td>\n",
              "      <td>5639.0</td>\n",
              "      <td>3889.0</td>\n",
              "      <td>1750.0</td>\n",
              "      <td>NaN</td>\n",
              "      <td>NaN</td>\n",
              "      <td>11278.0</td>\n",
              "      <td>1918.0</td>\n",
              "    </tr>\n",
              "    <tr>\n",
              "      <th>3</th>\n",
              "      <td>BERMONDSEY WEST BERMONDSEY</td>\n",
              "      <td>London</td>\n",
              "      <td>23100.0</td>\n",
              "      <td>NaN</td>\n",
              "      <td>4260.0</td>\n",
              "      <td>1956.0</td>\n",
              "      <td>NaN</td>\n",
              "      <td>4292.0</td>\n",
              "      <td>10508.0</td>\n",
              "      <td>1918.0</td>\n",
              "    </tr>\n",
              "    <tr>\n",
              "      <th>4</th>\n",
              "      <td>BETHNAL GREEN NORTH EAST</td>\n",
              "      <td>London</td>\n",
              "      <td>25253.0</td>\n",
              "      <td>NaN</td>\n",
              "      <td>NaN</td>\n",
              "      <td>NaN</td>\n",
              "      <td>NaN</td>\n",
              "      <td>7887.0</td>\n",
              "      <td>7887.0</td>\n",
              "      <td>1918.0</td>\n",
              "    </tr>\n",
              "    <tr>\n",
              "      <th>...</th>\n",
              "      <td>...</td>\n",
              "      <td>...</td>\n",
              "      <td>...</td>\n",
              "      <td>...</td>\n",
              "      <td>...</td>\n",
              "      <td>...</td>\n",
              "      <td>...</td>\n",
              "      <td>...</td>\n",
              "      <td>...</td>\n",
              "      <td>...</td>\n",
              "    </tr>\n",
              "    <tr>\n",
              "      <th>17693</th>\n",
              "      <td>Thirsk and Malton</td>\n",
              "      <td>Yorkshire and The Humber</td>\n",
              "      <td>80991.0</td>\n",
              "      <td>35634.0</td>\n",
              "      <td>6774.0</td>\n",
              "      <td>10480.0</td>\n",
              "      <td>NaN</td>\n",
              "      <td>3700.0</td>\n",
              "      <td>56588.0</td>\n",
              "      <td>2019.0</td>\n",
              "    </tr>\n",
              "    <tr>\n",
              "      <th>17694</th>\n",
              "      <td>Wakefield</td>\n",
              "      <td>Yorkshire and The Humber</td>\n",
              "      <td>70192.0</td>\n",
              "      <td>21283.0</td>\n",
              "      <td>1772.0</td>\n",
              "      <td>17925.0</td>\n",
              "      <td>NaN</td>\n",
              "      <td>4047.0</td>\n",
              "      <td>45027.0</td>\n",
              "      <td>2019.0</td>\n",
              "    </tr>\n",
              "    <tr>\n",
              "      <th>17695</th>\n",
              "      <td>Wentworth and Dearne</td>\n",
              "      <td>Yorkshire and The Humber</td>\n",
              "      <td>74536.0</td>\n",
              "      <td>14577.0</td>\n",
              "      <td>1705.0</td>\n",
              "      <td>16742.0</td>\n",
              "      <td>NaN</td>\n",
              "      <td>8533.0</td>\n",
              "      <td>41557.0</td>\n",
              "      <td>2019.0</td>\n",
              "    </tr>\n",
              "    <tr>\n",
              "      <th>17696</th>\n",
              "      <td>York Central</td>\n",
              "      <td>Yorkshire and The Humber</td>\n",
              "      <td>74899.0</td>\n",
              "      <td>13767.0</td>\n",
              "      <td>4149.0</td>\n",
              "      <td>27312.0</td>\n",
              "      <td>NaN</td>\n",
              "      <td>4277.0</td>\n",
              "      <td>49505.0</td>\n",
              "      <td>2019.0</td>\n",
              "    </tr>\n",
              "    <tr>\n",
              "      <th>17697</th>\n",
              "      <td>York Outer</td>\n",
              "      <td>Yorkshire and The Humber</td>\n",
              "      <td>74673.0</td>\n",
              "      <td>27324.0</td>\n",
              "      <td>9992.0</td>\n",
              "      <td>17339.0</td>\n",
              "      <td>NaN</td>\n",
              "      <td>692.0</td>\n",
              "      <td>55347.0</td>\n",
              "      <td>2019.0</td>\n",
              "    </tr>\n",
              "  </tbody>\n",
              "</table>\n",
              "<p>17698 rows × 10 columns</p>\n",
              "</div>"
            ],
            "text/plain": [
              "                     constituency                    region  ...  tot_votes    year\n",
              "0                 BATTERSEA NORTH                    London  ...    16865.0  1918.0\n",
              "1                 BATTERSEA SOUTH                    London  ...    22983.0  1918.0\n",
              "2          BERMONDSEY ROTHERHITHE                    London  ...    11278.0  1918.0\n",
              "3      BERMONDSEY WEST BERMONDSEY                    London  ...    10508.0  1918.0\n",
              "4        BETHNAL GREEN NORTH EAST                    London  ...     7887.0  1918.0\n",
              "...                           ...                       ...  ...        ...     ...\n",
              "17693           Thirsk and Malton  Yorkshire and The Humber  ...    56588.0  2019.0\n",
              "17694                   Wakefield  Yorkshire and The Humber  ...    45027.0  2019.0\n",
              "17695        Wentworth and Dearne  Yorkshire and The Humber  ...    41557.0  2019.0\n",
              "17696                York Central  Yorkshire and The Humber  ...    49505.0  2019.0\n",
              "17697                  York Outer  Yorkshire and The Humber  ...    55347.0  2019.0\n",
              "\n",
              "[17698 rows x 10 columns]"
            ]
          },
          "metadata": {
            "tags": []
          },
          "execution_count": 955
        }
      ]
    },
    {
      "cell_type": "code",
      "metadata": {
        "colab": {
          "base_uri": "https://localhost:8080/"
        },
        "id": "-Rk75aJ0SIof",
        "outputId": "50dc8f17-6c06-46de-bde6-036599fb9be9"
      },
      "source": [
        "ds.info()"
      ],
      "execution_count": 956,
      "outputs": [
        {
          "output_type": "stream",
          "text": [
            "<class 'pandas.core.frame.DataFrame'>\n",
            "RangeIndex: 17698 entries, 0 to 17697\n",
            "Data columns (total 10 columns):\n",
            " #   Column        Non-Null Count  Dtype  \n",
            "---  ------        --------------  -----  \n",
            " 0   constituency  17698 non-null  object \n",
            " 1   region        17698 non-null  object \n",
            " 2   electorate    17620 non-null  float64\n",
            " 3   con_votes     16585 non-null  float64\n",
            " 4   lib_votes     12419 non-null  float64\n",
            " 5   lab_votes     16421 non-null  float64\n",
            " 6   natSW_votes   1596 non-null   float64\n",
            " 7   oth_votes     7993 non-null   float64\n",
            " 8   tot_votes     17667 non-null  float64\n",
            " 9   year          17698 non-null  float64\n",
            "dtypes: float64(8), object(2)\n",
            "memory usage: 1.4+ MB\n"
          ],
          "name": "stdout"
        }
      ]
    },
    {
      "cell_type": "code",
      "metadata": {
        "colab": {
          "base_uri": "https://localhost:8080/"
        },
        "id": "ynF32Tufin8A",
        "outputId": "f26b4fb0-f720-4cb0-aa75-98443734b2a6"
      },
      "source": [
        "winner = ds[['con_votes','lib_votes', 'lab_votes', 'natSW_votes', 'oth_votes']].idxmax(axis=1)\r\n",
        "winner"
      ],
      "execution_count": 957,
      "outputs": [
        {
          "output_type": "execute_result",
          "data": {
            "text/plain": [
              "0        oth_votes\n",
              "1        con_votes\n",
              "2        con_votes\n",
              "3        oth_votes\n",
              "4        oth_votes\n",
              "           ...    \n",
              "17693    con_votes\n",
              "17694    con_votes\n",
              "17695    lab_votes\n",
              "17696    lab_votes\n",
              "17697    con_votes\n",
              "Length: 17698, dtype: object"
            ]
          },
          "metadata": {
            "tags": []
          },
          "execution_count": 957
        }
      ]
    },
    {
      "cell_type": "markdown",
      "metadata": {
        "id": "ANTJu2Eu1GRH"
      },
      "source": [
        "Check for null values"
      ]
    },
    {
      "cell_type": "code",
      "metadata": {
        "colab": {
          "base_uri": "https://localhost:8080/"
        },
        "id": "vY6tKzWf1LEM",
        "outputId": "5e6d14c7-e68a-40de-ee37-06182d1de621"
      },
      "source": [
        "winner.isnull().sum()"
      ],
      "execution_count": 958,
      "outputs": [
        {
          "output_type": "execute_result",
          "data": {
            "text/plain": [
              "2"
            ]
          },
          "metadata": {
            "tags": []
          },
          "execution_count": 958
        }
      ]
    },
    {
      "cell_type": "code",
      "metadata": {
        "colab": {
          "base_uri": "https://localhost:8080/"
        },
        "id": "sTJdkOHUtFQI",
        "outputId": "c60a52b6-8c30-48ad-864a-95d9b6d3f340"
      },
      "source": [
        "ds.isnull().sum()"
      ],
      "execution_count": 959,
      "outputs": [
        {
          "output_type": "execute_result",
          "data": {
            "text/plain": [
              "constituency        0\n",
              "region              0\n",
              "electorate         78\n",
              "con_votes        1113\n",
              "lib_votes        5279\n",
              "lab_votes        1277\n",
              "natSW_votes     16102\n",
              "oth_votes        9705\n",
              "tot_votes          31\n",
              "year                0\n",
              "dtype: int64"
            ]
          },
          "metadata": {
            "tags": []
          },
          "execution_count": 959
        }
      ]
    },
    {
      "cell_type": "markdown",
      "metadata": {
        "id": "sc05DCSiuCiM"
      },
      "source": [
        "Impute null values"
      ]
    },
    {
      "cell_type": "code",
      "metadata": {
        "id": "eB1KK8e3zxbW"
      },
      "source": [
        "winner.fillna('oth_votes',inplace=True)"
      ],
      "execution_count": 960,
      "outputs": []
    },
    {
      "cell_type": "code",
      "metadata": {
        "colab": {
          "base_uri": "https://localhost:8080/"
        },
        "id": "o8o2XlRG12tu",
        "outputId": "abba4744-1c61-463c-c524-32a640b3063b"
      },
      "source": [
        "winner.isnull().sum()"
      ],
      "execution_count": 961,
      "outputs": [
        {
          "output_type": "execute_result",
          "data": {
            "text/plain": [
              "0"
            ]
          },
          "metadata": {
            "tags": []
          },
          "execution_count": 961
        }
      ]
    },
    {
      "cell_type": "code",
      "metadata": {
        "id": "6DN4_VZ5y6bd"
      },
      "source": [
        "for column in ds.columns:\r\n",
        "    ds[column].fillna(ds[column].mode()[0], inplace=True)"
      ],
      "execution_count": 962,
      "outputs": []
    },
    {
      "cell_type": "code",
      "metadata": {
        "colab": {
          "base_uri": "https://localhost:8080/"
        },
        "id": "9DJoWWc7xq5i",
        "outputId": "ec2fea5d-d681-4230-b621-36decdbd9f7a"
      },
      "source": [
        "ds.isnull().sum().sum()"
      ],
      "execution_count": 963,
      "outputs": [
        {
          "output_type": "execute_result",
          "data": {
            "text/plain": [
              "0"
            ]
          },
          "metadata": {
            "tags": []
          },
          "execution_count": 963
        }
      ]
    },
    {
      "cell_type": "markdown",
      "metadata": {
        "id": "tgLUfxsU3KwQ"
      },
      "source": [
        "Map dictionary  -  {'con_votes':1, 'lib_votes':2, 'lab_votes':3, 'natSW_votes':4, 'oth_votes':5}"
      ]
    },
    {
      "cell_type": "code",
      "metadata": {
        "colab": {
          "base_uri": "https://localhost:8080/"
        },
        "id": "Cm7EmJYV3Onv",
        "outputId": "5d844211-0ead-44b9-d1ff-a873c42e128d"
      },
      "source": [
        "party = {'con_votes':1, 'lib_votes':2, 'lab_votes':3, 'natSW_votes':4, 'oth_votes':5}\r\n",
        "winner = winner.map(party)\r\n",
        "winner"
      ],
      "execution_count": 964,
      "outputs": [
        {
          "output_type": "execute_result",
          "data": {
            "text/plain": [
              "0        5\n",
              "1        1\n",
              "2        1\n",
              "3        5\n",
              "4        5\n",
              "        ..\n",
              "17693    1\n",
              "17694    1\n",
              "17695    3\n",
              "17696    3\n",
              "17697    1\n",
              "Length: 17698, dtype: int64"
            ]
          },
          "metadata": {
            "tags": []
          },
          "execution_count": 964
        }
      ]
    },
    {
      "cell_type": "markdown",
      "metadata": {
        "id": "pHheS83rS46V"
      },
      "source": [
        "Print off list of object columns"
      ]
    },
    {
      "cell_type": "code",
      "metadata": {
        "colab": {
          "base_uri": "https://localhost:8080/"
        },
        "id": "09c17KMlS8Ru",
        "outputId": "78552170-6bb6-40f2-9c52-a34164c68557"
      },
      "source": [
        "ds.dtypes[ds.dtypes != 'int64'][ds.dtypes != 'float64']"
      ],
      "execution_count": 965,
      "outputs": [
        {
          "output_type": "execute_result",
          "data": {
            "text/plain": [
              "constituency    object\n",
              "region          object\n",
              "dtype: object"
            ]
          },
          "metadata": {
            "tags": []
          },
          "execution_count": 965
        }
      ]
    },
    {
      "cell_type": "markdown",
      "metadata": {
        "id": "q7Q2JnUAhqWu"
      },
      "source": [
        "Ordinal encode"
      ]
    },
    {
      "cell_type": "code",
      "metadata": {
        "id": "XAxf_HLahzmN"
      },
      "source": [
        "from sklearn import preprocessing\r\n",
        "from sklearn.preprocessing import OrdinalEncoder\r\n",
        "\r\n",
        "enc = OrdinalEncoder()\r\n",
        "\r\n",
        "ds.constituency = enc.fit_transform(ds.constituency.values.reshape(-1,1))\r\n",
        "ds.region = enc.fit_transform(ds['region'].values.reshape(-1,1))"
      ],
      "execution_count": 966,
      "outputs": []
    },
    {
      "cell_type": "code",
      "metadata": {
        "colab": {
          "base_uri": "https://localhost:8080/",
          "height": 407
        },
        "id": "02VE_FtoSlQE",
        "outputId": "45c74eb7-6257-4f31-efc7-6fd6eb4ca707"
      },
      "source": [
        "ds"
      ],
      "execution_count": 967,
      "outputs": [
        {
          "output_type": "execute_result",
          "data": {
            "text/html": [
              "<div>\n",
              "<style scoped>\n",
              "    .dataframe tbody tr th:only-of-type {\n",
              "        vertical-align: middle;\n",
              "    }\n",
              "\n",
              "    .dataframe tbody tr th {\n",
              "        vertical-align: top;\n",
              "    }\n",
              "\n",
              "    .dataframe thead th {\n",
              "        text-align: right;\n",
              "    }\n",
              "</style>\n",
              "<table border=\"1\" class=\"dataframe\">\n",
              "  <thead>\n",
              "    <tr style=\"text-align: right;\">\n",
              "      <th></th>\n",
              "      <th>constituency</th>\n",
              "      <th>region</th>\n",
              "      <th>electorate</th>\n",
              "      <th>con_votes</th>\n",
              "      <th>lib_votes</th>\n",
              "      <th>lab_votes</th>\n",
              "      <th>natSW_votes</th>\n",
              "      <th>oth_votes</th>\n",
              "      <th>tot_votes</th>\n",
              "      <th>year</th>\n",
              "    </tr>\n",
              "  </thead>\n",
              "  <tbody>\n",
              "    <tr>\n",
              "      <th>0</th>\n",
              "      <td>134.0</td>\n",
              "      <td>4.0</td>\n",
              "      <td>38552.0</td>\n",
              "      <td>-1.0</td>\n",
              "      <td>-1.0</td>\n",
              "      <td>5634.0</td>\n",
              "      <td>1308.0</td>\n",
              "      <td>11231.0</td>\n",
              "      <td>16865.0</td>\n",
              "      <td>1918.0</td>\n",
              "    </tr>\n",
              "    <tr>\n",
              "      <th>1</th>\n",
              "      <td>135.0</td>\n",
              "      <td>4.0</td>\n",
              "      <td>43036.0</td>\n",
              "      <td>15670.0</td>\n",
              "      <td>2273.0</td>\n",
              "      <td>3383.0</td>\n",
              "      <td>1308.0</td>\n",
              "      <td>1657.0</td>\n",
              "      <td>22983.0</td>\n",
              "      <td>1918.0</td>\n",
              "    </tr>\n",
              "    <tr>\n",
              "      <th>2</th>\n",
              "      <td>175.0</td>\n",
              "      <td>4.0</td>\n",
              "      <td>25008.0</td>\n",
              "      <td>5639.0</td>\n",
              "      <td>3889.0</td>\n",
              "      <td>1750.0</td>\n",
              "      <td>1308.0</td>\n",
              "      <td>-1.0</td>\n",
              "      <td>11278.0</td>\n",
              "      <td>1918.0</td>\n",
              "    </tr>\n",
              "    <tr>\n",
              "      <th>3</th>\n",
              "      <td>176.0</td>\n",
              "      <td>4.0</td>\n",
              "      <td>23100.0</td>\n",
              "      <td>-1.0</td>\n",
              "      <td>4260.0</td>\n",
              "      <td>1956.0</td>\n",
              "      <td>1308.0</td>\n",
              "      <td>4292.0</td>\n",
              "      <td>10508.0</td>\n",
              "      <td>1918.0</td>\n",
              "    </tr>\n",
              "    <tr>\n",
              "      <th>4</th>\n",
              "      <td>190.0</td>\n",
              "      <td>4.0</td>\n",
              "      <td>25253.0</td>\n",
              "      <td>-1.0</td>\n",
              "      <td>-1.0</td>\n",
              "      <td>-1.0</td>\n",
              "      <td>1308.0</td>\n",
              "      <td>7887.0</td>\n",
              "      <td>7887.0</td>\n",
              "      <td>1918.0</td>\n",
              "    </tr>\n",
              "    <tr>\n",
              "      <th>...</th>\n",
              "      <td>...</td>\n",
              "      <td>...</td>\n",
              "      <td>...</td>\n",
              "      <td>...</td>\n",
              "      <td>...</td>\n",
              "      <td>...</td>\n",
              "      <td>...</td>\n",
              "      <td>...</td>\n",
              "      <td>...</td>\n",
              "      <td>...</td>\n",
              "    </tr>\n",
              "    <tr>\n",
              "      <th>17693</th>\n",
              "      <td>2723.0</td>\n",
              "      <td>15.0</td>\n",
              "      <td>80991.0</td>\n",
              "      <td>35634.0</td>\n",
              "      <td>6774.0</td>\n",
              "      <td>10480.0</td>\n",
              "      <td>1308.0</td>\n",
              "      <td>3700.0</td>\n",
              "      <td>56588.0</td>\n",
              "      <td>2019.0</td>\n",
              "    </tr>\n",
              "    <tr>\n",
              "      <th>17694</th>\n",
              "      <td>2932.0</td>\n",
              "      <td>15.0</td>\n",
              "      <td>70192.0</td>\n",
              "      <td>21283.0</td>\n",
              "      <td>1772.0</td>\n",
              "      <td>17925.0</td>\n",
              "      <td>1308.0</td>\n",
              "      <td>4047.0</td>\n",
              "      <td>45027.0</td>\n",
              "      <td>2019.0</td>\n",
              "    </tr>\n",
              "    <tr>\n",
              "      <th>17695</th>\n",
              "      <td>2951.0</td>\n",
              "      <td>15.0</td>\n",
              "      <td>74536.0</td>\n",
              "      <td>14577.0</td>\n",
              "      <td>1705.0</td>\n",
              "      <td>16742.0</td>\n",
              "      <td>1308.0</td>\n",
              "      <td>8533.0</td>\n",
              "      <td>41557.0</td>\n",
              "      <td>2019.0</td>\n",
              "    </tr>\n",
              "    <tr>\n",
              "      <th>17696</th>\n",
              "      <td>3032.0</td>\n",
              "      <td>15.0</td>\n",
              "      <td>74899.0</td>\n",
              "      <td>13767.0</td>\n",
              "      <td>4149.0</td>\n",
              "      <td>27312.0</td>\n",
              "      <td>1308.0</td>\n",
              "      <td>4277.0</td>\n",
              "      <td>49505.0</td>\n",
              "      <td>2019.0</td>\n",
              "    </tr>\n",
              "    <tr>\n",
              "      <th>17697</th>\n",
              "      <td>3033.0</td>\n",
              "      <td>15.0</td>\n",
              "      <td>74673.0</td>\n",
              "      <td>27324.0</td>\n",
              "      <td>9992.0</td>\n",
              "      <td>17339.0</td>\n",
              "      <td>1308.0</td>\n",
              "      <td>692.0</td>\n",
              "      <td>55347.0</td>\n",
              "      <td>2019.0</td>\n",
              "    </tr>\n",
              "  </tbody>\n",
              "</table>\n",
              "<p>17698 rows × 10 columns</p>\n",
              "</div>"
            ],
            "text/plain": [
              "       constituency  region  electorate  ...  oth_votes  tot_votes    year\n",
              "0             134.0     4.0     38552.0  ...    11231.0    16865.0  1918.0\n",
              "1             135.0     4.0     43036.0  ...     1657.0    22983.0  1918.0\n",
              "2             175.0     4.0     25008.0  ...       -1.0    11278.0  1918.0\n",
              "3             176.0     4.0     23100.0  ...     4292.0    10508.0  1918.0\n",
              "4             190.0     4.0     25253.0  ...     7887.0     7887.0  1918.0\n",
              "...             ...     ...         ...  ...        ...        ...     ...\n",
              "17693        2723.0    15.0     80991.0  ...     3700.0    56588.0  2019.0\n",
              "17694        2932.0    15.0     70192.0  ...     4047.0    45027.0  2019.0\n",
              "17695        2951.0    15.0     74536.0  ...     8533.0    41557.0  2019.0\n",
              "17696        3032.0    15.0     74899.0  ...     4277.0    49505.0  2019.0\n",
              "17697        3033.0    15.0     74673.0  ...      692.0    55347.0  2019.0\n",
              "\n",
              "[17698 rows x 10 columns]"
            ]
          },
          "metadata": {
            "tags": []
          },
          "execution_count": 967
        }
      ]
    },
    {
      "cell_type": "markdown",
      "metadata": {
        "id": "esfX6xfF44G2"
      },
      "source": [
        "Graphical analysis"
      ]
    },
    {
      "cell_type": "code",
      "metadata": {
        "colab": {
          "base_uri": "https://localhost:8080/",
          "height": 335
        },
        "id": "v96-tOOA2FDX",
        "outputId": "e652370d-503f-43b0-eb6e-1b11ef8bc03b"
      },
      "source": [
        "sns.distplot(winner)"
      ],
      "execution_count": 968,
      "outputs": [
        {
          "output_type": "stream",
          "text": [
            "/usr/local/lib/python3.6/dist-packages/seaborn/distributions.py:2551: FutureWarning: `distplot` is a deprecated function and will be removed in a future version. Please adapt your code to use either `displot` (a figure-level function with similar flexibility) or `histplot` (an axes-level function for histograms).\n",
            "  warnings.warn(msg, FutureWarning)\n"
          ],
          "name": "stderr"
        },
        {
          "output_type": "execute_result",
          "data": {
            "text/plain": [
              "<matplotlib.axes._subplots.AxesSubplot at 0x7fa1bd5ecef0>"
            ]
          },
          "metadata": {
            "tags": []
          },
          "execution_count": 968
        },
        {
          "output_type": "display_data",
          "data": {
            "image/png": "[encoded data removed]",
            "text/plain": [
              "<Figure size 432x288 with 1 Axes>"
            ]
          },
          "metadata": {
            "tags": [],
            "needs_background": "light"
          }
        }
      ]
    },
    {
      "cell_type": "code",
      "metadata": {
        "colab": {
          "base_uri": "https://localhost:8080/"
        },
        "id": "nvAmx8eK-wnZ",
        "outputId": "b61af52b-de91-47c0-e180-b3cf265ce466"
      },
      "source": [
        "import collections\r\n",
        "from collections import Counter\r\n",
        "\r\n",
        "counter = Counter(winner)\r\n",
        "for k,v in counter.items():\r\n",
        "\tper = v / len(winner) * 100\r\n",
        "\tprint('Class=%s, Count=%d, Percentage=%.3f%%' % (k, v, per))"
      ],
      "execution_count": 969,
      "outputs": [
        {
          "output_type": "stream",
          "text": [
            "Class=5, Count=755, Percentage=4.266%\n",
            "Class=1, Count=8658, Percentage=48.921%\n",
            "Class=3, Count=7245, Percentage=40.937%\n",
            "Class=2, Count=808, Percentage=4.565%\n",
            "Class=4, Count=232, Percentage=1.311%\n"
          ],
          "name": "stdout"
        }
      ]
    },
    {
      "cell_type": "code",
      "metadata": {
        "colab": {
          "base_uri": "https://localhost:8080/"
        },
        "id": "W4BnKs0u_9dj",
        "outputId": "a0e36e4e-a9fd-4ade-fc85-8689478b3081"
      },
      "source": [
        "print(Counter(winner))"
      ],
      "execution_count": 970,
      "outputs": [
        {
          "output_type": "stream",
          "text": [
            "Counter({1: 8658, 3: 7245, 2: 808, 5: 755, 4: 232})\n"
          ],
          "name": "stdout"
        }
      ]
    },
    {
      "cell_type": "code",
      "metadata": {
        "colab": {
          "base_uri": "https://localhost:8080/",
          "height": 281
        },
        "id": "hcIHYk2U-XHP",
        "outputId": "972ad63f-da6d-449c-c09d-8cb5ac8b1939"
      },
      "source": [
        "#create histograms of classes\r\n",
        "# create histograms of all variables\r\n",
        "from pandas import read_csv\r\n",
        "from matplotlib import pyplot\r\n",
        "\r\n",
        "# create a histogram plot of each variable\r\n",
        "dataset.hist(bins=25)\r\n",
        "# show the plot\r\n",
        "pyplot.show()"
      ],
      "execution_count": 971,
      "outputs": [
        {
          "output_type": "display_data",
          "data": {
            "image/png": "[encoded data removed]",
            "text/plain": [
              "<Figure size 432x288 with 9 Axes>"
            ]
          },
          "metadata": {
            "tags": [],
            "needs_background": "light"
          }
        }
      ]
    },
    {
      "cell_type": "code",
      "metadata": {
        "colab": {
          "base_uri": "https://localhost:8080/",
          "height": 450
        },
        "id": "u_Yn2UTo-RUb",
        "outputId": "819cf43b-2b69-4968-d23c-6c4b326ec5af"
      },
      "source": [
        "#create a heatmap to correlate promotion\r\n",
        "plt.figure(figsize=(10,6))\r\n",
        "cmap=dataset.corr()\r\n",
        "sns.heatmap(cmap)"
      ],
      "execution_count": 972,
      "outputs": [
        {
          "output_type": "execute_result",
          "data": {
            "text/plain": [
              "<matplotlib.axes._subplots.AxesSubplot at 0x7fa1bc96a1d0>"
            ]
          },
          "metadata": {
            "tags": []
          },
          "execution_count": 972
        },
        {
          "output_type": "display_data",
          "data": {
            "image/png": "[encoded data removed]",
            "text/plain": [
              "<Figure size 720x432 with 2 Axes>"
            ]
          },
          "metadata": {
            "tags": [],
            "needs_background": "light"
          }
        }
      ]
    },
    {
      "cell_type": "markdown",
      "metadata": {
        "id": "ub0Hv9lR6NID"
      },
      "source": [
        "Define X and y"
      ]
    },
    {
      "cell_type": "code",
      "metadata": {
        "id": "e5x2dPcI6gwH"
      },
      "source": [
        "y = winner\r\n",
        "X = ds"
      ],
      "execution_count": 973,
      "outputs": []
    },
    {
      "cell_type": "code",
      "metadata": {
        "colab": {
          "base_uri": "https://localhost:8080/"
        },
        "id": "jiGzgMwqjx53",
        "outputId": "af188cc2-fe22-4909-a6dc-390644127667"
      },
      "source": [
        "X.info()"
      ],
      "execution_count": 974,
      "outputs": [
        {
          "output_type": "stream",
          "text": [
            "<class 'pandas.core.frame.DataFrame'>\n",
            "RangeIndex: 17698 entries, 0 to 17697\n",
            "Data columns (total 10 columns):\n",
            " #   Column        Non-Null Count  Dtype  \n",
            "---  ------        --------------  -----  \n",
            " 0   constituency  17698 non-null  float64\n",
            " 1   region        17698 non-null  float64\n",
            " 2   electorate    17698 non-null  float64\n",
            " 3   con_votes     17698 non-null  float64\n",
            " 4   lib_votes     17698 non-null  float64\n",
            " 5   lab_votes     17698 non-null  float64\n",
            " 6   natSW_votes   17698 non-null  float64\n",
            " 7   oth_votes     17698 non-null  float64\n",
            " 8   tot_votes     17698 non-null  float64\n",
            " 9   year          17698 non-null  float64\n",
            "dtypes: float64(10)\n",
            "memory usage: 1.4 MB\n"
          ],
          "name": "stdout"
        }
      ]
    },
    {
      "cell_type": "markdown",
      "metadata": {
        "id": "yf4Q-yao6NC8"
      },
      "source": [
        "Visualise PCA"
      ]
    },
    {
      "cell_type": "code",
      "metadata": {
        "colab": {
          "base_uri": "https://localhost:8080/"
        },
        "id": "qhvvBgI8lEhd",
        "outputId": "f09df476-5154-4429-952e-20b845ee8f43"
      },
      "source": [
        "X.isnull().sum()"
      ],
      "execution_count": 975,
      "outputs": [
        {
          "output_type": "execute_result",
          "data": {
            "text/plain": [
              "constituency    0\n",
              "region          0\n",
              "electorate      0\n",
              "con_votes       0\n",
              "lib_votes       0\n",
              "lab_votes       0\n",
              "natSW_votes     0\n",
              "oth_votes       0\n",
              "tot_votes       0\n",
              "year            0\n",
              "dtype: int64"
            ]
          },
          "metadata": {
            "tags": []
          },
          "execution_count": 975
        }
      ]
    },
    {
      "cell_type": "code",
      "metadata": {
        "id": "CKLDkCe7lYqG"
      },
      "source": [
        "for column in dataset.columns:\r\n",
        "    dataset[column].fillna(dataset[column].mode()[0], inplace=True)"
      ],
      "execution_count": 976,
      "outputs": []
    },
    {
      "cell_type": "code",
      "metadata": {
        "colab": {
          "base_uri": "https://localhost:8080/"
        },
        "id": "Pz3z2NN2la2s",
        "outputId": "d24661a3-e55b-4ecf-f654-b09c3d54d0d4"
      },
      "source": [
        "X.isnull().sum().sum()"
      ],
      "execution_count": 977,
      "outputs": [
        {
          "output_type": "execute_result",
          "data": {
            "text/plain": [
              "0"
            ]
          },
          "metadata": {
            "tags": []
          },
          "execution_count": 977
        }
      ]
    },
    {
      "cell_type": "code",
      "metadata": {
        "colab": {
          "base_uri": "https://localhost:8080/"
        },
        "id": "X-952IfTFxak",
        "outputId": "ec964793-e3d5-4865-bd14-3e107c6c3a16"
      },
      "source": [
        "from sklearn.preprocessing import StandardScaler\r\n",
        "\r\n",
        "X = StandardScaler().fit_transform(X) # normalizing the features\r\n",
        "X.shape"
      ],
      "execution_count": 978,
      "outputs": [
        {
          "output_type": "execute_result",
          "data": {
            "text/plain": [
              "(17698, 10)"
            ]
          },
          "metadata": {
            "tags": []
          },
          "execution_count": 978
        }
      ]
    },
    {
      "cell_type": "code",
      "metadata": {
        "colab": {
          "base_uri": "https://localhost:8080/"
        },
        "id": "xZ5C9xCUkPHs",
        "outputId": "9ebb6d18-6fec-4fff-fc7d-a768f0511acb"
      },
      "source": [
        "np.mean(X),np.std(X)"
      ],
      "execution_count": 979,
      "outputs": [
        {
          "output_type": "execute_result",
          "data": {
            "text/plain": [
              "(1.0277937640105416e-16, 0.9999999999999999)"
            ]
          },
          "metadata": {
            "tags": []
          },
          "execution_count": 979
        }
      ]
    },
    {
      "cell_type": "code",
      "metadata": {
        "colab": {
          "base_uri": "https://localhost:8080/"
        },
        "id": "6GTjHQdvkWZn",
        "outputId": "636783ca-693e-4eee-8988-988da3e09658"
      },
      "source": [
        "feat_cols = ['feature'+str(i) for i in range(X.shape[1])]\r\n",
        "feat_cols"
      ],
      "execution_count": 980,
      "outputs": [
        {
          "output_type": "execute_result",
          "data": {
            "text/plain": [
              "['feature0',\n",
              " 'feature1',\n",
              " 'feature2',\n",
              " 'feature3',\n",
              " 'feature4',\n",
              " 'feature5',\n",
              " 'feature6',\n",
              " 'feature7',\n",
              " 'feature8',\n",
              " 'feature9']"
            ]
          },
          "metadata": {
            "tags": []
          },
          "execution_count": 980
        }
      ]
    },
    {
      "cell_type": "code",
      "metadata": {
        "colab": {
          "base_uri": "https://localhost:8080/",
          "height": 407
        },
        "id": "3yrw8qhTkdrt",
        "outputId": "47b9403c-c38f-4d92-fb17-e9370c112307"
      },
      "source": [
        "normalised = pd.DataFrame(X,columns=feat_cols)\r\n",
        "normalised"
      ],
      "execution_count": 981,
      "outputs": [
        {
          "output_type": "execute_result",
          "data": {
            "text/html": [
              "<div>\n",
              "<style scoped>\n",
              "    .dataframe tbody tr th:only-of-type {\n",
              "        vertical-align: middle;\n",
              "    }\n",
              "\n",
              "    .dataframe tbody tr th {\n",
              "        vertical-align: top;\n",
              "    }\n",
              "\n",
              "    .dataframe thead th {\n",
              "        text-align: right;\n",
              "    }\n",
              "</style>\n",
              "<table border=\"1\" class=\"dataframe\">\n",
              "  <thead>\n",
              "    <tr style=\"text-align: right;\">\n",
              "      <th></th>\n",
              "      <th>feature0</th>\n",
              "      <th>feature1</th>\n",
              "      <th>feature2</th>\n",
              "      <th>feature3</th>\n",
              "      <th>feature4</th>\n",
              "      <th>feature5</th>\n",
              "      <th>feature6</th>\n",
              "      <th>feature7</th>\n",
              "      <th>feature8</th>\n",
              "      <th>feature9</th>\n",
              "    </tr>\n",
              "  </thead>\n",
              "  <tbody>\n",
              "    <tr>\n",
              "      <th>0</th>\n",
              "      <td>-1.548895</td>\n",
              "      <td>-0.878295</td>\n",
              "      <td>-1.189375</td>\n",
              "      <td>-1.764983</td>\n",
              "      <td>-0.985204</td>\n",
              "      <td>-1.135973</td>\n",
              "      <td>-0.212743</td>\n",
              "      <td>1.411395</td>\n",
              "      <td>-1.801890</td>\n",
              "      <td>-1.606358</td>\n",
              "    </tr>\n",
              "    <tr>\n",
              "      <th>1</th>\n",
              "      <td>-1.547754</td>\n",
              "      <td>-0.878295</td>\n",
              "      <td>-0.910883</td>\n",
              "      <td>-0.141107</td>\n",
              "      <td>-0.598814</td>\n",
              "      <td>-1.389369</td>\n",
              "      <td>-0.212743</td>\n",
              "      <td>-0.096865</td>\n",
              "      <td>-1.354565</td>\n",
              "      <td>-1.606358</td>\n",
              "    </tr>\n",
              "    <tr>\n",
              "      <th>2</th>\n",
              "      <td>-1.502133</td>\n",
              "      <td>-0.878295</td>\n",
              "      <td>-2.030564</td>\n",
              "      <td>-1.180549</td>\n",
              "      <td>-0.324229</td>\n",
              "      <td>-1.573196</td>\n",
              "      <td>-0.212743</td>\n",
              "      <td>-0.358061</td>\n",
              "      <td>-2.210391</td>\n",
              "      <td>-1.606358</td>\n",
              "    </tr>\n",
              "    <tr>\n",
              "      <th>3</th>\n",
              "      <td>-1.500992</td>\n",
              "      <td>-0.878295</td>\n",
              "      <td>-2.149066</td>\n",
              "      <td>-1.764983</td>\n",
              "      <td>-0.261189</td>\n",
              "      <td>-1.550006</td>\n",
              "      <td>-0.212743</td>\n",
              "      <td>0.318245</td>\n",
              "      <td>-2.266690</td>\n",
              "      <td>-1.606358</td>\n",
              "    </tr>\n",
              "    <tr>\n",
              "      <th>4</th>\n",
              "      <td>-1.485024</td>\n",
              "      <td>-0.878295</td>\n",
              "      <td>-2.015348</td>\n",
              "      <td>-1.764983</td>\n",
              "      <td>-0.985204</td>\n",
              "      <td>-1.770307</td>\n",
              "      <td>-0.212743</td>\n",
              "      <td>0.884591</td>\n",
              "      <td>-2.458328</td>\n",
              "      <td>-1.606358</td>\n",
              "    </tr>\n",
              "    <tr>\n",
              "      <th>...</th>\n",
              "      <td>...</td>\n",
              "      <td>...</td>\n",
              "      <td>...</td>\n",
              "      <td>...</td>\n",
              "      <td>...</td>\n",
              "      <td>...</td>\n",
              "      <td>...</td>\n",
              "      <td>...</td>\n",
              "      <td>...</td>\n",
              "      <td>...</td>\n",
              "    </tr>\n",
              "    <tr>\n",
              "      <th>17693</th>\n",
              "      <td>1.403983</td>\n",
              "      <td>1.736710</td>\n",
              "      <td>1.446423</td>\n",
              "      <td>1.927624</td>\n",
              "      <td>0.165981</td>\n",
              "      <td>-0.590457</td>\n",
              "      <td>-0.212743</td>\n",
              "      <td>0.224983</td>\n",
              "      <td>1.102506</td>\n",
              "      <td>1.609975</td>\n",
              "    </tr>\n",
              "    <tr>\n",
              "      <th>17694</th>\n",
              "      <td>1.642358</td>\n",
              "      <td>1.736710</td>\n",
              "      <td>0.775719</td>\n",
              "      <td>0.440529</td>\n",
              "      <td>-0.683942</td>\n",
              "      <td>0.247630</td>\n",
              "      <td>-0.212743</td>\n",
              "      <td>0.279649</td>\n",
              "      <td>0.257209</td>\n",
              "      <td>1.609975</td>\n",
              "    </tr>\n",
              "    <tr>\n",
              "      <th>17695</th>\n",
              "      <td>1.664028</td>\n",
              "      <td>1.736710</td>\n",
              "      <td>1.045516</td>\n",
              "      <td>-0.254367</td>\n",
              "      <td>-0.695326</td>\n",
              "      <td>0.114459</td>\n",
              "      <td>-0.212743</td>\n",
              "      <td>0.986360</td>\n",
              "      <td>0.003496</td>\n",
              "      <td>1.609975</td>\n",
              "    </tr>\n",
              "    <tr>\n",
              "      <th>17696</th>\n",
              "      <td>1.756412</td>\n",
              "      <td>1.736710</td>\n",
              "      <td>1.068061</td>\n",
              "      <td>-0.338301</td>\n",
              "      <td>-0.280050</td>\n",
              "      <td>1.304328</td>\n",
              "      <td>-0.212743</td>\n",
              "      <td>0.315882</td>\n",
              "      <td>0.584623</td>\n",
              "      <td>1.609975</td>\n",
              "    </tr>\n",
              "    <tr>\n",
              "      <th>17697</th>\n",
              "      <td>1.757553</td>\n",
              "      <td>1.736710</td>\n",
              "      <td>1.054025</td>\n",
              "      <td>1.066516</td>\n",
              "      <td>0.712772</td>\n",
              "      <td>0.181664</td>\n",
              "      <td>-0.212743</td>\n",
              "      <td>-0.248888</td>\n",
              "      <td>1.011768</td>\n",
              "      <td>1.609975</td>\n",
              "    </tr>\n",
              "  </tbody>\n",
              "</table>\n",
              "<p>17698 rows × 10 columns</p>\n",
              "</div>"
            ],
            "text/plain": [
              "       feature0  feature1  feature2  ...  feature7  feature8  feature9\n",
              "0     -1.548895 -0.878295 -1.189375  ...  1.411395 -1.801890 -1.606358\n",
              "1     -1.547754 -0.878295 -0.910883  ... -0.096865 -1.354565 -1.606358\n",
              "2     -1.502133 -0.878295 -2.030564  ... -0.358061 -2.210391 -1.606358\n",
              "3     -1.500992 -0.878295 -2.149066  ...  0.318245 -2.266690 -1.606358\n",
              "4     -1.485024 -0.878295 -2.015348  ...  0.884591 -2.458328 -1.606358\n",
              "...         ...       ...       ...  ...       ...       ...       ...\n",
              "17693  1.403983  1.736710  1.446423  ...  0.224983  1.102506  1.609975\n",
              "17694  1.642358  1.736710  0.775719  ...  0.279649  0.257209  1.609975\n",
              "17695  1.664028  1.736710  1.045516  ...  0.986360  0.003496  1.609975\n",
              "17696  1.756412  1.736710  1.068061  ...  0.315882  0.584623  1.609975\n",
              "17697  1.757553  1.736710  1.054025  ... -0.248888  1.011768  1.609975\n",
              "\n",
              "[17698 rows x 10 columns]"
            ]
          },
          "metadata": {
            "tags": []
          },
          "execution_count": 981
        }
      ]
    },
    {
      "cell_type": "code",
      "metadata": {
        "id": "Pt0nemRrkq2Z"
      },
      "source": [
        "from sklearn.decomposition import PCA\r\n",
        "\r\n",
        "pca_uk = PCA(n_components=2)\r\n",
        "principalComponents_uk = pca_uk.fit_transform(X)"
      ],
      "execution_count": 982,
      "outputs": []
    },
    {
      "cell_type": "code",
      "metadata": {
        "colab": {
          "base_uri": "https://localhost:8080/",
          "height": 407
        },
        "id": "XTcSzu8Nlqu5",
        "outputId": "a6bef7f3-608c-4cac-a5fe-5ea99299f838"
      },
      "source": [
        "principal_uk_Df = pd.DataFrame(data = principalComponents_uk, columns = ['principal component 1', 'principal component 2'])\r\n",
        "principal_uk_Df"
      ],
      "execution_count": 983,
      "outputs": [
        {
          "output_type": "execute_result",
          "data": {
            "text/html": [
              "<div>\n",
              "<style scoped>\n",
              "    .dataframe tbody tr th:only-of-type {\n",
              "        vertical-align: middle;\n",
              "    }\n",
              "\n",
              "    .dataframe tbody tr th {\n",
              "        vertical-align: top;\n",
              "    }\n",
              "\n",
              "    .dataframe thead th {\n",
              "        text-align: right;\n",
              "    }\n",
              "</style>\n",
              "<table border=\"1\" class=\"dataframe\">\n",
              "  <thead>\n",
              "    <tr style=\"text-align: right;\">\n",
              "      <th></th>\n",
              "      <th>principal component 1</th>\n",
              "      <th>principal component 2</th>\n",
              "    </tr>\n",
              "  </thead>\n",
              "  <tbody>\n",
              "    <tr>\n",
              "      <th>0</th>\n",
              "      <td>3.508117</td>\n",
              "      <td>1.001230</td>\n",
              "    </tr>\n",
              "    <tr>\n",
              "      <th>1</th>\n",
              "      <td>2.421603</td>\n",
              "      <td>-0.544080</td>\n",
              "    </tr>\n",
              "    <tr>\n",
              "      <th>2</th>\n",
              "      <td>3.845564</td>\n",
              "      <td>-0.568896</td>\n",
              "    </tr>\n",
              "    <tr>\n",
              "      <th>3</th>\n",
              "      <td>4.165202</td>\n",
              "      <td>-0.063573</td>\n",
              "    </tr>\n",
              "    <tr>\n",
              "      <th>4</th>\n",
              "      <td>4.440694</td>\n",
              "      <td>0.460626</td>\n",
              "    </tr>\n",
              "    <tr>\n",
              "      <th>...</th>\n",
              "      <td>...</td>\n",
              "      <td>...</td>\n",
              "    </tr>\n",
              "    <tr>\n",
              "      <th>17693</th>\n",
              "      <td>-2.610214</td>\n",
              "      <td>-0.510593</td>\n",
              "    </tr>\n",
              "    <tr>\n",
              "      <th>17694</th>\n",
              "      <td>-1.254493</td>\n",
              "      <td>0.588766</td>\n",
              "    </tr>\n",
              "    <tr>\n",
              "      <th>17695</th>\n",
              "      <td>-0.929155</td>\n",
              "      <td>1.185118</td>\n",
              "    </tr>\n",
              "    <tr>\n",
              "      <th>17696</th>\n",
              "      <td>-1.651566</td>\n",
              "      <td>1.056854</td>\n",
              "    </tr>\n",
              "    <tr>\n",
              "      <th>17697</th>\n",
              "      <td>-2.371785</td>\n",
              "      <td>-0.527615</td>\n",
              "    </tr>\n",
              "  </tbody>\n",
              "</table>\n",
              "<p>17698 rows × 2 columns</p>\n",
              "</div>"
            ],
            "text/plain": [
              "       principal component 1  principal component 2\n",
              "0                   3.508117               1.001230\n",
              "1                   2.421603              -0.544080\n",
              "2                   3.845564              -0.568896\n",
              "3                   4.165202              -0.063573\n",
              "4                   4.440694               0.460626\n",
              "...                      ...                    ...\n",
              "17693              -2.610214              -0.510593\n",
              "17694              -1.254493               0.588766\n",
              "17695              -0.929155               1.185118\n",
              "17696              -1.651566               1.056854\n",
              "17697              -2.371785              -0.527615\n",
              "\n",
              "[17698 rows x 2 columns]"
            ]
          },
          "metadata": {
            "tags": []
          },
          "execution_count": 983
        }
      ]
    },
    {
      "cell_type": "code",
      "metadata": {
        "colab": {
          "base_uri": "https://localhost:8080/"
        },
        "id": "baTOA5dvl4sK",
        "outputId": "bc2da12d-0c6a-4e93-f6ab-1993146fae2e"
      },
      "source": [
        "print('Explained variation per principal component: {}'.format(pca_uk.explained_variance_ratio_))"
      ],
      "execution_count": 984,
      "outputs": [
        {
          "output_type": "stream",
          "text": [
            "Explained variation per principal component: [0.30504301 0.13541659]\n"
          ],
          "name": "stdout"
        }
      ]
    },
    {
      "cell_type": "code",
      "metadata": {
        "colab": {
          "base_uri": "https://localhost:8080/"
        },
        "id": "cPwP7oYcnvNn",
        "outputId": "0c8bda48-ad4f-4e1b-fd27-826fab55b3d9"
      },
      "source": [
        "party = {1:'con_votes', 2:'lib_votes', 3:'lab_votes', 4:'nat_SW', 5:'oth_votes'}\r\n",
        "winner = winner.map(party)\r\n",
        "y = winner\r\n",
        "y"
      ],
      "execution_count": 985,
      "outputs": [
        {
          "output_type": "execute_result",
          "data": {
            "text/plain": [
              "0        oth_votes\n",
              "1        con_votes\n",
              "2        con_votes\n",
              "3        oth_votes\n",
              "4        oth_votes\n",
              "           ...    \n",
              "17693    con_votes\n",
              "17694    con_votes\n",
              "17695    lab_votes\n",
              "17696    lab_votes\n",
              "17697    con_votes\n",
              "Length: 17698, dtype: object"
            ]
          },
          "metadata": {
            "tags": []
          },
          "execution_count": 985
        }
      ]
    },
    {
      "cell_type": "code",
      "metadata": {
        "colab": {
          "base_uri": "https://localhost:8080/",
          "height": 672
        },
        "id": "vVlTmXoAmCMk",
        "outputId": "df9a37df-2069-41b0-a8c7-03d0d9a51e80"
      },
      "source": [
        "import matplotlib.pyplot as plt\r\n",
        "\r\n",
        "plt.figure()\r\n",
        "plt.figure(figsize=(10,10))\r\n",
        "plt.xticks(fontsize=12)\r\n",
        "plt.yticks(fontsize=14)\r\n",
        "plt.xlabel('Principal Component - 1',fontsize=20)\r\n",
        "plt.ylabel('Principal Component - 2',fontsize=20)\r\n",
        "plt.title(\"Principal Component Analysis of UK Elections Dataset\",fontsize=20)\r\n",
        "targets = ['con_votes', 'lib_votes', 'lab_votes', 'natSW_votes', 'oth_votes']\r\n",
        "colors = ['r', 'g', 'blue', 'grey', 'yellow']\r\n",
        "for target, color in zip(targets,colors):\r\n",
        "    indicesToKeep = y == target\r\n",
        "    plt.scatter(principal_uk_Df.loc[indicesToKeep, 'principal component 1'], \r\n",
        "                principal_uk_Df.loc[indicesToKeep, 'principal component 2'], c = color, s = 50)\r\n",
        "\r\n",
        "plt.legend(targets,prop={'size': 15})"
      ],
      "execution_count": 986,
      "outputs": [
        {
          "output_type": "execute_result",
          "data": {
            "text/plain": [
              "<matplotlib.legend.Legend at 0x7fa1bb628c50>"
            ]
          },
          "metadata": {
            "tags": []
          },
          "execution_count": 986
        },
        {
          "output_type": "display_data",
          "data": {
            "text/plain": [
              "<Figure size 432x288 with 0 Axes>"
            ]
          },
          "metadata": {
            "tags": []
          }
        },
        {
          "output_type": "display_data",
          "data": {
            "image/png": "[encoded data removed]",
            "text/plain": [
              "<Figure size 720x720 with 1 Axes>"
            ]
          },
          "metadata": {
            "tags": [],
            "needs_background": "light"
          }
        }
      ]
    },
    {
      "cell_type": "code",
      "metadata": {
        "id": "bVmPCjGOpOIS"
      },
      "source": [
        "pca_uk = PCA(n_components=10)\r\n",
        "principalComponents_uk = pca_uk.fit_transform(X)"
      ],
      "execution_count": 987,
      "outputs": []
    },
    {
      "cell_type": "markdown",
      "metadata": {
        "id": "pW0nvTi8q1Ov"
      },
      "source": [
        "Split X up for training and testing"
      ]
    },
    {
      "cell_type": "code",
      "metadata": {
        "colab": {
          "base_uri": "https://localhost:8080/"
        },
        "id": "I0hetcpkq48v",
        "outputId": "431f8aeb-009d-48bb-8677-47a87cd7ec81"
      },
      "source": [
        "#split train set for testing\r\n",
        "from sklearn.model_selection import train_test_split\r\n",
        "\r\n",
        "X_train, X_val, y_train, y_val = train_test_split(X, y, test_size=0.10, random_state=1, stratify=y, shuffle=True)\r\n",
        "X_train.shape, X_val.shape, y_train.shape, y_val.shape"
      ],
      "execution_count": 988,
      "outputs": [
        {
          "output_type": "execute_result",
          "data": {
            "text/plain": [
              "((15928, 10), (1770, 10), (15928,), (1770,))"
            ]
          },
          "metadata": {
            "tags": []
          },
          "execution_count": 988
        }
      ]
    },
    {
      "cell_type": "markdown",
      "metadata": {
        "id": "DGizwU24A2sF"
      },
      "source": [
        "Select model"
      ]
    },
    {
      "cell_type": "code",
      "metadata": {
        "colab": {
          "base_uri": "https://localhost:8080/"
        },
        "id": "lfa1QntcA56V",
        "outputId": "e59f5c7f-1382-408b-f32d-17e7c48b3697"
      },
      "source": [
        "!pip install catboost"
      ],
      "execution_count": 989,
      "outputs": [
        {
          "output_type": "stream",
          "text": [
            "Requirement already satisfied: catboost in /usr/local/lib/python3.6/dist-packages (0.24.3)\n",
            "Requirement already satisfied: pandas>=0.24.0 in /usr/local/lib/python3.6/dist-packages (from catboost) (1.1.5)\n",
            "Requirement already satisfied: scipy in /usr/local/lib/python3.6/dist-packages (from catboost) (1.4.1)\n",
            "Requirement already satisfied: matplotlib in /usr/local/lib/python3.6/dist-packages (from catboost) (3.2.2)\n",
            "Requirement already satisfied: six in /usr/local/lib/python3.6/dist-packages (from catboost) (1.15.0)\n",
            "Requirement already satisfied: graphviz in /usr/local/lib/python3.6/dist-packages (from catboost) (0.10.1)\n",
            "Requirement already satisfied: plotly in /usr/local/lib/python3.6/dist-packages (from catboost) (4.4.1)\n",
            "Requirement already satisfied: numpy>=1.16.0 in /usr/local/lib/python3.6/dist-packages (from catboost) (1.18.5)\n",
            "Requirement already satisfied: python-dateutil>=2.7.3 in /usr/local/lib/python3.6/dist-packages (from pandas>=0.24.0->catboost) (2.8.1)\n",
            "Requirement already satisfied: pytz>=2017.2 in /usr/local/lib/python3.6/dist-packages (from pandas>=0.24.0->catboost) (2018.9)\n",
            "Requirement already satisfied: pyparsing!=2.0.4,!=2.1.2,!=2.1.6,>=2.0.1 in /usr/local/lib/python3.6/dist-packages (from matplotlib->catboost) (2.4.7)\n",
            "Requirement already satisfied: kiwisolver>=1.0.1 in /usr/local/lib/python3.6/dist-packages (from matplotlib->catboost) (1.3.1)\n",
            "Requirement already satisfied: cycler>=0.10 in /usr/local/lib/python3.6/dist-packages (from matplotlib->catboost) (0.10.0)\n",
            "Requirement already satisfied: retrying>=1.3.3 in /usr/local/lib/python3.6/dist-packages (from plotly->catboost) (1.3.3)\n"
          ],
          "name": "stdout"
        }
      ]
    },
    {
      "cell_type": "code",
      "metadata": {
        "colab": {
          "base_uri": "https://localhost:8080/"
        },
        "id": "QE_hXqC7BPiP",
        "outputId": "88159e88-c5da-4f5c-b441-298c817f8e85"
      },
      "source": [
        "from catboost import Pool, CatBoostClassifier, cv\r\n",
        "\r\n",
        "model = CatBoostClassifier(eval_metric='Accuracy',random_seed=1, loss_function='MultiClass').fit(X_train,y_train)\r\n",
        "print(model.score(X_train, y_train))"
      ],
      "execution_count": 990,
      "outputs": [
        {
          "output_type": "stream",
          "text": [
            "Learning rate set to 0.091124\n",
            "0:\tlearn: 0.8216349\ttotal: 23.6ms\tremaining: 23.6s\n",
            "1:\tlearn: 0.8717981\ttotal: 44.6ms\tremaining: 22.3s\n",
            "2:\tlearn: 0.8913235\ttotal: 65.5ms\tremaining: 21.8s\n",
            "3:\tlearn: 0.8947137\ttotal: 85.9ms\tremaining: 21.4s\n",
            "4:\tlearn: 0.9000502\ttotal: 107ms\tremaining: 21.3s\n",
            "5:\tlearn: 0.9046334\ttotal: 128ms\tremaining: 21.2s\n",
            "6:\tlearn: 0.9095304\ttotal: 159ms\tremaining: 22.6s\n",
            "7:\tlearn: 0.9097815\ttotal: 180ms\tremaining: 22.4s\n",
            "8:\tlearn: 0.9207685\ttotal: 206ms\tremaining: 22.6s\n",
            "9:\tlearn: 0.9195756\ttotal: 227ms\tremaining: 22.5s\n",
            "10:\tlearn: 0.9218985\ttotal: 248ms\tremaining: 22.3s\n",
            "11:\tlearn: 0.9252888\ttotal: 269ms\tremaining: 22.1s\n",
            "12:\tlearn: 0.9278629\ttotal: 290ms\tremaining: 22s\n",
            "13:\tlearn: 0.9304370\ttotal: 310ms\tremaining: 21.8s\n",
            "14:\tlearn: 0.9328855\ttotal: 330ms\tremaining: 21.7s\n",
            "15:\tlearn: 0.9330110\ttotal: 350ms\tremaining: 21.5s\n",
            "16:\tlearn: 0.9364641\ttotal: 371ms\tremaining: 21.4s\n",
            "17:\tlearn: 0.9382220\ttotal: 391ms\tremaining: 21.3s\n",
            "18:\tlearn: 0.9389754\ttotal: 426ms\tremaining: 22s\n",
            "19:\tlearn: 0.9392265\ttotal: 449ms\tremaining: 22s\n",
            "20:\tlearn: 0.9388498\ttotal: 470ms\tremaining: 21.9s\n",
            "21:\tlearn: 0.9412356\ttotal: 490ms\tremaining: 21.8s\n",
            "22:\tlearn: 0.9436841\ttotal: 510ms\tremaining: 21.7s\n",
            "23:\tlearn: 0.9446886\ttotal: 539ms\tremaining: 21.9s\n",
            "24:\tlearn: 0.9466976\ttotal: 559ms\tremaining: 21.8s\n",
            "25:\tlearn: 0.9475766\ttotal: 578ms\tremaining: 21.7s\n",
            "26:\tlearn: 0.9500251\ttotal: 599ms\tremaining: 21.6s\n",
            "27:\tlearn: 0.9490834\ttotal: 618ms\tremaining: 21.5s\n",
            "28:\tlearn: 0.9495229\ttotal: 643ms\tremaining: 21.5s\n",
            "29:\tlearn: 0.9507785\ttotal: 663ms\tremaining: 21.4s\n",
            "30:\tlearn: 0.9531642\ttotal: 683ms\tremaining: 21.3s\n",
            "31:\tlearn: 0.9536037\ttotal: 703ms\tremaining: 21.3s\n",
            "32:\tlearn: 0.9546082\ttotal: 722ms\tremaining: 21.2s\n",
            "33:\tlearn: 0.9549849\ttotal: 742ms\tremaining: 21.1s\n",
            "34:\tlearn: 0.9556128\ttotal: 761ms\tremaining: 21s\n",
            "35:\tlearn: 0.9564289\ttotal: 781ms\tremaining: 20.9s\n",
            "36:\tlearn: 0.9563034\ttotal: 802ms\tremaining: 20.9s\n",
            "37:\tlearn: 0.9581241\ttotal: 828ms\tremaining: 21s\n",
            "38:\tlearn: 0.9610748\ttotal: 852ms\tremaining: 21s\n",
            "39:\tlearn: 0.9622049\ttotal: 874ms\tremaining: 21s\n",
            "40:\tlearn: 0.9629583\ttotal: 895ms\tremaining: 20.9s\n",
            "41:\tlearn: 0.9639628\ttotal: 915ms\tremaining: 20.9s\n",
            "42:\tlearn: 0.9645279\ttotal: 935ms\tremaining: 20.8s\n",
            "43:\tlearn: 0.9651557\ttotal: 956ms\tremaining: 20.8s\n",
            "44:\tlearn: 0.9650301\ttotal: 974ms\tremaining: 20.7s\n",
            "45:\tlearn: 0.9660974\ttotal: 993ms\tremaining: 20.6s\n",
            "46:\tlearn: 0.9671020\ttotal: 1.01s\tremaining: 20.5s\n",
            "47:\tlearn: 0.9672275\ttotal: 1.03s\tremaining: 20.5s\n",
            "48:\tlearn: 0.9670392\ttotal: 1.06s\tremaining: 20.5s\n",
            "49:\tlearn: 0.9677298\ttotal: 1.08s\tremaining: 20.4s\n",
            "50:\tlearn: 0.9679181\ttotal: 1.09s\tremaining: 20.4s\n",
            "51:\tlearn: 0.9671647\ttotal: 1.12s\tremaining: 20.4s\n",
            "52:\tlearn: 0.9690482\ttotal: 1.14s\tremaining: 20.4s\n",
            "53:\tlearn: 0.9688599\ttotal: 1.16s\tremaining: 20.3s\n",
            "54:\tlearn: 0.9686087\ttotal: 1.18s\tremaining: 20.3s\n",
            "55:\tlearn: 0.9693621\ttotal: 1.2s\tremaining: 20.3s\n",
            "56:\tlearn: 0.9713712\ttotal: 1.22s\tremaining: 20.2s\n",
            "57:\tlearn: 0.9714967\ttotal: 1.24s\tremaining: 20.2s\n",
            "58:\tlearn: 0.9721246\ttotal: 1.27s\tremaining: 20.2s\n",
            "59:\tlearn: 0.9708689\ttotal: 1.29s\tremaining: 20.2s\n",
            "60:\tlearn: 0.9726896\ttotal: 1.31s\tremaining: 20.1s\n",
            "61:\tlearn: 0.9733174\ttotal: 1.33s\tremaining: 20.1s\n",
            "62:\tlearn: 0.9735686\ttotal: 1.35s\tremaining: 20s\n",
            "63:\tlearn: 0.9736941\ttotal: 1.37s\tremaining: 20s\n",
            "64:\tlearn: 0.9738825\ttotal: 1.39s\tremaining: 20s\n",
            "65:\tlearn: 0.9739453\ttotal: 1.41s\tremaining: 19.9s\n",
            "66:\tlearn: 0.9740708\ttotal: 1.44s\tremaining: 20s\n",
            "67:\tlearn: 0.9742592\ttotal: 1.46s\tremaining: 20s\n",
            "68:\tlearn: 0.9748870\ttotal: 1.48s\tremaining: 20s\n",
            "69:\tlearn: 0.9756404\ttotal: 1.5s\tremaining: 20s\n",
            "70:\tlearn: 0.9757032\ttotal: 1.52s\tremaining: 20s\n",
            "71:\tlearn: 0.9759543\ttotal: 1.54s\tremaining: 19.9s\n",
            "72:\tlearn: 0.9758915\ttotal: 1.56s\tremaining: 19.9s\n",
            "73:\tlearn: 0.9762054\ttotal: 1.58s\tremaining: 19.8s\n",
            "74:\tlearn: 0.9761426\ttotal: 1.6s\tremaining: 19.8s\n",
            "75:\tlearn: 0.9761426\ttotal: 1.62s\tremaining: 19.7s\n",
            "76:\tlearn: 0.9769588\ttotal: 1.64s\tremaining: 19.7s\n",
            "77:\tlearn: 0.9771472\ttotal: 1.66s\tremaining: 19.7s\n",
            "78:\tlearn: 0.9769588\ttotal: 1.69s\tremaining: 19.7s\n",
            "79:\tlearn: 0.9775239\ttotal: 1.71s\tremaining: 19.6s\n",
            "80:\tlearn: 0.9778378\ttotal: 1.73s\tremaining: 19.6s\n",
            "81:\tlearn: 0.9777122\ttotal: 1.75s\tremaining: 19.6s\n",
            "82:\tlearn: 0.9775866\ttotal: 1.77s\tremaining: 19.6s\n",
            "83:\tlearn: 0.9776494\ttotal: 1.79s\tremaining: 19.5s\n",
            "84:\tlearn: 0.9775239\ttotal: 1.81s\tremaining: 19.5s\n",
            "85:\tlearn: 0.9772727\ttotal: 1.83s\tremaining: 19.4s\n",
            "86:\tlearn: 0.9773355\ttotal: 1.85s\tremaining: 19.4s\n",
            "87:\tlearn: 0.9777750\ttotal: 1.87s\tremaining: 19.4s\n",
            "88:\tlearn: 0.9778378\ttotal: 1.89s\tremaining: 19.4s\n",
            "89:\tlearn: 0.9784028\ttotal: 1.91s\tremaining: 19.3s\n",
            "90:\tlearn: 0.9783400\ttotal: 1.93s\tremaining: 19.3s\n",
            "91:\tlearn: 0.9783400\ttotal: 1.95s\tremaining: 19.3s\n",
            "92:\tlearn: 0.9787167\ttotal: 1.97s\tremaining: 19.2s\n",
            "93:\tlearn: 0.9787795\ttotal: 1.99s\tremaining: 19.2s\n",
            "94:\tlearn: 0.9787795\ttotal: 2.01s\tremaining: 19.2s\n",
            "95:\tlearn: 0.9786539\ttotal: 2.03s\tremaining: 19.2s\n",
            "96:\tlearn: 0.9794073\ttotal: 2.05s\tremaining: 19.1s\n",
            "97:\tlearn: 0.9793446\ttotal: 2.07s\tremaining: 19.1s\n",
            "98:\tlearn: 0.9793446\ttotal: 2.1s\tremaining: 19.1s\n",
            "99:\tlearn: 0.9794073\ttotal: 2.12s\tremaining: 19s\n",
            "100:\tlearn: 0.9798468\ttotal: 2.14s\tremaining: 19s\n",
            "101:\tlearn: 0.9799724\ttotal: 2.16s\tremaining: 19s\n",
            "102:\tlearn: 0.9800352\ttotal: 2.18s\tremaining: 18.9s\n",
            "103:\tlearn: 0.9801607\ttotal: 2.2s\tremaining: 18.9s\n",
            "104:\tlearn: 0.9803491\ttotal: 2.22s\tremaining: 18.9s\n",
            "105:\tlearn: 0.9806002\ttotal: 2.24s\tremaining: 18.9s\n",
            "106:\tlearn: 0.9811652\ttotal: 2.26s\tremaining: 18.9s\n",
            "107:\tlearn: 0.9811652\ttotal: 2.28s\tremaining: 18.8s\n",
            "108:\tlearn: 0.9812908\ttotal: 2.3s\tremaining: 18.8s\n",
            "109:\tlearn: 0.9815419\ttotal: 2.32s\tremaining: 18.8s\n",
            "110:\tlearn: 0.9816675\ttotal: 2.34s\tremaining: 18.8s\n",
            "111:\tlearn: 0.9819186\ttotal: 2.36s\tremaining: 18.7s\n",
            "112:\tlearn: 0.9821070\ttotal: 2.38s\tremaining: 18.7s\n",
            "113:\tlearn: 0.9820442\ttotal: 2.4s\tremaining: 18.7s\n",
            "114:\tlearn: 0.9822953\ttotal: 2.43s\tremaining: 18.7s\n",
            "115:\tlearn: 0.9824209\ttotal: 2.45s\tremaining: 18.7s\n",
            "116:\tlearn: 0.9827976\ttotal: 2.48s\tremaining: 18.7s\n",
            "117:\tlearn: 0.9829232\ttotal: 2.5s\tremaining: 18.7s\n",
            "118:\tlearn: 0.9828604\ttotal: 2.52s\tremaining: 18.7s\n",
            "119:\tlearn: 0.9828604\ttotal: 2.54s\tremaining: 18.7s\n",
            "120:\tlearn: 0.9830487\ttotal: 2.56s\tremaining: 18.6s\n",
            "121:\tlearn: 0.9831743\ttotal: 2.58s\tremaining: 18.6s\n",
            "122:\tlearn: 0.9831743\ttotal: 2.6s\tremaining: 18.6s\n",
            "123:\tlearn: 0.9830487\ttotal: 2.62s\tremaining: 18.5s\n",
            "124:\tlearn: 0.9829859\ttotal: 2.64s\tremaining: 18.5s\n",
            "125:\tlearn: 0.9832371\ttotal: 2.66s\tremaining: 18.5s\n",
            "126:\tlearn: 0.9832371\ttotal: 2.69s\tremaining: 18.5s\n",
            "127:\tlearn: 0.9835510\ttotal: 2.71s\tremaining: 18.4s\n",
            "128:\tlearn: 0.9838021\ttotal: 2.73s\tremaining: 18.4s\n",
            "129:\tlearn: 0.9839277\ttotal: 2.75s\tremaining: 18.4s\n",
            "130:\tlearn: 0.9838649\ttotal: 2.77s\tremaining: 18.4s\n",
            "131:\tlearn: 0.9841788\ttotal: 2.79s\tremaining: 18.3s\n",
            "132:\tlearn: 0.9841788\ttotal: 2.81s\tremaining: 18.3s\n",
            "133:\tlearn: 0.9844299\ttotal: 2.83s\tremaining: 18.3s\n",
            "134:\tlearn: 0.9844299\ttotal: 2.85s\tremaining: 18.2s\n",
            "135:\tlearn: 0.9843672\ttotal: 2.87s\tremaining: 18.2s\n",
            "136:\tlearn: 0.9845555\ttotal: 2.89s\tremaining: 18.2s\n",
            "137:\tlearn: 0.9848694\ttotal: 2.91s\tremaining: 18.2s\n",
            "138:\tlearn: 0.9847438\ttotal: 2.93s\tremaining: 18.2s\n",
            "139:\tlearn: 0.9849950\ttotal: 2.95s\tremaining: 18.1s\n",
            "140:\tlearn: 0.9851833\ttotal: 2.97s\tremaining: 18.1s\n",
            "141:\tlearn: 0.9853089\ttotal: 2.99s\tremaining: 18.1s\n",
            "142:\tlearn: 0.9852461\ttotal: 3.01s\tremaining: 18.1s\n",
            "143:\tlearn: 0.9851833\ttotal: 3.03s\tremaining: 18s\n",
            "144:\tlearn: 0.9852461\ttotal: 3.05s\tremaining: 18s\n",
            "145:\tlearn: 0.9855600\ttotal: 3.07s\tremaining: 18s\n",
            "146:\tlearn: 0.9859367\ttotal: 3.09s\tremaining: 17.9s\n",
            "147:\tlearn: 0.9861251\ttotal: 3.11s\tremaining: 17.9s\n",
            "148:\tlearn: 0.9861878\ttotal: 3.13s\tremaining: 17.9s\n",
            "149:\tlearn: 0.9863762\ttotal: 3.15s\tremaining: 17.9s\n",
            "150:\tlearn: 0.9863762\ttotal: 3.17s\tremaining: 17.8s\n",
            "151:\tlearn: 0.9866901\ttotal: 3.19s\tremaining: 17.8s\n",
            "152:\tlearn: 0.9865018\ttotal: 3.21s\tremaining: 17.8s\n",
            "153:\tlearn: 0.9865018\ttotal: 3.24s\tremaining: 17.8s\n",
            "154:\tlearn: 0.9867529\ttotal: 3.26s\tremaining: 17.8s\n",
            "155:\tlearn: 0.9869412\ttotal: 3.28s\tremaining: 17.7s\n",
            "156:\tlearn: 0.9868157\ttotal: 3.3s\tremaining: 17.7s\n",
            "157:\tlearn: 0.9868785\ttotal: 3.31s\tremaining: 17.7s\n",
            "158:\tlearn: 0.9868157\ttotal: 3.34s\tremaining: 17.7s\n",
            "159:\tlearn: 0.9873179\ttotal: 3.36s\tremaining: 17.6s\n",
            "160:\tlearn: 0.9873807\ttotal: 3.38s\tremaining: 17.6s\n",
            "161:\tlearn: 0.9873807\ttotal: 3.4s\tremaining: 17.6s\n",
            "162:\tlearn: 0.9875063\ttotal: 3.42s\tremaining: 17.6s\n",
            "163:\tlearn: 0.9876318\ttotal: 3.45s\tremaining: 17.6s\n",
            "164:\tlearn: 0.9878202\ttotal: 3.47s\tremaining: 17.6s\n",
            "165:\tlearn: 0.9878830\ttotal: 3.5s\tremaining: 17.6s\n",
            "166:\tlearn: 0.9880085\ttotal: 3.52s\tremaining: 17.5s\n",
            "167:\tlearn: 0.9880713\ttotal: 3.54s\tremaining: 17.5s\n",
            "168:\tlearn: 0.9880085\ttotal: 3.56s\tremaining: 17.5s\n",
            "169:\tlearn: 0.9881969\ttotal: 3.58s\tremaining: 17.5s\n",
            "170:\tlearn: 0.9882597\ttotal: 3.6s\tremaining: 17.5s\n",
            "171:\tlearn: 0.9883852\ttotal: 3.62s\tremaining: 17.4s\n",
            "172:\tlearn: 0.9881969\ttotal: 3.64s\tremaining: 17.4s\n",
            "173:\tlearn: 0.9883852\ttotal: 3.66s\tremaining: 17.4s\n",
            "174:\tlearn: 0.9886364\ttotal: 3.68s\tremaining: 17.4s\n",
            "175:\tlearn: 0.9884480\ttotal: 3.7s\tremaining: 17.3s\n",
            "176:\tlearn: 0.9885736\ttotal: 3.72s\tremaining: 17.3s\n",
            "177:\tlearn: 0.9885736\ttotal: 3.74s\tremaining: 17.3s\n",
            "178:\tlearn: 0.9885736\ttotal: 3.77s\tremaining: 17.3s\n",
            "179:\tlearn: 0.9884480\ttotal: 3.79s\tremaining: 17.3s\n",
            "180:\tlearn: 0.9884480\ttotal: 3.81s\tremaining: 17.2s\n",
            "181:\tlearn: 0.9884480\ttotal: 3.83s\tremaining: 17.2s\n",
            "182:\tlearn: 0.9885736\ttotal: 3.85s\tremaining: 17.2s\n",
            "183:\tlearn: 0.9885108\ttotal: 3.87s\tremaining: 17.2s\n",
            "184:\tlearn: 0.9886364\ttotal: 3.89s\tremaining: 17.1s\n",
            "185:\tlearn: 0.9886991\ttotal: 3.91s\tremaining: 17.1s\n",
            "186:\tlearn: 0.9885108\ttotal: 3.93s\tremaining: 17.1s\n",
            "187:\tlearn: 0.9885736\ttotal: 3.95s\tremaining: 17s\n",
            "188:\tlearn: 0.9885108\ttotal: 3.97s\tremaining: 17s\n",
            "189:\tlearn: 0.9885108\ttotal: 3.99s\tremaining: 17s\n",
            "190:\tlearn: 0.9885108\ttotal: 4.01s\tremaining: 17s\n",
            "191:\tlearn: 0.9885736\ttotal: 4.03s\tremaining: 17s\n",
            "192:\tlearn: 0.9886364\ttotal: 4.05s\tremaining: 17s\n",
            "193:\tlearn: 0.9885736\ttotal: 4.08s\tremaining: 16.9s\n",
            "194:\tlearn: 0.9886991\ttotal: 4.1s\tremaining: 16.9s\n",
            "195:\tlearn: 0.9888875\ttotal: 4.12s\tremaining: 16.9s\n",
            "196:\tlearn: 0.9891386\ttotal: 4.14s\tremaining: 16.9s\n",
            "197:\tlearn: 0.9890758\ttotal: 4.16s\tremaining: 16.9s\n",
            "198:\tlearn: 0.9890131\ttotal: 4.18s\tremaining: 16.8s\n",
            "199:\tlearn: 0.9888875\ttotal: 4.2s\tremaining: 16.8s\n",
            "200:\tlearn: 0.9888247\ttotal: 4.22s\tremaining: 16.8s\n",
            "201:\tlearn: 0.9888875\ttotal: 4.24s\tremaining: 16.8s\n",
            "202:\tlearn: 0.9892014\ttotal: 4.26s\tremaining: 16.7s\n",
            "203:\tlearn: 0.9892642\ttotal: 4.28s\tremaining: 16.7s\n",
            "204:\tlearn: 0.9891386\ttotal: 4.3s\tremaining: 16.7s\n",
            "205:\tlearn: 0.9892014\ttotal: 4.32s\tremaining: 16.7s\n",
            "206:\tlearn: 0.9892642\ttotal: 4.34s\tremaining: 16.6s\n",
            "207:\tlearn: 0.9895781\ttotal: 4.36s\tremaining: 16.6s\n",
            "208:\tlearn: 0.9897037\ttotal: 4.38s\tremaining: 16.6s\n",
            "209:\tlearn: 0.9896409\ttotal: 4.4s\tremaining: 16.6s\n",
            "210:\tlearn: 0.9897037\ttotal: 4.42s\tremaining: 16.5s\n",
            "211:\tlearn: 0.9897037\ttotal: 4.45s\tremaining: 16.5s\n",
            "212:\tlearn: 0.9897664\ttotal: 4.47s\tremaining: 16.5s\n",
            "213:\tlearn: 0.9897037\ttotal: 4.49s\tremaining: 16.5s\n",
            "214:\tlearn: 0.9900176\ttotal: 4.51s\tremaining: 16.5s\n",
            "215:\tlearn: 0.9899548\ttotal: 4.53s\tremaining: 16.5s\n",
            "216:\tlearn: 0.9899548\ttotal: 4.55s\tremaining: 16.4s\n",
            "217:\tlearn: 0.9901431\ttotal: 4.57s\tremaining: 16.4s\n",
            "218:\tlearn: 0.9901431\ttotal: 4.59s\tremaining: 16.4s\n",
            "219:\tlearn: 0.9902687\ttotal: 4.62s\tremaining: 16.4s\n",
            "220:\tlearn: 0.9904571\ttotal: 4.64s\tremaining: 16.4s\n",
            "221:\tlearn: 0.9905826\ttotal: 4.66s\tremaining: 16.3s\n",
            "222:\tlearn: 0.9905826\ttotal: 4.68s\tremaining: 16.3s\n",
            "223:\tlearn: 0.9905198\ttotal: 4.7s\tremaining: 16.3s\n",
            "224:\tlearn: 0.9905826\ttotal: 4.72s\tremaining: 16.3s\n",
            "225:\tlearn: 0.9907710\ttotal: 4.74s\tremaining: 16.2s\n",
            "226:\tlearn: 0.9907710\ttotal: 4.76s\tremaining: 16.2s\n",
            "227:\tlearn: 0.9907710\ttotal: 4.78s\tremaining: 16.2s\n",
            "228:\tlearn: 0.9907082\ttotal: 4.8s\tremaining: 16.2s\n",
            "229:\tlearn: 0.9907082\ttotal: 4.82s\tremaining: 16.1s\n",
            "230:\tlearn: 0.9907082\ttotal: 4.84s\tremaining: 16.1s\n",
            "231:\tlearn: 0.9905826\ttotal: 4.86s\tremaining: 16.1s\n",
            "232:\tlearn: 0.9907710\ttotal: 4.88s\tremaining: 16.1s\n",
            "233:\tlearn: 0.9905198\ttotal: 4.9s\tremaining: 16.1s\n",
            "234:\tlearn: 0.9905198\ttotal: 4.92s\tremaining: 16s\n",
            "235:\tlearn: 0.9905198\ttotal: 4.95s\tremaining: 16s\n",
            "236:\tlearn: 0.9904571\ttotal: 4.97s\tremaining: 16s\n",
            "237:\tlearn: 0.9905826\ttotal: 4.98s\tremaining: 16s\n",
            "238:\tlearn: 0.9906454\ttotal: 5s\tremaining: 15.9s\n",
            "239:\tlearn: 0.9906454\ttotal: 5.02s\tremaining: 15.9s\n",
            "240:\tlearn: 0.9903943\ttotal: 5.05s\tremaining: 15.9s\n",
            "241:\tlearn: 0.9903315\ttotal: 5.07s\tremaining: 15.9s\n",
            "242:\tlearn: 0.9905198\ttotal: 5.09s\tremaining: 15.9s\n",
            "243:\tlearn: 0.9905198\ttotal: 5.11s\tremaining: 15.8s\n",
            "244:\tlearn: 0.9905826\ttotal: 5.13s\tremaining: 15.8s\n",
            "245:\tlearn: 0.9905826\ttotal: 5.15s\tremaining: 15.8s\n",
            "246:\tlearn: 0.9906454\ttotal: 5.17s\tremaining: 15.8s\n",
            "247:\tlearn: 0.9907082\ttotal: 5.19s\tremaining: 15.7s\n",
            "248:\tlearn: 0.9907710\ttotal: 5.21s\tremaining: 15.7s\n",
            "249:\tlearn: 0.9908965\ttotal: 5.24s\tremaining: 15.7s\n",
            "250:\tlearn: 0.9908338\ttotal: 5.27s\tremaining: 15.7s\n",
            "251:\tlearn: 0.9908965\ttotal: 5.29s\tremaining: 15.7s\n",
            "252:\tlearn: 0.9908338\ttotal: 5.31s\tremaining: 15.7s\n",
            "253:\tlearn: 0.9908965\ttotal: 5.33s\tremaining: 15.6s\n",
            "254:\tlearn: 0.9908338\ttotal: 5.35s\tremaining: 15.6s\n",
            "255:\tlearn: 0.9908338\ttotal: 5.37s\tremaining: 15.6s\n",
            "256:\tlearn: 0.9907710\ttotal: 5.39s\tremaining: 15.6s\n",
            "257:\tlearn: 0.9912732\ttotal: 5.41s\tremaining: 15.5s\n",
            "258:\tlearn: 0.9915244\ttotal: 5.43s\tremaining: 15.5s\n",
            "259:\tlearn: 0.9916499\ttotal: 5.45s\tremaining: 15.5s\n",
            "260:\tlearn: 0.9915244\ttotal: 5.48s\tremaining: 15.5s\n",
            "261:\tlearn: 0.9914616\ttotal: 5.5s\tremaining: 15.5s\n",
            "262:\tlearn: 0.9915871\ttotal: 5.52s\tremaining: 15.5s\n",
            "263:\tlearn: 0.9915244\ttotal: 5.54s\tremaining: 15.4s\n",
            "264:\tlearn: 0.9914616\ttotal: 5.56s\tremaining: 15.4s\n",
            "265:\tlearn: 0.9914616\ttotal: 5.58s\tremaining: 15.4s\n",
            "266:\tlearn: 0.9917127\ttotal: 5.6s\tremaining: 15.4s\n",
            "267:\tlearn: 0.9919011\ttotal: 5.62s\tremaining: 15.3s\n",
            "268:\tlearn: 0.9917755\ttotal: 5.64s\tremaining: 15.3s\n",
            "269:\tlearn: 0.9917755\ttotal: 5.66s\tremaining: 15.3s\n",
            "270:\tlearn: 0.9917127\ttotal: 5.68s\tremaining: 15.3s\n",
            "271:\tlearn: 0.9919011\ttotal: 5.7s\tremaining: 15.3s\n",
            "272:\tlearn: 0.9918383\ttotal: 5.72s\tremaining: 15.2s\n",
            "273:\tlearn: 0.9918383\ttotal: 5.74s\tremaining: 15.2s\n",
            "274:\tlearn: 0.9919638\ttotal: 5.76s\tremaining: 15.2s\n",
            "275:\tlearn: 0.9919638\ttotal: 5.78s\tremaining: 15.2s\n",
            "276:\tlearn: 0.9919011\ttotal: 5.8s\tremaining: 15.1s\n",
            "277:\tlearn: 0.9919638\ttotal: 5.82s\tremaining: 15.1s\n",
            "278:\tlearn: 0.9919638\ttotal: 5.83s\tremaining: 15.1s\n",
            "279:\tlearn: 0.9919638\ttotal: 5.85s\tremaining: 15.1s\n",
            "280:\tlearn: 0.9920266\ttotal: 5.87s\tremaining: 15s\n",
            "281:\tlearn: 0.9920894\ttotal: 5.89s\tremaining: 15s\n",
            "282:\tlearn: 0.9920894\ttotal: 5.91s\tremaining: 15s\n",
            "283:\tlearn: 0.9922150\ttotal: 5.93s\tremaining: 15s\n",
            "284:\tlearn: 0.9920894\ttotal: 5.95s\tremaining: 14.9s\n",
            "285:\tlearn: 0.9921522\ttotal: 5.97s\tremaining: 14.9s\n",
            "286:\tlearn: 0.9922777\ttotal: 5.99s\tremaining: 14.9s\n",
            "287:\tlearn: 0.9922777\ttotal: 6.01s\tremaining: 14.9s\n",
            "288:\tlearn: 0.9923405\ttotal: 6.03s\tremaining: 14.8s\n",
            "289:\tlearn: 0.9924033\ttotal: 6.05s\tremaining: 14.8s\n",
            "290:\tlearn: 0.9924033\ttotal: 6.07s\tremaining: 14.8s\n",
            "291:\tlearn: 0.9924033\ttotal: 6.09s\tremaining: 14.8s\n",
            "292:\tlearn: 0.9924661\ttotal: 6.11s\tremaining: 14.7s\n",
            "293:\tlearn: 0.9925289\ttotal: 6.13s\tremaining: 14.7s\n",
            "294:\tlearn: 0.9926544\ttotal: 6.15s\tremaining: 14.7s\n",
            "295:\tlearn: 0.9927800\ttotal: 6.17s\tremaining: 14.7s\n",
            "296:\tlearn: 0.9927800\ttotal: 6.19s\tremaining: 14.6s\n",
            "297:\tlearn: 0.9928428\ttotal: 6.21s\tremaining: 14.6s\n",
            "298:\tlearn: 0.9928428\ttotal: 6.23s\tremaining: 14.6s\n",
            "299:\tlearn: 0.9928428\ttotal: 6.25s\tremaining: 14.6s\n",
            "300:\tlearn: 0.9929056\ttotal: 6.27s\tremaining: 14.6s\n",
            "301:\tlearn: 0.9929056\ttotal: 6.29s\tremaining: 14.5s\n",
            "302:\tlearn: 0.9929684\ttotal: 6.31s\tremaining: 14.5s\n",
            "303:\tlearn: 0.9929684\ttotal: 6.33s\tremaining: 14.5s\n",
            "304:\tlearn: 0.9927800\ttotal: 6.35s\tremaining: 14.5s\n",
            "305:\tlearn: 0.9928428\ttotal: 6.37s\tremaining: 14.4s\n",
            "306:\tlearn: 0.9927172\ttotal: 6.39s\tremaining: 14.4s\n",
            "307:\tlearn: 0.9926544\ttotal: 6.41s\tremaining: 14.4s\n",
            "308:\tlearn: 0.9926544\ttotal: 6.43s\tremaining: 14.4s\n",
            "309:\tlearn: 0.9927172\ttotal: 6.45s\tremaining: 14.4s\n",
            "310:\tlearn: 0.9925917\ttotal: 6.47s\tremaining: 14.3s\n",
            "311:\tlearn: 0.9926544\ttotal: 6.5s\tremaining: 14.3s\n",
            "312:\tlearn: 0.9926544\ttotal: 6.52s\tremaining: 14.3s\n",
            "313:\tlearn: 0.9927172\ttotal: 6.54s\tremaining: 14.3s\n",
            "314:\tlearn: 0.9926544\ttotal: 6.57s\tremaining: 14.3s\n",
            "315:\tlearn: 0.9927800\ttotal: 6.58s\tremaining: 14.3s\n",
            "316:\tlearn: 0.9929684\ttotal: 6.61s\tremaining: 14.2s\n",
            "317:\tlearn: 0.9929684\ttotal: 6.63s\tremaining: 14.2s\n",
            "318:\tlearn: 0.9931567\ttotal: 6.64s\tremaining: 14.2s\n",
            "319:\tlearn: 0.9932195\ttotal: 6.66s\tremaining: 14.2s\n",
            "320:\tlearn: 0.9932195\ttotal: 6.68s\tremaining: 14.1s\n",
            "321:\tlearn: 0.9930939\ttotal: 6.7s\tremaining: 14.1s\n",
            "322:\tlearn: 0.9930939\ttotal: 6.72s\tremaining: 14.1s\n",
            "323:\tlearn: 0.9931567\ttotal: 6.74s\tremaining: 14.1s\n",
            "324:\tlearn: 0.9931567\ttotal: 6.76s\tremaining: 14s\n",
            "325:\tlearn: 0.9931567\ttotal: 6.78s\tremaining: 14s\n",
            "326:\tlearn: 0.9932195\ttotal: 6.8s\tremaining: 14s\n",
            "327:\tlearn: 0.9932823\ttotal: 6.83s\tremaining: 14s\n",
            "328:\tlearn: 0.9932823\ttotal: 6.84s\tremaining: 14s\n",
            "329:\tlearn: 0.9932823\ttotal: 6.87s\tremaining: 13.9s\n",
            "330:\tlearn: 0.9933451\ttotal: 6.88s\tremaining: 13.9s\n",
            "331:\tlearn: 0.9934078\ttotal: 6.91s\tremaining: 13.9s\n",
            "332:\tlearn: 0.9933451\ttotal: 6.92s\tremaining: 13.9s\n",
            "333:\tlearn: 0.9933451\ttotal: 6.95s\tremaining: 13.9s\n",
            "334:\tlearn: 0.9934078\ttotal: 6.97s\tremaining: 13.8s\n",
            "335:\tlearn: 0.9934706\ttotal: 6.99s\tremaining: 13.8s\n",
            "336:\tlearn: 0.9934078\ttotal: 7.01s\tremaining: 13.8s\n",
            "337:\tlearn: 0.9934078\ttotal: 7.03s\tremaining: 13.8s\n",
            "338:\tlearn: 0.9934706\ttotal: 7.05s\tremaining: 13.7s\n",
            "339:\tlearn: 0.9934706\ttotal: 7.07s\tremaining: 13.7s\n",
            "340:\tlearn: 0.9935334\ttotal: 7.09s\tremaining: 13.7s\n",
            "341:\tlearn: 0.9935334\ttotal: 7.11s\tremaining: 13.7s\n",
            "342:\tlearn: 0.9935962\ttotal: 7.13s\tremaining: 13.7s\n",
            "343:\tlearn: 0.9935962\ttotal: 7.16s\tremaining: 13.6s\n",
            "344:\tlearn: 0.9935962\ttotal: 7.18s\tremaining: 13.6s\n",
            "345:\tlearn: 0.9936590\ttotal: 7.2s\tremaining: 13.6s\n",
            "346:\tlearn: 0.9937217\ttotal: 7.22s\tremaining: 13.6s\n",
            "347:\tlearn: 0.9937845\ttotal: 7.24s\tremaining: 13.6s\n",
            "348:\tlearn: 0.9937845\ttotal: 7.25s\tremaining: 13.5s\n",
            "349:\tlearn: 0.9937845\ttotal: 7.27s\tremaining: 13.5s\n",
            "350:\tlearn: 0.9937845\ttotal: 7.29s\tremaining: 13.5s\n",
            "351:\tlearn: 0.9937845\ttotal: 7.32s\tremaining: 13.5s\n",
            "352:\tlearn: 0.9937845\ttotal: 7.33s\tremaining: 13.4s\n",
            "353:\tlearn: 0.9939729\ttotal: 7.36s\tremaining: 13.4s\n",
            "354:\tlearn: 0.9939729\ttotal: 7.38s\tremaining: 13.4s\n",
            "355:\tlearn: 0.9940984\ttotal: 7.4s\tremaining: 13.4s\n",
            "356:\tlearn: 0.9941612\ttotal: 7.42s\tremaining: 13.4s\n",
            "357:\tlearn: 0.9941612\ttotal: 7.44s\tremaining: 13.3s\n",
            "358:\tlearn: 0.9940357\ttotal: 7.47s\tremaining: 13.3s\n",
            "359:\tlearn: 0.9940984\ttotal: 7.49s\tremaining: 13.3s\n",
            "360:\tlearn: 0.9941612\ttotal: 7.51s\tremaining: 13.3s\n",
            "361:\tlearn: 0.9942240\ttotal: 7.53s\tremaining: 13.3s\n",
            "362:\tlearn: 0.9940984\ttotal: 7.54s\tremaining: 13.2s\n",
            "363:\tlearn: 0.9942240\ttotal: 7.57s\tremaining: 13.2s\n",
            "364:\tlearn: 0.9942240\ttotal: 7.59s\tremaining: 13.2s\n",
            "365:\tlearn: 0.9942868\ttotal: 7.61s\tremaining: 13.2s\n",
            "366:\tlearn: 0.9943496\ttotal: 7.63s\tremaining: 13.2s\n",
            "367:\tlearn: 0.9942240\ttotal: 7.65s\tremaining: 13.1s\n",
            "368:\tlearn: 0.9943496\ttotal: 7.67s\tremaining: 13.1s\n",
            "369:\tlearn: 0.9944751\ttotal: 7.69s\tremaining: 13.1s\n",
            "370:\tlearn: 0.9944751\ttotal: 7.71s\tremaining: 13.1s\n",
            "371:\tlearn: 0.9943496\ttotal: 7.72s\tremaining: 13s\n",
            "372:\tlearn: 0.9943496\ttotal: 7.75s\tremaining: 13s\n",
            "373:\tlearn: 0.9944751\ttotal: 7.77s\tremaining: 13s\n",
            "374:\tlearn: 0.9945379\ttotal: 7.79s\tremaining: 13s\n",
            "375:\tlearn: 0.9945379\ttotal: 7.81s\tremaining: 13s\n",
            "376:\tlearn: 0.9946007\ttotal: 7.83s\tremaining: 12.9s\n",
            "377:\tlearn: 0.9946007\ttotal: 7.85s\tremaining: 12.9s\n",
            "378:\tlearn: 0.9946007\ttotal: 7.87s\tremaining: 12.9s\n",
            "379:\tlearn: 0.9946007\ttotal: 7.89s\tremaining: 12.9s\n",
            "380:\tlearn: 0.9945379\ttotal: 7.91s\tremaining: 12.9s\n",
            "381:\tlearn: 0.9945379\ttotal: 7.93s\tremaining: 12.8s\n",
            "382:\tlearn: 0.9945379\ttotal: 7.95s\tremaining: 12.8s\n",
            "383:\tlearn: 0.9945379\ttotal: 7.97s\tremaining: 12.8s\n",
            "384:\tlearn: 0.9945379\ttotal: 7.99s\tremaining: 12.8s\n",
            "385:\tlearn: 0.9945379\ttotal: 8.01s\tremaining: 12.7s\n",
            "386:\tlearn: 0.9945379\ttotal: 8.03s\tremaining: 12.7s\n",
            "387:\tlearn: 0.9945379\ttotal: 8.05s\tremaining: 12.7s\n",
            "388:\tlearn: 0.9946007\ttotal: 8.07s\tremaining: 12.7s\n",
            "389:\tlearn: 0.9946007\ttotal: 8.09s\tremaining: 12.7s\n",
            "390:\tlearn: 0.9946007\ttotal: 8.11s\tremaining: 12.6s\n",
            "391:\tlearn: 0.9946007\ttotal: 8.13s\tremaining: 12.6s\n",
            "392:\tlearn: 0.9946007\ttotal: 8.15s\tremaining: 12.6s\n",
            "393:\tlearn: 0.9946007\ttotal: 8.18s\tremaining: 12.6s\n",
            "394:\tlearn: 0.9946007\ttotal: 8.2s\tremaining: 12.6s\n",
            "395:\tlearn: 0.9946007\ttotal: 8.22s\tremaining: 12.5s\n",
            "396:\tlearn: 0.9946007\ttotal: 8.24s\tremaining: 12.5s\n",
            "397:\tlearn: 0.9946007\ttotal: 8.26s\tremaining: 12.5s\n",
            "398:\tlearn: 0.9947263\ttotal: 8.28s\tremaining: 12.5s\n",
            "399:\tlearn: 0.9947263\ttotal: 8.3s\tremaining: 12.5s\n",
            "400:\tlearn: 0.9947263\ttotal: 8.32s\tremaining: 12.4s\n",
            "401:\tlearn: 0.9947263\ttotal: 8.34s\tremaining: 12.4s\n",
            "402:\tlearn: 0.9947263\ttotal: 8.36s\tremaining: 12.4s\n",
            "403:\tlearn: 0.9947263\ttotal: 8.38s\tremaining: 12.4s\n",
            "404:\tlearn: 0.9947891\ttotal: 8.41s\tremaining: 12.4s\n",
            "405:\tlearn: 0.9948518\ttotal: 8.43s\tremaining: 12.3s\n",
            "406:\tlearn: 0.9948518\ttotal: 8.45s\tremaining: 12.3s\n",
            "407:\tlearn: 0.9949146\ttotal: 8.47s\tremaining: 12.3s\n",
            "408:\tlearn: 0.9949146\ttotal: 8.49s\tremaining: 12.3s\n",
            "409:\tlearn: 0.9949146\ttotal: 8.51s\tremaining: 12.3s\n",
            "410:\tlearn: 0.9949146\ttotal: 8.53s\tremaining: 12.2s\n",
            "411:\tlearn: 0.9950402\ttotal: 8.55s\tremaining: 12.2s\n",
            "412:\tlearn: 0.9950402\ttotal: 8.57s\tremaining: 12.2s\n",
            "413:\tlearn: 0.9950402\ttotal: 8.59s\tremaining: 12.2s\n",
            "414:\tlearn: 0.9951030\ttotal: 8.63s\tremaining: 12.2s\n",
            "415:\tlearn: 0.9951030\ttotal: 8.65s\tremaining: 12.1s\n",
            "416:\tlearn: 0.9951030\ttotal: 8.67s\tremaining: 12.1s\n",
            "417:\tlearn: 0.9951030\ttotal: 8.69s\tremaining: 12.1s\n",
            "418:\tlearn: 0.9951030\ttotal: 8.7s\tremaining: 12.1s\n",
            "419:\tlearn: 0.9951030\ttotal: 8.72s\tremaining: 12s\n",
            "420:\tlearn: 0.9951657\ttotal: 8.74s\tremaining: 12s\n",
            "421:\tlearn: 0.9951657\ttotal: 8.76s\tremaining: 12s\n",
            "422:\tlearn: 0.9952285\ttotal: 8.78s\tremaining: 12s\n",
            "423:\tlearn: 0.9952913\ttotal: 8.8s\tremaining: 12s\n",
            "424:\tlearn: 0.9952285\ttotal: 8.82s\tremaining: 11.9s\n",
            "425:\tlearn: 0.9953541\ttotal: 8.85s\tremaining: 11.9s\n",
            "426:\tlearn: 0.9953541\ttotal: 8.87s\tremaining: 11.9s\n",
            "427:\tlearn: 0.9953541\ttotal: 8.89s\tremaining: 11.9s\n",
            "428:\tlearn: 0.9953541\ttotal: 8.91s\tremaining: 11.9s\n",
            "429:\tlearn: 0.9952913\ttotal: 8.93s\tremaining: 11.8s\n",
            "430:\tlearn: 0.9952285\ttotal: 8.95s\tremaining: 11.8s\n",
            "431:\tlearn: 0.9952913\ttotal: 8.97s\tremaining: 11.8s\n",
            "432:\tlearn: 0.9951657\ttotal: 8.99s\tremaining: 11.8s\n",
            "433:\tlearn: 0.9952285\ttotal: 9.01s\tremaining: 11.7s\n",
            "434:\tlearn: 0.9951657\ttotal: 9.03s\tremaining: 11.7s\n",
            "435:\tlearn: 0.9951657\ttotal: 9.05s\tremaining: 11.7s\n",
            "436:\tlearn: 0.9951030\ttotal: 9.07s\tremaining: 11.7s\n",
            "437:\tlearn: 0.9950402\ttotal: 9.1s\tremaining: 11.7s\n",
            "438:\tlearn: 0.9951030\ttotal: 9.12s\tremaining: 11.7s\n",
            "439:\tlearn: 0.9952285\ttotal: 9.14s\tremaining: 11.6s\n",
            "440:\tlearn: 0.9952285\ttotal: 9.16s\tremaining: 11.6s\n",
            "441:\tlearn: 0.9952285\ttotal: 9.18s\tremaining: 11.6s\n",
            "442:\tlearn: 0.9951657\ttotal: 9.2s\tremaining: 11.6s\n",
            "443:\tlearn: 0.9952285\ttotal: 9.22s\tremaining: 11.6s\n",
            "444:\tlearn: 0.9953541\ttotal: 9.24s\tremaining: 11.5s\n",
            "445:\tlearn: 0.9953541\ttotal: 9.27s\tremaining: 11.5s\n",
            "446:\tlearn: 0.9952913\ttotal: 9.29s\tremaining: 11.5s\n",
            "447:\tlearn: 0.9952285\ttotal: 9.31s\tremaining: 11.5s\n",
            "448:\tlearn: 0.9952285\ttotal: 9.33s\tremaining: 11.4s\n",
            "449:\tlearn: 0.9952913\ttotal: 9.35s\tremaining: 11.4s\n",
            "450:\tlearn: 0.9954169\ttotal: 9.37s\tremaining: 11.4s\n",
            "451:\tlearn: 0.9954797\ttotal: 9.38s\tremaining: 11.4s\n",
            "452:\tlearn: 0.9953541\ttotal: 9.4s\tremaining: 11.4s\n",
            "453:\tlearn: 0.9954169\ttotal: 9.43s\tremaining: 11.3s\n",
            "454:\tlearn: 0.9954797\ttotal: 9.46s\tremaining: 11.3s\n",
            "455:\tlearn: 0.9954169\ttotal: 9.48s\tremaining: 11.3s\n",
            "456:\tlearn: 0.9954169\ttotal: 9.5s\tremaining: 11.3s\n",
            "457:\tlearn: 0.9954169\ttotal: 9.52s\tremaining: 11.3s\n",
            "458:\tlearn: 0.9954797\ttotal: 9.54s\tremaining: 11.2s\n",
            "459:\tlearn: 0.9954797\ttotal: 9.56s\tremaining: 11.2s\n",
            "460:\tlearn: 0.9955424\ttotal: 9.58s\tremaining: 11.2s\n",
            "461:\tlearn: 0.9955424\ttotal: 9.6s\tremaining: 11.2s\n",
            "462:\tlearn: 0.9953541\ttotal: 9.62s\tremaining: 11.2s\n",
            "463:\tlearn: 0.9952913\ttotal: 9.64s\tremaining: 11.1s\n",
            "464:\tlearn: 0.9952913\ttotal: 9.67s\tremaining: 11.1s\n",
            "465:\tlearn: 0.9954169\ttotal: 9.69s\tremaining: 11.1s\n",
            "466:\tlearn: 0.9954169\ttotal: 9.71s\tremaining: 11.1s\n",
            "467:\tlearn: 0.9954169\ttotal: 9.73s\tremaining: 11.1s\n",
            "468:\tlearn: 0.9954169\ttotal: 9.75s\tremaining: 11s\n",
            "469:\tlearn: 0.9954169\ttotal: 9.77s\tremaining: 11s\n",
            "470:\tlearn: 0.9954797\ttotal: 9.79s\tremaining: 11s\n",
            "471:\tlearn: 0.9954797\ttotal: 9.81s\tremaining: 11s\n",
            "472:\tlearn: 0.9954169\ttotal: 9.83s\tremaining: 10.9s\n",
            "473:\tlearn: 0.9954169\ttotal: 9.85s\tremaining: 10.9s\n",
            "474:\tlearn: 0.9954797\ttotal: 9.87s\tremaining: 10.9s\n",
            "475:\tlearn: 0.9955424\ttotal: 9.89s\tremaining: 10.9s\n",
            "476:\tlearn: 0.9955424\ttotal: 9.91s\tremaining: 10.9s\n",
            "477:\tlearn: 0.9955424\ttotal: 9.94s\tremaining: 10.8s\n",
            "478:\tlearn: 0.9956052\ttotal: 9.95s\tremaining: 10.8s\n",
            "479:\tlearn: 0.9956680\ttotal: 9.97s\tremaining: 10.8s\n",
            "480:\tlearn: 0.9956680\ttotal: 10s\tremaining: 10.8s\n",
            "481:\tlearn: 0.9956680\ttotal: 10s\tremaining: 10.8s\n",
            "482:\tlearn: 0.9956052\ttotal: 10.1s\tremaining: 10.8s\n",
            "483:\tlearn: 0.9956052\ttotal: 10.1s\tremaining: 10.7s\n",
            "484:\tlearn: 0.9956052\ttotal: 10.1s\tremaining: 10.7s\n",
            "485:\tlearn: 0.9956052\ttotal: 10.1s\tremaining: 10.7s\n",
            "486:\tlearn: 0.9955424\ttotal: 10.1s\tremaining: 10.7s\n",
            "487:\tlearn: 0.9954797\ttotal: 10.2s\tremaining: 10.7s\n",
            "488:\tlearn: 0.9955424\ttotal: 10.2s\tremaining: 10.6s\n",
            "489:\tlearn: 0.9955424\ttotal: 10.2s\tremaining: 10.6s\n",
            "490:\tlearn: 0.9955424\ttotal: 10.2s\tremaining: 10.6s\n",
            "491:\tlearn: 0.9955424\ttotal: 10.2s\tremaining: 10.6s\n",
            "492:\tlearn: 0.9956052\ttotal: 10.3s\tremaining: 10.6s\n",
            "493:\tlearn: 0.9956052\ttotal: 10.3s\tremaining: 10.5s\n",
            "494:\tlearn: 0.9956052\ttotal: 10.3s\tremaining: 10.5s\n",
            "495:\tlearn: 0.9956052\ttotal: 10.3s\tremaining: 10.5s\n",
            "496:\tlearn: 0.9956680\ttotal: 10.3s\tremaining: 10.5s\n",
            "497:\tlearn: 0.9957308\ttotal: 10.4s\tremaining: 10.5s\n",
            "498:\tlearn: 0.9957308\ttotal: 10.4s\tremaining: 10.4s\n",
            "499:\tlearn: 0.9957308\ttotal: 10.4s\tremaining: 10.4s\n",
            "500:\tlearn: 0.9957308\ttotal: 10.4s\tremaining: 10.4s\n",
            "501:\tlearn: 0.9958564\ttotal: 10.5s\tremaining: 10.4s\n",
            "502:\tlearn: 0.9959191\ttotal: 10.5s\tremaining: 10.4s\n",
            "503:\tlearn: 0.9959191\ttotal: 10.5s\tremaining: 10.3s\n",
            "504:\tlearn: 0.9959191\ttotal: 10.5s\tremaining: 10.3s\n",
            "505:\tlearn: 0.9958564\ttotal: 10.5s\tremaining: 10.3s\n",
            "506:\tlearn: 0.9958564\ttotal: 10.6s\tremaining: 10.3s\n",
            "507:\tlearn: 0.9957936\ttotal: 10.6s\tremaining: 10.2s\n",
            "508:\tlearn: 0.9958564\ttotal: 10.6s\tremaining: 10.2s\n",
            "509:\tlearn: 0.9958564\ttotal: 10.6s\tremaining: 10.2s\n",
            "510:\tlearn: 0.9958564\ttotal: 10.6s\tremaining: 10.2s\n",
            "511:\tlearn: 0.9958564\ttotal: 10.7s\tremaining: 10.2s\n",
            "512:\tlearn: 0.9959191\ttotal: 10.7s\tremaining: 10.1s\n",
            "513:\tlearn: 0.9958564\ttotal: 10.7s\tremaining: 10.1s\n",
            "514:\tlearn: 0.9958564\ttotal: 10.7s\tremaining: 10.1s\n",
            "515:\tlearn: 0.9958564\ttotal: 10.7s\tremaining: 10.1s\n",
            "516:\tlearn: 0.9960447\ttotal: 10.8s\tremaining: 10.1s\n",
            "517:\tlearn: 0.9961075\ttotal: 10.8s\tremaining: 10s\n",
            "518:\tlearn: 0.9961703\ttotal: 10.8s\tremaining: 10s\n",
            "519:\tlearn: 0.9961703\ttotal: 10.8s\tremaining: 9.98s\n",
            "520:\tlearn: 0.9961075\ttotal: 10.8s\tremaining: 9.96s\n",
            "521:\tlearn: 0.9961703\ttotal: 10.9s\tremaining: 9.94s\n",
            "522:\tlearn: 0.9961703\ttotal: 10.9s\tremaining: 9.92s\n",
            "523:\tlearn: 0.9962958\ttotal: 10.9s\tremaining: 9.9s\n",
            "524:\tlearn: 0.9964842\ttotal: 10.9s\tremaining: 9.88s\n",
            "525:\tlearn: 0.9964842\ttotal: 10.9s\tremaining: 9.86s\n",
            "526:\tlearn: 0.9966097\ttotal: 11s\tremaining: 9.84s\n",
            "527:\tlearn: 0.9965470\ttotal: 11s\tremaining: 9.82s\n",
            "528:\tlearn: 0.9966097\ttotal: 11s\tremaining: 9.8s\n",
            "529:\tlearn: 0.9966725\ttotal: 11s\tremaining: 9.78s\n",
            "530:\tlearn: 0.9966725\ttotal: 11s\tremaining: 9.76s\n",
            "531:\tlearn: 0.9966725\ttotal: 11.1s\tremaining: 9.73s\n",
            "532:\tlearn: 0.9966725\ttotal: 11.1s\tremaining: 9.71s\n",
            "533:\tlearn: 0.9966097\ttotal: 11.1s\tremaining: 9.69s\n",
            "534:\tlearn: 0.9966725\ttotal: 11.1s\tremaining: 9.67s\n",
            "535:\tlearn: 0.9967353\ttotal: 11.1s\tremaining: 9.65s\n",
            "536:\tlearn: 0.9967981\ttotal: 11.2s\tremaining: 9.63s\n",
            "537:\tlearn: 0.9966725\ttotal: 11.2s\tremaining: 9.61s\n",
            "538:\tlearn: 0.9967353\ttotal: 11.2s\tremaining: 9.59s\n",
            "539:\tlearn: 0.9966725\ttotal: 11.2s\tremaining: 9.57s\n",
            "540:\tlearn: 0.9968609\ttotal: 11.3s\tremaining: 9.55s\n",
            "541:\tlearn: 0.9967981\ttotal: 11.3s\tremaining: 9.53s\n",
            "542:\tlearn: 0.9967981\ttotal: 11.3s\tremaining: 9.51s\n",
            "543:\tlearn: 0.9967353\ttotal: 11.3s\tremaining: 9.48s\n",
            "544:\tlearn: 0.9967981\ttotal: 11.3s\tremaining: 9.46s\n",
            "545:\tlearn: 0.9967981\ttotal: 11.4s\tremaining: 9.44s\n",
            "546:\tlearn: 0.9968609\ttotal: 11.4s\tremaining: 9.43s\n",
            "547:\tlearn: 0.9968609\ttotal: 11.4s\tremaining: 9.4s\n",
            "548:\tlearn: 0.9968609\ttotal: 11.4s\tremaining: 9.38s\n",
            "549:\tlearn: 0.9969864\ttotal: 11.4s\tremaining: 9.36s\n",
            "550:\tlearn: 0.9969864\ttotal: 11.5s\tremaining: 9.34s\n",
            "551:\tlearn: 0.9969237\ttotal: 11.5s\tremaining: 9.32s\n",
            "552:\tlearn: 0.9969864\ttotal: 11.5s\tremaining: 9.3s\n",
            "553:\tlearn: 0.9970492\ttotal: 11.5s\tremaining: 9.28s\n",
            "554:\tlearn: 0.9970492\ttotal: 11.5s\tremaining: 9.26s\n",
            "555:\tlearn: 0.9969864\ttotal: 11.6s\tremaining: 9.24s\n",
            "556:\tlearn: 0.9969864\ttotal: 11.6s\tremaining: 9.22s\n",
            "557:\tlearn: 0.9970492\ttotal: 11.6s\tremaining: 9.2s\n",
            "558:\tlearn: 0.9970492\ttotal: 11.6s\tremaining: 9.18s\n",
            "559:\tlearn: 0.9970492\ttotal: 11.7s\tremaining: 9.16s\n",
            "560:\tlearn: 0.9970492\ttotal: 11.7s\tremaining: 9.13s\n",
            "561:\tlearn: 0.9970492\ttotal: 11.7s\tremaining: 9.11s\n",
            "562:\tlearn: 0.9971120\ttotal: 11.7s\tremaining: 9.09s\n",
            "563:\tlearn: 0.9971120\ttotal: 11.7s\tremaining: 9.07s\n",
            "564:\tlearn: 0.9971120\ttotal: 11.8s\tremaining: 9.05s\n",
            "565:\tlearn: 0.9971120\ttotal: 11.8s\tremaining: 9.03s\n",
            "566:\tlearn: 0.9971120\ttotal: 11.8s\tremaining: 9.01s\n",
            "567:\tlearn: 0.9971120\ttotal: 11.8s\tremaining: 8.99s\n",
            "568:\tlearn: 0.9971120\ttotal: 11.8s\tremaining: 8.97s\n",
            "569:\tlearn: 0.9971120\ttotal: 11.9s\tremaining: 8.95s\n",
            "570:\tlearn: 0.9971120\ttotal: 11.9s\tremaining: 8.93s\n",
            "571:\tlearn: 0.9971120\ttotal: 11.9s\tremaining: 8.9s\n",
            "572:\tlearn: 0.9970492\ttotal: 11.9s\tremaining: 8.88s\n",
            "573:\tlearn: 0.9971120\ttotal: 11.9s\tremaining: 8.86s\n",
            "574:\tlearn: 0.9971120\ttotal: 12s\tremaining: 8.84s\n",
            "575:\tlearn: 0.9971748\ttotal: 12s\tremaining: 8.82s\n",
            "576:\tlearn: 0.9971748\ttotal: 12s\tremaining: 8.8s\n",
            "577:\tlearn: 0.9971748\ttotal: 12s\tremaining: 8.78s\n",
            "578:\tlearn: 0.9971748\ttotal: 12s\tremaining: 8.76s\n",
            "579:\tlearn: 0.9971748\ttotal: 12.1s\tremaining: 8.74s\n",
            "580:\tlearn: 0.9971748\ttotal: 12.1s\tremaining: 8.72s\n",
            "581:\tlearn: 0.9971748\ttotal: 12.1s\tremaining: 8.7s\n",
            "582:\tlearn: 0.9971748\ttotal: 12.1s\tremaining: 8.67s\n",
            "583:\tlearn: 0.9971748\ttotal: 12.1s\tremaining: 8.65s\n",
            "584:\tlearn: 0.9971748\ttotal: 12.2s\tremaining: 8.63s\n",
            "585:\tlearn: 0.9973004\ttotal: 12.2s\tremaining: 8.61s\n",
            "586:\tlearn: 0.9973004\ttotal: 12.2s\tremaining: 8.59s\n",
            "587:\tlearn: 0.9973004\ttotal: 12.2s\tremaining: 8.57s\n",
            "588:\tlearn: 0.9973004\ttotal: 12.3s\tremaining: 8.55s\n",
            "589:\tlearn: 0.9973004\ttotal: 12.3s\tremaining: 8.53s\n",
            "590:\tlearn: 0.9972376\ttotal: 12.3s\tremaining: 8.51s\n",
            "591:\tlearn: 0.9973631\ttotal: 12.3s\tremaining: 8.49s\n",
            "592:\tlearn: 0.9973631\ttotal: 12.3s\tremaining: 8.47s\n",
            "593:\tlearn: 0.9973631\ttotal: 12.4s\tremaining: 8.45s\n",
            "594:\tlearn: 0.9973631\ttotal: 12.4s\tremaining: 8.43s\n",
            "595:\tlearn: 0.9974259\ttotal: 12.4s\tremaining: 8.41s\n",
            "596:\tlearn: 0.9974259\ttotal: 12.4s\tremaining: 8.39s\n",
            "597:\tlearn: 0.9974259\ttotal: 12.4s\tremaining: 8.37s\n",
            "598:\tlearn: 0.9974259\ttotal: 12.5s\tremaining: 8.35s\n",
            "599:\tlearn: 0.9974259\ttotal: 12.5s\tremaining: 8.33s\n",
            "600:\tlearn: 0.9974259\ttotal: 12.5s\tremaining: 8.31s\n",
            "601:\tlearn: 0.9974259\ttotal: 12.5s\tremaining: 8.29s\n",
            "602:\tlearn: 0.9974259\ttotal: 12.6s\tremaining: 8.27s\n",
            "603:\tlearn: 0.9974259\ttotal: 12.6s\tremaining: 8.25s\n",
            "604:\tlearn: 0.9973631\ttotal: 12.6s\tremaining: 8.22s\n",
            "605:\tlearn: 0.9973631\ttotal: 12.6s\tremaining: 8.21s\n",
            "606:\tlearn: 0.9973004\ttotal: 12.6s\tremaining: 8.18s\n",
            "607:\tlearn: 0.9973004\ttotal: 12.7s\tremaining: 8.16s\n",
            "608:\tlearn: 0.9973631\ttotal: 12.7s\tremaining: 8.14s\n",
            "609:\tlearn: 0.9973631\ttotal: 12.7s\tremaining: 8.12s\n",
            "610:\tlearn: 0.9974259\ttotal: 12.7s\tremaining: 8.1s\n",
            "611:\tlearn: 0.9974259\ttotal: 12.7s\tremaining: 8.08s\n",
            "612:\tlearn: 0.9974259\ttotal: 12.8s\tremaining: 8.06s\n",
            "613:\tlearn: 0.9974259\ttotal: 12.8s\tremaining: 8.04s\n",
            "614:\tlearn: 0.9974259\ttotal: 12.8s\tremaining: 8.02s\n",
            "615:\tlearn: 0.9974259\ttotal: 12.8s\tremaining: 8s\n",
            "616:\tlearn: 0.9974259\ttotal: 12.8s\tremaining: 7.98s\n",
            "617:\tlearn: 0.9975515\ttotal: 12.9s\tremaining: 7.96s\n",
            "618:\tlearn: 0.9975515\ttotal: 12.9s\tremaining: 7.93s\n",
            "619:\tlearn: 0.9975515\ttotal: 12.9s\tremaining: 7.91s\n",
            "620:\tlearn: 0.9975515\ttotal: 12.9s\tremaining: 7.89s\n",
            "621:\tlearn: 0.9976143\ttotal: 12.9s\tremaining: 7.87s\n",
            "622:\tlearn: 0.9976143\ttotal: 13s\tremaining: 7.85s\n",
            "623:\tlearn: 0.9976143\ttotal: 13s\tremaining: 7.83s\n",
            "624:\tlearn: 0.9976143\ttotal: 13s\tremaining: 7.8s\n",
            "625:\tlearn: 0.9976143\ttotal: 13s\tremaining: 7.79s\n",
            "626:\tlearn: 0.9976143\ttotal: 13.1s\tremaining: 7.77s\n",
            "627:\tlearn: 0.9976143\ttotal: 13.1s\tremaining: 7.75s\n",
            "628:\tlearn: 0.9976770\ttotal: 13.1s\tremaining: 7.72s\n",
            "629:\tlearn: 0.9976143\ttotal: 13.1s\tremaining: 7.7s\n",
            "630:\tlearn: 0.9976770\ttotal: 13.1s\tremaining: 7.68s\n",
            "631:\tlearn: 0.9976770\ttotal: 13.2s\tremaining: 7.66s\n",
            "632:\tlearn: 0.9976770\ttotal: 13.2s\tremaining: 7.64s\n",
            "633:\tlearn: 0.9975515\ttotal: 13.2s\tremaining: 7.62s\n",
            "634:\tlearn: 0.9975515\ttotal: 13.2s\tremaining: 7.6s\n",
            "635:\tlearn: 0.9975515\ttotal: 13.2s\tremaining: 7.58s\n",
            "636:\tlearn: 0.9974887\ttotal: 13.3s\tremaining: 7.56s\n",
            "637:\tlearn: 0.9974259\ttotal: 13.3s\tremaining: 7.54s\n",
            "638:\tlearn: 0.9973631\ttotal: 13.3s\tremaining: 7.52s\n",
            "639:\tlearn: 0.9974887\ttotal: 13.3s\tremaining: 7.49s\n",
            "640:\tlearn: 0.9975515\ttotal: 13.3s\tremaining: 7.47s\n",
            "641:\tlearn: 0.9975515\ttotal: 13.4s\tremaining: 7.45s\n",
            "642:\tlearn: 0.9975515\ttotal: 13.4s\tremaining: 7.43s\n",
            "643:\tlearn: 0.9975515\ttotal: 13.4s\tremaining: 7.41s\n",
            "644:\tlearn: 0.9975515\ttotal: 13.4s\tremaining: 7.39s\n",
            "645:\tlearn: 0.9976143\ttotal: 13.4s\tremaining: 7.37s\n",
            "646:\tlearn: 0.9975515\ttotal: 13.5s\tremaining: 7.35s\n",
            "647:\tlearn: 0.9975515\ttotal: 13.5s\tremaining: 7.33s\n",
            "648:\tlearn: 0.9976770\ttotal: 13.5s\tremaining: 7.31s\n",
            "649:\tlearn: 0.9976143\ttotal: 13.5s\tremaining: 7.29s\n",
            "650:\tlearn: 0.9976770\ttotal: 13.6s\tremaining: 7.27s\n",
            "651:\tlearn: 0.9978026\ttotal: 13.6s\tremaining: 7.25s\n",
            "652:\tlearn: 0.9977398\ttotal: 13.6s\tremaining: 7.22s\n",
            "653:\tlearn: 0.9976770\ttotal: 13.6s\tremaining: 7.2s\n",
            "654:\tlearn: 0.9976770\ttotal: 13.6s\tremaining: 7.18s\n",
            "655:\tlearn: 0.9978026\ttotal: 13.7s\tremaining: 7.16s\n",
            "656:\tlearn: 0.9978026\ttotal: 13.7s\tremaining: 7.14s\n",
            "657:\tlearn: 0.9978026\ttotal: 13.7s\tremaining: 7.12s\n",
            "658:\tlearn: 0.9978654\ttotal: 13.7s\tremaining: 7.1s\n",
            "659:\tlearn: 0.9978026\ttotal: 13.7s\tremaining: 7.08s\n",
            "660:\tlearn: 0.9978026\ttotal: 13.8s\tremaining: 7.05s\n",
            "661:\tlearn: 0.9978026\ttotal: 13.8s\tremaining: 7.03s\n",
            "662:\tlearn: 0.9978026\ttotal: 13.8s\tremaining: 7.01s\n",
            "663:\tlearn: 0.9978026\ttotal: 13.8s\tremaining: 6.99s\n",
            "664:\tlearn: 0.9977398\ttotal: 13.8s\tremaining: 6.97s\n",
            "665:\tlearn: 0.9977398\ttotal: 13.9s\tremaining: 6.95s\n",
            "666:\tlearn: 0.9977398\ttotal: 13.9s\tremaining: 6.93s\n",
            "667:\tlearn: 0.9977398\ttotal: 13.9s\tremaining: 6.91s\n",
            "668:\tlearn: 0.9977398\ttotal: 13.9s\tremaining: 6.89s\n",
            "669:\tlearn: 0.9977398\ttotal: 13.9s\tremaining: 6.87s\n",
            "670:\tlearn: 0.9977398\ttotal: 14s\tremaining: 6.84s\n",
            "671:\tlearn: 0.9977398\ttotal: 14s\tremaining: 6.82s\n",
            "672:\tlearn: 0.9977398\ttotal: 14s\tremaining: 6.8s\n",
            "673:\tlearn: 0.9978026\ttotal: 14s\tremaining: 6.78s\n",
            "674:\tlearn: 0.9978026\ttotal: 14s\tremaining: 6.76s\n",
            "675:\tlearn: 0.9978026\ttotal: 14.1s\tremaining: 6.74s\n",
            "676:\tlearn: 0.9978654\ttotal: 14.1s\tremaining: 6.72s\n",
            "677:\tlearn: 0.9978654\ttotal: 14.1s\tremaining: 6.7s\n",
            "678:\tlearn: 0.9978654\ttotal: 14.1s\tremaining: 6.68s\n",
            "679:\tlearn: 0.9978654\ttotal: 14.2s\tremaining: 6.66s\n",
            "680:\tlearn: 0.9978654\ttotal: 14.2s\tremaining: 6.64s\n",
            "681:\tlearn: 0.9979282\ttotal: 14.2s\tremaining: 6.62s\n",
            "682:\tlearn: 0.9979282\ttotal: 14.2s\tremaining: 6.6s\n",
            "683:\tlearn: 0.9979282\ttotal: 14.2s\tremaining: 6.58s\n",
            "684:\tlearn: 0.9979282\ttotal: 14.3s\tremaining: 6.55s\n",
            "685:\tlearn: 0.9979910\ttotal: 14.3s\tremaining: 6.54s\n",
            "686:\tlearn: 0.9979910\ttotal: 14.3s\tremaining: 6.51s\n",
            "687:\tlearn: 0.9979910\ttotal: 14.3s\tremaining: 6.5s\n",
            "688:\tlearn: 0.9979910\ttotal: 14.3s\tremaining: 6.47s\n",
            "689:\tlearn: 0.9979910\ttotal: 14.4s\tremaining: 6.45s\n",
            "690:\tlearn: 0.9979910\ttotal: 14.4s\tremaining: 6.43s\n",
            "691:\tlearn: 0.9979910\ttotal: 14.4s\tremaining: 6.41s\n",
            "692:\tlearn: 0.9979910\ttotal: 14.4s\tremaining: 6.39s\n",
            "693:\tlearn: 0.9979910\ttotal: 14.4s\tremaining: 6.37s\n",
            "694:\tlearn: 0.9979282\ttotal: 14.5s\tremaining: 6.35s\n",
            "695:\tlearn: 0.9979282\ttotal: 14.5s\tremaining: 6.33s\n",
            "696:\tlearn: 0.9978654\ttotal: 14.5s\tremaining: 6.31s\n",
            "697:\tlearn: 0.9979282\ttotal: 14.5s\tremaining: 6.29s\n",
            "698:\tlearn: 0.9979282\ttotal: 14.6s\tremaining: 6.27s\n",
            "699:\tlearn: 0.9979282\ttotal: 14.6s\tremaining: 6.25s\n",
            "700:\tlearn: 0.9979282\ttotal: 14.6s\tremaining: 6.22s\n",
            "701:\tlearn: 0.9979282\ttotal: 14.6s\tremaining: 6.2s\n",
            "702:\tlearn: 0.9979282\ttotal: 14.6s\tremaining: 6.18s\n",
            "703:\tlearn: 0.9979282\ttotal: 14.7s\tremaining: 6.16s\n",
            "704:\tlearn: 0.9979910\ttotal: 14.7s\tremaining: 6.14s\n",
            "705:\tlearn: 0.9980537\ttotal: 14.7s\tremaining: 6.12s\n",
            "706:\tlearn: 0.9980537\ttotal: 14.7s\tremaining: 6.1s\n",
            "707:\tlearn: 0.9980537\ttotal: 14.7s\tremaining: 6.08s\n",
            "708:\tlearn: 0.9980537\ttotal: 14.8s\tremaining: 6.05s\n",
            "709:\tlearn: 0.9980537\ttotal: 14.8s\tremaining: 6.03s\n",
            "710:\tlearn: 0.9980537\ttotal: 14.8s\tremaining: 6.01s\n",
            "711:\tlearn: 0.9980537\ttotal: 14.8s\tremaining: 5.99s\n",
            "712:\tlearn: 0.9980537\ttotal: 14.8s\tremaining: 5.97s\n",
            "713:\tlearn: 0.9980537\ttotal: 14.9s\tremaining: 5.95s\n",
            "714:\tlearn: 0.9981165\ttotal: 14.9s\tremaining: 5.93s\n",
            "715:\tlearn: 0.9980537\ttotal: 14.9s\tremaining: 5.91s\n",
            "716:\tlearn: 0.9980537\ttotal: 14.9s\tremaining: 5.88s\n",
            "717:\tlearn: 0.9980537\ttotal: 14.9s\tremaining: 5.86s\n",
            "718:\tlearn: 0.9980537\ttotal: 15s\tremaining: 5.84s\n",
            "719:\tlearn: 0.9980537\ttotal: 15s\tremaining: 5.82s\n",
            "720:\tlearn: 0.9980537\ttotal: 15s\tremaining: 5.8s\n",
            "721:\tlearn: 0.9980537\ttotal: 15s\tremaining: 5.78s\n",
            "722:\tlearn: 0.9980537\ttotal: 15s\tremaining: 5.76s\n",
            "723:\tlearn: 0.9980537\ttotal: 15.1s\tremaining: 5.74s\n",
            "724:\tlearn: 0.9980537\ttotal: 15.1s\tremaining: 5.72s\n",
            "725:\tlearn: 0.9980537\ttotal: 15.1s\tremaining: 5.7s\n",
            "726:\tlearn: 0.9980537\ttotal: 15.1s\tremaining: 5.67s\n",
            "727:\tlearn: 0.9980537\ttotal: 15.1s\tremaining: 5.65s\n",
            "728:\tlearn: 0.9981793\ttotal: 15.2s\tremaining: 5.63s\n",
            "729:\tlearn: 0.9981165\ttotal: 15.2s\tremaining: 5.61s\n",
            "730:\tlearn: 0.9981165\ttotal: 15.2s\tremaining: 5.59s\n",
            "731:\tlearn: 0.9981165\ttotal: 15.2s\tremaining: 5.57s\n",
            "732:\tlearn: 0.9981165\ttotal: 15.2s\tremaining: 5.55s\n",
            "733:\tlearn: 0.9981165\ttotal: 15.3s\tremaining: 5.53s\n",
            "734:\tlearn: 0.9981165\ttotal: 15.3s\tremaining: 5.51s\n",
            "735:\tlearn: 0.9980537\ttotal: 15.3s\tremaining: 5.49s\n",
            "736:\tlearn: 0.9981165\ttotal: 15.3s\tremaining: 5.46s\n",
            "737:\tlearn: 0.9981793\ttotal: 15.3s\tremaining: 5.44s\n",
            "738:\tlearn: 0.9981793\ttotal: 15.4s\tremaining: 5.42s\n",
            "739:\tlearn: 0.9981165\ttotal: 15.4s\tremaining: 5.4s\n",
            "740:\tlearn: 0.9981793\ttotal: 15.4s\tremaining: 5.38s\n",
            "741:\tlearn: 0.9981793\ttotal: 15.4s\tremaining: 5.36s\n",
            "742:\tlearn: 0.9981793\ttotal: 15.4s\tremaining: 5.34s\n",
            "743:\tlearn: 0.9981165\ttotal: 15.5s\tremaining: 5.32s\n",
            "744:\tlearn: 0.9981165\ttotal: 15.5s\tremaining: 5.3s\n",
            "745:\tlearn: 0.9981165\ttotal: 15.5s\tremaining: 5.28s\n",
            "746:\tlearn: 0.9981165\ttotal: 15.5s\tremaining: 5.26s\n",
            "747:\tlearn: 0.9981165\ttotal: 15.5s\tremaining: 5.24s\n",
            "748:\tlearn: 0.9981793\ttotal: 15.6s\tremaining: 5.22s\n",
            "749:\tlearn: 0.9981793\ttotal: 15.6s\tremaining: 5.2s\n",
            "750:\tlearn: 0.9981793\ttotal: 15.6s\tremaining: 5.18s\n",
            "751:\tlearn: 0.9981793\ttotal: 15.6s\tremaining: 5.16s\n",
            "752:\tlearn: 0.9981793\ttotal: 15.7s\tremaining: 5.13s\n",
            "753:\tlearn: 0.9982421\ttotal: 15.7s\tremaining: 5.11s\n",
            "754:\tlearn: 0.9982421\ttotal: 15.7s\tremaining: 5.09s\n",
            "755:\tlearn: 0.9982421\ttotal: 15.7s\tremaining: 5.07s\n",
            "756:\tlearn: 0.9982421\ttotal: 15.7s\tremaining: 5.05s\n",
            "757:\tlearn: 0.9982421\ttotal: 15.8s\tremaining: 5.03s\n",
            "758:\tlearn: 0.9982421\ttotal: 15.8s\tremaining: 5.01s\n",
            "759:\tlearn: 0.9983049\ttotal: 15.8s\tremaining: 4.99s\n",
            "760:\tlearn: 0.9983049\ttotal: 15.8s\tremaining: 4.97s\n",
            "761:\tlearn: 0.9983049\ttotal: 15.8s\tremaining: 4.95s\n",
            "762:\tlearn: 0.9983049\ttotal: 15.9s\tremaining: 4.92s\n",
            "763:\tlearn: 0.9983049\ttotal: 15.9s\tremaining: 4.9s\n",
            "764:\tlearn: 0.9983049\ttotal: 15.9s\tremaining: 4.88s\n",
            "765:\tlearn: 0.9983049\ttotal: 15.9s\tremaining: 4.86s\n",
            "766:\tlearn: 0.9983049\ttotal: 15.9s\tremaining: 4.84s\n",
            "767:\tlearn: 0.9983049\ttotal: 16s\tremaining: 4.82s\n",
            "768:\tlearn: 0.9983049\ttotal: 16s\tremaining: 4.8s\n",
            "769:\tlearn: 0.9983049\ttotal: 16s\tremaining: 4.78s\n",
            "770:\tlearn: 0.9983049\ttotal: 16s\tremaining: 4.76s\n",
            "771:\tlearn: 0.9983049\ttotal: 16s\tremaining: 4.74s\n",
            "772:\tlearn: 0.9983049\ttotal: 16.1s\tremaining: 4.72s\n",
            "773:\tlearn: 0.9983049\ttotal: 16.1s\tremaining: 4.7s\n",
            "774:\tlearn: 0.9983049\ttotal: 16.1s\tremaining: 4.67s\n",
            "775:\tlearn: 0.9982421\ttotal: 16.1s\tremaining: 4.65s\n",
            "776:\tlearn: 0.9982421\ttotal: 16.1s\tremaining: 4.63s\n",
            "777:\tlearn: 0.9982421\ttotal: 16.2s\tremaining: 4.61s\n",
            "778:\tlearn: 0.9982421\ttotal: 16.2s\tremaining: 4.59s\n",
            "779:\tlearn: 0.9982421\ttotal: 16.2s\tremaining: 4.57s\n",
            "780:\tlearn: 0.9982421\ttotal: 16.2s\tremaining: 4.55s\n",
            "781:\tlearn: 0.9982421\ttotal: 16.2s\tremaining: 4.53s\n",
            "782:\tlearn: 0.9982421\ttotal: 16.3s\tremaining: 4.51s\n",
            "783:\tlearn: 0.9982421\ttotal: 16.3s\tremaining: 4.49s\n",
            "784:\tlearn: 0.9982421\ttotal: 16.3s\tremaining: 4.46s\n",
            "785:\tlearn: 0.9982421\ttotal: 16.3s\tremaining: 4.44s\n",
            "786:\tlearn: 0.9982421\ttotal: 16.3s\tremaining: 4.42s\n",
            "787:\tlearn: 0.9982421\ttotal: 16.4s\tremaining: 4.4s\n",
            "788:\tlearn: 0.9983049\ttotal: 16.4s\tremaining: 4.38s\n",
            "789:\tlearn: 0.9983049\ttotal: 16.4s\tremaining: 4.36s\n",
            "790:\tlearn: 0.9983049\ttotal: 16.4s\tremaining: 4.34s\n",
            "791:\tlearn: 0.9983049\ttotal: 16.4s\tremaining: 4.32s\n",
            "792:\tlearn: 0.9983049\ttotal: 16.5s\tremaining: 4.3s\n",
            "793:\tlearn: 0.9983049\ttotal: 16.5s\tremaining: 4.28s\n",
            "794:\tlearn: 0.9983049\ttotal: 16.5s\tremaining: 4.26s\n",
            "795:\tlearn: 0.9983049\ttotal: 16.5s\tremaining: 4.24s\n",
            "796:\tlearn: 0.9983049\ttotal: 16.6s\tremaining: 4.21s\n",
            "797:\tlearn: 0.9983049\ttotal: 16.6s\tremaining: 4.19s\n",
            "798:\tlearn: 0.9983049\ttotal: 16.6s\tremaining: 4.17s\n",
            "799:\tlearn: 0.9983049\ttotal: 16.6s\tremaining: 4.15s\n",
            "800:\tlearn: 0.9983049\ttotal: 16.6s\tremaining: 4.13s\n",
            "801:\tlearn: 0.9983049\ttotal: 16.6s\tremaining: 4.11s\n",
            "802:\tlearn: 0.9983049\ttotal: 16.7s\tremaining: 4.09s\n",
            "803:\tlearn: 0.9983677\ttotal: 16.7s\tremaining: 4.07s\n",
            "804:\tlearn: 0.9984304\ttotal: 16.7s\tremaining: 4.05s\n",
            "805:\tlearn: 0.9984304\ttotal: 16.7s\tremaining: 4.03s\n",
            "806:\tlearn: 0.9984304\ttotal: 16.8s\tremaining: 4s\n",
            "807:\tlearn: 0.9984304\ttotal: 16.8s\tremaining: 3.98s\n",
            "808:\tlearn: 0.9984304\ttotal: 16.8s\tremaining: 3.96s\n",
            "809:\tlearn: 0.9984304\ttotal: 16.8s\tremaining: 3.94s\n",
            "810:\tlearn: 0.9984304\ttotal: 16.8s\tremaining: 3.92s\n",
            "811:\tlearn: 0.9984932\ttotal: 16.8s\tremaining: 3.9s\n",
            "812:\tlearn: 0.9984932\ttotal: 16.9s\tremaining: 3.88s\n",
            "813:\tlearn: 0.9984932\ttotal: 16.9s\tremaining: 3.86s\n",
            "814:\tlearn: 0.9984932\ttotal: 16.9s\tremaining: 3.84s\n",
            "815:\tlearn: 0.9984932\ttotal: 16.9s\tremaining: 3.82s\n",
            "816:\tlearn: 0.9984932\ttotal: 16.9s\tremaining: 3.8s\n",
            "817:\tlearn: 0.9984932\ttotal: 17s\tremaining: 3.77s\n",
            "818:\tlearn: 0.9984932\ttotal: 17s\tremaining: 3.75s\n",
            "819:\tlearn: 0.9984932\ttotal: 17s\tremaining: 3.73s\n",
            "820:\tlearn: 0.9984932\ttotal: 17s\tremaining: 3.71s\n",
            "821:\tlearn: 0.9984932\ttotal: 17s\tremaining: 3.69s\n",
            "822:\tlearn: 0.9984932\ttotal: 17.1s\tremaining: 3.67s\n",
            "823:\tlearn: 0.9984932\ttotal: 17.1s\tremaining: 3.65s\n",
            "824:\tlearn: 0.9984932\ttotal: 17.1s\tremaining: 3.63s\n",
            "825:\tlearn: 0.9985560\ttotal: 17.1s\tremaining: 3.61s\n",
            "826:\tlearn: 0.9985560\ttotal: 17.1s\tremaining: 3.59s\n",
            "827:\tlearn: 0.9985560\ttotal: 17.2s\tremaining: 3.56s\n",
            "828:\tlearn: 0.9985560\ttotal: 17.2s\tremaining: 3.54s\n",
            "829:\tlearn: 0.9985560\ttotal: 17.2s\tremaining: 3.52s\n",
            "830:\tlearn: 0.9985560\ttotal: 17.2s\tremaining: 3.5s\n",
            "831:\tlearn: 0.9985560\ttotal: 17.2s\tremaining: 3.48s\n",
            "832:\tlearn: 0.9985560\ttotal: 17.3s\tremaining: 3.46s\n",
            "833:\tlearn: 0.9985560\ttotal: 17.3s\tremaining: 3.44s\n",
            "834:\tlearn: 0.9985560\ttotal: 17.3s\tremaining: 3.42s\n",
            "835:\tlearn: 0.9985560\ttotal: 17.3s\tremaining: 3.4s\n",
            "836:\tlearn: 0.9985560\ttotal: 17.4s\tremaining: 3.38s\n",
            "837:\tlearn: 0.9985560\ttotal: 17.4s\tremaining: 3.36s\n",
            "838:\tlearn: 0.9985560\ttotal: 17.4s\tremaining: 3.34s\n",
            "839:\tlearn: 0.9985560\ttotal: 17.4s\tremaining: 3.32s\n",
            "840:\tlearn: 0.9985560\ttotal: 17.4s\tremaining: 3.3s\n",
            "841:\tlearn: 0.9985560\ttotal: 17.5s\tremaining: 3.27s\n",
            "842:\tlearn: 0.9985560\ttotal: 17.5s\tremaining: 3.26s\n",
            "843:\tlearn: 0.9985560\ttotal: 17.5s\tremaining: 3.23s\n",
            "844:\tlearn: 0.9985560\ttotal: 17.5s\tremaining: 3.21s\n",
            "845:\tlearn: 0.9985560\ttotal: 17.5s\tremaining: 3.19s\n",
            "846:\tlearn: 0.9985560\ttotal: 17.6s\tremaining: 3.17s\n",
            "847:\tlearn: 0.9985560\ttotal: 17.6s\tremaining: 3.15s\n",
            "848:\tlearn: 0.9985560\ttotal: 17.6s\tremaining: 3.13s\n",
            "849:\tlearn: 0.9984932\ttotal: 17.6s\tremaining: 3.11s\n",
            "850:\tlearn: 0.9985560\ttotal: 17.6s\tremaining: 3.09s\n",
            "851:\tlearn: 0.9985560\ttotal: 17.7s\tremaining: 3.07s\n",
            "852:\tlearn: 0.9985560\ttotal: 17.7s\tremaining: 3.05s\n",
            "853:\tlearn: 0.9985560\ttotal: 17.7s\tremaining: 3.03s\n",
            "854:\tlearn: 0.9985560\ttotal: 17.7s\tremaining: 3.01s\n",
            "855:\tlearn: 0.9985560\ttotal: 17.7s\tremaining: 2.98s\n",
            "856:\tlearn: 0.9985560\ttotal: 17.8s\tremaining: 2.96s\n",
            "857:\tlearn: 0.9985560\ttotal: 17.8s\tremaining: 2.94s\n",
            "858:\tlearn: 0.9985560\ttotal: 17.8s\tremaining: 2.92s\n",
            "859:\tlearn: 0.9985560\ttotal: 17.8s\tremaining: 2.9s\n",
            "860:\tlearn: 0.9985560\ttotal: 17.8s\tremaining: 2.88s\n",
            "861:\tlearn: 0.9985560\ttotal: 17.9s\tremaining: 2.86s\n",
            "862:\tlearn: 0.9985560\ttotal: 17.9s\tremaining: 2.84s\n",
            "863:\tlearn: 0.9986188\ttotal: 17.9s\tremaining: 2.82s\n",
            "864:\tlearn: 0.9986188\ttotal: 17.9s\tremaining: 2.8s\n",
            "865:\tlearn: 0.9986188\ttotal: 18s\tremaining: 2.78s\n",
            "866:\tlearn: 0.9986188\ttotal: 18s\tremaining: 2.76s\n",
            "867:\tlearn: 0.9986188\ttotal: 18s\tremaining: 2.74s\n",
            "868:\tlearn: 0.9986188\ttotal: 18s\tremaining: 2.71s\n",
            "869:\tlearn: 0.9986188\ttotal: 18s\tremaining: 2.69s\n",
            "870:\tlearn: 0.9986816\ttotal: 18.1s\tremaining: 2.67s\n",
            "871:\tlearn: 0.9986816\ttotal: 18.1s\tremaining: 2.65s\n",
            "872:\tlearn: 0.9986816\ttotal: 18.1s\tremaining: 2.63s\n",
            "873:\tlearn: 0.9987443\ttotal: 18.1s\tremaining: 2.61s\n",
            "874:\tlearn: 0.9986816\ttotal: 18.1s\tremaining: 2.59s\n",
            "875:\tlearn: 0.9986816\ttotal: 18.2s\tremaining: 2.57s\n",
            "876:\tlearn: 0.9986816\ttotal: 18.2s\tremaining: 2.55s\n",
            "877:\tlearn: 0.9987443\ttotal: 18.2s\tremaining: 2.53s\n",
            "878:\tlearn: 0.9987443\ttotal: 18.2s\tremaining: 2.51s\n",
            "879:\tlearn: 0.9987443\ttotal: 18.2s\tremaining: 2.49s\n",
            "880:\tlearn: 0.9986816\ttotal: 18.3s\tremaining: 2.47s\n",
            "881:\tlearn: 0.9986816\ttotal: 18.3s\tremaining: 2.44s\n",
            "882:\tlearn: 0.9986816\ttotal: 18.3s\tremaining: 2.42s\n",
            "883:\tlearn: 0.9986816\ttotal: 18.3s\tremaining: 2.4s\n",
            "884:\tlearn: 0.9986816\ttotal: 18.3s\tremaining: 2.38s\n",
            "885:\tlearn: 0.9986816\ttotal: 18.4s\tremaining: 2.36s\n",
            "886:\tlearn: 0.9987443\ttotal: 18.4s\tremaining: 2.34s\n",
            "887:\tlearn: 0.9987443\ttotal: 18.4s\tremaining: 2.32s\n",
            "888:\tlearn: 0.9987443\ttotal: 18.4s\tremaining: 2.3s\n",
            "889:\tlearn: 0.9988071\ttotal: 18.4s\tremaining: 2.28s\n",
            "890:\tlearn: 0.9988071\ttotal: 18.5s\tremaining: 2.26s\n",
            "891:\tlearn: 0.9988071\ttotal: 18.5s\tremaining: 2.24s\n",
            "892:\tlearn: 0.9988071\ttotal: 18.5s\tremaining: 2.22s\n",
            "893:\tlearn: 0.9988071\ttotal: 18.5s\tremaining: 2.2s\n",
            "894:\tlearn: 0.9988071\ttotal: 18.6s\tremaining: 2.18s\n",
            "895:\tlearn: 0.9988071\ttotal: 18.6s\tremaining: 2.16s\n",
            "896:\tlearn: 0.9988071\ttotal: 18.6s\tremaining: 2.13s\n",
            "897:\tlearn: 0.9988071\ttotal: 18.6s\tremaining: 2.11s\n",
            "898:\tlearn: 0.9988071\ttotal: 18.6s\tremaining: 2.09s\n",
            "899:\tlearn: 0.9988071\ttotal: 18.7s\tremaining: 2.07s\n",
            "900:\tlearn: 0.9988071\ttotal: 18.7s\tremaining: 2.05s\n",
            "901:\tlearn: 0.9988071\ttotal: 18.7s\tremaining: 2.03s\n",
            "902:\tlearn: 0.9988699\ttotal: 18.7s\tremaining: 2.01s\n",
            "903:\tlearn: 0.9988699\ttotal: 18.7s\tremaining: 1.99s\n",
            "904:\tlearn: 0.9988699\ttotal: 18.8s\tremaining: 1.97s\n",
            "905:\tlearn: 0.9988699\ttotal: 18.8s\tremaining: 1.95s\n",
            "906:\tlearn: 0.9988699\ttotal: 18.8s\tremaining: 1.93s\n",
            "907:\tlearn: 0.9988699\ttotal: 18.8s\tremaining: 1.91s\n",
            "908:\tlearn: 0.9988699\ttotal: 18.8s\tremaining: 1.89s\n",
            "909:\tlearn: 0.9988699\ttotal: 18.9s\tremaining: 1.86s\n",
            "910:\tlearn: 0.9988699\ttotal: 18.9s\tremaining: 1.84s\n",
            "911:\tlearn: 0.9988699\ttotal: 18.9s\tremaining: 1.82s\n",
            "912:\tlearn: 0.9988699\ttotal: 18.9s\tremaining: 1.8s\n",
            "913:\tlearn: 0.9988699\ttotal: 19s\tremaining: 1.78s\n",
            "914:\tlearn: 0.9988699\ttotal: 19s\tremaining: 1.76s\n",
            "915:\tlearn: 0.9988699\ttotal: 19s\tremaining: 1.74s\n",
            "916:\tlearn: 0.9988699\ttotal: 19s\tremaining: 1.72s\n",
            "917:\tlearn: 0.9988699\ttotal: 19s\tremaining: 1.7s\n",
            "918:\tlearn: 0.9988699\ttotal: 19.1s\tremaining: 1.68s\n",
            "919:\tlearn: 0.9988699\ttotal: 19.1s\tremaining: 1.66s\n",
            "920:\tlearn: 0.9988699\ttotal: 19.1s\tremaining: 1.64s\n",
            "921:\tlearn: 0.9989327\ttotal: 19.1s\tremaining: 1.62s\n",
            "922:\tlearn: 0.9989327\ttotal: 19.1s\tremaining: 1.6s\n",
            "923:\tlearn: 0.9989327\ttotal: 19.2s\tremaining: 1.58s\n",
            "924:\tlearn: 0.9989327\ttotal: 19.2s\tremaining: 1.55s\n",
            "925:\tlearn: 0.9989327\ttotal: 19.2s\tremaining: 1.53s\n",
            "926:\tlearn: 0.9989327\ttotal: 19.2s\tremaining: 1.51s\n",
            "927:\tlearn: 0.9989327\ttotal: 19.3s\tremaining: 1.49s\n",
            "928:\tlearn: 0.9989327\ttotal: 19.3s\tremaining: 1.47s\n",
            "929:\tlearn: 0.9989327\ttotal: 19.3s\tremaining: 1.45s\n",
            "930:\tlearn: 0.9989327\ttotal: 19.3s\tremaining: 1.43s\n",
            "931:\tlearn: 0.9989327\ttotal: 19.3s\tremaining: 1.41s\n",
            "932:\tlearn: 0.9989327\ttotal: 19.4s\tremaining: 1.39s\n",
            "933:\tlearn: 0.9989327\ttotal: 19.4s\tremaining: 1.37s\n",
            "934:\tlearn: 0.9989327\ttotal: 19.4s\tremaining: 1.35s\n",
            "935:\tlearn: 0.9989327\ttotal: 19.4s\tremaining: 1.33s\n",
            "936:\tlearn: 0.9989327\ttotal: 19.4s\tremaining: 1.31s\n",
            "937:\tlearn: 0.9989327\ttotal: 19.5s\tremaining: 1.28s\n",
            "938:\tlearn: 0.9989327\ttotal: 19.5s\tremaining: 1.26s\n",
            "939:\tlearn: 0.9989327\ttotal: 19.5s\tremaining: 1.24s\n",
            "940:\tlearn: 0.9989327\ttotal: 19.5s\tremaining: 1.22s\n",
            "941:\tlearn: 0.9989327\ttotal: 19.5s\tremaining: 1.2s\n",
            "942:\tlearn: 0.9989327\ttotal: 19.6s\tremaining: 1.18s\n",
            "943:\tlearn: 0.9989327\ttotal: 19.6s\tremaining: 1.16s\n",
            "944:\tlearn: 0.9989955\ttotal: 19.6s\tremaining: 1.14s\n",
            "945:\tlearn: 0.9989955\ttotal: 19.6s\tremaining: 1.12s\n",
            "946:\tlearn: 0.9990583\ttotal: 19.6s\tremaining: 1.1s\n",
            "947:\tlearn: 0.9989955\ttotal: 19.7s\tremaining: 1.08s\n",
            "948:\tlearn: 0.9990583\ttotal: 19.7s\tremaining: 1.06s\n",
            "949:\tlearn: 0.9990583\ttotal: 19.7s\tremaining: 1.04s\n",
            "950:\tlearn: 0.9990583\ttotal: 19.7s\tremaining: 1.02s\n",
            "951:\tlearn: 0.9990583\ttotal: 19.7s\tremaining: 996ms\n",
            "952:\tlearn: 0.9990583\ttotal: 19.8s\tremaining: 975ms\n",
            "953:\tlearn: 0.9989955\ttotal: 19.8s\tremaining: 955ms\n",
            "954:\tlearn: 0.9989955\ttotal: 19.8s\tremaining: 934ms\n",
            "955:\tlearn: 0.9990583\ttotal: 19.8s\tremaining: 913ms\n",
            "956:\tlearn: 0.9991210\ttotal: 19.9s\tremaining: 892ms\n",
            "957:\tlearn: 0.9990583\ttotal: 19.9s\tremaining: 871ms\n",
            "958:\tlearn: 0.9990583\ttotal: 19.9s\tremaining: 851ms\n",
            "959:\tlearn: 0.9990583\ttotal: 19.9s\tremaining: 830ms\n",
            "960:\tlearn: 0.9991210\ttotal: 19.9s\tremaining: 809ms\n",
            "961:\tlearn: 0.9990583\ttotal: 20s\tremaining: 788ms\n",
            "962:\tlearn: 0.9991210\ttotal: 20s\tremaining: 768ms\n",
            "963:\tlearn: 0.9990583\ttotal: 20s\tremaining: 747ms\n",
            "964:\tlearn: 0.9990583\ttotal: 20s\tremaining: 726ms\n",
            "965:\tlearn: 0.9990583\ttotal: 20s\tremaining: 705ms\n",
            "966:\tlearn: 0.9991210\ttotal: 20.1s\tremaining: 685ms\n",
            "967:\tlearn: 0.9991210\ttotal: 20.1s\tremaining: 664ms\n",
            "968:\tlearn: 0.9991210\ttotal: 20.1s\tremaining: 643ms\n",
            "969:\tlearn: 0.9990583\ttotal: 20.1s\tremaining: 623ms\n",
            "970:\tlearn: 0.9991210\ttotal: 20.2s\tremaining: 602ms\n",
            "971:\tlearn: 0.9990583\ttotal: 20.2s\tremaining: 581ms\n",
            "972:\tlearn: 0.9991210\ttotal: 20.2s\tremaining: 561ms\n",
            "973:\tlearn: 0.9990583\ttotal: 20.2s\tremaining: 540ms\n",
            "974:\tlearn: 0.9991210\ttotal: 20.3s\tremaining: 519ms\n",
            "975:\tlearn: 0.9991210\ttotal: 20.3s\tremaining: 499ms\n",
            "976:\tlearn: 0.9990583\ttotal: 20.3s\tremaining: 478ms\n",
            "977:\tlearn: 0.9990583\ttotal: 20.3s\tremaining: 457ms\n",
            "978:\tlearn: 0.9990583\ttotal: 20.3s\tremaining: 436ms\n",
            "979:\tlearn: 0.9990583\ttotal: 20.4s\tremaining: 415ms\n",
            "980:\tlearn: 0.9990583\ttotal: 20.4s\tremaining: 395ms\n",
            "981:\tlearn: 0.9990583\ttotal: 20.4s\tremaining: 374ms\n",
            "982:\tlearn: 0.9990583\ttotal: 20.4s\tremaining: 353ms\n",
            "983:\tlearn: 0.9990583\ttotal: 20.4s\tremaining: 332ms\n",
            "984:\tlearn: 0.9990583\ttotal: 20.5s\tremaining: 312ms\n",
            "985:\tlearn: 0.9990583\ttotal: 20.5s\tremaining: 291ms\n",
            "986:\tlearn: 0.9990583\ttotal: 20.5s\tremaining: 270ms\n",
            "987:\tlearn: 0.9990583\ttotal: 20.5s\tremaining: 249ms\n",
            "988:\tlearn: 0.9990583\ttotal: 20.5s\tremaining: 229ms\n",
            "989:\tlearn: 0.9990583\ttotal: 20.6s\tremaining: 208ms\n",
            "990:\tlearn: 0.9990583\ttotal: 20.6s\tremaining: 187ms\n",
            "991:\tlearn: 0.9991210\ttotal: 20.6s\tremaining: 166ms\n",
            "992:\tlearn: 0.9991210\ttotal: 20.6s\tremaining: 145ms\n",
            "993:\tlearn: 0.9991210\ttotal: 20.6s\tremaining: 125ms\n",
            "994:\tlearn: 0.9991210\ttotal: 20.7s\tremaining: 104ms\n",
            "995:\tlearn: 0.9991210\ttotal: 20.7s\tremaining: 83.1ms\n",
            "996:\tlearn: 0.9991210\ttotal: 20.7s\tremaining: 62.3ms\n",
            "997:\tlearn: 0.9991210\ttotal: 20.7s\tremaining: 41.5ms\n",
            "998:\tlearn: 0.9991210\ttotal: 20.8s\tremaining: 20.8ms\n",
            "999:\tlearn: 0.9991210\ttotal: 20.8s\tremaining: 0us\n",
            "0.9991210447011551\n"
          ],
          "name": "stdout"
        }
      ]
    },
    {
      "cell_type": "markdown",
      "metadata": {
        "id": "Lwk4BcDjCOxJ"
      },
      "source": [
        "Predict on validation set"
      ]
    },
    {
      "cell_type": "code",
      "metadata": {
        "colab": {
          "base_uri": "https://localhost:8080/"
        },
        "id": "v21Gnk3cCSqD",
        "outputId": "4bda13c9-1236-4c6a-f91f-9bde7ce7d77e"
      },
      "source": [
        "y_pred=model.predict(X_val)\r\n",
        "print(model.score(X_val, y_val))"
      ],
      "execution_count": 991,
      "outputs": [
        {
          "output_type": "stream",
          "text": [
            "0.9807909604519774\n"
          ],
          "name": "stdout"
        }
      ]
    },
    {
      "cell_type": "code",
      "metadata": {
        "colab": {
          "base_uri": "https://localhost:8080/",
          "height": 407
        },
        "id": "k2JaHWLNCZEC",
        "outputId": "02dce906-e143-4d60-aef3-c96afea6a77f"
      },
      "source": [
        "df=pd.DataFrame({'Actual': y_val, 'Predicted':y_pred.ravel()})\r\n",
        "df"
      ],
      "execution_count": 992,
      "outputs": [
        {
          "output_type": "execute_result",
          "data": {
            "text/html": [
              "<div>\n",
              "<style scoped>\n",
              "    .dataframe tbody tr th:only-of-type {\n",
              "        vertical-align: middle;\n",
              "    }\n",
              "\n",
              "    .dataframe tbody tr th {\n",
              "        vertical-align: top;\n",
              "    }\n",
              "\n",
              "    .dataframe thead th {\n",
              "        text-align: right;\n",
              "    }\n",
              "</style>\n",
              "<table border=\"1\" class=\"dataframe\">\n",
              "  <thead>\n",
              "    <tr style=\"text-align: right;\">\n",
              "      <th></th>\n",
              "      <th>Actual</th>\n",
              "      <th>Predicted</th>\n",
              "    </tr>\n",
              "  </thead>\n",
              "  <tbody>\n",
              "    <tr>\n",
              "      <th>15261</th>\n",
              "      <td>con_votes</td>\n",
              "      <td>con_votes</td>\n",
              "    </tr>\n",
              "    <tr>\n",
              "      <th>7250</th>\n",
              "      <td>lab_votes</td>\n",
              "      <td>lab_votes</td>\n",
              "    </tr>\n",
              "    <tr>\n",
              "      <th>10656</th>\n",
              "      <td>con_votes</td>\n",
              "      <td>con_votes</td>\n",
              "    </tr>\n",
              "    <tr>\n",
              "      <th>16181</th>\n",
              "      <td>lab_votes</td>\n",
              "      <td>lab_votes</td>\n",
              "    </tr>\n",
              "    <tr>\n",
              "      <th>3282</th>\n",
              "      <td>con_votes</td>\n",
              "      <td>con_votes</td>\n",
              "    </tr>\n",
              "    <tr>\n",
              "      <th>...</th>\n",
              "      <td>...</td>\n",
              "      <td>...</td>\n",
              "    </tr>\n",
              "    <tr>\n",
              "      <th>14830</th>\n",
              "      <td>lab_votes</td>\n",
              "      <td>lab_votes</td>\n",
              "    </tr>\n",
              "    <tr>\n",
              "      <th>6457</th>\n",
              "      <td>lab_votes</td>\n",
              "      <td>lab_votes</td>\n",
              "    </tr>\n",
              "    <tr>\n",
              "      <th>3320</th>\n",
              "      <td>con_votes</td>\n",
              "      <td>con_votes</td>\n",
              "    </tr>\n",
              "    <tr>\n",
              "      <th>3672</th>\n",
              "      <td>con_votes</td>\n",
              "      <td>con_votes</td>\n",
              "    </tr>\n",
              "    <tr>\n",
              "      <th>6212</th>\n",
              "      <td>con_votes</td>\n",
              "      <td>con_votes</td>\n",
              "    </tr>\n",
              "  </tbody>\n",
              "</table>\n",
              "<p>1770 rows × 2 columns</p>\n",
              "</div>"
            ],
            "text/plain": [
              "          Actual  Predicted\n",
              "15261  con_votes  con_votes\n",
              "7250   lab_votes  lab_votes\n",
              "10656  con_votes  con_votes\n",
              "16181  lab_votes  lab_votes\n",
              "3282   con_votes  con_votes\n",
              "...          ...        ...\n",
              "14830  lab_votes  lab_votes\n",
              "6457   lab_votes  lab_votes\n",
              "3320   con_votes  con_votes\n",
              "3672   con_votes  con_votes\n",
              "6212   con_votes  con_votes\n",
              "\n",
              "[1770 rows x 2 columns]"
            ]
          },
          "metadata": {
            "tags": []
          },
          "execution_count": 992
        }
      ]
    },
    {
      "cell_type": "code",
      "metadata": {
        "colab": {
          "base_uri": "https://localhost:8080/"
        },
        "id": "u_8KmeOcaKAT",
        "outputId": "7ef3f3d4-9c9b-4670-8bc1-02b82e062b3f"
      },
      "source": [
        "party = {'con_votes':1, 'lib_votes':2, 'lab_votes':3, 'natSW_votes':4, 'oth_votes':5}\r\n",
        "df.Predicted = df.Predicted.map(party)\r\n",
        "df.Predicted"
      ],
      "execution_count": 993,
      "outputs": [
        {
          "output_type": "execute_result",
          "data": {
            "text/plain": [
              "15261    1.0\n",
              "7250     3.0\n",
              "10656    1.0\n",
              "16181    3.0\n",
              "3282     1.0\n",
              "        ... \n",
              "14830    3.0\n",
              "6457     3.0\n",
              "3320     1.0\n",
              "3672     1.0\n",
              "6212     1.0\n",
              "Name: Predicted, Length: 1770, dtype: float64"
            ]
          },
          "metadata": {
            "tags": []
          },
          "execution_count": 993
        }
      ]
    },
    {
      "cell_type": "code",
      "metadata": {
        "colab": {
          "base_uri": "https://localhost:8080/",
          "height": 349
        },
        "id": "LM4nzLy9a8Iu",
        "outputId": "49b25519-b674-4d0d-b52a-4a4320d7bff8"
      },
      "source": [
        "sns.distplot(df.Predicted)"
      ],
      "execution_count": 994,
      "outputs": [
        {
          "output_type": "stream",
          "text": [
            "/usr/local/lib/python3.6/dist-packages/seaborn/distributions.py:2551: FutureWarning: `distplot` is a deprecated function and will be removed in a future version. Please adapt your code to use either `displot` (a figure-level function with similar flexibility) or `histplot` (an axes-level function for histograms).\n",
            "  warnings.warn(msg, FutureWarning)\n"
          ],
          "name": "stderr"
        },
        {
          "output_type": "execute_result",
          "data": {
            "text/plain": [
              "<matplotlib.axes._subplots.AxesSubplot at 0x7fa1bb593b38>"
            ]
          },
          "metadata": {
            "tags": []
          },
          "execution_count": 994
        },
        {
          "output_type": "display_data",
          "data": {
            "image/png": "[encoded data removed]",
            "text/plain": [
              "<Figure size 432x288 with 1 Axes>"
            ]
          },
          "metadata": {
            "tags": [],
            "needs_background": "light"
          }
        }
      ]
    },
    {
      "cell_type": "code",
      "metadata": {
        "id": "RceiQXzkbDBt",
        "colab": {
          "base_uri": "https://localhost:8080/"
        },
        "outputId": "85f3a108-30bd-4af9-c862-d362bc792932"
      },
      "source": [
        "print(Counter(df.Predicted))"
      ],
      "execution_count": 995,
      "outputs": [
        {
          "output_type": "stream",
          "text": [
            "Counter({1.0: 877, 3.0: 724, 2.0: 77, 5.0: 70, nan: 1, nan: 1, nan: 1, nan: 1, nan: 1, nan: 1, nan: 1, nan: 1, nan: 1, nan: 1, nan: 1, nan: 1, nan: 1, nan: 1, nan: 1, nan: 1, nan: 1, nan: 1, nan: 1, nan: 1, nan: 1, nan: 1})\n"
          ],
          "name": "stdout"
        }
      ]
    },
    {
      "cell_type": "markdown",
      "metadata": {
        "id": "3_RzY6ofFT0a"
      },
      "source": [
        "Analyse years"
      ]
    },
    {
      "cell_type": "code",
      "metadata": {
        "colab": {
          "base_uri": "https://localhost:8080/",
          "height": 407
        },
        "id": "XI_5-p13GsN3",
        "outputId": "e603051f-3afe-49a7-b7b2-92f40193e429"
      },
      "source": [
        "ds['winner'] = winner\r\n",
        "ds"
      ],
      "execution_count": 996,
      "outputs": [
        {
          "output_type": "execute_result",
          "data": {
            "text/html": [
              "<div>\n",
              "<style scoped>\n",
              "    .dataframe tbody tr th:only-of-type {\n",
              "        vertical-align: middle;\n",
              "    }\n",
              "\n",
              "    .dataframe tbody tr th {\n",
              "        vertical-align: top;\n",
              "    }\n",
              "\n",
              "    .dataframe thead th {\n",
              "        text-align: right;\n",
              "    }\n",
              "</style>\n",
              "<table border=\"1\" class=\"dataframe\">\n",
              "  <thead>\n",
              "    <tr style=\"text-align: right;\">\n",
              "      <th></th>\n",
              "      <th>constituency</th>\n",
              "      <th>region</th>\n",
              "      <th>electorate</th>\n",
              "      <th>con_votes</th>\n",
              "      <th>lib_votes</th>\n",
              "      <th>lab_votes</th>\n",
              "      <th>natSW_votes</th>\n",
              "      <th>oth_votes</th>\n",
              "      <th>tot_votes</th>\n",
              "      <th>year</th>\n",
              "      <th>winner</th>\n",
              "    </tr>\n",
              "  </thead>\n",
              "  <tbody>\n",
              "    <tr>\n",
              "      <th>0</th>\n",
              "      <td>134.0</td>\n",
              "      <td>4.0</td>\n",
              "      <td>38552.0</td>\n",
              "      <td>-1.0</td>\n",
              "      <td>-1.0</td>\n",
              "      <td>5634.0</td>\n",
              "      <td>1308.0</td>\n",
              "      <td>11231.0</td>\n",
              "      <td>16865.0</td>\n",
              "      <td>1918.0</td>\n",
              "      <td>oth_votes</td>\n",
              "    </tr>\n",
              "    <tr>\n",
              "      <th>1</th>\n",
              "      <td>135.0</td>\n",
              "      <td>4.0</td>\n",
              "      <td>43036.0</td>\n",
              "      <td>15670.0</td>\n",
              "      <td>2273.0</td>\n",
              "      <td>3383.0</td>\n",
              "      <td>1308.0</td>\n",
              "      <td>1657.0</td>\n",
              "      <td>22983.0</td>\n",
              "      <td>1918.0</td>\n",
              "      <td>con_votes</td>\n",
              "    </tr>\n",
              "    <tr>\n",
              "      <th>2</th>\n",
              "      <td>175.0</td>\n",
              "      <td>4.0</td>\n",
              "      <td>25008.0</td>\n",
              "      <td>5639.0</td>\n",
              "      <td>3889.0</td>\n",
              "      <td>1750.0</td>\n",
              "      <td>1308.0</td>\n",
              "      <td>-1.0</td>\n",
              "      <td>11278.0</td>\n",
              "      <td>1918.0</td>\n",
              "      <td>con_votes</td>\n",
              "    </tr>\n",
              "    <tr>\n",
              "      <th>3</th>\n",
              "      <td>176.0</td>\n",
              "      <td>4.0</td>\n",
              "      <td>23100.0</td>\n",
              "      <td>-1.0</td>\n",
              "      <td>4260.0</td>\n",
              "      <td>1956.0</td>\n",
              "      <td>1308.0</td>\n",
              "      <td>4292.0</td>\n",
              "      <td>10508.0</td>\n",
              "      <td>1918.0</td>\n",
              "      <td>oth_votes</td>\n",
              "    </tr>\n",
              "    <tr>\n",
              "      <th>4</th>\n",
              "      <td>190.0</td>\n",
              "      <td>4.0</td>\n",
              "      <td>25253.0</td>\n",
              "      <td>-1.0</td>\n",
              "      <td>-1.0</td>\n",
              "      <td>-1.0</td>\n",
              "      <td>1308.0</td>\n",
              "      <td>7887.0</td>\n",
              "      <td>7887.0</td>\n",
              "      <td>1918.0</td>\n",
              "      <td>oth_votes</td>\n",
              "    </tr>\n",
              "    <tr>\n",
              "      <th>...</th>\n",
              "      <td>...</td>\n",
              "      <td>...</td>\n",
              "      <td>...</td>\n",
              "      <td>...</td>\n",
              "      <td>...</td>\n",
              "      <td>...</td>\n",
              "      <td>...</td>\n",
              "      <td>...</td>\n",
              "      <td>...</td>\n",
              "      <td>...</td>\n",
              "      <td>...</td>\n",
              "    </tr>\n",
              "    <tr>\n",
              "      <th>17693</th>\n",
              "      <td>2723.0</td>\n",
              "      <td>15.0</td>\n",
              "      <td>80991.0</td>\n",
              "      <td>35634.0</td>\n",
              "      <td>6774.0</td>\n",
              "      <td>10480.0</td>\n",
              "      <td>1308.0</td>\n",
              "      <td>3700.0</td>\n",
              "      <td>56588.0</td>\n",
              "      <td>2019.0</td>\n",
              "      <td>con_votes</td>\n",
              "    </tr>\n",
              "    <tr>\n",
              "      <th>17694</th>\n",
              "      <td>2932.0</td>\n",
              "      <td>15.0</td>\n",
              "      <td>70192.0</td>\n",
              "      <td>21283.0</td>\n",
              "      <td>1772.0</td>\n",
              "      <td>17925.0</td>\n",
              "      <td>1308.0</td>\n",
              "      <td>4047.0</td>\n",
              "      <td>45027.0</td>\n",
              "      <td>2019.0</td>\n",
              "      <td>con_votes</td>\n",
              "    </tr>\n",
              "    <tr>\n",
              "      <th>17695</th>\n",
              "      <td>2951.0</td>\n",
              "      <td>15.0</td>\n",
              "      <td>74536.0</td>\n",
              "      <td>14577.0</td>\n",
              "      <td>1705.0</td>\n",
              "      <td>16742.0</td>\n",
              "      <td>1308.0</td>\n",
              "      <td>8533.0</td>\n",
              "      <td>41557.0</td>\n",
              "      <td>2019.0</td>\n",
              "      <td>lab_votes</td>\n",
              "    </tr>\n",
              "    <tr>\n",
              "      <th>17696</th>\n",
              "      <td>3032.0</td>\n",
              "      <td>15.0</td>\n",
              "      <td>74899.0</td>\n",
              "      <td>13767.0</td>\n",
              "      <td>4149.0</td>\n",
              "      <td>27312.0</td>\n",
              "      <td>1308.0</td>\n",
              "      <td>4277.0</td>\n",
              "      <td>49505.0</td>\n",
              "      <td>2019.0</td>\n",
              "      <td>lab_votes</td>\n",
              "    </tr>\n",
              "    <tr>\n",
              "      <th>17697</th>\n",
              "      <td>3033.0</td>\n",
              "      <td>15.0</td>\n",
              "      <td>74673.0</td>\n",
              "      <td>27324.0</td>\n",
              "      <td>9992.0</td>\n",
              "      <td>17339.0</td>\n",
              "      <td>1308.0</td>\n",
              "      <td>692.0</td>\n",
              "      <td>55347.0</td>\n",
              "      <td>2019.0</td>\n",
              "      <td>con_votes</td>\n",
              "    </tr>\n",
              "  </tbody>\n",
              "</table>\n",
              "<p>17698 rows × 11 columns</p>\n",
              "</div>"
            ],
            "text/plain": [
              "       constituency  region  electorate  ...  tot_votes    year     winner\n",
              "0             134.0     4.0     38552.0  ...    16865.0  1918.0  oth_votes\n",
              "1             135.0     4.0     43036.0  ...    22983.0  1918.0  con_votes\n",
              "2             175.0     4.0     25008.0  ...    11278.0  1918.0  con_votes\n",
              "3             176.0     4.0     23100.0  ...    10508.0  1918.0  oth_votes\n",
              "4             190.0     4.0     25253.0  ...     7887.0  1918.0  oth_votes\n",
              "...             ...     ...         ...  ...        ...     ...        ...\n",
              "17693        2723.0    15.0     80991.0  ...    56588.0  2019.0  con_votes\n",
              "17694        2932.0    15.0     70192.0  ...    45027.0  2019.0  con_votes\n",
              "17695        2951.0    15.0     74536.0  ...    41557.0  2019.0  lab_votes\n",
              "17696        3032.0    15.0     74899.0  ...    49505.0  2019.0  lab_votes\n",
              "17697        3033.0    15.0     74673.0  ...    55347.0  2019.0  con_votes\n",
              "\n",
              "[17698 rows x 11 columns]"
            ]
          },
          "metadata": {
            "tags": []
          },
          "execution_count": 996
        }
      ]
    },
    {
      "cell_type": "code",
      "metadata": {
        "colab": {
          "base_uri": "https://localhost:8080/"
        },
        "id": "i0F-B3WPfFyX",
        "outputId": "82e00ca5-0c95-40c2-b7a4-82b9b5f61c32"
      },
      "source": [
        "ds.info()"
      ],
      "execution_count": 997,
      "outputs": [
        {
          "output_type": "stream",
          "text": [
            "<class 'pandas.core.frame.DataFrame'>\n",
            "RangeIndex: 17698 entries, 0 to 17697\n",
            "Data columns (total 11 columns):\n",
            " #   Column        Non-Null Count  Dtype  \n",
            "---  ------        --------------  -----  \n",
            " 0   constituency  17698 non-null  float64\n",
            " 1   region        17698 non-null  float64\n",
            " 2   electorate    17698 non-null  float64\n",
            " 3   con_votes     17698 non-null  float64\n",
            " 4   lib_votes     17698 non-null  float64\n",
            " 5   lab_votes     17698 non-null  float64\n",
            " 6   natSW_votes   17698 non-null  float64\n",
            " 7   oth_votes     17698 non-null  float64\n",
            " 8   tot_votes     17698 non-null  float64\n",
            " 9   year          17698 non-null  float64\n",
            " 10  winner        17698 non-null  object \n",
            "dtypes: float64(10), object(1)\n",
            "memory usage: 1.5+ MB\n"
          ],
          "name": "stdout"
        }
      ]
    },
    {
      "cell_type": "code",
      "metadata": {
        "colab": {
          "base_uri": "https://localhost:8080/",
          "height": 407
        },
        "id": "rDwV3R8SFZWe",
        "outputId": "5b19da77-5258-4eef-ff3c-bda5901a9a08"
      },
      "source": [
        "year = 2019\r\n",
        "\r\n",
        "include = ds[ds['year'].values == year]\r\n",
        "exclude = ds[ds['year'].values != year]\r\n",
        "include"
      ],
      "execution_count": 998,
      "outputs": [
        {
          "output_type": "execute_result",
          "data": {
            "text/html": [
              "<div>\n",
              "<style scoped>\n",
              "    .dataframe tbody tr th:only-of-type {\n",
              "        vertical-align: middle;\n",
              "    }\n",
              "\n",
              "    .dataframe tbody tr th {\n",
              "        vertical-align: top;\n",
              "    }\n",
              "\n",
              "    .dataframe thead th {\n",
              "        text-align: right;\n",
              "    }\n",
              "</style>\n",
              "<table border=\"1\" class=\"dataframe\">\n",
              "  <thead>\n",
              "    <tr style=\"text-align: right;\">\n",
              "      <th></th>\n",
              "      <th>constituency</th>\n",
              "      <th>region</th>\n",
              "      <th>electorate</th>\n",
              "      <th>con_votes</th>\n",
              "      <th>lib_votes</th>\n",
              "      <th>lab_votes</th>\n",
              "      <th>natSW_votes</th>\n",
              "      <th>oth_votes</th>\n",
              "      <th>tot_votes</th>\n",
              "      <th>year</th>\n",
              "      <th>winner</th>\n",
              "    </tr>\n",
              "  </thead>\n",
              "  <tbody>\n",
              "    <tr>\n",
              "      <th>17048</th>\n",
              "      <td>380.0</td>\n",
              "      <td>0.0</td>\n",
              "      <td>69906.0</td>\n",
              "      <td>29590.0</td>\n",
              "      <td>3741.0</td>\n",
              "      <td>9178.0</td>\n",
              "      <td>1308.0</td>\n",
              "      <td>1619.0</td>\n",
              "      <td>44128.0</td>\n",
              "      <td>2019.0</td>\n",
              "      <td>con_votes</td>\n",
              "    </tr>\n",
              "    <tr>\n",
              "      <th>17049</th>\n",
              "      <td>388.0</td>\n",
              "      <td>0.0</td>\n",
              "      <td>71581.0</td>\n",
              "      <td>20346.0</td>\n",
              "      <td>4608.0</td>\n",
              "      <td>20491.0</td>\n",
              "      <td>1308.0</td>\n",
              "      <td>1856.0</td>\n",
              "      <td>47301.0</td>\n",
              "      <td>2019.0</td>\n",
              "      <td>lab_votes</td>\n",
              "    </tr>\n",
              "    <tr>\n",
              "      <th>17050</th>\n",
              "      <td>432.0</td>\n",
              "      <td>0.0</td>\n",
              "      <td>75208.0</td>\n",
              "      <td>34112.0</td>\n",
              "      <td>4779.0</td>\n",
              "      <td>9439.0</td>\n",
              "      <td>1308.0</td>\n",
              "      <td>2169.0</td>\n",
              "      <td>50499.0</td>\n",
              "      <td>2019.0</td>\n",
              "      <td>con_votes</td>\n",
              "    </tr>\n",
              "    <tr>\n",
              "      <th>17051</th>\n",
              "      <td>437.0</td>\n",
              "      <td>0.0</td>\n",
              "      <td>75255.0</td>\n",
              "      <td>36308.0</td>\n",
              "      <td>7187.0</td>\n",
              "      <td>7243.0</td>\n",
              "      <td>1308.0</td>\n",
              "      <td>2211.0</td>\n",
              "      <td>52949.0</td>\n",
              "      <td>2019.0</td>\n",
              "      <td>con_votes</td>\n",
              "    </tr>\n",
              "    <tr>\n",
              "      <th>17052</th>\n",
              "      <td>447.0</td>\n",
              "      <td>0.0</td>\n",
              "      <td>78151.0</td>\n",
              "      <td>33934.0</td>\n",
              "      <td>9195.0</td>\n",
              "      <td>12073.0</td>\n",
              "      <td>1308.0</td>\n",
              "      <td>1775.0</td>\n",
              "      <td>56977.0</td>\n",
              "      <td>2019.0</td>\n",
              "      <td>con_votes</td>\n",
              "    </tr>\n",
              "    <tr>\n",
              "      <th>...</th>\n",
              "      <td>...</td>\n",
              "      <td>...</td>\n",
              "      <td>...</td>\n",
              "      <td>...</td>\n",
              "      <td>...</td>\n",
              "      <td>...</td>\n",
              "      <td>...</td>\n",
              "      <td>...</td>\n",
              "      <td>...</td>\n",
              "      <td>...</td>\n",
              "      <td>...</td>\n",
              "    </tr>\n",
              "    <tr>\n",
              "      <th>17693</th>\n",
              "      <td>2723.0</td>\n",
              "      <td>15.0</td>\n",
              "      <td>80991.0</td>\n",
              "      <td>35634.0</td>\n",
              "      <td>6774.0</td>\n",
              "      <td>10480.0</td>\n",
              "      <td>1308.0</td>\n",
              "      <td>3700.0</td>\n",
              "      <td>56588.0</td>\n",
              "      <td>2019.0</td>\n",
              "      <td>con_votes</td>\n",
              "    </tr>\n",
              "    <tr>\n",
              "      <th>17694</th>\n",
              "      <td>2932.0</td>\n",
              "      <td>15.0</td>\n",
              "      <td>70192.0</td>\n",
              "      <td>21283.0</td>\n",
              "      <td>1772.0</td>\n",
              "      <td>17925.0</td>\n",
              "      <td>1308.0</td>\n",
              "      <td>4047.0</td>\n",
              "      <td>45027.0</td>\n",
              "      <td>2019.0</td>\n",
              "      <td>con_votes</td>\n",
              "    </tr>\n",
              "    <tr>\n",
              "      <th>17695</th>\n",
              "      <td>2951.0</td>\n",
              "      <td>15.0</td>\n",
              "      <td>74536.0</td>\n",
              "      <td>14577.0</td>\n",
              "      <td>1705.0</td>\n",
              "      <td>16742.0</td>\n",
              "      <td>1308.0</td>\n",
              "      <td>8533.0</td>\n",
              "      <td>41557.0</td>\n",
              "      <td>2019.0</td>\n",
              "      <td>lab_votes</td>\n",
              "    </tr>\n",
              "    <tr>\n",
              "      <th>17696</th>\n",
              "      <td>3032.0</td>\n",
              "      <td>15.0</td>\n",
              "      <td>74899.0</td>\n",
              "      <td>13767.0</td>\n",
              "      <td>4149.0</td>\n",
              "      <td>27312.0</td>\n",
              "      <td>1308.0</td>\n",
              "      <td>4277.0</td>\n",
              "      <td>49505.0</td>\n",
              "      <td>2019.0</td>\n",
              "      <td>lab_votes</td>\n",
              "    </tr>\n",
              "    <tr>\n",
              "      <th>17697</th>\n",
              "      <td>3033.0</td>\n",
              "      <td>15.0</td>\n",
              "      <td>74673.0</td>\n",
              "      <td>27324.0</td>\n",
              "      <td>9992.0</td>\n",
              "      <td>17339.0</td>\n",
              "      <td>1308.0</td>\n",
              "      <td>692.0</td>\n",
              "      <td>55347.0</td>\n",
              "      <td>2019.0</td>\n",
              "      <td>con_votes</td>\n",
              "    </tr>\n",
              "  </tbody>\n",
              "</table>\n",
              "<p>650 rows × 11 columns</p>\n",
              "</div>"
            ],
            "text/plain": [
              "       constituency  region  electorate  ...  tot_votes    year     winner\n",
              "17048         380.0     0.0     69906.0  ...    44128.0  2019.0  con_votes\n",
              "17049         388.0     0.0     71581.0  ...    47301.0  2019.0  lab_votes\n",
              "17050         432.0     0.0     75208.0  ...    50499.0  2019.0  con_votes\n",
              "17051         437.0     0.0     75255.0  ...    52949.0  2019.0  con_votes\n",
              "17052         447.0     0.0     78151.0  ...    56977.0  2019.0  con_votes\n",
              "...             ...     ...         ...  ...        ...     ...        ...\n",
              "17693        2723.0    15.0     80991.0  ...    56588.0  2019.0  con_votes\n",
              "17694        2932.0    15.0     70192.0  ...    45027.0  2019.0  con_votes\n",
              "17695        2951.0    15.0     74536.0  ...    41557.0  2019.0  lab_votes\n",
              "17696        3032.0    15.0     74899.0  ...    49505.0  2019.0  lab_votes\n",
              "17697        3033.0    15.0     74673.0  ...    55347.0  2019.0  con_votes\n",
              "\n",
              "[650 rows x 11 columns]"
            ]
          },
          "metadata": {
            "tags": []
          },
          "execution_count": 998
        }
      ]
    },
    {
      "cell_type": "code",
      "metadata": {
        "colab": {
          "base_uri": "https://localhost:8080/"
        },
        "id": "nSfm6BAhgQgV",
        "outputId": "e0880aa7-2ef1-413c-f2d3-a3aa1ab2b970"
      },
      "source": [
        "party = {'con_votes':1, 'lib_votes':2, 'lab_votes':3, 'natSW_votes':4, 'oth_votes':5}\r\n",
        "winner = winner.map(party)\r\n",
        "winner"
      ],
      "execution_count": 999,
      "outputs": [
        {
          "output_type": "execute_result",
          "data": {
            "text/plain": [
              "0        5.0\n",
              "1        1.0\n",
              "2        1.0\n",
              "3        5.0\n",
              "4        5.0\n",
              "        ... \n",
              "17693    1.0\n",
              "17694    1.0\n",
              "17695    3.0\n",
              "17696    3.0\n",
              "17697    1.0\n",
              "Length: 17698, dtype: float64"
            ]
          },
          "metadata": {
            "tags": []
          },
          "execution_count": 999
        }
      ]
    },
    {
      "cell_type": "code",
      "metadata": {
        "colab": {
          "base_uri": "https://localhost:8080/"
        },
        "id": "ziwY8JfsgjBa",
        "outputId": "ce11e021-dda1-4d5d-b926-ea9fd27940ba"
      },
      "source": [
        "total_con = include['con_votes'].sum()\r\n",
        "total_con"
      ],
      "execution_count": 1000,
      "outputs": [
        {
          "output_type": "execute_result",
          "data": {
            "text/plain": [
              "13966439.0"
            ]
          },
          "metadata": {
            "tags": []
          },
          "execution_count": 1000
        }
      ]
    },
    {
      "cell_type": "code",
      "metadata": {
        "colab": {
          "base_uri": "https://localhost:8080/"
        },
        "id": "oUzbovXQgqTD",
        "outputId": "41d6fd5b-9762-485c-8e81-faad880442fa"
      },
      "source": [
        "total_lib = include['lib_votes'].sum()\r\n",
        "total_lib"
      ],
      "execution_count": 1001,
      "outputs": [
        {
          "output_type": "execute_result",
          "data": {
            "text/plain": [
              "3696380.0"
            ]
          },
          "metadata": {
            "tags": []
          },
          "execution_count": 1001
        }
      ]
    },
    {
      "cell_type": "code",
      "metadata": {
        "colab": {
          "base_uri": "https://localhost:8080/"
        },
        "id": "I9Qcll5fgv-a",
        "outputId": "62232524-202b-4cca-c9b8-104d4d85f094"
      },
      "source": [
        "total_lab = include['lab_votes'].sum()\r\n",
        "total_lab"
      ],
      "execution_count": 1002,
      "outputs": [
        {
          "output_type": "execute_result",
          "data": {
            "text/plain": [
              "10269032.0"
            ]
          },
          "metadata": {
            "tags": []
          },
          "execution_count": 1002
        }
      ]
    },
    {
      "cell_type": "code",
      "metadata": {
        "colab": {
          "base_uri": "https://localhost:8080/"
        },
        "id": "OGfG6cy0g50I",
        "outputId": "44aa1383-f5b3-4941-94a8-3a7c1b9bf209"
      },
      "source": [
        "total_nat = include['natSW_votes'].sum()\r\n",
        "total_nat"
      ],
      "execution_count": 1003,
      "outputs": [
        {
          "output_type": "execute_result",
          "data": {
            "text/plain": [
              "2121585.0"
            ]
          },
          "metadata": {
            "tags": []
          },
          "execution_count": 1003
        }
      ]
    },
    {
      "cell_type": "code",
      "metadata": {
        "colab": {
          "base_uri": "https://localhost:8080/"
        },
        "id": "RI7y7mp_g-55",
        "outputId": "669029f2-da33-48b3-ddc4-91a0e15c8c2c"
      },
      "source": [
        "total_oth = include['oth_votes'].sum()\r\n",
        "total_oth"
      ],
      "execution_count": 1004,
      "outputs": [
        {
          "output_type": "execute_result",
          "data": {
            "text/plain": [
              "2686497.0"
            ]
          },
          "metadata": {
            "tags": []
          },
          "execution_count": 1004
        }
      ]
    }
  ]
}